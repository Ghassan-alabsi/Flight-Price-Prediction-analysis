{
 "cells": [
  {
   "attachments": {},
   "cell_type": "markdown",
   "metadata": {},
   "source": [
    "### What are the levels of demand by passengers on direct and non-stop flights?"
   ]
  },
  {
   "cell_type": "code",
   "execution_count": 271,
   "metadata": {},
   "outputs": [
    {
     "data": {
      "text/html": [
       "        <script type=\"text/javascript\">\n",
       "        window.PlotlyConfig = {MathJaxConfig: 'local'};\n",
       "        if (window.MathJax && window.MathJax.Hub && window.MathJax.Hub.Config) {window.MathJax.Hub.Config({SVG: {font: \"STIX-Web\"}});}\n",
       "        if (typeof require !== 'undefined') {\n",
       "        require.undef(\"plotly\");\n",
       "        requirejs.config({\n",
       "            paths: {\n",
       "                'plotly': ['https://cdn.plot.ly/plotly-2.18.0.min']\n",
       "            }\n",
       "        });\n",
       "        require(['plotly'], function(Plotly) {\n",
       "            window._Plotly = Plotly;\n",
       "        });\n",
       "        }\n",
       "        </script>\n",
       "        "
      ]
     },
     "metadata": {},
     "output_type": "display_data"
    }
   ],
   "source": [
    "import numpy as np\n",
    "import pandas as pd\n",
    "import chart_studio.plotly as py\n",
    "import cufflinks as cf\n",
    "import seaborn as sns\n",
    "import matplotlib.pyplot as plt\n",
    "import plotly.express as px\n",
    "import plotly.graph_objs as go\n",
    "from plotly.subplots import make_subplots\n",
    "\n",
    "from plotly.offline import download_plotlyjs,init_notebook_mode,plot,iplot\n",
    "init_notebook_mode(connected=True)\n",
    "cf.go_offline\n",
    "\n",
    "import warnings\n",
    "warnings.filterwarnings('ignore')"
   ]
  },
  {
   "cell_type": "code",
   "execution_count": 272,
   "metadata": {},
   "outputs": [
    {
     "data": {
      "text/html": [
       "<div>\n",
       "<style scoped>\n",
       "    .dataframe tbody tr th:only-of-type {\n",
       "        vertical-align: middle;\n",
       "    }\n",
       "\n",
       "    .dataframe tbody tr th {\n",
       "        vertical-align: top;\n",
       "    }\n",
       "\n",
       "    .dataframe thead th {\n",
       "        text-align: right;\n",
       "    }\n",
       "</style>\n",
       "<table border=\"1\" class=\"dataframe\">\n",
       "  <thead>\n",
       "    <tr style=\"text-align: right;\">\n",
       "      <th></th>\n",
       "      <th>airline</th>\n",
       "      <th>flight</th>\n",
       "      <th>source_city</th>\n",
       "      <th>departure_time</th>\n",
       "      <th>stops</th>\n",
       "      <th>arrival_time</th>\n",
       "      <th>destination_city</th>\n",
       "      <th>class</th>\n",
       "      <th>duration</th>\n",
       "      <th>days_left</th>\n",
       "      <th>price</th>\n",
       "      <th>destinations</th>\n",
       "    </tr>\n",
       "  </thead>\n",
       "  <tbody>\n",
       "    <tr>\n",
       "      <th>0</th>\n",
       "      <td>SpiceJet</td>\n",
       "      <td>SG-8709</td>\n",
       "      <td>Delhi</td>\n",
       "      <td>Evening</td>\n",
       "      <td>zero</td>\n",
       "      <td>Night</td>\n",
       "      <td>Mumbai</td>\n",
       "      <td>Economy</td>\n",
       "      <td>2.17</td>\n",
       "      <td>1</td>\n",
       "      <td>5953</td>\n",
       "      <td>Delhi_Mumbai</td>\n",
       "    </tr>\n",
       "    <tr>\n",
       "      <th>1</th>\n",
       "      <td>SpiceJet</td>\n",
       "      <td>SG-8157</td>\n",
       "      <td>Delhi</td>\n",
       "      <td>Early_Morning</td>\n",
       "      <td>zero</td>\n",
       "      <td>Morning</td>\n",
       "      <td>Mumbai</td>\n",
       "      <td>Economy</td>\n",
       "      <td>2.33</td>\n",
       "      <td>1</td>\n",
       "      <td>5953</td>\n",
       "      <td>Delhi_Mumbai</td>\n",
       "    </tr>\n",
       "    <tr>\n",
       "      <th>2</th>\n",
       "      <td>AirAsia</td>\n",
       "      <td>I5-764</td>\n",
       "      <td>Delhi</td>\n",
       "      <td>Early_Morning</td>\n",
       "      <td>zero</td>\n",
       "      <td>Early_Morning</td>\n",
       "      <td>Mumbai</td>\n",
       "      <td>Economy</td>\n",
       "      <td>2.17</td>\n",
       "      <td>1</td>\n",
       "      <td>5956</td>\n",
       "      <td>Delhi_Mumbai</td>\n",
       "    </tr>\n",
       "    <tr>\n",
       "      <th>3</th>\n",
       "      <td>Vistara</td>\n",
       "      <td>UK-995</td>\n",
       "      <td>Delhi</td>\n",
       "      <td>Morning</td>\n",
       "      <td>zero</td>\n",
       "      <td>Afternoon</td>\n",
       "      <td>Mumbai</td>\n",
       "      <td>Economy</td>\n",
       "      <td>2.25</td>\n",
       "      <td>1</td>\n",
       "      <td>5955</td>\n",
       "      <td>Delhi_Mumbai</td>\n",
       "    </tr>\n",
       "    <tr>\n",
       "      <th>4</th>\n",
       "      <td>Vistara</td>\n",
       "      <td>UK-963</td>\n",
       "      <td>Delhi</td>\n",
       "      <td>Morning</td>\n",
       "      <td>zero</td>\n",
       "      <td>Morning</td>\n",
       "      <td>Mumbai</td>\n",
       "      <td>Economy</td>\n",
       "      <td>2.33</td>\n",
       "      <td>1</td>\n",
       "      <td>5955</td>\n",
       "      <td>Delhi_Mumbai</td>\n",
       "    </tr>\n",
       "    <tr>\n",
       "      <th>...</th>\n",
       "      <td>...</td>\n",
       "      <td>...</td>\n",
       "      <td>...</td>\n",
       "      <td>...</td>\n",
       "      <td>...</td>\n",
       "      <td>...</td>\n",
       "      <td>...</td>\n",
       "      <td>...</td>\n",
       "      <td>...</td>\n",
       "      <td>...</td>\n",
       "      <td>...</td>\n",
       "      <td>...</td>\n",
       "    </tr>\n",
       "    <tr>\n",
       "      <th>300148</th>\n",
       "      <td>Vistara</td>\n",
       "      <td>UK-822</td>\n",
       "      <td>Chennai</td>\n",
       "      <td>Morning</td>\n",
       "      <td>one</td>\n",
       "      <td>Evening</td>\n",
       "      <td>Hyderabad</td>\n",
       "      <td>Business</td>\n",
       "      <td>10.08</td>\n",
       "      <td>49</td>\n",
       "      <td>69265</td>\n",
       "      <td>Chennai_Hyderabad</td>\n",
       "    </tr>\n",
       "    <tr>\n",
       "      <th>300149</th>\n",
       "      <td>Vistara</td>\n",
       "      <td>UK-826</td>\n",
       "      <td>Chennai</td>\n",
       "      <td>Afternoon</td>\n",
       "      <td>one</td>\n",
       "      <td>Night</td>\n",
       "      <td>Hyderabad</td>\n",
       "      <td>Business</td>\n",
       "      <td>10.42</td>\n",
       "      <td>49</td>\n",
       "      <td>77105</td>\n",
       "      <td>Chennai_Hyderabad</td>\n",
       "    </tr>\n",
       "    <tr>\n",
       "      <th>300150</th>\n",
       "      <td>Vistara</td>\n",
       "      <td>UK-832</td>\n",
       "      <td>Chennai</td>\n",
       "      <td>Early_Morning</td>\n",
       "      <td>one</td>\n",
       "      <td>Night</td>\n",
       "      <td>Hyderabad</td>\n",
       "      <td>Business</td>\n",
       "      <td>13.83</td>\n",
       "      <td>49</td>\n",
       "      <td>79099</td>\n",
       "      <td>Chennai_Hyderabad</td>\n",
       "    </tr>\n",
       "    <tr>\n",
       "      <th>300151</th>\n",
       "      <td>Vistara</td>\n",
       "      <td>UK-828</td>\n",
       "      <td>Chennai</td>\n",
       "      <td>Early_Morning</td>\n",
       "      <td>one</td>\n",
       "      <td>Evening</td>\n",
       "      <td>Hyderabad</td>\n",
       "      <td>Business</td>\n",
       "      <td>10.00</td>\n",
       "      <td>49</td>\n",
       "      <td>81585</td>\n",
       "      <td>Chennai_Hyderabad</td>\n",
       "    </tr>\n",
       "    <tr>\n",
       "      <th>300152</th>\n",
       "      <td>Vistara</td>\n",
       "      <td>UK-822</td>\n",
       "      <td>Chennai</td>\n",
       "      <td>Morning</td>\n",
       "      <td>one</td>\n",
       "      <td>Evening</td>\n",
       "      <td>Hyderabad</td>\n",
       "      <td>Business</td>\n",
       "      <td>10.08</td>\n",
       "      <td>49</td>\n",
       "      <td>81585</td>\n",
       "      <td>Chennai_Hyderabad</td>\n",
       "    </tr>\n",
       "  </tbody>\n",
       "</table>\n",
       "<p>300153 rows × 12 columns</p>\n",
       "</div>"
      ],
      "text/plain": [
       "         airline   flight source_city departure_time stops   arrival_time  \\\n",
       "0       SpiceJet  SG-8709       Delhi        Evening  zero          Night   \n",
       "1       SpiceJet  SG-8157       Delhi  Early_Morning  zero        Morning   \n",
       "2        AirAsia   I5-764       Delhi  Early_Morning  zero  Early_Morning   \n",
       "3        Vistara   UK-995       Delhi        Morning  zero      Afternoon   \n",
       "4        Vistara   UK-963       Delhi        Morning  zero        Morning   \n",
       "...          ...      ...         ...            ...   ...            ...   \n",
       "300148   Vistara   UK-822     Chennai        Morning   one        Evening   \n",
       "300149   Vistara   UK-826     Chennai      Afternoon   one          Night   \n",
       "300150   Vistara   UK-832     Chennai  Early_Morning   one          Night   \n",
       "300151   Vistara   UK-828     Chennai  Early_Morning   one        Evening   \n",
       "300152   Vistara   UK-822     Chennai        Morning   one        Evening   \n",
       "\n",
       "       destination_city     class  duration  days_left  price  \\\n",
       "0                Mumbai   Economy      2.17          1   5953   \n",
       "1                Mumbai   Economy      2.33          1   5953   \n",
       "2                Mumbai   Economy      2.17          1   5956   \n",
       "3                Mumbai   Economy      2.25          1   5955   \n",
       "4                Mumbai   Economy      2.33          1   5955   \n",
       "...                 ...       ...       ...        ...    ...   \n",
       "300148        Hyderabad  Business     10.08         49  69265   \n",
       "300149        Hyderabad  Business     10.42         49  77105   \n",
       "300150        Hyderabad  Business     13.83         49  79099   \n",
       "300151        Hyderabad  Business     10.00         49  81585   \n",
       "300152        Hyderabad  Business     10.08         49  81585   \n",
       "\n",
       "             destinations  \n",
       "0            Delhi_Mumbai  \n",
       "1            Delhi_Mumbai  \n",
       "2            Delhi_Mumbai  \n",
       "3            Delhi_Mumbai  \n",
       "4            Delhi_Mumbai  \n",
       "...                   ...  \n",
       "300148  Chennai_Hyderabad  \n",
       "300149  Chennai_Hyderabad  \n",
       "300150  Chennai_Hyderabad  \n",
       "300151  Chennai_Hyderabad  \n",
       "300152  Chennai_Hyderabad  \n",
       "\n",
       "[300153 rows x 12 columns]"
      ]
     },
     "execution_count": 272,
     "metadata": {},
     "output_type": "execute_result"
    }
   ],
   "source": [
    "df = pd.read_csv('clean_dataset.csv')\n",
    "\n",
    "df['destinations'] = df['source_city'] + '_' + df['destination_city']\n",
    "\n",
    "df.drop(df.columns[0], axis=1, inplace=True)\n",
    "\n",
    "df"
   ]
  },
  {
   "cell_type": "code",
   "execution_count": 273,
   "metadata": {},
   "outputs": [
    {
     "data": {
      "text/html": [
       "<div>\n",
       "<style scoped>\n",
       "    .dataframe tbody tr th:only-of-type {\n",
       "        vertical-align: middle;\n",
       "    }\n",
       "\n",
       "    .dataframe tbody tr th {\n",
       "        vertical-align: top;\n",
       "    }\n",
       "\n",
       "    .dataframe thead th {\n",
       "        text-align: right;\n",
       "    }\n",
       "</style>\n",
       "<table border=\"1\" class=\"dataframe\">\n",
       "  <thead>\n",
       "    <tr style=\"text-align: right;\">\n",
       "      <th></th>\n",
       "      <th>airline</th>\n",
       "      <th>flight</th>\n",
       "      <th>source_city</th>\n",
       "      <th>departure_time</th>\n",
       "      <th>stops</th>\n",
       "      <th>arrival_time</th>\n",
       "      <th>destination_city</th>\n",
       "      <th>class</th>\n",
       "      <th>duration</th>\n",
       "      <th>days_left</th>\n",
       "      <th>price</th>\n",
       "      <th>destinations</th>\n",
       "      <th>direct_flight</th>\n",
       "      <th>non_direct_flight</th>\n",
       "    </tr>\n",
       "  </thead>\n",
       "  <tbody>\n",
       "    <tr>\n",
       "      <th>0</th>\n",
       "      <td>SpiceJet</td>\n",
       "      <td>SG-8709</td>\n",
       "      <td>Delhi</td>\n",
       "      <td>Evening</td>\n",
       "      <td>zero</td>\n",
       "      <td>Night</td>\n",
       "      <td>Mumbai</td>\n",
       "      <td>Economy</td>\n",
       "      <td>2.17</td>\n",
       "      <td>1</td>\n",
       "      <td>5953</td>\n",
       "      <td>Delhi_Mumbai</td>\n",
       "      <td>1</td>\n",
       "      <td>0</td>\n",
       "    </tr>\n",
       "    <tr>\n",
       "      <th>1</th>\n",
       "      <td>SpiceJet</td>\n",
       "      <td>SG-8157</td>\n",
       "      <td>Delhi</td>\n",
       "      <td>Early_Morning</td>\n",
       "      <td>zero</td>\n",
       "      <td>Morning</td>\n",
       "      <td>Mumbai</td>\n",
       "      <td>Economy</td>\n",
       "      <td>2.33</td>\n",
       "      <td>1</td>\n",
       "      <td>5953</td>\n",
       "      <td>Delhi_Mumbai</td>\n",
       "      <td>1</td>\n",
       "      <td>0</td>\n",
       "    </tr>\n",
       "    <tr>\n",
       "      <th>2</th>\n",
       "      <td>AirAsia</td>\n",
       "      <td>I5-764</td>\n",
       "      <td>Delhi</td>\n",
       "      <td>Early_Morning</td>\n",
       "      <td>zero</td>\n",
       "      <td>Early_Morning</td>\n",
       "      <td>Mumbai</td>\n",
       "      <td>Economy</td>\n",
       "      <td>2.17</td>\n",
       "      <td>1</td>\n",
       "      <td>5956</td>\n",
       "      <td>Delhi_Mumbai</td>\n",
       "      <td>1</td>\n",
       "      <td>0</td>\n",
       "    </tr>\n",
       "    <tr>\n",
       "      <th>3</th>\n",
       "      <td>Vistara</td>\n",
       "      <td>UK-995</td>\n",
       "      <td>Delhi</td>\n",
       "      <td>Morning</td>\n",
       "      <td>zero</td>\n",
       "      <td>Afternoon</td>\n",
       "      <td>Mumbai</td>\n",
       "      <td>Economy</td>\n",
       "      <td>2.25</td>\n",
       "      <td>1</td>\n",
       "      <td>5955</td>\n",
       "      <td>Delhi_Mumbai</td>\n",
       "      <td>1</td>\n",
       "      <td>0</td>\n",
       "    </tr>\n",
       "    <tr>\n",
       "      <th>4</th>\n",
       "      <td>Vistara</td>\n",
       "      <td>UK-963</td>\n",
       "      <td>Delhi</td>\n",
       "      <td>Morning</td>\n",
       "      <td>zero</td>\n",
       "      <td>Morning</td>\n",
       "      <td>Mumbai</td>\n",
       "      <td>Economy</td>\n",
       "      <td>2.33</td>\n",
       "      <td>1</td>\n",
       "      <td>5955</td>\n",
       "      <td>Delhi_Mumbai</td>\n",
       "      <td>1</td>\n",
       "      <td>0</td>\n",
       "    </tr>\n",
       "    <tr>\n",
       "      <th>...</th>\n",
       "      <td>...</td>\n",
       "      <td>...</td>\n",
       "      <td>...</td>\n",
       "      <td>...</td>\n",
       "      <td>...</td>\n",
       "      <td>...</td>\n",
       "      <td>...</td>\n",
       "      <td>...</td>\n",
       "      <td>...</td>\n",
       "      <td>...</td>\n",
       "      <td>...</td>\n",
       "      <td>...</td>\n",
       "      <td>...</td>\n",
       "      <td>...</td>\n",
       "    </tr>\n",
       "    <tr>\n",
       "      <th>300148</th>\n",
       "      <td>Vistara</td>\n",
       "      <td>UK-822</td>\n",
       "      <td>Chennai</td>\n",
       "      <td>Morning</td>\n",
       "      <td>one</td>\n",
       "      <td>Evening</td>\n",
       "      <td>Hyderabad</td>\n",
       "      <td>Business</td>\n",
       "      <td>10.08</td>\n",
       "      <td>49</td>\n",
       "      <td>69265</td>\n",
       "      <td>Chennai_Hyderabad</td>\n",
       "      <td>0</td>\n",
       "      <td>1</td>\n",
       "    </tr>\n",
       "    <tr>\n",
       "      <th>300149</th>\n",
       "      <td>Vistara</td>\n",
       "      <td>UK-826</td>\n",
       "      <td>Chennai</td>\n",
       "      <td>Afternoon</td>\n",
       "      <td>one</td>\n",
       "      <td>Night</td>\n",
       "      <td>Hyderabad</td>\n",
       "      <td>Business</td>\n",
       "      <td>10.42</td>\n",
       "      <td>49</td>\n",
       "      <td>77105</td>\n",
       "      <td>Chennai_Hyderabad</td>\n",
       "      <td>0</td>\n",
       "      <td>1</td>\n",
       "    </tr>\n",
       "    <tr>\n",
       "      <th>300150</th>\n",
       "      <td>Vistara</td>\n",
       "      <td>UK-832</td>\n",
       "      <td>Chennai</td>\n",
       "      <td>Early_Morning</td>\n",
       "      <td>one</td>\n",
       "      <td>Night</td>\n",
       "      <td>Hyderabad</td>\n",
       "      <td>Business</td>\n",
       "      <td>13.83</td>\n",
       "      <td>49</td>\n",
       "      <td>79099</td>\n",
       "      <td>Chennai_Hyderabad</td>\n",
       "      <td>0</td>\n",
       "      <td>1</td>\n",
       "    </tr>\n",
       "    <tr>\n",
       "      <th>300151</th>\n",
       "      <td>Vistara</td>\n",
       "      <td>UK-828</td>\n",
       "      <td>Chennai</td>\n",
       "      <td>Early_Morning</td>\n",
       "      <td>one</td>\n",
       "      <td>Evening</td>\n",
       "      <td>Hyderabad</td>\n",
       "      <td>Business</td>\n",
       "      <td>10.00</td>\n",
       "      <td>49</td>\n",
       "      <td>81585</td>\n",
       "      <td>Chennai_Hyderabad</td>\n",
       "      <td>0</td>\n",
       "      <td>1</td>\n",
       "    </tr>\n",
       "    <tr>\n",
       "      <th>300152</th>\n",
       "      <td>Vistara</td>\n",
       "      <td>UK-822</td>\n",
       "      <td>Chennai</td>\n",
       "      <td>Morning</td>\n",
       "      <td>one</td>\n",
       "      <td>Evening</td>\n",
       "      <td>Hyderabad</td>\n",
       "      <td>Business</td>\n",
       "      <td>10.08</td>\n",
       "      <td>49</td>\n",
       "      <td>81585</td>\n",
       "      <td>Chennai_Hyderabad</td>\n",
       "      <td>0</td>\n",
       "      <td>1</td>\n",
       "    </tr>\n",
       "  </tbody>\n",
       "</table>\n",
       "<p>300153 rows × 14 columns</p>\n",
       "</div>"
      ],
      "text/plain": [
       "         airline   flight source_city departure_time stops   arrival_time  \\\n",
       "0       SpiceJet  SG-8709       Delhi        Evening  zero          Night   \n",
       "1       SpiceJet  SG-8157       Delhi  Early_Morning  zero        Morning   \n",
       "2        AirAsia   I5-764       Delhi  Early_Morning  zero  Early_Morning   \n",
       "3        Vistara   UK-995       Delhi        Morning  zero      Afternoon   \n",
       "4        Vistara   UK-963       Delhi        Morning  zero        Morning   \n",
       "...          ...      ...         ...            ...   ...            ...   \n",
       "300148   Vistara   UK-822     Chennai        Morning   one        Evening   \n",
       "300149   Vistara   UK-826     Chennai      Afternoon   one          Night   \n",
       "300150   Vistara   UK-832     Chennai  Early_Morning   one          Night   \n",
       "300151   Vistara   UK-828     Chennai  Early_Morning   one        Evening   \n",
       "300152   Vistara   UK-822     Chennai        Morning   one        Evening   \n",
       "\n",
       "       destination_city     class  duration  days_left  price  \\\n",
       "0                Mumbai   Economy      2.17          1   5953   \n",
       "1                Mumbai   Economy      2.33          1   5953   \n",
       "2                Mumbai   Economy      2.17          1   5956   \n",
       "3                Mumbai   Economy      2.25          1   5955   \n",
       "4                Mumbai   Economy      2.33          1   5955   \n",
       "...                 ...       ...       ...        ...    ...   \n",
       "300148        Hyderabad  Business     10.08         49  69265   \n",
       "300149        Hyderabad  Business     10.42         49  77105   \n",
       "300150        Hyderabad  Business     13.83         49  79099   \n",
       "300151        Hyderabad  Business     10.00         49  81585   \n",
       "300152        Hyderabad  Business     10.08         49  81585   \n",
       "\n",
       "             destinations  direct_flight  non_direct_flight  \n",
       "0            Delhi_Mumbai              1                  0  \n",
       "1            Delhi_Mumbai              1                  0  \n",
       "2            Delhi_Mumbai              1                  0  \n",
       "3            Delhi_Mumbai              1                  0  \n",
       "4            Delhi_Mumbai              1                  0  \n",
       "...                   ...            ...                ...  \n",
       "300148  Chennai_Hyderabad              0                  1  \n",
       "300149  Chennai_Hyderabad              0                  1  \n",
       "300150  Chennai_Hyderabad              0                  1  \n",
       "300151  Chennai_Hyderabad              0                  1  \n",
       "300152  Chennai_Hyderabad              0                  1  \n",
       "\n",
       "[300153 rows x 14 columns]"
      ]
     },
     "execution_count": 273,
     "metadata": {},
     "output_type": "execute_result"
    }
   ],
   "source": [
    "df['direct_flight'] = (df['stops'] == 'zero').astype(int)\n",
    "df['non_direct_flight'] = (df['stops'] != 'zero').astype(int)\n",
    "\n",
    "df"
   ]
  },
  {
   "cell_type": "code",
   "execution_count": 274,
   "metadata": {},
   "outputs": [
    {
     "data": {
      "text/html": [
       "<div>\n",
       "<style scoped>\n",
       "    .dataframe tbody tr th:only-of-type {\n",
       "        vertical-align: middle;\n",
       "    }\n",
       "\n",
       "    .dataframe tbody tr th {\n",
       "        vertical-align: top;\n",
       "    }\n",
       "\n",
       "    .dataframe thead th {\n",
       "        text-align: right;\n",
       "    }\n",
       "</style>\n",
       "<table border=\"1\" class=\"dataframe\">\n",
       "  <thead>\n",
       "    <tr style=\"text-align: right;\">\n",
       "      <th></th>\n",
       "      <th>airline</th>\n",
       "      <th>flight</th>\n",
       "      <th>source_city</th>\n",
       "      <th>departure_time</th>\n",
       "      <th>stops</th>\n",
       "      <th>arrival_time</th>\n",
       "      <th>destination_city</th>\n",
       "      <th>class</th>\n",
       "      <th>duration</th>\n",
       "      <th>days_left</th>\n",
       "      <th>price</th>\n",
       "      <th>destinations</th>\n",
       "      <th>direct_flight</th>\n",
       "      <th>non_direct_flight</th>\n",
       "      <th>flight_type</th>\n",
       "    </tr>\n",
       "  </thead>\n",
       "  <tbody>\n",
       "    <tr>\n",
       "      <th>0</th>\n",
       "      <td>SpiceJet</td>\n",
       "      <td>SG-8709</td>\n",
       "      <td>Delhi</td>\n",
       "      <td>Evening</td>\n",
       "      <td>zero</td>\n",
       "      <td>Night</td>\n",
       "      <td>Mumbai</td>\n",
       "      <td>Economy</td>\n",
       "      <td>2.17</td>\n",
       "      <td>1</td>\n",
       "      <td>5953</td>\n",
       "      <td>Delhi_Mumbai</td>\n",
       "      <td>1</td>\n",
       "      <td>0</td>\n",
       "      <td>Direct</td>\n",
       "    </tr>\n",
       "    <tr>\n",
       "      <th>1</th>\n",
       "      <td>SpiceJet</td>\n",
       "      <td>SG-8157</td>\n",
       "      <td>Delhi</td>\n",
       "      <td>Early_Morning</td>\n",
       "      <td>zero</td>\n",
       "      <td>Morning</td>\n",
       "      <td>Mumbai</td>\n",
       "      <td>Economy</td>\n",
       "      <td>2.33</td>\n",
       "      <td>1</td>\n",
       "      <td>5953</td>\n",
       "      <td>Delhi_Mumbai</td>\n",
       "      <td>1</td>\n",
       "      <td>0</td>\n",
       "      <td>Direct</td>\n",
       "    </tr>\n",
       "    <tr>\n",
       "      <th>2</th>\n",
       "      <td>AirAsia</td>\n",
       "      <td>I5-764</td>\n",
       "      <td>Delhi</td>\n",
       "      <td>Early_Morning</td>\n",
       "      <td>zero</td>\n",
       "      <td>Early_Morning</td>\n",
       "      <td>Mumbai</td>\n",
       "      <td>Economy</td>\n",
       "      <td>2.17</td>\n",
       "      <td>1</td>\n",
       "      <td>5956</td>\n",
       "      <td>Delhi_Mumbai</td>\n",
       "      <td>1</td>\n",
       "      <td>0</td>\n",
       "      <td>Direct</td>\n",
       "    </tr>\n",
       "    <tr>\n",
       "      <th>3</th>\n",
       "      <td>Vistara</td>\n",
       "      <td>UK-995</td>\n",
       "      <td>Delhi</td>\n",
       "      <td>Morning</td>\n",
       "      <td>zero</td>\n",
       "      <td>Afternoon</td>\n",
       "      <td>Mumbai</td>\n",
       "      <td>Economy</td>\n",
       "      <td>2.25</td>\n",
       "      <td>1</td>\n",
       "      <td>5955</td>\n",
       "      <td>Delhi_Mumbai</td>\n",
       "      <td>1</td>\n",
       "      <td>0</td>\n",
       "      <td>Direct</td>\n",
       "    </tr>\n",
       "    <tr>\n",
       "      <th>4</th>\n",
       "      <td>Vistara</td>\n",
       "      <td>UK-963</td>\n",
       "      <td>Delhi</td>\n",
       "      <td>Morning</td>\n",
       "      <td>zero</td>\n",
       "      <td>Morning</td>\n",
       "      <td>Mumbai</td>\n",
       "      <td>Economy</td>\n",
       "      <td>2.33</td>\n",
       "      <td>1</td>\n",
       "      <td>5955</td>\n",
       "      <td>Delhi_Mumbai</td>\n",
       "      <td>1</td>\n",
       "      <td>0</td>\n",
       "      <td>Direct</td>\n",
       "    </tr>\n",
       "    <tr>\n",
       "      <th>...</th>\n",
       "      <td>...</td>\n",
       "      <td>...</td>\n",
       "      <td>...</td>\n",
       "      <td>...</td>\n",
       "      <td>...</td>\n",
       "      <td>...</td>\n",
       "      <td>...</td>\n",
       "      <td>...</td>\n",
       "      <td>...</td>\n",
       "      <td>...</td>\n",
       "      <td>...</td>\n",
       "      <td>...</td>\n",
       "      <td>...</td>\n",
       "      <td>...</td>\n",
       "      <td>...</td>\n",
       "    </tr>\n",
       "    <tr>\n",
       "      <th>300148</th>\n",
       "      <td>Vistara</td>\n",
       "      <td>UK-822</td>\n",
       "      <td>Chennai</td>\n",
       "      <td>Morning</td>\n",
       "      <td>one</td>\n",
       "      <td>Evening</td>\n",
       "      <td>Hyderabad</td>\n",
       "      <td>Business</td>\n",
       "      <td>10.08</td>\n",
       "      <td>49</td>\n",
       "      <td>69265</td>\n",
       "      <td>Chennai_Hyderabad</td>\n",
       "      <td>0</td>\n",
       "      <td>1</td>\n",
       "      <td>Non-Direct</td>\n",
       "    </tr>\n",
       "    <tr>\n",
       "      <th>300149</th>\n",
       "      <td>Vistara</td>\n",
       "      <td>UK-826</td>\n",
       "      <td>Chennai</td>\n",
       "      <td>Afternoon</td>\n",
       "      <td>one</td>\n",
       "      <td>Night</td>\n",
       "      <td>Hyderabad</td>\n",
       "      <td>Business</td>\n",
       "      <td>10.42</td>\n",
       "      <td>49</td>\n",
       "      <td>77105</td>\n",
       "      <td>Chennai_Hyderabad</td>\n",
       "      <td>0</td>\n",
       "      <td>1</td>\n",
       "      <td>Non-Direct</td>\n",
       "    </tr>\n",
       "    <tr>\n",
       "      <th>300150</th>\n",
       "      <td>Vistara</td>\n",
       "      <td>UK-832</td>\n",
       "      <td>Chennai</td>\n",
       "      <td>Early_Morning</td>\n",
       "      <td>one</td>\n",
       "      <td>Night</td>\n",
       "      <td>Hyderabad</td>\n",
       "      <td>Business</td>\n",
       "      <td>13.83</td>\n",
       "      <td>49</td>\n",
       "      <td>79099</td>\n",
       "      <td>Chennai_Hyderabad</td>\n",
       "      <td>0</td>\n",
       "      <td>1</td>\n",
       "      <td>Non-Direct</td>\n",
       "    </tr>\n",
       "    <tr>\n",
       "      <th>300151</th>\n",
       "      <td>Vistara</td>\n",
       "      <td>UK-828</td>\n",
       "      <td>Chennai</td>\n",
       "      <td>Early_Morning</td>\n",
       "      <td>one</td>\n",
       "      <td>Evening</td>\n",
       "      <td>Hyderabad</td>\n",
       "      <td>Business</td>\n",
       "      <td>10.00</td>\n",
       "      <td>49</td>\n",
       "      <td>81585</td>\n",
       "      <td>Chennai_Hyderabad</td>\n",
       "      <td>0</td>\n",
       "      <td>1</td>\n",
       "      <td>Non-Direct</td>\n",
       "    </tr>\n",
       "    <tr>\n",
       "      <th>300152</th>\n",
       "      <td>Vistara</td>\n",
       "      <td>UK-822</td>\n",
       "      <td>Chennai</td>\n",
       "      <td>Morning</td>\n",
       "      <td>one</td>\n",
       "      <td>Evening</td>\n",
       "      <td>Hyderabad</td>\n",
       "      <td>Business</td>\n",
       "      <td>10.08</td>\n",
       "      <td>49</td>\n",
       "      <td>81585</td>\n",
       "      <td>Chennai_Hyderabad</td>\n",
       "      <td>0</td>\n",
       "      <td>1</td>\n",
       "      <td>Non-Direct</td>\n",
       "    </tr>\n",
       "  </tbody>\n",
       "</table>\n",
       "<p>300153 rows × 15 columns</p>\n",
       "</div>"
      ],
      "text/plain": [
       "         airline   flight source_city departure_time stops   arrival_time  \\\n",
       "0       SpiceJet  SG-8709       Delhi        Evening  zero          Night   \n",
       "1       SpiceJet  SG-8157       Delhi  Early_Morning  zero        Morning   \n",
       "2        AirAsia   I5-764       Delhi  Early_Morning  zero  Early_Morning   \n",
       "3        Vistara   UK-995       Delhi        Morning  zero      Afternoon   \n",
       "4        Vistara   UK-963       Delhi        Morning  zero        Morning   \n",
       "...          ...      ...         ...            ...   ...            ...   \n",
       "300148   Vistara   UK-822     Chennai        Morning   one        Evening   \n",
       "300149   Vistara   UK-826     Chennai      Afternoon   one          Night   \n",
       "300150   Vistara   UK-832     Chennai  Early_Morning   one          Night   \n",
       "300151   Vistara   UK-828     Chennai  Early_Morning   one        Evening   \n",
       "300152   Vistara   UK-822     Chennai        Morning   one        Evening   \n",
       "\n",
       "       destination_city     class  duration  days_left  price  \\\n",
       "0                Mumbai   Economy      2.17          1   5953   \n",
       "1                Mumbai   Economy      2.33          1   5953   \n",
       "2                Mumbai   Economy      2.17          1   5956   \n",
       "3                Mumbai   Economy      2.25          1   5955   \n",
       "4                Mumbai   Economy      2.33          1   5955   \n",
       "...                 ...       ...       ...        ...    ...   \n",
       "300148        Hyderabad  Business     10.08         49  69265   \n",
       "300149        Hyderabad  Business     10.42         49  77105   \n",
       "300150        Hyderabad  Business     13.83         49  79099   \n",
       "300151        Hyderabad  Business     10.00         49  81585   \n",
       "300152        Hyderabad  Business     10.08         49  81585   \n",
       "\n",
       "             destinations  direct_flight  non_direct_flight flight_type  \n",
       "0            Delhi_Mumbai              1                  0      Direct  \n",
       "1            Delhi_Mumbai              1                  0      Direct  \n",
       "2            Delhi_Mumbai              1                  0      Direct  \n",
       "3            Delhi_Mumbai              1                  0      Direct  \n",
       "4            Delhi_Mumbai              1                  0      Direct  \n",
       "...                   ...            ...                ...         ...  \n",
       "300148  Chennai_Hyderabad              0                  1  Non-Direct  \n",
       "300149  Chennai_Hyderabad              0                  1  Non-Direct  \n",
       "300150  Chennai_Hyderabad              0                  1  Non-Direct  \n",
       "300151  Chennai_Hyderabad              0                  1  Non-Direct  \n",
       "300152  Chennai_Hyderabad              0                  1  Non-Direct  \n",
       "\n",
       "[300153 rows x 15 columns]"
      ]
     },
     "execution_count": 274,
     "metadata": {},
     "output_type": "execute_result"
    }
   ],
   "source": [
    "df['flight_type'] = np.where(df['direct_flight'] == 1, 'Direct', 'Non-Direct')\n",
    "# df['flight_type'] = np.where(df['non_direct_flight'] != 1, 'Direct', 'Non-Direct')\n",
    "df"
   ]
  },
  {
   "cell_type": "code",
   "execution_count": 275,
   "metadata": {},
   "outputs": [
    {
     "data": {
      "text/html": [
       "<div>\n",
       "<style scoped>\n",
       "    .dataframe tbody tr th:only-of-type {\n",
       "        vertical-align: middle;\n",
       "    }\n",
       "\n",
       "    .dataframe tbody tr th {\n",
       "        vertical-align: top;\n",
       "    }\n",
       "\n",
       "    .dataframe thead th {\n",
       "        text-align: right;\n",
       "    }\n",
       "</style>\n",
       "<table border=\"1\" class=\"dataframe\">\n",
       "  <thead>\n",
       "    <tr style=\"text-align: right;\">\n",
       "      <th></th>\n",
       "      <th>destinations</th>\n",
       "      <th>duration</th>\n",
       "      <th>days_left</th>\n",
       "      <th>price</th>\n",
       "      <th>class</th>\n",
       "    </tr>\n",
       "  </thead>\n",
       "  <tbody>\n",
       "    <tr>\n",
       "      <th>0</th>\n",
       "      <td>Delhi_Mumbai</td>\n",
       "      <td>2.17</td>\n",
       "      <td>1</td>\n",
       "      <td>5953</td>\n",
       "      <td>Economy</td>\n",
       "    </tr>\n",
       "    <tr>\n",
       "      <th>1</th>\n",
       "      <td>Delhi_Mumbai</td>\n",
       "      <td>2.33</td>\n",
       "      <td>1</td>\n",
       "      <td>5953</td>\n",
       "      <td>Economy</td>\n",
       "    </tr>\n",
       "    <tr>\n",
       "      <th>2</th>\n",
       "      <td>Delhi_Mumbai</td>\n",
       "      <td>2.17</td>\n",
       "      <td>1</td>\n",
       "      <td>5956</td>\n",
       "      <td>Economy</td>\n",
       "    </tr>\n",
       "    <tr>\n",
       "      <th>3</th>\n",
       "      <td>Delhi_Mumbai</td>\n",
       "      <td>2.25</td>\n",
       "      <td>1</td>\n",
       "      <td>5955</td>\n",
       "      <td>Economy</td>\n",
       "    </tr>\n",
       "    <tr>\n",
       "      <th>4</th>\n",
       "      <td>Delhi_Mumbai</td>\n",
       "      <td>2.33</td>\n",
       "      <td>1</td>\n",
       "      <td>5955</td>\n",
       "      <td>Economy</td>\n",
       "    </tr>\n",
       "    <tr>\n",
       "      <th>...</th>\n",
       "      <td>...</td>\n",
       "      <td>...</td>\n",
       "      <td>...</td>\n",
       "      <td>...</td>\n",
       "      <td>...</td>\n",
       "    </tr>\n",
       "    <tr>\n",
       "      <th>299945</th>\n",
       "      <td>Chennai_Hyderabad</td>\n",
       "      <td>1.42</td>\n",
       "      <td>45</td>\n",
       "      <td>15000</td>\n",
       "      <td>Business</td>\n",
       "    </tr>\n",
       "    <tr>\n",
       "      <th>299987</th>\n",
       "      <td>Chennai_Hyderabad</td>\n",
       "      <td>1.42</td>\n",
       "      <td>46</td>\n",
       "      <td>15000</td>\n",
       "      <td>Business</td>\n",
       "    </tr>\n",
       "    <tr>\n",
       "      <th>300029</th>\n",
       "      <td>Chennai_Hyderabad</td>\n",
       "      <td>1.42</td>\n",
       "      <td>47</td>\n",
       "      <td>15000</td>\n",
       "      <td>Business</td>\n",
       "    </tr>\n",
       "    <tr>\n",
       "      <th>300069</th>\n",
       "      <td>Chennai_Hyderabad</td>\n",
       "      <td>1.33</td>\n",
       "      <td>48</td>\n",
       "      <td>15000</td>\n",
       "      <td>Business</td>\n",
       "    </tr>\n",
       "    <tr>\n",
       "      <th>300111</th>\n",
       "      <td>Chennai_Hyderabad</td>\n",
       "      <td>1.42</td>\n",
       "      <td>49</td>\n",
       "      <td>15000</td>\n",
       "      <td>Business</td>\n",
       "    </tr>\n",
       "  </tbody>\n",
       "</table>\n",
       "<p>36004 rows × 5 columns</p>\n",
       "</div>"
      ],
      "text/plain": [
       "             destinations  duration  days_left  price     class\n",
       "0            Delhi_Mumbai      2.17          1   5953   Economy\n",
       "1            Delhi_Mumbai      2.33          1   5953   Economy\n",
       "2            Delhi_Mumbai      2.17          1   5956   Economy\n",
       "3            Delhi_Mumbai      2.25          1   5955   Economy\n",
       "4            Delhi_Mumbai      2.33          1   5955   Economy\n",
       "...                   ...       ...        ...    ...       ...\n",
       "299945  Chennai_Hyderabad      1.42         45  15000  Business\n",
       "299987  Chennai_Hyderabad      1.42         46  15000  Business\n",
       "300029  Chennai_Hyderabad      1.42         47  15000  Business\n",
       "300069  Chennai_Hyderabad      1.33         48  15000  Business\n",
       "300111  Chennai_Hyderabad      1.42         49  15000  Business\n",
       "\n",
       "[36004 rows x 5 columns]"
      ]
     },
     "execution_count": 275,
     "metadata": {},
     "output_type": "execute_result"
    }
   ],
   "source": [
    "direct_flights = df.loc[df['flight_type'] == 'Direct', ['destinations', 'duration', 'days_left', 'price', 'class']]\n",
    "direct_flights"
   ]
  },
  {
   "cell_type": "code",
   "execution_count": 276,
   "metadata": {},
   "outputs": [
    {
     "data": {
      "text/html": [
       "<div>\n",
       "<style scoped>\n",
       "    .dataframe tbody tr th:only-of-type {\n",
       "        vertical-align: middle;\n",
       "    }\n",
       "\n",
       "    .dataframe tbody tr th {\n",
       "        vertical-align: top;\n",
       "    }\n",
       "\n",
       "    .dataframe thead th {\n",
       "        text-align: right;\n",
       "    }\n",
       "</style>\n",
       "<table border=\"1\" class=\"dataframe\">\n",
       "  <thead>\n",
       "    <tr style=\"text-align: right;\">\n",
       "      <th></th>\n",
       "      <th>destinations</th>\n",
       "      <th>duration</th>\n",
       "      <th>days_left</th>\n",
       "      <th>price</th>\n",
       "      <th>class</th>\n",
       "    </tr>\n",
       "  </thead>\n",
       "  <tbody>\n",
       "    <tr>\n",
       "      <th>18</th>\n",
       "      <td>Delhi_Mumbai</td>\n",
       "      <td>12.25</td>\n",
       "      <td>1</td>\n",
       "      <td>5949</td>\n",
       "      <td>Economy</td>\n",
       "    </tr>\n",
       "    <tr>\n",
       "      <th>19</th>\n",
       "      <td>Delhi_Mumbai</td>\n",
       "      <td>16.33</td>\n",
       "      <td>1</td>\n",
       "      <td>5949</td>\n",
       "      <td>Economy</td>\n",
       "    </tr>\n",
       "    <tr>\n",
       "      <th>20</th>\n",
       "      <td>Delhi_Mumbai</td>\n",
       "      <td>11.75</td>\n",
       "      <td>1</td>\n",
       "      <td>5954</td>\n",
       "      <td>Economy</td>\n",
       "    </tr>\n",
       "    <tr>\n",
       "      <th>21</th>\n",
       "      <td>Delhi_Mumbai</td>\n",
       "      <td>14.50</td>\n",
       "      <td>1</td>\n",
       "      <td>5954</td>\n",
       "      <td>Economy</td>\n",
       "    </tr>\n",
       "    <tr>\n",
       "      <th>22</th>\n",
       "      <td>Delhi_Mumbai</td>\n",
       "      <td>15.67</td>\n",
       "      <td>1</td>\n",
       "      <td>5954</td>\n",
       "      <td>Economy</td>\n",
       "    </tr>\n",
       "    <tr>\n",
       "      <th>...</th>\n",
       "      <td>...</td>\n",
       "      <td>...</td>\n",
       "      <td>...</td>\n",
       "      <td>...</td>\n",
       "      <td>...</td>\n",
       "    </tr>\n",
       "    <tr>\n",
       "      <th>300148</th>\n",
       "      <td>Chennai_Hyderabad</td>\n",
       "      <td>10.08</td>\n",
       "      <td>49</td>\n",
       "      <td>69265</td>\n",
       "      <td>Business</td>\n",
       "    </tr>\n",
       "    <tr>\n",
       "      <th>300149</th>\n",
       "      <td>Chennai_Hyderabad</td>\n",
       "      <td>10.42</td>\n",
       "      <td>49</td>\n",
       "      <td>77105</td>\n",
       "      <td>Business</td>\n",
       "    </tr>\n",
       "    <tr>\n",
       "      <th>300150</th>\n",
       "      <td>Chennai_Hyderabad</td>\n",
       "      <td>13.83</td>\n",
       "      <td>49</td>\n",
       "      <td>79099</td>\n",
       "      <td>Business</td>\n",
       "    </tr>\n",
       "    <tr>\n",
       "      <th>300151</th>\n",
       "      <td>Chennai_Hyderabad</td>\n",
       "      <td>10.00</td>\n",
       "      <td>49</td>\n",
       "      <td>81585</td>\n",
       "      <td>Business</td>\n",
       "    </tr>\n",
       "    <tr>\n",
       "      <th>300152</th>\n",
       "      <td>Chennai_Hyderabad</td>\n",
       "      <td>10.08</td>\n",
       "      <td>49</td>\n",
       "      <td>81585</td>\n",
       "      <td>Business</td>\n",
       "    </tr>\n",
       "  </tbody>\n",
       "</table>\n",
       "<p>264149 rows × 5 columns</p>\n",
       "</div>"
      ],
      "text/plain": [
       "             destinations  duration  days_left  price     class\n",
       "18           Delhi_Mumbai     12.25          1   5949   Economy\n",
       "19           Delhi_Mumbai     16.33          1   5949   Economy\n",
       "20           Delhi_Mumbai     11.75          1   5954   Economy\n",
       "21           Delhi_Mumbai     14.50          1   5954   Economy\n",
       "22           Delhi_Mumbai     15.67          1   5954   Economy\n",
       "...                   ...       ...        ...    ...       ...\n",
       "300148  Chennai_Hyderabad     10.08         49  69265  Business\n",
       "300149  Chennai_Hyderabad     10.42         49  77105  Business\n",
       "300150  Chennai_Hyderabad     13.83         49  79099  Business\n",
       "300151  Chennai_Hyderabad     10.00         49  81585  Business\n",
       "300152  Chennai_Hyderabad     10.08         49  81585  Business\n",
       "\n",
       "[264149 rows x 5 columns]"
      ]
     },
     "execution_count": 276,
     "metadata": {},
     "output_type": "execute_result"
    }
   ],
   "source": [
    "non_direct_flights = df.loc[df['flight_type'] == 'Non-Direct', ['destinations', 'duration', 'days_left', 'price', 'class']]\n",
    "non_direct_flights"
   ]
  },
  {
   "cell_type": "code",
   "execution_count": 277,
   "metadata": {},
   "outputs": [
    {
     "data": {
      "text/plain": [
       "30"
      ]
     },
     "execution_count": 277,
     "metadata": {},
     "output_type": "execute_result"
    }
   ],
   "source": [
    "direct_flights = df.loc[df['flight_type'] == 'Direct', ['destinations', 'duration', 'days_left', 'price', 'class']].drop_duplicates(subset='destinations').value_counts().sum()\n",
    "direct_flights"
   ]
  },
  {
   "cell_type": "code",
   "execution_count": 278,
   "metadata": {},
   "outputs": [
    {
     "data": {
      "text/html": [
       "<div>\n",
       "<style scoped>\n",
       "    .dataframe tbody tr th:only-of-type {\n",
       "        vertical-align: middle;\n",
       "    }\n",
       "\n",
       "    .dataframe tbody tr th {\n",
       "        vertical-align: top;\n",
       "    }\n",
       "\n",
       "    .dataframe thead th {\n",
       "        text-align: right;\n",
       "    }\n",
       "</style>\n",
       "<table border=\"1\" class=\"dataframe\">\n",
       "  <thead>\n",
       "    <tr style=\"text-align: right;\">\n",
       "      <th></th>\n",
       "      <th>destinations</th>\n",
       "      <th>duration</th>\n",
       "      <th>days_left</th>\n",
       "      <th>price</th>\n",
       "      <th>class</th>\n",
       "    </tr>\n",
       "  </thead>\n",
       "  <tbody>\n",
       "    <tr>\n",
       "      <th>0</th>\n",
       "      <td>Delhi_Mumbai</td>\n",
       "      <td>2.17</td>\n",
       "      <td>1</td>\n",
       "      <td>5953</td>\n",
       "      <td>Economy</td>\n",
       "    </tr>\n",
       "    <tr>\n",
       "      <th>9982</th>\n",
       "      <td>Delhi_Bangalore</td>\n",
       "      <td>2.50</td>\n",
       "      <td>1</td>\n",
       "      <td>7425</td>\n",
       "      <td>Economy</td>\n",
       "    </tr>\n",
       "    <tr>\n",
       "      <th>20126</th>\n",
       "      <td>Delhi_Kolkata</td>\n",
       "      <td>2.17</td>\n",
       "      <td>1</td>\n",
       "      <td>5954</td>\n",
       "      <td>Economy</td>\n",
       "    </tr>\n",
       "    <tr>\n",
       "      <th>28780</th>\n",
       "      <td>Delhi_Hyderabad</td>\n",
       "      <td>2.17</td>\n",
       "      <td>1</td>\n",
       "      <td>6060</td>\n",
       "      <td>Economy</td>\n",
       "    </tr>\n",
       "    <tr>\n",
       "      <th>35361</th>\n",
       "      <td>Delhi_Chennai</td>\n",
       "      <td>2.92</td>\n",
       "      <td>1</td>\n",
       "      <td>7425</td>\n",
       "      <td>Economy</td>\n",
       "    </tr>\n",
       "    <tr>\n",
       "      <th>43027</th>\n",
       "      <td>Mumbai_Delhi</td>\n",
       "      <td>2.25</td>\n",
       "      <td>1</td>\n",
       "      <td>5943</td>\n",
       "      <td>Economy</td>\n",
       "    </tr>\n",
       "    <tr>\n",
       "      <th>52828</th>\n",
       "      <td>Mumbai_Bangalore</td>\n",
       "      <td>1.58</td>\n",
       "      <td>1</td>\n",
       "      <td>5102</td>\n",
       "      <td>Economy</td>\n",
       "    </tr>\n",
       "    <tr>\n",
       "      <th>61534</th>\n",
       "      <td>Mumbai_Kolkata</td>\n",
       "      <td>2.50</td>\n",
       "      <td>1</td>\n",
       "      <td>7412</td>\n",
       "      <td>Economy</td>\n",
       "    </tr>\n",
       "    <tr>\n",
       "      <th>70308</th>\n",
       "      <td>Mumbai_Hyderabad</td>\n",
       "      <td>1.42</td>\n",
       "      <td>1</td>\n",
       "      <td>4841</td>\n",
       "      <td>Economy</td>\n",
       "    </tr>\n",
       "    <tr>\n",
       "      <th>77300</th>\n",
       "      <td>Mumbai_Chennai</td>\n",
       "      <td>2.08</td>\n",
       "      <td>1</td>\n",
       "      <td>9513</td>\n",
       "      <td>Economy</td>\n",
       "    </tr>\n",
       "    <tr>\n",
       "      <th>84065</th>\n",
       "      <td>Bangalore_Delhi</td>\n",
       "      <td>2.83</td>\n",
       "      <td>1</td>\n",
       "      <td>7489</td>\n",
       "      <td>Economy</td>\n",
       "    </tr>\n",
       "    <tr>\n",
       "      <th>94024</th>\n",
       "      <td>Bangalore_Mumbai</td>\n",
       "      <td>1.58</td>\n",
       "      <td>1</td>\n",
       "      <td>5284</td>\n",
       "      <td>Economy</td>\n",
       "    </tr>\n",
       "    <tr>\n",
       "      <th>102769</th>\n",
       "      <td>Bangalore_Kolkata</td>\n",
       "      <td>2.50</td>\n",
       "      <td>1</td>\n",
       "      <td>6963</td>\n",
       "      <td>Economy</td>\n",
       "    </tr>\n",
       "    <tr>\n",
       "      <th>109654</th>\n",
       "      <td>Bangalore_Hyderabad</td>\n",
       "      <td>1.17</td>\n",
       "      <td>1</td>\n",
       "      <td>6202</td>\n",
       "      <td>Economy</td>\n",
       "    </tr>\n",
       "    <tr>\n",
       "      <th>115568</th>\n",
       "      <td>Bangalore_Chennai</td>\n",
       "      <td>1.08</td>\n",
       "      <td>1</td>\n",
       "      <td>7016</td>\n",
       "      <td>Economy</td>\n",
       "    </tr>\n",
       "    <tr>\n",
       "      <th>119685</th>\n",
       "      <td>Kolkata_Delhi</td>\n",
       "      <td>2.50</td>\n",
       "      <td>1</td>\n",
       "      <td>6488</td>\n",
       "      <td>Economy</td>\n",
       "    </tr>\n",
       "    <tr>\n",
       "      <th>127503</th>\n",
       "      <td>Kolkata_Mumbai</td>\n",
       "      <td>2.83</td>\n",
       "      <td>1</td>\n",
       "      <td>7958</td>\n",
       "      <td>Economy</td>\n",
       "    </tr>\n",
       "    <tr>\n",
       "      <th>135604</th>\n",
       "      <td>Kolkata_Bangalore</td>\n",
       "      <td>2.67</td>\n",
       "      <td>1</td>\n",
       "      <td>6488</td>\n",
       "      <td>Economy</td>\n",
       "    </tr>\n",
       "    <tr>\n",
       "      <th>142498</th>\n",
       "      <td>Kolkata_Hyderabad</td>\n",
       "      <td>2.17</td>\n",
       "      <td>1</td>\n",
       "      <td>6488</td>\n",
       "      <td>Economy</td>\n",
       "    </tr>\n",
       "    <tr>\n",
       "      <th>148055</th>\n",
       "      <td>Kolkata_Chennai</td>\n",
       "      <td>2.33</td>\n",
       "      <td>1</td>\n",
       "      <td>6909</td>\n",
       "      <td>Economy</td>\n",
       "    </tr>\n",
       "    <tr>\n",
       "      <th>152561</th>\n",
       "      <td>Hyderabad_Delhi</td>\n",
       "      <td>2.25</td>\n",
       "      <td>1</td>\n",
       "      <td>11698</td>\n",
       "      <td>Economy</td>\n",
       "    </tr>\n",
       "    <tr>\n",
       "      <th>158576</th>\n",
       "      <td>Hyderabad_Mumbai</td>\n",
       "      <td>1.50</td>\n",
       "      <td>1</td>\n",
       "      <td>10648</td>\n",
       "      <td>Economy</td>\n",
       "    </tr>\n",
       "    <tr>\n",
       "      <th>165567</th>\n",
       "      <td>Hyderabad_Bangalore</td>\n",
       "      <td>1.25</td>\n",
       "      <td>1</td>\n",
       "      <td>4452</td>\n",
       "      <td>Economy</td>\n",
       "    </tr>\n",
       "    <tr>\n",
       "      <th>170734</th>\n",
       "      <td>Hyderabad_Kolkata</td>\n",
       "      <td>2.00</td>\n",
       "      <td>1</td>\n",
       "      <td>11278</td>\n",
       "      <td>Economy</td>\n",
       "    </tr>\n",
       "    <tr>\n",
       "      <th>176341</th>\n",
       "      <td>Hyderabad_Chennai</td>\n",
       "      <td>1.25</td>\n",
       "      <td>1</td>\n",
       "      <td>6343</td>\n",
       "      <td>Economy</td>\n",
       "    </tr>\n",
       "    <tr>\n",
       "      <th>180495</th>\n",
       "      <td>Chennai_Delhi</td>\n",
       "      <td>2.75</td>\n",
       "      <td>1</td>\n",
       "      <td>15752</td>\n",
       "      <td>Economy</td>\n",
       "    </tr>\n",
       "    <tr>\n",
       "      <th>187556</th>\n",
       "      <td>Chennai_Mumbai</td>\n",
       "      <td>1.92</td>\n",
       "      <td>1</td>\n",
       "      <td>15647</td>\n",
       "      <td>Economy</td>\n",
       "    </tr>\n",
       "    <tr>\n",
       "      <th>193843</th>\n",
       "      <td>Chennai_Bangalore</td>\n",
       "      <td>1.08</td>\n",
       "      <td>1</td>\n",
       "      <td>9557</td>\n",
       "      <td>Economy</td>\n",
       "    </tr>\n",
       "    <tr>\n",
       "      <th>197804</th>\n",
       "      <td>Chennai_Kolkata</td>\n",
       "      <td>2.17</td>\n",
       "      <td>1</td>\n",
       "      <td>5987</td>\n",
       "      <td>Economy</td>\n",
       "    </tr>\n",
       "    <tr>\n",
       "      <th>202655</th>\n",
       "      <td>Chennai_Hyderabad</td>\n",
       "      <td>1.25</td>\n",
       "      <td>1</td>\n",
       "      <td>11027</td>\n",
       "      <td>Economy</td>\n",
       "    </tr>\n",
       "  </tbody>\n",
       "</table>\n",
       "</div>"
      ],
      "text/plain": [
       "               destinations  duration  days_left  price    class\n",
       "0              Delhi_Mumbai      2.17          1   5953  Economy\n",
       "9982        Delhi_Bangalore      2.50          1   7425  Economy\n",
       "20126         Delhi_Kolkata      2.17          1   5954  Economy\n",
       "28780       Delhi_Hyderabad      2.17          1   6060  Economy\n",
       "35361         Delhi_Chennai      2.92          1   7425  Economy\n",
       "43027          Mumbai_Delhi      2.25          1   5943  Economy\n",
       "52828      Mumbai_Bangalore      1.58          1   5102  Economy\n",
       "61534        Mumbai_Kolkata      2.50          1   7412  Economy\n",
       "70308      Mumbai_Hyderabad      1.42          1   4841  Economy\n",
       "77300        Mumbai_Chennai      2.08          1   9513  Economy\n",
       "84065       Bangalore_Delhi      2.83          1   7489  Economy\n",
       "94024      Bangalore_Mumbai      1.58          1   5284  Economy\n",
       "102769    Bangalore_Kolkata      2.50          1   6963  Economy\n",
       "109654  Bangalore_Hyderabad      1.17          1   6202  Economy\n",
       "115568    Bangalore_Chennai      1.08          1   7016  Economy\n",
       "119685        Kolkata_Delhi      2.50          1   6488  Economy\n",
       "127503       Kolkata_Mumbai      2.83          1   7958  Economy\n",
       "135604    Kolkata_Bangalore      2.67          1   6488  Economy\n",
       "142498    Kolkata_Hyderabad      2.17          1   6488  Economy\n",
       "148055      Kolkata_Chennai      2.33          1   6909  Economy\n",
       "152561      Hyderabad_Delhi      2.25          1  11698  Economy\n",
       "158576     Hyderabad_Mumbai      1.50          1  10648  Economy\n",
       "165567  Hyderabad_Bangalore      1.25          1   4452  Economy\n",
       "170734    Hyderabad_Kolkata      2.00          1  11278  Economy\n",
       "176341    Hyderabad_Chennai      1.25          1   6343  Economy\n",
       "180495        Chennai_Delhi      2.75          1  15752  Economy\n",
       "187556       Chennai_Mumbai      1.92          1  15647  Economy\n",
       "193843    Chennai_Bangalore      1.08          1   9557  Economy\n",
       "197804      Chennai_Kolkata      2.17          1   5987  Economy\n",
       "202655    Chennai_Hyderabad      1.25          1  11027  Economy"
      ]
     },
     "execution_count": 278,
     "metadata": {},
     "output_type": "execute_result"
    }
   ],
   "source": [
    "direct_flights = df.loc[df['flight_type'] == 'Direct', ['destinations', 'duration', 'days_left', 'price', 'class']].drop_duplicates(subset='destinations')\n",
    "direct_flights"
   ]
  },
  {
   "cell_type": "code",
   "execution_count": 279,
   "metadata": {},
   "outputs": [
    {
     "data": {
      "text/html": [
       "<div>\n",
       "<style scoped>\n",
       "    .dataframe tbody tr th:only-of-type {\n",
       "        vertical-align: middle;\n",
       "    }\n",
       "\n",
       "    .dataframe tbody tr th {\n",
       "        vertical-align: top;\n",
       "    }\n",
       "\n",
       "    .dataframe thead th {\n",
       "        text-align: right;\n",
       "    }\n",
       "</style>\n",
       "<table border=\"1\" class=\"dataframe\">\n",
       "  <thead>\n",
       "    <tr style=\"text-align: right;\">\n",
       "      <th></th>\n",
       "      <th>destinations</th>\n",
       "      <th>duration</th>\n",
       "      <th>days_left</th>\n",
       "      <th>price</th>\n",
       "      <th>class</th>\n",
       "    </tr>\n",
       "  </thead>\n",
       "  <tbody>\n",
       "    <tr>\n",
       "      <th>18</th>\n",
       "      <td>Delhi_Mumbai</td>\n",
       "      <td>12.25</td>\n",
       "      <td>1</td>\n",
       "      <td>5949</td>\n",
       "      <td>Economy</td>\n",
       "    </tr>\n",
       "    <tr>\n",
       "      <th>9998</th>\n",
       "      <td>Delhi_Bangalore</td>\n",
       "      <td>7.58</td>\n",
       "      <td>1</td>\n",
       "      <td>7423</td>\n",
       "      <td>Economy</td>\n",
       "    </tr>\n",
       "    <tr>\n",
       "      <th>20130</th>\n",
       "      <td>Delhi_Kolkata</td>\n",
       "      <td>16.00</td>\n",
       "      <td>1</td>\n",
       "      <td>5954</td>\n",
       "      <td>Economy</td>\n",
       "    </tr>\n",
       "    <tr>\n",
       "      <th>28786</th>\n",
       "      <td>Delhi_Hyderabad</td>\n",
       "      <td>13.75</td>\n",
       "      <td>1</td>\n",
       "      <td>5953</td>\n",
       "      <td>Economy</td>\n",
       "    </tr>\n",
       "    <tr>\n",
       "      <th>35369</th>\n",
       "      <td>Delhi_Chennai</td>\n",
       "      <td>26.33</td>\n",
       "      <td>1</td>\n",
       "      <td>7425</td>\n",
       "      <td>Economy</td>\n",
       "    </tr>\n",
       "    <tr>\n",
       "      <th>43035</th>\n",
       "      <td>Mumbai_Delhi</td>\n",
       "      <td>13.50</td>\n",
       "      <td>1</td>\n",
       "      <td>5942</td>\n",
       "      <td>Economy</td>\n",
       "    </tr>\n",
       "    <tr>\n",
       "      <th>52832</th>\n",
       "      <td>Mumbai_Bangalore</td>\n",
       "      <td>13.58</td>\n",
       "      <td>1</td>\n",
       "      <td>5102</td>\n",
       "      <td>Economy</td>\n",
       "    </tr>\n",
       "    <tr>\n",
       "      <th>61536</th>\n",
       "      <td>Mumbai_Kolkata</td>\n",
       "      <td>14.00</td>\n",
       "      <td>1</td>\n",
       "      <td>7412</td>\n",
       "      <td>Economy</td>\n",
       "    </tr>\n",
       "    <tr>\n",
       "      <th>70313</th>\n",
       "      <td>Mumbai_Hyderabad</td>\n",
       "      <td>13.00</td>\n",
       "      <td>1</td>\n",
       "      <td>7584</td>\n",
       "      <td>Economy</td>\n",
       "    </tr>\n",
       "    <tr>\n",
       "      <th>77298</th>\n",
       "      <td>Mumbai_Chennai</td>\n",
       "      <td>7.25</td>\n",
       "      <td>1</td>\n",
       "      <td>8883</td>\n",
       "      <td>Economy</td>\n",
       "    </tr>\n",
       "    <tr>\n",
       "      <th>84076</th>\n",
       "      <td>Bangalore_Delhi</td>\n",
       "      <td>5.83</td>\n",
       "      <td>1</td>\n",
       "      <td>7484</td>\n",
       "      <td>Economy</td>\n",
       "    </tr>\n",
       "    <tr>\n",
       "      <th>94027</th>\n",
       "      <td>Bangalore_Mumbai</td>\n",
       "      <td>11.17</td>\n",
       "      <td>1</td>\n",
       "      <td>5174</td>\n",
       "      <td>Economy</td>\n",
       "    </tr>\n",
       "    <tr>\n",
       "      <th>102767</th>\n",
       "      <td>Bangalore_Kolkata</td>\n",
       "      <td>11.75</td>\n",
       "      <td>1</td>\n",
       "      <td>5176</td>\n",
       "      <td>Economy</td>\n",
       "    </tr>\n",
       "    <tr>\n",
       "      <th>109655</th>\n",
       "      <td>Bangalore_Hyderabad</td>\n",
       "      <td>4.75</td>\n",
       "      <td>1</td>\n",
       "      <td>6638</td>\n",
       "      <td>Economy</td>\n",
       "    </tr>\n",
       "    <tr>\n",
       "      <th>115570</th>\n",
       "      <td>Bangalore_Chennai</td>\n",
       "      <td>15.08</td>\n",
       "      <td>1</td>\n",
       "      <td>12454</td>\n",
       "      <td>Economy</td>\n",
       "    </tr>\n",
       "    <tr>\n",
       "      <th>119686</th>\n",
       "      <td>Kolkata_Delhi</td>\n",
       "      <td>9.25</td>\n",
       "      <td>1</td>\n",
       "      <td>6353</td>\n",
       "      <td>Economy</td>\n",
       "    </tr>\n",
       "    <tr>\n",
       "      <th>127501</th>\n",
       "      <td>Kolkata_Mumbai</td>\n",
       "      <td>11.50</td>\n",
       "      <td>1</td>\n",
       "      <td>5070</td>\n",
       "      <td>Economy</td>\n",
       "    </tr>\n",
       "    <tr>\n",
       "      <th>135607</th>\n",
       "      <td>Kolkata_Bangalore</td>\n",
       "      <td>14.17</td>\n",
       "      <td>1</td>\n",
       "      <td>6488</td>\n",
       "      <td>Economy</td>\n",
       "    </tr>\n",
       "    <tr>\n",
       "      <th>142500</th>\n",
       "      <td>Kolkata_Hyderabad</td>\n",
       "      <td>13.00</td>\n",
       "      <td>1</td>\n",
       "      <td>8564</td>\n",
       "      <td>Economy</td>\n",
       "    </tr>\n",
       "    <tr>\n",
       "      <th>148053</th>\n",
       "      <td>Kolkata_Chennai</td>\n",
       "      <td>11.42</td>\n",
       "      <td>1</td>\n",
       "      <td>6488</td>\n",
       "      <td>Economy</td>\n",
       "    </tr>\n",
       "    <tr>\n",
       "      <th>152559</th>\n",
       "      <td>Hyderabad_Delhi</td>\n",
       "      <td>7.92</td>\n",
       "      <td>1</td>\n",
       "      <td>8393</td>\n",
       "      <td>Economy</td>\n",
       "    </tr>\n",
       "    <tr>\n",
       "      <th>158578</th>\n",
       "      <td>Hyderabad_Mumbai</td>\n",
       "      <td>4.50</td>\n",
       "      <td>1</td>\n",
       "      <td>10701</td>\n",
       "      <td>Economy</td>\n",
       "    </tr>\n",
       "    <tr>\n",
       "      <th>165568</th>\n",
       "      <td>Hyderabad_Bangalore</td>\n",
       "      <td>4.67</td>\n",
       "      <td>1</td>\n",
       "      <td>6025</td>\n",
       "      <td>Economy</td>\n",
       "    </tr>\n",
       "    <tr>\n",
       "      <th>170731</th>\n",
       "      <td>Hyderabad_Kolkata</td>\n",
       "      <td>5.08</td>\n",
       "      <td>1</td>\n",
       "      <td>8490</td>\n",
       "      <td>Economy</td>\n",
       "    </tr>\n",
       "    <tr>\n",
       "      <th>176343</th>\n",
       "      <td>Hyderabad_Chennai</td>\n",
       "      <td>12.75</td>\n",
       "      <td>1</td>\n",
       "      <td>10018</td>\n",
       "      <td>Economy</td>\n",
       "    </tr>\n",
       "    <tr>\n",
       "      <th>180498</th>\n",
       "      <td>Chennai_Delhi</td>\n",
       "      <td>11.75</td>\n",
       "      <td>2</td>\n",
       "      <td>7352</td>\n",
       "      <td>Economy</td>\n",
       "    </tr>\n",
       "    <tr>\n",
       "      <th>187555</th>\n",
       "      <td>Chennai_Mumbai</td>\n",
       "      <td>6.50</td>\n",
       "      <td>1</td>\n",
       "      <td>14833</td>\n",
       "      <td>Economy</td>\n",
       "    </tr>\n",
       "    <tr>\n",
       "      <th>193842</th>\n",
       "      <td>Chennai_Bangalore</td>\n",
       "      <td>5.08</td>\n",
       "      <td>1</td>\n",
       "      <td>7982</td>\n",
       "      <td>Economy</td>\n",
       "    </tr>\n",
       "    <tr>\n",
       "      <th>197807</th>\n",
       "      <td>Chennai_Kolkata</td>\n",
       "      <td>26.17</td>\n",
       "      <td>1</td>\n",
       "      <td>25833</td>\n",
       "      <td>Economy</td>\n",
       "    </tr>\n",
       "    <tr>\n",
       "      <th>202657</th>\n",
       "      <td>Chennai_Hyderabad</td>\n",
       "      <td>10.17</td>\n",
       "      <td>2</td>\n",
       "      <td>4307</td>\n",
       "      <td>Economy</td>\n",
       "    </tr>\n",
       "  </tbody>\n",
       "</table>\n",
       "</div>"
      ],
      "text/plain": [
       "               destinations  duration  days_left  price    class\n",
       "18             Delhi_Mumbai     12.25          1   5949  Economy\n",
       "9998        Delhi_Bangalore      7.58          1   7423  Economy\n",
       "20130         Delhi_Kolkata     16.00          1   5954  Economy\n",
       "28786       Delhi_Hyderabad     13.75          1   5953  Economy\n",
       "35369         Delhi_Chennai     26.33          1   7425  Economy\n",
       "43035          Mumbai_Delhi     13.50          1   5942  Economy\n",
       "52832      Mumbai_Bangalore     13.58          1   5102  Economy\n",
       "61536        Mumbai_Kolkata     14.00          1   7412  Economy\n",
       "70313      Mumbai_Hyderabad     13.00          1   7584  Economy\n",
       "77298        Mumbai_Chennai      7.25          1   8883  Economy\n",
       "84076       Bangalore_Delhi      5.83          1   7484  Economy\n",
       "94027      Bangalore_Mumbai     11.17          1   5174  Economy\n",
       "102767    Bangalore_Kolkata     11.75          1   5176  Economy\n",
       "109655  Bangalore_Hyderabad      4.75          1   6638  Economy\n",
       "115570    Bangalore_Chennai     15.08          1  12454  Economy\n",
       "119686        Kolkata_Delhi      9.25          1   6353  Economy\n",
       "127501       Kolkata_Mumbai     11.50          1   5070  Economy\n",
       "135607    Kolkata_Bangalore     14.17          1   6488  Economy\n",
       "142500    Kolkata_Hyderabad     13.00          1   8564  Economy\n",
       "148053      Kolkata_Chennai     11.42          1   6488  Economy\n",
       "152559      Hyderabad_Delhi      7.92          1   8393  Economy\n",
       "158578     Hyderabad_Mumbai      4.50          1  10701  Economy\n",
       "165568  Hyderabad_Bangalore      4.67          1   6025  Economy\n",
       "170731    Hyderabad_Kolkata      5.08          1   8490  Economy\n",
       "176343    Hyderabad_Chennai     12.75          1  10018  Economy\n",
       "180498        Chennai_Delhi     11.75          2   7352  Economy\n",
       "187555       Chennai_Mumbai      6.50          1  14833  Economy\n",
       "193842    Chennai_Bangalore      5.08          1   7982  Economy\n",
       "197807      Chennai_Kolkata     26.17          1  25833  Economy\n",
       "202657    Chennai_Hyderabad     10.17          2   4307  Economy"
      ]
     },
     "execution_count": 279,
     "metadata": {},
     "output_type": "execute_result"
    }
   ],
   "source": [
    "non_direct_flights = df.loc[df['flight_type'] == 'Non-Direct', ['destinations', 'duration', 'days_left', 'price', 'class']].drop_duplicates(subset='destinations')\n",
    "non_direct_flights"
   ]
  },
  {
   "cell_type": "code",
   "execution_count": 280,
   "metadata": {},
   "outputs": [
    {
     "data": {
      "text/html": [
       "<div>\n",
       "<style scoped>\n",
       "    .dataframe tbody tr th:only-of-type {\n",
       "        vertical-align: middle;\n",
       "    }\n",
       "\n",
       "    .dataframe tbody tr th {\n",
       "        vertical-align: top;\n",
       "    }\n",
       "\n",
       "    .dataframe thead th {\n",
       "        text-align: right;\n",
       "    }\n",
       "</style>\n",
       "<table border=\"1\" class=\"dataframe\">\n",
       "  <thead>\n",
       "    <tr style=\"text-align: right;\">\n",
       "      <th></th>\n",
       "      <th>destinations</th>\n",
       "      <th>duration</th>\n",
       "      <th>days_left</th>\n",
       "      <th>price</th>\n",
       "    </tr>\n",
       "  </thead>\n",
       "  <tbody>\n",
       "    <tr>\n",
       "      <th>0</th>\n",
       "      <td>Bangalore_Chennai</td>\n",
       "      <td>1.044125</td>\n",
       "      <td>26.875000</td>\n",
       "      <td>2329.608333</td>\n",
       "    </tr>\n",
       "    <tr>\n",
       "      <th>1</th>\n",
       "      <td>Bangalore_Delhi</td>\n",
       "      <td>2.773808</td>\n",
       "      <td>25.745816</td>\n",
       "      <td>13215.595206</td>\n",
       "    </tr>\n",
       "    <tr>\n",
       "      <th>2</th>\n",
       "      <td>Bangalore_Hyderabad</td>\n",
       "      <td>1.222717</td>\n",
       "      <td>25.409817</td>\n",
       "      <td>3041.762557</td>\n",
       "    </tr>\n",
       "    <tr>\n",
       "      <th>3</th>\n",
       "      <td>Bangalore_Kolkata</td>\n",
       "      <td>2.528473</td>\n",
       "      <td>27.568862</td>\n",
       "      <td>4775.904192</td>\n",
       "    </tr>\n",
       "    <tr>\n",
       "      <th>4</th>\n",
       "      <td>Bangalore_Mumbai</td>\n",
       "      <td>1.792557</td>\n",
       "      <td>26.433639</td>\n",
       "      <td>7519.493578</td>\n",
       "    </tr>\n",
       "    <tr>\n",
       "      <th>5</th>\n",
       "      <td>Chennai_Bangalore</td>\n",
       "      <td>1.138333</td>\n",
       "      <td>27.377778</td>\n",
       "      <td>2101.504444</td>\n",
       "    </tr>\n",
       "    <tr>\n",
       "      <th>6</th>\n",
       "      <td>Chennai_Delhi</td>\n",
       "      <td>2.786882</td>\n",
       "      <td>25.306122</td>\n",
       "      <td>12463.246531</td>\n",
       "    </tr>\n",
       "    <tr>\n",
       "      <th>7</th>\n",
       "      <td>Chennai_Hyderabad</td>\n",
       "      <td>1.229007</td>\n",
       "      <td>27.215356</td>\n",
       "      <td>2660.925094</td>\n",
       "    </tr>\n",
       "    <tr>\n",
       "      <th>8</th>\n",
       "      <td>Chennai_Kolkata</td>\n",
       "      <td>2.391670</td>\n",
       "      <td>25.526427</td>\n",
       "      <td>5792.919662</td>\n",
       "    </tr>\n",
       "    <tr>\n",
       "      <th>9</th>\n",
       "      <td>Chennai_Mumbai</td>\n",
       "      <td>1.979359</td>\n",
       "      <td>26.119963</td>\n",
       "      <td>9015.339744</td>\n",
       "    </tr>\n",
       "    <tr>\n",
       "      <th>10</th>\n",
       "      <td>Delhi_Bangalore</td>\n",
       "      <td>2.783256</td>\n",
       "      <td>25.690801</td>\n",
       "      <td>13130.285064</td>\n",
       "    </tr>\n",
       "    <tr>\n",
       "      <th>11</th>\n",
       "      <td>Delhi_Chennai</td>\n",
       "      <td>2.848963</td>\n",
       "      <td>24.755981</td>\n",
       "      <td>11628.027911</td>\n",
       "    </tr>\n",
       "    <tr>\n",
       "      <th>12</th>\n",
       "      <td>Delhi_Hyderabad</td>\n",
       "      <td>2.222434</td>\n",
       "      <td>25.212310</td>\n",
       "      <td>9775.861687</td>\n",
       "    </tr>\n",
       "    <tr>\n",
       "      <th>13</th>\n",
       "      <td>Delhi_Kolkata</td>\n",
       "      <td>2.195788</td>\n",
       "      <td>26.021343</td>\n",
       "      <td>11156.082863</td>\n",
       "    </tr>\n",
       "    <tr>\n",
       "      <th>14</th>\n",
       "      <td>Delhi_Mumbai</td>\n",
       "      <td>2.213791</td>\n",
       "      <td>25.821438</td>\n",
       "      <td>11136.777284</td>\n",
       "    </tr>\n",
       "    <tr>\n",
       "      <th>15</th>\n",
       "      <td>Hyderabad_Bangalore</td>\n",
       "      <td>1.238432</td>\n",
       "      <td>26.188889</td>\n",
       "      <td>3076.138272</td>\n",
       "    </tr>\n",
       "    <tr>\n",
       "      <th>16</th>\n",
       "      <td>Hyderabad_Chennai</td>\n",
       "      <td>1.287792</td>\n",
       "      <td>27.607547</td>\n",
       "      <td>2677.586792</td>\n",
       "    </tr>\n",
       "    <tr>\n",
       "      <th>17</th>\n",
       "      <td>Hyderabad_Delhi</td>\n",
       "      <td>2.263544</td>\n",
       "      <td>25.711648</td>\n",
       "      <td>10371.478693</td>\n",
       "    </tr>\n",
       "    <tr>\n",
       "      <th>18</th>\n",
       "      <td>Hyderabad_Kolkata</td>\n",
       "      <td>2.041172</td>\n",
       "      <td>25.402020</td>\n",
       "      <td>6026.870707</td>\n",
       "    </tr>\n",
       "    <tr>\n",
       "      <th>19</th>\n",
       "      <td>Hyderabad_Mumbai</td>\n",
       "      <td>1.530212</td>\n",
       "      <td>26.476821</td>\n",
       "      <td>7574.855629</td>\n",
       "    </tr>\n",
       "    <tr>\n",
       "      <th>20</th>\n",
       "      <td>Kolkata_Bangalore</td>\n",
       "      <td>2.690802</td>\n",
       "      <td>26.279898</td>\n",
       "      <td>6277.475827</td>\n",
       "    </tr>\n",
       "    <tr>\n",
       "      <th>21</th>\n",
       "      <td>Kolkata_Chennai</td>\n",
       "      <td>2.382144</td>\n",
       "      <td>25.367615</td>\n",
       "      <td>6814.096280</td>\n",
       "    </tr>\n",
       "    <tr>\n",
       "      <th>22</th>\n",
       "      <td>Kolkata_Delhi</td>\n",
       "      <td>2.454752</td>\n",
       "      <td>26.201242</td>\n",
       "      <td>11354.091925</td>\n",
       "    </tr>\n",
       "    <tr>\n",
       "      <th>23</th>\n",
       "      <td>Kolkata_Hyderabad</td>\n",
       "      <td>2.213538</td>\n",
       "      <td>26.081319</td>\n",
       "      <td>6135.819780</td>\n",
       "    </tr>\n",
       "    <tr>\n",
       "      <th>24</th>\n",
       "      <td>Kolkata_Mumbai</td>\n",
       "      <td>2.847503</td>\n",
       "      <td>25.614815</td>\n",
       "      <td>10973.624339</td>\n",
       "    </tr>\n",
       "    <tr>\n",
       "      <th>25</th>\n",
       "      <td>Mumbai_Bangalore</td>\n",
       "      <td>1.740825</td>\n",
       "      <td>26.665648</td>\n",
       "      <td>7369.560513</td>\n",
       "    </tr>\n",
       "    <tr>\n",
       "      <th>26</th>\n",
       "      <td>Mumbai_Chennai</td>\n",
       "      <td>1.990201</td>\n",
       "      <td>26.056777</td>\n",
       "      <td>8975.697802</td>\n",
       "    </tr>\n",
       "    <tr>\n",
       "      <th>27</th>\n",
       "      <td>Mumbai_Delhi</td>\n",
       "      <td>2.185311</td>\n",
       "      <td>25.963459</td>\n",
       "      <td>10969.784100</td>\n",
       "    </tr>\n",
       "    <tr>\n",
       "      <th>28</th>\n",
       "      <td>Mumbai_Hyderabad</td>\n",
       "      <td>1.440362</td>\n",
       "      <td>25.918499</td>\n",
       "      <td>7232.047865</td>\n",
       "    </tr>\n",
       "    <tr>\n",
       "      <th>29</th>\n",
       "      <td>Mumbai_Kolkata</td>\n",
       "      <td>2.644094</td>\n",
       "      <td>25.392283</td>\n",
       "      <td>10672.198285</td>\n",
       "    </tr>\n",
       "  </tbody>\n",
       "</table>\n",
       "</div>"
      ],
      "text/plain": [
       "           destinations  duration  days_left         price\n",
       "0     Bangalore_Chennai  1.044125  26.875000   2329.608333\n",
       "1       Bangalore_Delhi  2.773808  25.745816  13215.595206\n",
       "2   Bangalore_Hyderabad  1.222717  25.409817   3041.762557\n",
       "3     Bangalore_Kolkata  2.528473  27.568862   4775.904192\n",
       "4      Bangalore_Mumbai  1.792557  26.433639   7519.493578\n",
       "5     Chennai_Bangalore  1.138333  27.377778   2101.504444\n",
       "6         Chennai_Delhi  2.786882  25.306122  12463.246531\n",
       "7     Chennai_Hyderabad  1.229007  27.215356   2660.925094\n",
       "8       Chennai_Kolkata  2.391670  25.526427   5792.919662\n",
       "9        Chennai_Mumbai  1.979359  26.119963   9015.339744\n",
       "10      Delhi_Bangalore  2.783256  25.690801  13130.285064\n",
       "11        Delhi_Chennai  2.848963  24.755981  11628.027911\n",
       "12      Delhi_Hyderabad  2.222434  25.212310   9775.861687\n",
       "13        Delhi_Kolkata  2.195788  26.021343  11156.082863\n",
       "14         Delhi_Mumbai  2.213791  25.821438  11136.777284\n",
       "15  Hyderabad_Bangalore  1.238432  26.188889   3076.138272\n",
       "16    Hyderabad_Chennai  1.287792  27.607547   2677.586792\n",
       "17      Hyderabad_Delhi  2.263544  25.711648  10371.478693\n",
       "18    Hyderabad_Kolkata  2.041172  25.402020   6026.870707\n",
       "19     Hyderabad_Mumbai  1.530212  26.476821   7574.855629\n",
       "20    Kolkata_Bangalore  2.690802  26.279898   6277.475827\n",
       "21      Kolkata_Chennai  2.382144  25.367615   6814.096280\n",
       "22        Kolkata_Delhi  2.454752  26.201242  11354.091925\n",
       "23    Kolkata_Hyderabad  2.213538  26.081319   6135.819780\n",
       "24       Kolkata_Mumbai  2.847503  25.614815  10973.624339\n",
       "25     Mumbai_Bangalore  1.740825  26.665648   7369.560513\n",
       "26       Mumbai_Chennai  1.990201  26.056777   8975.697802\n",
       "27         Mumbai_Delhi  2.185311  25.963459  10969.784100\n",
       "28     Mumbai_Hyderabad  1.440362  25.918499   7232.047865\n",
       "29       Mumbai_Kolkata  2.644094  25.392283  10672.198285"
      ]
     },
     "execution_count": 280,
     "metadata": {},
     "output_type": "execute_result"
    }
   ],
   "source": [
    "direct_flights = df.loc[df['flight_type'] == 'Direct', ['destinations', 'duration', 'days_left', 'price', 'class']]\n",
    "direct_flights_means = direct_flights.groupby('destinations').mean().reset_index().drop_duplicates(subset='destinations')\n",
    "direct_flights_means"
   ]
  },
  {
   "cell_type": "code",
   "execution_count": 281,
   "metadata": {},
   "outputs": [
    {
     "data": {
      "text/plain": [
       "array(['Economy', 'Business'], dtype=object)"
      ]
     },
     "execution_count": 281,
     "metadata": {},
     "output_type": "execute_result"
    }
   ],
   "source": [
    "df.loc[df['flight_type'] == 'Non-Direct', 'class'].unique()"
   ]
  },
  {
   "cell_type": "code",
   "execution_count": 282,
   "metadata": {},
   "outputs": [
    {
     "data": {
      "text/html": [
       "<div>\n",
       "<style scoped>\n",
       "    .dataframe tbody tr th:only-of-type {\n",
       "        vertical-align: middle;\n",
       "    }\n",
       "\n",
       "    .dataframe tbody tr th {\n",
       "        vertical-align: top;\n",
       "    }\n",
       "\n",
       "    .dataframe thead th {\n",
       "        text-align: right;\n",
       "    }\n",
       "</style>\n",
       "<table border=\"1\" class=\"dataframe\">\n",
       "  <thead>\n",
       "    <tr style=\"text-align: right;\">\n",
       "      <th></th>\n",
       "      <th>destinations</th>\n",
       "      <th>duration</th>\n",
       "      <th>days_left</th>\n",
       "      <th>price</th>\n",
       "    </tr>\n",
       "  </thead>\n",
       "  <tbody>\n",
       "    <tr>\n",
       "      <th>0</th>\n",
       "      <td>Bangalore_Chennai</td>\n",
       "      <td>15.567782</td>\n",
       "      <td>26.534570</td>\n",
       "      <td>25021.053457</td>\n",
       "    </tr>\n",
       "    <tr>\n",
       "      <th>1</th>\n",
       "      <td>Bangalore_Delhi</td>\n",
       "      <td>11.121713</td>\n",
       "      <td>25.940840</td>\n",
       "      <td>18586.593850</td>\n",
       "    </tr>\n",
       "    <tr>\n",
       "      <th>2</th>\n",
       "      <td>Bangalore_Hyderabad</td>\n",
       "      <td>15.570181</td>\n",
       "      <td>26.085320</td>\n",
       "      <td>23204.449329</td>\n",
       "    </tr>\n",
       "    <tr>\n",
       "      <th>3</th>\n",
       "      <td>Bangalore_Kolkata</td>\n",
       "      <td>13.853546</td>\n",
       "      <td>25.762607</td>\n",
       "      <td>24836.357906</td>\n",
       "    </tr>\n",
       "    <tr>\n",
       "      <th>4</th>\n",
       "      <td>Bangalore_Mumbai</td>\n",
       "      <td>12.223098</td>\n",
       "      <td>25.613234</td>\n",
       "      <td>25386.307944</td>\n",
       "    </tr>\n",
       "    <tr>\n",
       "      <th>5</th>\n",
       "      <td>Chennai_Bangalore</td>\n",
       "      <td>14.906824</td>\n",
       "      <td>26.191958</td>\n",
       "      <td>26793.112361</td>\n",
       "    </tr>\n",
       "    <tr>\n",
       "      <th>6</th>\n",
       "      <td>Chennai_Delhi</td>\n",
       "      <td>12.346389</td>\n",
       "      <td>26.744683</td>\n",
       "      <td>19914.944847</td>\n",
       "    </tr>\n",
       "    <tr>\n",
       "      <th>7</th>\n",
       "      <td>Chennai_Hyderabad</td>\n",
       "      <td>14.297447</td>\n",
       "      <td>25.965164</td>\n",
       "      <td>23406.544622</td>\n",
       "    </tr>\n",
       "    <tr>\n",
       "      <th>8</th>\n",
       "      <td>Chennai_Kolkata</td>\n",
       "      <td>15.396680</td>\n",
       "      <td>25.831951</td>\n",
       "      <td>23896.173118</td>\n",
       "    </tr>\n",
       "    <tr>\n",
       "      <th>9</th>\n",
       "      <td>Chennai_Mumbai</td>\n",
       "      <td>13.751283</td>\n",
       "      <td>25.652438</td>\n",
       "      <td>24586.800024</td>\n",
       "    </tr>\n",
       "    <tr>\n",
       "      <th>10</th>\n",
       "      <td>Delhi_Bangalore</td>\n",
       "      <td>11.761169</td>\n",
       "      <td>25.910206</td>\n",
       "      <td>18762.989590</td>\n",
       "    </tr>\n",
       "    <tr>\n",
       "      <th>11</th>\n",
       "      <td>Delhi_Chennai</td>\n",
       "      <td>13.695732</td>\n",
       "      <td>26.499370</td>\n",
       "      <td>20389.016796</td>\n",
       "    </tr>\n",
       "    <tr>\n",
       "      <th>12</th>\n",
       "      <td>Delhi_Hyderabad</td>\n",
       "      <td>14.407197</td>\n",
       "      <td>26.517381</td>\n",
       "      <td>18736.311850</td>\n",
       "    </tr>\n",
       "    <tr>\n",
       "      <th>13</th>\n",
       "      <td>Delhi_Kolkata</td>\n",
       "      <td>14.359649</td>\n",
       "      <td>25.648390</td>\n",
       "      <td>22016.041969</td>\n",
       "    </tr>\n",
       "    <tr>\n",
       "      <th>14</th>\n",
       "      <td>Delhi_Mumbai</td>\n",
       "      <td>12.879966</td>\n",
       "      <td>25.830510</td>\n",
       "      <td>21888.068703</td>\n",
       "    </tr>\n",
       "    <tr>\n",
       "      <th>15</th>\n",
       "      <td>Hyderabad_Bangalore</td>\n",
       "      <td>13.341536</td>\n",
       "      <td>26.667235</td>\n",
       "      <td>23448.191936</td>\n",
       "    </tr>\n",
       "    <tr>\n",
       "      <th>16</th>\n",
       "      <td>Hyderabad_Chennai</td>\n",
       "      <td>14.378130</td>\n",
       "      <td>26.204774</td>\n",
       "      <td>23580.436658</td>\n",
       "    </tr>\n",
       "    <tr>\n",
       "      <th>17</th>\n",
       "      <td>Hyderabad_Delhi</td>\n",
       "      <td>12.529072</td>\n",
       "      <td>26.705692</td>\n",
       "      <td>18607.207664</td>\n",
       "    </tr>\n",
       "    <tr>\n",
       "      <th>18</th>\n",
       "      <td>Hyderabad_Kolkata</td>\n",
       "      <td>14.294746</td>\n",
       "      <td>26.398825</td>\n",
       "      <td>21801.539509</td>\n",
       "    </tr>\n",
       "    <tr>\n",
       "      <th>19</th>\n",
       "      <td>Hyderabad_Mumbai</td>\n",
       "      <td>12.809061</td>\n",
       "      <td>26.077667</td>\n",
       "      <td>21095.157052</td>\n",
       "    </tr>\n",
       "    <tr>\n",
       "      <th>20</th>\n",
       "      <td>Kolkata_Bangalore</td>\n",
       "      <td>14.758458</td>\n",
       "      <td>26.146161</td>\n",
       "      <td>24176.908829</td>\n",
       "    </tr>\n",
       "    <tr>\n",
       "      <th>21</th>\n",
       "      <td>Kolkata_Chennai</td>\n",
       "      <td>15.688184</td>\n",
       "      <td>25.718367</td>\n",
       "      <td>24902.895416</td>\n",
       "    </tr>\n",
       "    <tr>\n",
       "      <th>22</th>\n",
       "      <td>Kolkata_Delhi</td>\n",
       "      <td>13.261000</td>\n",
       "      <td>26.001799</td>\n",
       "      <td>20882.550472</td>\n",
       "    </tr>\n",
       "    <tr>\n",
       "      <th>23</th>\n",
       "      <td>Kolkata_Hyderabad</td>\n",
       "      <td>14.564745</td>\n",
       "      <td>25.936307</td>\n",
       "      <td>22439.370062</td>\n",
       "    </tr>\n",
       "    <tr>\n",
       "      <th>24</th>\n",
       "      <td>Kolkata_Mumbai</td>\n",
       "      <td>13.903022</td>\n",
       "      <td>26.148641</td>\n",
       "      <td>23076.267155</td>\n",
       "    </tr>\n",
       "    <tr>\n",
       "      <th>25</th>\n",
       "      <td>Mumbai_Bangalore</td>\n",
       "      <td>13.047642</td>\n",
       "      <td>25.551782</td>\n",
       "      <td>25442.595164</td>\n",
       "    </tr>\n",
       "    <tr>\n",
       "      <th>26</th>\n",
       "      <td>Mumbai_Chennai</td>\n",
       "      <td>13.955772</td>\n",
       "      <td>25.331379</td>\n",
       "      <td>24450.008409</td>\n",
       "    </tr>\n",
       "    <tr>\n",
       "      <th>27</th>\n",
       "      <td>Mumbai_Delhi</td>\n",
       "      <td>12.255993</td>\n",
       "      <td>26.103083</td>\n",
       "      <td>21202.475766</td>\n",
       "    </tr>\n",
       "    <tr>\n",
       "      <th>28</th>\n",
       "      <td>Mumbai_Hyderabad</td>\n",
       "      <td>14.205781</td>\n",
       "      <td>25.702382</td>\n",
       "      <td>22101.886769</td>\n",
       "    </tr>\n",
       "    <tr>\n",
       "      <th>29</th>\n",
       "      <td>Mumbai_Kolkata</td>\n",
       "      <td>13.651814</td>\n",
       "      <td>25.863142</td>\n",
       "      <td>23315.180907</td>\n",
       "    </tr>\n",
       "  </tbody>\n",
       "</table>\n",
       "</div>"
      ],
      "text/plain": [
       "           destinations   duration  days_left         price\n",
       "0     Bangalore_Chennai  15.567782  26.534570  25021.053457\n",
       "1       Bangalore_Delhi  11.121713  25.940840  18586.593850\n",
       "2   Bangalore_Hyderabad  15.570181  26.085320  23204.449329\n",
       "3     Bangalore_Kolkata  13.853546  25.762607  24836.357906\n",
       "4      Bangalore_Mumbai  12.223098  25.613234  25386.307944\n",
       "5     Chennai_Bangalore  14.906824  26.191958  26793.112361\n",
       "6         Chennai_Delhi  12.346389  26.744683  19914.944847\n",
       "7     Chennai_Hyderabad  14.297447  25.965164  23406.544622\n",
       "8       Chennai_Kolkata  15.396680  25.831951  23896.173118\n",
       "9        Chennai_Mumbai  13.751283  25.652438  24586.800024\n",
       "10      Delhi_Bangalore  11.761169  25.910206  18762.989590\n",
       "11        Delhi_Chennai  13.695732  26.499370  20389.016796\n",
       "12      Delhi_Hyderabad  14.407197  26.517381  18736.311850\n",
       "13        Delhi_Kolkata  14.359649  25.648390  22016.041969\n",
       "14         Delhi_Mumbai  12.879966  25.830510  21888.068703\n",
       "15  Hyderabad_Bangalore  13.341536  26.667235  23448.191936\n",
       "16    Hyderabad_Chennai  14.378130  26.204774  23580.436658\n",
       "17      Hyderabad_Delhi  12.529072  26.705692  18607.207664\n",
       "18    Hyderabad_Kolkata  14.294746  26.398825  21801.539509\n",
       "19     Hyderabad_Mumbai  12.809061  26.077667  21095.157052\n",
       "20    Kolkata_Bangalore  14.758458  26.146161  24176.908829\n",
       "21      Kolkata_Chennai  15.688184  25.718367  24902.895416\n",
       "22        Kolkata_Delhi  13.261000  26.001799  20882.550472\n",
       "23    Kolkata_Hyderabad  14.564745  25.936307  22439.370062\n",
       "24       Kolkata_Mumbai  13.903022  26.148641  23076.267155\n",
       "25     Mumbai_Bangalore  13.047642  25.551782  25442.595164\n",
       "26       Mumbai_Chennai  13.955772  25.331379  24450.008409\n",
       "27         Mumbai_Delhi  12.255993  26.103083  21202.475766\n",
       "28     Mumbai_Hyderabad  14.205781  25.702382  22101.886769\n",
       "29       Mumbai_Kolkata  13.651814  25.863142  23315.180907"
      ]
     },
     "execution_count": 282,
     "metadata": {},
     "output_type": "execute_result"
    }
   ],
   "source": [
    "non_direct_flights = df.loc[df['flight_type'] == 'Non-Direct', ['destinations', 'duration', 'days_left', 'price', 'class']]\n",
    "non_direct_flights_means = non_direct_flights.groupby('destinations').mean().reset_index().drop_duplicates(subset='destinations')\n",
    "non_direct_flights_means"
   ]
  },
  {
   "cell_type": "code",
   "execution_count": 283,
   "metadata": {},
   "outputs": [
    {
     "data": {
      "application/vnd.plotly.v1+json": {
       "config": {
        "plotlyServerURL": "https://plot.ly"
       },
       "data": [
        {
         "customdata": [
          [
           "Bangalore_Chennai",
           26.875
          ],
          [
           "Bangalore_Delhi",
           25.745816372682043
          ],
          [
           "Bangalore_Hyderabad",
           25.409817351598175
          ],
          [
           "Bangalore_Kolkata",
           27.568862275449103
          ],
          [
           "Bangalore_Mumbai",
           26.433639143730886
          ],
          [
           "Chennai_Bangalore",
           27.377777777777776
          ],
          [
           "Chennai_Delhi",
           25.306122448979593
          ],
          [
           "Chennai_Hyderabad",
           27.215355805243444
          ],
          [
           "Chennai_Kolkata",
           25.526427061310784
          ],
          [
           "Chennai_Mumbai",
           26.11996336996337
          ],
          [
           "Delhi_Bangalore",
           25.6908014571949
          ],
          [
           "Delhi_Chennai",
           24.75598086124402
          ],
          [
           "Delhi_Hyderabad",
           25.21230982019364
          ],
          [
           "Delhi_Kolkata",
           26.02134337727558
          ],
          [
           "Delhi_Mumbai",
           25.821438489308527
          ],
          [
           "Hyderabad_Bangalore",
           26.18888888888889
          ],
          [
           "Hyderabad_Chennai",
           27.60754716981132
          ],
          [
           "Hyderabad_Delhi",
           25.711647727272727
          ],
          [
           "Hyderabad_Kolkata",
           25.402020202020203
          ],
          [
           "Hyderabad_Mumbai",
           26.47682119205298
          ],
          [
           "Kolkata_Bangalore",
           26.279898218829516
          ],
          [
           "Kolkata_Chennai",
           25.367614879649892
          ],
          [
           "Kolkata_Delhi",
           26.201242236024846
          ],
          [
           "Kolkata_Hyderabad",
           26.08131868131868
          ],
          [
           "Kolkata_Mumbai",
           25.614814814814814
          ],
          [
           "Mumbai_Bangalore",
           26.665647921760392
          ],
          [
           "Mumbai_Chennai",
           26.05677655677656
          ],
          [
           "Mumbai_Delhi",
           25.963458856345884
          ],
          [
           "Mumbai_Hyderabad",
           25.91849935316947
          ],
          [
           "Mumbai_Kolkata",
           25.392282958199356
          ]
         ],
         "hovertemplate": "flight_type=Direct<br>duration=%{x}<br>price=%{y}<br>destinations=%{customdata[0]}<br>days_left=%{customdata[1]}<extra></extra>",
         "legendgroup": "Direct",
         "marker": {
          "color": "#636efa",
          "symbol": "circle"
         },
         "mode": "markers",
         "name": "Direct",
         "orientation": "v",
         "showlegend": true,
         "type": "scatter",
         "x": [
          1.044125,
          2.7738082315694257,
          1.222716894977169,
          2.5284730538922155,
          1.7925565749235473,
          1.1383333333333334,
          2.786881632653061,
          1.2290074906367041,
          2.3916701902748416,
          1.9793589743589743,
          2.7832559198542803,
          2.84896331738437,
          2.2224343015214383,
          2.195787821720025,
          2.2137906137184116,
          1.238432098765432,
          1.2877924528301887,
          2.263544034090909,
          2.041171717171717,
          1.5302119205298013,
          2.690801526717557,
          2.3821444201312914,
          2.454751552795031,
          2.2135384615384615,
          2.8475026455026455,
          1.7408251833740833,
          1.9902014652014655,
          2.185311018131102,
          1.4403622250970247,
          2.6440943193997857
         ],
         "xaxis": "x",
         "y": [
          2329.608333333333,
          13215.595205789235,
          3041.7625570776254,
          4775.904191616766,
          7519.4935779816515,
          2101.5044444444443,
          12463.246530612245,
          2660.9250936329586,
          5792.919661733616,
          9015.339743589744,
          13130.285063752277,
          11628.027910685805,
          9775.861687413555,
          11156.08286252354,
          11136.777284087753,
          3076.1382716049384,
          2677.58679245283,
          10371.478693181818,
          6026.870707070707,
          7574.855629139073,
          6277.4758269720105,
          6814.096280087528,
          11354.091925465838,
          6135.81978021978,
          10973.624338624339,
          7369.560513447433,
          8975.697802197803,
          10969.78410041841,
          7232.04786545925,
          10672.198285101822
         ],
         "yaxis": "y"
        },
        {
         "customdata": [
          [
           "Bangalore_Chennai",
           26.534569983136592
          ],
          [
           "Bangalore_Delhi",
           25.940840190558685
          ],
          [
           "Bangalore_Hyderabad",
           26.08532041728763
          ],
          [
           "Bangalore_Kolkata",
           25.76260683760684
          ],
          [
           "Bangalore_Mumbai",
           25.613234253361643
          ],
          [
           "Chennai_Bangalore",
           26.191957636935296
          ],
          [
           "Chennai_Delhi",
           26.744683337228324
          ],
          [
           "Chennai_Hyderabad",
           25.96516430238822
          ],
          [
           "Chennai_Kolkata",
           25.83195084485407
          ],
          [
           "Chennai_Mumbai",
           25.652437545476594
          ],
          [
           "Delhi_Bangalore",
           25.910206499661477
          ],
          [
           "Delhi_Chennai",
           26.49937014486668
          ],
          [
           "Delhi_Hyderabad",
           26.51738137528546
          ],
          [
           "Delhi_Kolkata",
           25.64838990426458
          ],
          [
           "Delhi_Mumbai",
           25.830509924709105
          ],
          [
           "Hyderabad_Bangalore",
           26.667234525837593
          ],
          [
           "Hyderabad_Chennai",
           26.20477408354646
          ],
          [
           "Hyderabad_Delhi",
           26.70569174415328
          ],
          [
           "Hyderabad_Kolkata",
           26.39882541377469
          ],
          [
           "Hyderabad_Mumbai",
           26.07766677408959
          ],
          [
           "Kolkata_Bangalore",
           26.14616065501217
          ],
          [
           "Kolkata_Chennai",
           25.718366688185927
          ],
          [
           "Kolkata_Delhi",
           26.00179856115108
          ],
          [
           "Kolkata_Hyderabad",
           25.93630744423542
          ],
          [
           "Kolkata_Mumbai",
           26.148640942786542
          ],
          [
           "Mumbai_Bangalore",
           25.551782380656057
          ],
          [
           "Mumbai_Chennai",
           25.33137862358929
          ],
          [
           "Mumbai_Delhi",
           26.10308267997149
          ],
          [
           "Mumbai_Hyderabad",
           25.702382180055686
          ],
          [
           "Mumbai_Kolkata",
           25.86314165738281
          ]
         ],
         "hovertemplate": "flight_type=Non-Direct<br>duration=%{x}<br>price=%{y}<br>destinations=%{customdata[0]}<br>days_left=%{customdata[1]}<extra></extra>",
         "legendgroup": "Non-Direct",
         "marker": {
          "color": "#EF553B",
          "symbol": "circle"
         },
         "mode": "markers",
         "name": "Non-Direct",
         "orientation": "v",
         "showlegend": true,
         "type": "scatter",
         "x": [
          15.567782462057336,
          11.121713295799047,
          15.57018132141083,
          13.85354594017094,
          12.223098018400565,
          14.906824424954493,
          12.34638934330451,
          14.297446579278146,
          15.396680491551459,
          13.751283046325492,
          11.76116875423155,
          13.695731681713205,
          14.40719741182441,
          14.359648970118945,
          12.879965776865161,
          13.341536059057354,
          14.37812958226769,
          12.529071569456185,
          14.294746396155901,
          12.809061123643787,
          14.758457623368002,
          15.688184312459653,
          13.261000449640289,
          14.56474469228702,
          13.90302223911804,
          13.047641568139392,
          13.955772294755477,
          12.25599340698503,
          14.205781169433845,
          13.651814208586853
         ],
         "xaxis": "x",
         "y": [
          25021.053456998314,
          18586.59385015158,
          23204.449329359166,
          24836.357905982906,
          25386.307944090586,
          26793.112361409894,
          19914.944846926854,
          23406.544622014724,
          23896.17311827957,
          24586.800024254182,
          18762.989590385918,
          20389.01679613689,
          18736.311849784317,
          22016.041968861813,
          21888.06870294319,
          23448.191936399773,
          23580.436658141516,
          18607.20766413074,
          21801.539508809397,
          21095.157052314964,
          24176.908829387034,
          24902.895416397674,
          20882.5504721223,
          22439.37006181134,
          23076.267154533358,
          25442.59516401458,
          24450.00840894003,
          21202.47576621525,
          22101.886769103847,
          23315.180906675807
         ],
         "yaxis": "y"
        }
       ],
       "layout": {
        "legend": {
         "title": {
          "text": "flight_type"
         },
         "tracegroupgap": 0
        },
        "template": {
         "data": {
          "bar": [
           {
            "error_x": {
             "color": "#2a3f5f"
            },
            "error_y": {
             "color": "#2a3f5f"
            },
            "marker": {
             "line": {
              "color": "#E5ECF6",
              "width": 0.5
             },
             "pattern": {
              "fillmode": "overlay",
              "size": 10,
              "solidity": 0.2
             }
            },
            "type": "bar"
           }
          ],
          "barpolar": [
           {
            "marker": {
             "line": {
              "color": "#E5ECF6",
              "width": 0.5
             },
             "pattern": {
              "fillmode": "overlay",
              "size": 10,
              "solidity": 0.2
             }
            },
            "type": "barpolar"
           }
          ],
          "carpet": [
           {
            "aaxis": {
             "endlinecolor": "#2a3f5f",
             "gridcolor": "white",
             "linecolor": "white",
             "minorgridcolor": "white",
             "startlinecolor": "#2a3f5f"
            },
            "baxis": {
             "endlinecolor": "#2a3f5f",
             "gridcolor": "white",
             "linecolor": "white",
             "minorgridcolor": "white",
             "startlinecolor": "#2a3f5f"
            },
            "type": "carpet"
           }
          ],
          "choropleth": [
           {
            "colorbar": {
             "outlinewidth": 0,
             "ticks": ""
            },
            "type": "choropleth"
           }
          ],
          "contour": [
           {
            "colorbar": {
             "outlinewidth": 0,
             "ticks": ""
            },
            "colorscale": [
             [
              0,
              "#0d0887"
             ],
             [
              0.1111111111111111,
              "#46039f"
             ],
             [
              0.2222222222222222,
              "#7201a8"
             ],
             [
              0.3333333333333333,
              "#9c179e"
             ],
             [
              0.4444444444444444,
              "#bd3786"
             ],
             [
              0.5555555555555556,
              "#d8576b"
             ],
             [
              0.6666666666666666,
              "#ed7953"
             ],
             [
              0.7777777777777778,
              "#fb9f3a"
             ],
             [
              0.8888888888888888,
              "#fdca26"
             ],
             [
              1,
              "#f0f921"
             ]
            ],
            "type": "contour"
           }
          ],
          "contourcarpet": [
           {
            "colorbar": {
             "outlinewidth": 0,
             "ticks": ""
            },
            "type": "contourcarpet"
           }
          ],
          "heatmap": [
           {
            "colorbar": {
             "outlinewidth": 0,
             "ticks": ""
            },
            "colorscale": [
             [
              0,
              "#0d0887"
             ],
             [
              0.1111111111111111,
              "#46039f"
             ],
             [
              0.2222222222222222,
              "#7201a8"
             ],
             [
              0.3333333333333333,
              "#9c179e"
             ],
             [
              0.4444444444444444,
              "#bd3786"
             ],
             [
              0.5555555555555556,
              "#d8576b"
             ],
             [
              0.6666666666666666,
              "#ed7953"
             ],
             [
              0.7777777777777778,
              "#fb9f3a"
             ],
             [
              0.8888888888888888,
              "#fdca26"
             ],
             [
              1,
              "#f0f921"
             ]
            ],
            "type": "heatmap"
           }
          ],
          "heatmapgl": [
           {
            "colorbar": {
             "outlinewidth": 0,
             "ticks": ""
            },
            "colorscale": [
             [
              0,
              "#0d0887"
             ],
             [
              0.1111111111111111,
              "#46039f"
             ],
             [
              0.2222222222222222,
              "#7201a8"
             ],
             [
              0.3333333333333333,
              "#9c179e"
             ],
             [
              0.4444444444444444,
              "#bd3786"
             ],
             [
              0.5555555555555556,
              "#d8576b"
             ],
             [
              0.6666666666666666,
              "#ed7953"
             ],
             [
              0.7777777777777778,
              "#fb9f3a"
             ],
             [
              0.8888888888888888,
              "#fdca26"
             ],
             [
              1,
              "#f0f921"
             ]
            ],
            "type": "heatmapgl"
           }
          ],
          "histogram": [
           {
            "marker": {
             "pattern": {
              "fillmode": "overlay",
              "size": 10,
              "solidity": 0.2
             }
            },
            "type": "histogram"
           }
          ],
          "histogram2d": [
           {
            "colorbar": {
             "outlinewidth": 0,
             "ticks": ""
            },
            "colorscale": [
             [
              0,
              "#0d0887"
             ],
             [
              0.1111111111111111,
              "#46039f"
             ],
             [
              0.2222222222222222,
              "#7201a8"
             ],
             [
              0.3333333333333333,
              "#9c179e"
             ],
             [
              0.4444444444444444,
              "#bd3786"
             ],
             [
              0.5555555555555556,
              "#d8576b"
             ],
             [
              0.6666666666666666,
              "#ed7953"
             ],
             [
              0.7777777777777778,
              "#fb9f3a"
             ],
             [
              0.8888888888888888,
              "#fdca26"
             ],
             [
              1,
              "#f0f921"
             ]
            ],
            "type": "histogram2d"
           }
          ],
          "histogram2dcontour": [
           {
            "colorbar": {
             "outlinewidth": 0,
             "ticks": ""
            },
            "colorscale": [
             [
              0,
              "#0d0887"
             ],
             [
              0.1111111111111111,
              "#46039f"
             ],
             [
              0.2222222222222222,
              "#7201a8"
             ],
             [
              0.3333333333333333,
              "#9c179e"
             ],
             [
              0.4444444444444444,
              "#bd3786"
             ],
             [
              0.5555555555555556,
              "#d8576b"
             ],
             [
              0.6666666666666666,
              "#ed7953"
             ],
             [
              0.7777777777777778,
              "#fb9f3a"
             ],
             [
              0.8888888888888888,
              "#fdca26"
             ],
             [
              1,
              "#f0f921"
             ]
            ],
            "type": "histogram2dcontour"
           }
          ],
          "mesh3d": [
           {
            "colorbar": {
             "outlinewidth": 0,
             "ticks": ""
            },
            "type": "mesh3d"
           }
          ],
          "parcoords": [
           {
            "line": {
             "colorbar": {
              "outlinewidth": 0,
              "ticks": ""
             }
            },
            "type": "parcoords"
           }
          ],
          "pie": [
           {
            "automargin": true,
            "type": "pie"
           }
          ],
          "scatter": [
           {
            "fillpattern": {
             "fillmode": "overlay",
             "size": 10,
             "solidity": 0.2
            },
            "type": "scatter"
           }
          ],
          "scatter3d": [
           {
            "line": {
             "colorbar": {
              "outlinewidth": 0,
              "ticks": ""
             }
            },
            "marker": {
             "colorbar": {
              "outlinewidth": 0,
              "ticks": ""
             }
            },
            "type": "scatter3d"
           }
          ],
          "scattercarpet": [
           {
            "marker": {
             "colorbar": {
              "outlinewidth": 0,
              "ticks": ""
             }
            },
            "type": "scattercarpet"
           }
          ],
          "scattergeo": [
           {
            "marker": {
             "colorbar": {
              "outlinewidth": 0,
              "ticks": ""
             }
            },
            "type": "scattergeo"
           }
          ],
          "scattergl": [
           {
            "marker": {
             "colorbar": {
              "outlinewidth": 0,
              "ticks": ""
             }
            },
            "type": "scattergl"
           }
          ],
          "scattermapbox": [
           {
            "marker": {
             "colorbar": {
              "outlinewidth": 0,
              "ticks": ""
             }
            },
            "type": "scattermapbox"
           }
          ],
          "scatterpolar": [
           {
            "marker": {
             "colorbar": {
              "outlinewidth": 0,
              "ticks": ""
             }
            },
            "type": "scatterpolar"
           }
          ],
          "scatterpolargl": [
           {
            "marker": {
             "colorbar": {
              "outlinewidth": 0,
              "ticks": ""
             }
            },
            "type": "scatterpolargl"
           }
          ],
          "scatterternary": [
           {
            "marker": {
             "colorbar": {
              "outlinewidth": 0,
              "ticks": ""
             }
            },
            "type": "scatterternary"
           }
          ],
          "surface": [
           {
            "colorbar": {
             "outlinewidth": 0,
             "ticks": ""
            },
            "colorscale": [
             [
              0,
              "#0d0887"
             ],
             [
              0.1111111111111111,
              "#46039f"
             ],
             [
              0.2222222222222222,
              "#7201a8"
             ],
             [
              0.3333333333333333,
              "#9c179e"
             ],
             [
              0.4444444444444444,
              "#bd3786"
             ],
             [
              0.5555555555555556,
              "#d8576b"
             ],
             [
              0.6666666666666666,
              "#ed7953"
             ],
             [
              0.7777777777777778,
              "#fb9f3a"
             ],
             [
              0.8888888888888888,
              "#fdca26"
             ],
             [
              1,
              "#f0f921"
             ]
            ],
            "type": "surface"
           }
          ],
          "table": [
           {
            "cells": {
             "fill": {
              "color": "#EBF0F8"
             },
             "line": {
              "color": "white"
             }
            },
            "header": {
             "fill": {
              "color": "#C8D4E3"
             },
             "line": {
              "color": "white"
             }
            },
            "type": "table"
           }
          ]
         },
         "layout": {
          "annotationdefaults": {
           "arrowcolor": "#2a3f5f",
           "arrowhead": 0,
           "arrowwidth": 1
          },
          "autotypenumbers": "strict",
          "coloraxis": {
           "colorbar": {
            "outlinewidth": 0,
            "ticks": ""
           }
          },
          "colorscale": {
           "diverging": [
            [
             0,
             "#8e0152"
            ],
            [
             0.1,
             "#c51b7d"
            ],
            [
             0.2,
             "#de77ae"
            ],
            [
             0.3,
             "#f1b6da"
            ],
            [
             0.4,
             "#fde0ef"
            ],
            [
             0.5,
             "#f7f7f7"
            ],
            [
             0.6,
             "#e6f5d0"
            ],
            [
             0.7,
             "#b8e186"
            ],
            [
             0.8,
             "#7fbc41"
            ],
            [
             0.9,
             "#4d9221"
            ],
            [
             1,
             "#276419"
            ]
           ],
           "sequential": [
            [
             0,
             "#0d0887"
            ],
            [
             0.1111111111111111,
             "#46039f"
            ],
            [
             0.2222222222222222,
             "#7201a8"
            ],
            [
             0.3333333333333333,
             "#9c179e"
            ],
            [
             0.4444444444444444,
             "#bd3786"
            ],
            [
             0.5555555555555556,
             "#d8576b"
            ],
            [
             0.6666666666666666,
             "#ed7953"
            ],
            [
             0.7777777777777778,
             "#fb9f3a"
            ],
            [
             0.8888888888888888,
             "#fdca26"
            ],
            [
             1,
             "#f0f921"
            ]
           ],
           "sequentialminus": [
            [
             0,
             "#0d0887"
            ],
            [
             0.1111111111111111,
             "#46039f"
            ],
            [
             0.2222222222222222,
             "#7201a8"
            ],
            [
             0.3333333333333333,
             "#9c179e"
            ],
            [
             0.4444444444444444,
             "#bd3786"
            ],
            [
             0.5555555555555556,
             "#d8576b"
            ],
            [
             0.6666666666666666,
             "#ed7953"
            ],
            [
             0.7777777777777778,
             "#fb9f3a"
            ],
            [
             0.8888888888888888,
             "#fdca26"
            ],
            [
             1,
             "#f0f921"
            ]
           ]
          },
          "colorway": [
           "#636efa",
           "#EF553B",
           "#00cc96",
           "#ab63fa",
           "#FFA15A",
           "#19d3f3",
           "#FF6692",
           "#B6E880",
           "#FF97FF",
           "#FECB52"
          ],
          "font": {
           "color": "#2a3f5f"
          },
          "geo": {
           "bgcolor": "white",
           "lakecolor": "white",
           "landcolor": "#E5ECF6",
           "showlakes": true,
           "showland": true,
           "subunitcolor": "white"
          },
          "hoverlabel": {
           "align": "left"
          },
          "hovermode": "closest",
          "mapbox": {
           "style": "light"
          },
          "paper_bgcolor": "white",
          "plot_bgcolor": "#E5ECF6",
          "polar": {
           "angularaxis": {
            "gridcolor": "white",
            "linecolor": "white",
            "ticks": ""
           },
           "bgcolor": "#E5ECF6",
           "radialaxis": {
            "gridcolor": "white",
            "linecolor": "white",
            "ticks": ""
           }
          },
          "scene": {
           "xaxis": {
            "backgroundcolor": "#E5ECF6",
            "gridcolor": "white",
            "gridwidth": 2,
            "linecolor": "white",
            "showbackground": true,
            "ticks": "",
            "zerolinecolor": "white"
           },
           "yaxis": {
            "backgroundcolor": "#E5ECF6",
            "gridcolor": "white",
            "gridwidth": 2,
            "linecolor": "white",
            "showbackground": true,
            "ticks": "",
            "zerolinecolor": "white"
           },
           "zaxis": {
            "backgroundcolor": "#E5ECF6",
            "gridcolor": "white",
            "gridwidth": 2,
            "linecolor": "white",
            "showbackground": true,
            "ticks": "",
            "zerolinecolor": "white"
           }
          },
          "shapedefaults": {
           "line": {
            "color": "#2a3f5f"
           }
          },
          "ternary": {
           "aaxis": {
            "gridcolor": "white",
            "linecolor": "white",
            "ticks": ""
           },
           "baxis": {
            "gridcolor": "white",
            "linecolor": "white",
            "ticks": ""
           },
           "bgcolor": "#E5ECF6",
           "caxis": {
            "gridcolor": "white",
            "linecolor": "white",
            "ticks": ""
           }
          },
          "title": {
           "x": 0.05
          },
          "xaxis": {
           "automargin": true,
           "gridcolor": "white",
           "linecolor": "white",
           "ticks": "",
           "title": {
            "standoff": 15
           },
           "zerolinecolor": "white",
           "zerolinewidth": 2
          },
          "yaxis": {
           "automargin": true,
           "gridcolor": "white",
           "linecolor": "white",
           "ticks": "",
           "title": {
            "standoff": 15
           },
           "zerolinecolor": "white",
           "zerolinewidth": 2
          }
         }
        },
        "title": {
         "text": "Flight Prices vs Durations by Type"
        },
        "xaxis": {
         "anchor": "y",
         "domain": [
          0,
          1
         ],
         "title": {
          "text": "duration"
         }
        },
        "yaxis": {
         "anchor": "x",
         "domain": [
          0,
          1
         ],
         "title": {
          "text": "price"
         }
        }
       }
      },
      "text/html": [
       "<div>                            <div id=\"6664b2bd-9169-4ce3-95c1-4fd8a162abdb\" class=\"plotly-graph-div\" style=\"height:525px; width:100%;\"></div>            <script type=\"text/javascript\">                require([\"plotly\"], function(Plotly) {                    window.PLOTLYENV=window.PLOTLYENV || {};                                    if (document.getElementById(\"6664b2bd-9169-4ce3-95c1-4fd8a162abdb\")) {                    Plotly.newPlot(                        \"6664b2bd-9169-4ce3-95c1-4fd8a162abdb\",                        [{\"customdata\":[[\"Bangalore_Chennai\",26.875],[\"Bangalore_Delhi\",25.745816372682043],[\"Bangalore_Hyderabad\",25.409817351598175],[\"Bangalore_Kolkata\",27.568862275449103],[\"Bangalore_Mumbai\",26.433639143730886],[\"Chennai_Bangalore\",27.377777777777776],[\"Chennai_Delhi\",25.306122448979593],[\"Chennai_Hyderabad\",27.215355805243444],[\"Chennai_Kolkata\",25.526427061310784],[\"Chennai_Mumbai\",26.11996336996337],[\"Delhi_Bangalore\",25.6908014571949],[\"Delhi_Chennai\",24.75598086124402],[\"Delhi_Hyderabad\",25.21230982019364],[\"Delhi_Kolkata\",26.02134337727558],[\"Delhi_Mumbai\",25.821438489308527],[\"Hyderabad_Bangalore\",26.18888888888889],[\"Hyderabad_Chennai\",27.60754716981132],[\"Hyderabad_Delhi\",25.711647727272727],[\"Hyderabad_Kolkata\",25.402020202020203],[\"Hyderabad_Mumbai\",26.47682119205298],[\"Kolkata_Bangalore\",26.279898218829516],[\"Kolkata_Chennai\",25.367614879649892],[\"Kolkata_Delhi\",26.201242236024846],[\"Kolkata_Hyderabad\",26.08131868131868],[\"Kolkata_Mumbai\",25.614814814814814],[\"Mumbai_Bangalore\",26.665647921760392],[\"Mumbai_Chennai\",26.05677655677656],[\"Mumbai_Delhi\",25.963458856345884],[\"Mumbai_Hyderabad\",25.91849935316947],[\"Mumbai_Kolkata\",25.392282958199356]],\"hovertemplate\":\"flight_type=Direct<br>duration=%{x}<br>price=%{y}<br>destinations=%{customdata[0]}<br>days_left=%{customdata[1]}<extra></extra>\",\"legendgroup\":\"Direct\",\"marker\":{\"color\":\"#636efa\",\"symbol\":\"circle\"},\"mode\":\"markers\",\"name\":\"Direct\",\"orientation\":\"v\",\"showlegend\":true,\"x\":[1.044125,2.7738082315694257,1.222716894977169,2.5284730538922155,1.7925565749235473,1.1383333333333334,2.786881632653061,1.2290074906367041,2.3916701902748416,1.9793589743589743,2.7832559198542803,2.84896331738437,2.2224343015214383,2.195787821720025,2.2137906137184116,1.238432098765432,1.2877924528301887,2.263544034090909,2.041171717171717,1.5302119205298013,2.690801526717557,2.3821444201312914,2.454751552795031,2.2135384615384615,2.8475026455026455,1.7408251833740833,1.9902014652014655,2.185311018131102,1.4403622250970247,2.6440943193997857],\"xaxis\":\"x\",\"y\":[2329.608333333333,13215.595205789235,3041.7625570776254,4775.904191616766,7519.4935779816515,2101.5044444444443,12463.246530612245,2660.9250936329586,5792.919661733616,9015.339743589744,13130.285063752277,11628.027910685805,9775.861687413555,11156.08286252354,11136.777284087753,3076.1382716049384,2677.58679245283,10371.478693181818,6026.870707070707,7574.855629139073,6277.4758269720105,6814.096280087528,11354.091925465838,6135.81978021978,10973.624338624339,7369.560513447433,8975.697802197803,10969.78410041841,7232.04786545925,10672.198285101822],\"yaxis\":\"y\",\"type\":\"scatter\"},{\"customdata\":[[\"Bangalore_Chennai\",26.534569983136592],[\"Bangalore_Delhi\",25.940840190558685],[\"Bangalore_Hyderabad\",26.08532041728763],[\"Bangalore_Kolkata\",25.76260683760684],[\"Bangalore_Mumbai\",25.613234253361643],[\"Chennai_Bangalore\",26.191957636935296],[\"Chennai_Delhi\",26.744683337228324],[\"Chennai_Hyderabad\",25.96516430238822],[\"Chennai_Kolkata\",25.83195084485407],[\"Chennai_Mumbai\",25.652437545476594],[\"Delhi_Bangalore\",25.910206499661477],[\"Delhi_Chennai\",26.49937014486668],[\"Delhi_Hyderabad\",26.51738137528546],[\"Delhi_Kolkata\",25.64838990426458],[\"Delhi_Mumbai\",25.830509924709105],[\"Hyderabad_Bangalore\",26.667234525837593],[\"Hyderabad_Chennai\",26.20477408354646],[\"Hyderabad_Delhi\",26.70569174415328],[\"Hyderabad_Kolkata\",26.39882541377469],[\"Hyderabad_Mumbai\",26.07766677408959],[\"Kolkata_Bangalore\",26.14616065501217],[\"Kolkata_Chennai\",25.718366688185927],[\"Kolkata_Delhi\",26.00179856115108],[\"Kolkata_Hyderabad\",25.93630744423542],[\"Kolkata_Mumbai\",26.148640942786542],[\"Mumbai_Bangalore\",25.551782380656057],[\"Mumbai_Chennai\",25.33137862358929],[\"Mumbai_Delhi\",26.10308267997149],[\"Mumbai_Hyderabad\",25.702382180055686],[\"Mumbai_Kolkata\",25.86314165738281]],\"hovertemplate\":\"flight_type=Non-Direct<br>duration=%{x}<br>price=%{y}<br>destinations=%{customdata[0]}<br>days_left=%{customdata[1]}<extra></extra>\",\"legendgroup\":\"Non-Direct\",\"marker\":{\"color\":\"#EF553B\",\"symbol\":\"circle\"},\"mode\":\"markers\",\"name\":\"Non-Direct\",\"orientation\":\"v\",\"showlegend\":true,\"x\":[15.567782462057336,11.121713295799047,15.57018132141083,13.85354594017094,12.223098018400565,14.906824424954493,12.34638934330451,14.297446579278146,15.396680491551459,13.751283046325492,11.76116875423155,13.695731681713205,14.40719741182441,14.359648970118945,12.879965776865161,13.341536059057354,14.37812958226769,12.529071569456185,14.294746396155901,12.809061123643787,14.758457623368002,15.688184312459653,13.261000449640289,14.56474469228702,13.90302223911804,13.047641568139392,13.955772294755477,12.25599340698503,14.205781169433845,13.651814208586853],\"xaxis\":\"x\",\"y\":[25021.053456998314,18586.59385015158,23204.449329359166,24836.357905982906,25386.307944090586,26793.112361409894,19914.944846926854,23406.544622014724,23896.17311827957,24586.800024254182,18762.989590385918,20389.01679613689,18736.311849784317,22016.041968861813,21888.06870294319,23448.191936399773,23580.436658141516,18607.20766413074,21801.539508809397,21095.157052314964,24176.908829387034,24902.895416397674,20882.5504721223,22439.37006181134,23076.267154533358,25442.59516401458,24450.00840894003,21202.47576621525,22101.886769103847,23315.180906675807],\"yaxis\":\"y\",\"type\":\"scatter\"}],                        {\"template\":{\"data\":{\"histogram2dcontour\":[{\"type\":\"histogram2dcontour\",\"colorbar\":{\"outlinewidth\":0,\"ticks\":\"\"},\"colorscale\":[[0.0,\"#0d0887\"],[0.1111111111111111,\"#46039f\"],[0.2222222222222222,\"#7201a8\"],[0.3333333333333333,\"#9c179e\"],[0.4444444444444444,\"#bd3786\"],[0.5555555555555556,\"#d8576b\"],[0.6666666666666666,\"#ed7953\"],[0.7777777777777778,\"#fb9f3a\"],[0.8888888888888888,\"#fdca26\"],[1.0,\"#f0f921\"]]}],\"choropleth\":[{\"type\":\"choropleth\",\"colorbar\":{\"outlinewidth\":0,\"ticks\":\"\"}}],\"histogram2d\":[{\"type\":\"histogram2d\",\"colorbar\":{\"outlinewidth\":0,\"ticks\":\"\"},\"colorscale\":[[0.0,\"#0d0887\"],[0.1111111111111111,\"#46039f\"],[0.2222222222222222,\"#7201a8\"],[0.3333333333333333,\"#9c179e\"],[0.4444444444444444,\"#bd3786\"],[0.5555555555555556,\"#d8576b\"],[0.6666666666666666,\"#ed7953\"],[0.7777777777777778,\"#fb9f3a\"],[0.8888888888888888,\"#fdca26\"],[1.0,\"#f0f921\"]]}],\"heatmap\":[{\"type\":\"heatmap\",\"colorbar\":{\"outlinewidth\":0,\"ticks\":\"\"},\"colorscale\":[[0.0,\"#0d0887\"],[0.1111111111111111,\"#46039f\"],[0.2222222222222222,\"#7201a8\"],[0.3333333333333333,\"#9c179e\"],[0.4444444444444444,\"#bd3786\"],[0.5555555555555556,\"#d8576b\"],[0.6666666666666666,\"#ed7953\"],[0.7777777777777778,\"#fb9f3a\"],[0.8888888888888888,\"#fdca26\"],[1.0,\"#f0f921\"]]}],\"heatmapgl\":[{\"type\":\"heatmapgl\",\"colorbar\":{\"outlinewidth\":0,\"ticks\":\"\"},\"colorscale\":[[0.0,\"#0d0887\"],[0.1111111111111111,\"#46039f\"],[0.2222222222222222,\"#7201a8\"],[0.3333333333333333,\"#9c179e\"],[0.4444444444444444,\"#bd3786\"],[0.5555555555555556,\"#d8576b\"],[0.6666666666666666,\"#ed7953\"],[0.7777777777777778,\"#fb9f3a\"],[0.8888888888888888,\"#fdca26\"],[1.0,\"#f0f921\"]]}],\"contourcarpet\":[{\"type\":\"contourcarpet\",\"colorbar\":{\"outlinewidth\":0,\"ticks\":\"\"}}],\"contour\":[{\"type\":\"contour\",\"colorbar\":{\"outlinewidth\":0,\"ticks\":\"\"},\"colorscale\":[[0.0,\"#0d0887\"],[0.1111111111111111,\"#46039f\"],[0.2222222222222222,\"#7201a8\"],[0.3333333333333333,\"#9c179e\"],[0.4444444444444444,\"#bd3786\"],[0.5555555555555556,\"#d8576b\"],[0.6666666666666666,\"#ed7953\"],[0.7777777777777778,\"#fb9f3a\"],[0.8888888888888888,\"#fdca26\"],[1.0,\"#f0f921\"]]}],\"surface\":[{\"type\":\"surface\",\"colorbar\":{\"outlinewidth\":0,\"ticks\":\"\"},\"colorscale\":[[0.0,\"#0d0887\"],[0.1111111111111111,\"#46039f\"],[0.2222222222222222,\"#7201a8\"],[0.3333333333333333,\"#9c179e\"],[0.4444444444444444,\"#bd3786\"],[0.5555555555555556,\"#d8576b\"],[0.6666666666666666,\"#ed7953\"],[0.7777777777777778,\"#fb9f3a\"],[0.8888888888888888,\"#fdca26\"],[1.0,\"#f0f921\"]]}],\"mesh3d\":[{\"type\":\"mesh3d\",\"colorbar\":{\"outlinewidth\":0,\"ticks\":\"\"}}],\"scatter\":[{\"fillpattern\":{\"fillmode\":\"overlay\",\"size\":10,\"solidity\":0.2},\"type\":\"scatter\"}],\"parcoords\":[{\"type\":\"parcoords\",\"line\":{\"colorbar\":{\"outlinewidth\":0,\"ticks\":\"\"}}}],\"scatterpolargl\":[{\"type\":\"scatterpolargl\",\"marker\":{\"colorbar\":{\"outlinewidth\":0,\"ticks\":\"\"}}}],\"bar\":[{\"error_x\":{\"color\":\"#2a3f5f\"},\"error_y\":{\"color\":\"#2a3f5f\"},\"marker\":{\"line\":{\"color\":\"#E5ECF6\",\"width\":0.5},\"pattern\":{\"fillmode\":\"overlay\",\"size\":10,\"solidity\":0.2}},\"type\":\"bar\"}],\"scattergeo\":[{\"type\":\"scattergeo\",\"marker\":{\"colorbar\":{\"outlinewidth\":0,\"ticks\":\"\"}}}],\"scatterpolar\":[{\"type\":\"scatterpolar\",\"marker\":{\"colorbar\":{\"outlinewidth\":0,\"ticks\":\"\"}}}],\"histogram\":[{\"marker\":{\"pattern\":{\"fillmode\":\"overlay\",\"size\":10,\"solidity\":0.2}},\"type\":\"histogram\"}],\"scattergl\":[{\"type\":\"scattergl\",\"marker\":{\"colorbar\":{\"outlinewidth\":0,\"ticks\":\"\"}}}],\"scatter3d\":[{\"type\":\"scatter3d\",\"line\":{\"colorbar\":{\"outlinewidth\":0,\"ticks\":\"\"}},\"marker\":{\"colorbar\":{\"outlinewidth\":0,\"ticks\":\"\"}}}],\"scattermapbox\":[{\"type\":\"scattermapbox\",\"marker\":{\"colorbar\":{\"outlinewidth\":0,\"ticks\":\"\"}}}],\"scatterternary\":[{\"type\":\"scatterternary\",\"marker\":{\"colorbar\":{\"outlinewidth\":0,\"ticks\":\"\"}}}],\"scattercarpet\":[{\"type\":\"scattercarpet\",\"marker\":{\"colorbar\":{\"outlinewidth\":0,\"ticks\":\"\"}}}],\"carpet\":[{\"aaxis\":{\"endlinecolor\":\"#2a3f5f\",\"gridcolor\":\"white\",\"linecolor\":\"white\",\"minorgridcolor\":\"white\",\"startlinecolor\":\"#2a3f5f\"},\"baxis\":{\"endlinecolor\":\"#2a3f5f\",\"gridcolor\":\"white\",\"linecolor\":\"white\",\"minorgridcolor\":\"white\",\"startlinecolor\":\"#2a3f5f\"},\"type\":\"carpet\"}],\"table\":[{\"cells\":{\"fill\":{\"color\":\"#EBF0F8\"},\"line\":{\"color\":\"white\"}},\"header\":{\"fill\":{\"color\":\"#C8D4E3\"},\"line\":{\"color\":\"white\"}},\"type\":\"table\"}],\"barpolar\":[{\"marker\":{\"line\":{\"color\":\"#E5ECF6\",\"width\":0.5},\"pattern\":{\"fillmode\":\"overlay\",\"size\":10,\"solidity\":0.2}},\"type\":\"barpolar\"}],\"pie\":[{\"automargin\":true,\"type\":\"pie\"}]},\"layout\":{\"autotypenumbers\":\"strict\",\"colorway\":[\"#636efa\",\"#EF553B\",\"#00cc96\",\"#ab63fa\",\"#FFA15A\",\"#19d3f3\",\"#FF6692\",\"#B6E880\",\"#FF97FF\",\"#FECB52\"],\"font\":{\"color\":\"#2a3f5f\"},\"hovermode\":\"closest\",\"hoverlabel\":{\"align\":\"left\"},\"paper_bgcolor\":\"white\",\"plot_bgcolor\":\"#E5ECF6\",\"polar\":{\"bgcolor\":\"#E5ECF6\",\"angularaxis\":{\"gridcolor\":\"white\",\"linecolor\":\"white\",\"ticks\":\"\"},\"radialaxis\":{\"gridcolor\":\"white\",\"linecolor\":\"white\",\"ticks\":\"\"}},\"ternary\":{\"bgcolor\":\"#E5ECF6\",\"aaxis\":{\"gridcolor\":\"white\",\"linecolor\":\"white\",\"ticks\":\"\"},\"baxis\":{\"gridcolor\":\"white\",\"linecolor\":\"white\",\"ticks\":\"\"},\"caxis\":{\"gridcolor\":\"white\",\"linecolor\":\"white\",\"ticks\":\"\"}},\"coloraxis\":{\"colorbar\":{\"outlinewidth\":0,\"ticks\":\"\"}},\"colorscale\":{\"sequential\":[[0.0,\"#0d0887\"],[0.1111111111111111,\"#46039f\"],[0.2222222222222222,\"#7201a8\"],[0.3333333333333333,\"#9c179e\"],[0.4444444444444444,\"#bd3786\"],[0.5555555555555556,\"#d8576b\"],[0.6666666666666666,\"#ed7953\"],[0.7777777777777778,\"#fb9f3a\"],[0.8888888888888888,\"#fdca26\"],[1.0,\"#f0f921\"]],\"sequentialminus\":[[0.0,\"#0d0887\"],[0.1111111111111111,\"#46039f\"],[0.2222222222222222,\"#7201a8\"],[0.3333333333333333,\"#9c179e\"],[0.4444444444444444,\"#bd3786\"],[0.5555555555555556,\"#d8576b\"],[0.6666666666666666,\"#ed7953\"],[0.7777777777777778,\"#fb9f3a\"],[0.8888888888888888,\"#fdca26\"],[1.0,\"#f0f921\"]],\"diverging\":[[0,\"#8e0152\"],[0.1,\"#c51b7d\"],[0.2,\"#de77ae\"],[0.3,\"#f1b6da\"],[0.4,\"#fde0ef\"],[0.5,\"#f7f7f7\"],[0.6,\"#e6f5d0\"],[0.7,\"#b8e186\"],[0.8,\"#7fbc41\"],[0.9,\"#4d9221\"],[1,\"#276419\"]]},\"xaxis\":{\"gridcolor\":\"white\",\"linecolor\":\"white\",\"ticks\":\"\",\"title\":{\"standoff\":15},\"zerolinecolor\":\"white\",\"automargin\":true,\"zerolinewidth\":2},\"yaxis\":{\"gridcolor\":\"white\",\"linecolor\":\"white\",\"ticks\":\"\",\"title\":{\"standoff\":15},\"zerolinecolor\":\"white\",\"automargin\":true,\"zerolinewidth\":2},\"scene\":{\"xaxis\":{\"backgroundcolor\":\"#E5ECF6\",\"gridcolor\":\"white\",\"linecolor\":\"white\",\"showbackground\":true,\"ticks\":\"\",\"zerolinecolor\":\"white\",\"gridwidth\":2},\"yaxis\":{\"backgroundcolor\":\"#E5ECF6\",\"gridcolor\":\"white\",\"linecolor\":\"white\",\"showbackground\":true,\"ticks\":\"\",\"zerolinecolor\":\"white\",\"gridwidth\":2},\"zaxis\":{\"backgroundcolor\":\"#E5ECF6\",\"gridcolor\":\"white\",\"linecolor\":\"white\",\"showbackground\":true,\"ticks\":\"\",\"zerolinecolor\":\"white\",\"gridwidth\":2}},\"shapedefaults\":{\"line\":{\"color\":\"#2a3f5f\"}},\"annotationdefaults\":{\"arrowcolor\":\"#2a3f5f\",\"arrowhead\":0,\"arrowwidth\":1},\"geo\":{\"bgcolor\":\"white\",\"landcolor\":\"#E5ECF6\",\"subunitcolor\":\"white\",\"showland\":true,\"showlakes\":true,\"lakecolor\":\"white\"},\"title\":{\"x\":0.05},\"mapbox\":{\"style\":\"light\"}}},\"xaxis\":{\"anchor\":\"y\",\"domain\":[0.0,1.0],\"title\":{\"text\":\"duration\"}},\"yaxis\":{\"anchor\":\"x\",\"domain\":[0.0,1.0],\"title\":{\"text\":\"price\"}},\"legend\":{\"title\":{\"text\":\"flight_type\"},\"tracegroupgap\":0},\"title\":{\"text\":\"Flight Prices vs Durations by Type\"}},                        {\"responsive\": true}                    ).then(function(){\n",
       "                            \n",
       "var gd = document.getElementById('6664b2bd-9169-4ce3-95c1-4fd8a162abdb');\n",
       "var x = new MutationObserver(function (mutations, observer) {{\n",
       "        var display = window.getComputedStyle(gd).display;\n",
       "        if (!display || display === 'none') {{\n",
       "            console.log([gd, 'removed!']);\n",
       "            Plotly.purge(gd);\n",
       "            observer.disconnect();\n",
       "        }}\n",
       "}});\n",
       "\n",
       "// Listen for the removal of the full notebook cells\n",
       "var notebookContainer = gd.closest('#notebook-container');\n",
       "if (notebookContainer) {{\n",
       "    x.observe(notebookContainer, {childList: true});\n",
       "}}\n",
       "\n",
       "// Listen for the clearing of the current output cell\n",
       "var outputEl = gd.closest('.output');\n",
       "if (outputEl) {{\n",
       "    x.observe(outputEl, {childList: true});\n",
       "}}\n",
       "\n",
       "                        })                };                });            </script>        </div>"
      ]
     },
     "metadata": {},
     "output_type": "display_data"
    }
   ],
   "source": [
    "direct_flights_means['flight_type'] = 'Direct'\n",
    "non_direct_flights_means['flight_type'] = 'Non-Direct'\n",
    "\n",
    "df = direct_flights_means.append(non_direct_flights_means)\n",
    "fig = px.scatter(df, \n",
    "                 x='duration', y='price', color='flight_type', \n",
    "                 hover_data=['destinations', 'days_left'], \n",
    "                 title='Flight Prices vs Durations by Type')\n",
    "fig.show()"
   ]
  },
  {
   "attachments": {},
   "cell_type": "markdown",
   "metadata": {},
   "source": [
    "### Interestingly, as can be seen from the graph, although the prices of direct flights are cheaper, the majority of people chose connecting flights."
   ]
  }
 ],
 "metadata": {
  "kernelspec": {
   "display_name": "Python 3",
   "language": "python",
   "name": "python3"
  },
  "language_info": {
   "codemirror_mode": {
    "name": "ipython",
    "version": 3
   },
   "file_extension": ".py",
   "mimetype": "text/x-python",
   "name": "python",
   "nbconvert_exporter": "python",
   "pygments_lexer": "ipython3",
   "version": "3.11.2"
  },
  "orig_nbformat": 4,
  "vscode": {
   "interpreter": {
    "hash": "910cb3871de72345056e7dbe7ea0721f052f0f509eaf57b0b644cb7a0f59b76a"
   }
  }
 },
 "nbformat": 4,
 "nbformat_minor": 2
}
