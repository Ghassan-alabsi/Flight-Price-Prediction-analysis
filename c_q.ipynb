{
 "cells": [
  {
   "cell_type": "code",
   "execution_count": 7,
   "metadata": {},
   "outputs": [
    {
     "data": {
      "text/html": [
       "        <script type=\"text/javascript\">\n",
       "        window.PlotlyConfig = {MathJaxConfig: 'local'};\n",
       "        if (window.MathJax && window.MathJax.Hub && window.MathJax.Hub.Config) {window.MathJax.Hub.Config({SVG: {font: \"STIX-Web\"}});}\n",
       "        if (typeof require !== 'undefined') {\n",
       "        require.undef(\"plotly\");\n",
       "        requirejs.config({\n",
       "            paths: {\n",
       "                'plotly': ['https://cdn.plot.ly/plotly-2.18.0.min']\n",
       "            }\n",
       "        });\n",
       "        require(['plotly'], function(Plotly) {\n",
       "            window._Plotly = Plotly;\n",
       "        });\n",
       "        }\n",
       "        </script>\n",
       "        "
      ]
     },
     "metadata": {},
     "output_type": "display_data"
    }
   ],
   "source": [
    "import numpy as np\n",
    "import pandas as pd\n",
    "import chart_studio.plotly as py\n",
    "import cufflinks as cf\n",
    "import seaborn as sns\n",
    "import plotly.io as pio\n",
    "import plotly.express as px\n",
    "%matplotlib inline\n",
    "from plotly.offline import download_plotlyjs,init_notebook_mode,plot,iplot\n",
    "init_notebook_mode(connected=True)\n",
    "cf.go_offline\n",
    "\n",
    "import warnings\n",
    "warnings.filterwarnings('ignore')"
   ]
  },
  {
   "attachments": {},
   "cell_type": "markdown",
   "metadata": {},
   "source": [
    "Q2. Does ticket price change based on the departure time and arrival time?\n",
    "\n",
    "Ecomomy class:\n",
    "- flights departing at late night are always are the cheapest, in contrast, the most expensive flights are those which departing at morning!\n",
    "- flights landing at late night are always are the cheapest, in contrast, the most expensive flights are those which lands at evening!\n",
    "\n",
    "Business class:\n",
    "- there is no trend in the prices related to departure time, but late night flights are not a common thing!\n",
    "- flights landing at early morning are always are the cheapest, in contrast, the most expensive flights are those which lands at night!"
   ]
  },
  {
   "cell_type": "code",
   "execution_count": 8,
   "metadata": {},
   "outputs": [
    {
     "data": {
      "text/html": [
       "<div>\n",
       "<style scoped>\n",
       "    .dataframe tbody tr th:only-of-type {\n",
       "        vertical-align: middle;\n",
       "    }\n",
       "\n",
       "    .dataframe tbody tr th {\n",
       "        vertical-align: top;\n",
       "    }\n",
       "\n",
       "    .dataframe thead th {\n",
       "        text-align: right;\n",
       "    }\n",
       "</style>\n",
       "<table border=\"1\" class=\"dataframe\">\n",
       "  <thead>\n",
       "    <tr style=\"text-align: right;\">\n",
       "      <th></th>\n",
       "      <th>Unnamed: 0</th>\n",
       "      <th>airline</th>\n",
       "      <th>flight</th>\n",
       "      <th>source_city</th>\n",
       "      <th>departure_time</th>\n",
       "      <th>stops</th>\n",
       "      <th>arrival_time</th>\n",
       "      <th>destination_city</th>\n",
       "      <th>class</th>\n",
       "      <th>duration</th>\n",
       "      <th>days_left</th>\n",
       "      <th>price</th>\n",
       "      <th>trip</th>\n",
       "    </tr>\n",
       "  </thead>\n",
       "  <tbody>\n",
       "    <tr>\n",
       "      <th>0</th>\n",
       "      <td>0</td>\n",
       "      <td>SpiceJet</td>\n",
       "      <td>SG-8709</td>\n",
       "      <td>Delhi</td>\n",
       "      <td>Evening</td>\n",
       "      <td>zero</td>\n",
       "      <td>Night</td>\n",
       "      <td>Mumbai</td>\n",
       "      <td>Economy</td>\n",
       "      <td>2.17</td>\n",
       "      <td>1</td>\n",
       "      <td>5953</td>\n",
       "      <td>Delhi-Mumbai</td>\n",
       "    </tr>\n",
       "    <tr>\n",
       "      <th>1</th>\n",
       "      <td>1</td>\n",
       "      <td>SpiceJet</td>\n",
       "      <td>SG-8157</td>\n",
       "      <td>Delhi</td>\n",
       "      <td>Early_Morning</td>\n",
       "      <td>zero</td>\n",
       "      <td>Morning</td>\n",
       "      <td>Mumbai</td>\n",
       "      <td>Economy</td>\n",
       "      <td>2.33</td>\n",
       "      <td>1</td>\n",
       "      <td>5953</td>\n",
       "      <td>Delhi-Mumbai</td>\n",
       "    </tr>\n",
       "    <tr>\n",
       "      <th>2</th>\n",
       "      <td>2</td>\n",
       "      <td>AirAsia</td>\n",
       "      <td>I5-764</td>\n",
       "      <td>Delhi</td>\n",
       "      <td>Early_Morning</td>\n",
       "      <td>zero</td>\n",
       "      <td>Early_Morning</td>\n",
       "      <td>Mumbai</td>\n",
       "      <td>Economy</td>\n",
       "      <td>2.17</td>\n",
       "      <td>1</td>\n",
       "      <td>5956</td>\n",
       "      <td>Delhi-Mumbai</td>\n",
       "    </tr>\n",
       "    <tr>\n",
       "      <th>3</th>\n",
       "      <td>3</td>\n",
       "      <td>Vistara</td>\n",
       "      <td>UK-995</td>\n",
       "      <td>Delhi</td>\n",
       "      <td>Morning</td>\n",
       "      <td>zero</td>\n",
       "      <td>Afternoon</td>\n",
       "      <td>Mumbai</td>\n",
       "      <td>Economy</td>\n",
       "      <td>2.25</td>\n",
       "      <td>1</td>\n",
       "      <td>5955</td>\n",
       "      <td>Delhi-Mumbai</td>\n",
       "    </tr>\n",
       "    <tr>\n",
       "      <th>4</th>\n",
       "      <td>4</td>\n",
       "      <td>Vistara</td>\n",
       "      <td>UK-963</td>\n",
       "      <td>Delhi</td>\n",
       "      <td>Morning</td>\n",
       "      <td>zero</td>\n",
       "      <td>Morning</td>\n",
       "      <td>Mumbai</td>\n",
       "      <td>Economy</td>\n",
       "      <td>2.33</td>\n",
       "      <td>1</td>\n",
       "      <td>5955</td>\n",
       "      <td>Delhi-Mumbai</td>\n",
       "    </tr>\n",
       "  </tbody>\n",
       "</table>\n",
       "</div>"
      ],
      "text/plain": [
       "   Unnamed: 0   airline   flight source_city departure_time stops  \\\n",
       "0           0  SpiceJet  SG-8709       Delhi        Evening  zero   \n",
       "1           1  SpiceJet  SG-8157       Delhi  Early_Morning  zero   \n",
       "2           2   AirAsia   I5-764       Delhi  Early_Morning  zero   \n",
       "3           3   Vistara   UK-995       Delhi        Morning  zero   \n",
       "4           4   Vistara   UK-963       Delhi        Morning  zero   \n",
       "\n",
       "    arrival_time destination_city    class  duration  days_left  price  \\\n",
       "0          Night           Mumbai  Economy      2.17          1   5953   \n",
       "1        Morning           Mumbai  Economy      2.33          1   5953   \n",
       "2  Early_Morning           Mumbai  Economy      2.17          1   5956   \n",
       "3      Afternoon           Mumbai  Economy      2.25          1   5955   \n",
       "4        Morning           Mumbai  Economy      2.33          1   5955   \n",
       "\n",
       "           trip  \n",
       "0  Delhi-Mumbai  \n",
       "1  Delhi-Mumbai  \n",
       "2  Delhi-Mumbai  \n",
       "3  Delhi-Mumbai  \n",
       "4  Delhi-Mumbai  "
      ]
     },
     "execution_count": 8,
     "metadata": {},
     "output_type": "execute_result"
    }
   ],
   "source": [
    "df = pd.read_csv('clean_dataset.csv')\n",
    "df['trip']= df['source_city']+'-'+df['destination_city']\n",
    "df.head()\n"
   ]
  },
  {
   "cell_type": "code",
   "execution_count": 17,
   "metadata": {},
   "outputs": [
    {
     "data": {
      "text/html": [
       "<div>\n",
       "<style scoped>\n",
       "    .dataframe tbody tr th:only-of-type {\n",
       "        vertical-align: middle;\n",
       "    }\n",
       "\n",
       "    .dataframe tbody tr th {\n",
       "        vertical-align: top;\n",
       "    }\n",
       "\n",
       "    .dataframe thead th {\n",
       "        text-align: right;\n",
       "    }\n",
       "</style>\n",
       "<table border=\"1\" class=\"dataframe\">\n",
       "  <thead>\n",
       "    <tr style=\"text-align: right;\">\n",
       "      <th></th>\n",
       "      <th>trip</th>\n",
       "      <th>departure_time</th>\n",
       "      <th>price</th>\n",
       "    </tr>\n",
       "  </thead>\n",
       "  <tbody>\n",
       "    <tr>\n",
       "      <th>0</th>\n",
       "      <td>Bangalore-Chennai</td>\n",
       "      <td>Afternoon</td>\n",
       "      <td>6458.835052</td>\n",
       "    </tr>\n",
       "    <tr>\n",
       "      <th>1</th>\n",
       "      <td>Bangalore-Chennai</td>\n",
       "      <td>Early_Morning</td>\n",
       "      <td>7083.332278</td>\n",
       "    </tr>\n",
       "    <tr>\n",
       "      <th>2</th>\n",
       "      <td>Bangalore-Chennai</td>\n",
       "      <td>Evening</td>\n",
       "      <td>6714.022498</td>\n",
       "    </tr>\n",
       "    <tr>\n",
       "      <th>3</th>\n",
       "      <td>Bangalore-Chennai</td>\n",
       "      <td>Late_Night</td>\n",
       "      <td>8068.000000</td>\n",
       "    </tr>\n",
       "    <tr>\n",
       "      <th>4</th>\n",
       "      <td>Bangalore-Chennai</td>\n",
       "      <td>Morning</td>\n",
       "      <td>7883.045257</td>\n",
       "    </tr>\n",
       "    <tr>\n",
       "      <th>5</th>\n",
       "      <td>Bangalore-Chennai</td>\n",
       "      <td>Night</td>\n",
       "      <td>6643.303318</td>\n",
       "    </tr>\n",
       "    <tr>\n",
       "      <th>6</th>\n",
       "      <td>Bangalore-Delhi</td>\n",
       "      <td>Afternoon</td>\n",
       "      <td>6697.211871</td>\n",
       "    </tr>\n",
       "    <tr>\n",
       "      <th>7</th>\n",
       "      <td>Bangalore-Delhi</td>\n",
       "      <td>Early_Morning</td>\n",
       "      <td>6201.080908</td>\n",
       "    </tr>\n",
       "    <tr>\n",
       "      <th>8</th>\n",
       "      <td>Bangalore-Delhi</td>\n",
       "      <td>Evening</td>\n",
       "      <td>5856.013720</td>\n",
       "    </tr>\n",
       "    <tr>\n",
       "      <th>9</th>\n",
       "      <td>Bangalore-Delhi</td>\n",
       "      <td>Late_Night</td>\n",
       "      <td>6600.877193</td>\n",
       "    </tr>\n",
       "    <tr>\n",
       "      <th>10</th>\n",
       "      <td>Bangalore-Delhi</td>\n",
       "      <td>Morning</td>\n",
       "      <td>6413.676869</td>\n",
       "    </tr>\n",
       "    <tr>\n",
       "      <th>11</th>\n",
       "      <td>Bangalore-Delhi</td>\n",
       "      <td>Night</td>\n",
       "      <td>5164.164959</td>\n",
       "    </tr>\n",
       "    <tr>\n",
       "      <th>12</th>\n",
       "      <td>Bangalore-Hyderabad</td>\n",
       "      <td>Afternoon</td>\n",
       "      <td>6267.673815</td>\n",
       "    </tr>\n",
       "    <tr>\n",
       "      <th>13</th>\n",
       "      <td>Bangalore-Hyderabad</td>\n",
       "      <td>Early_Morning</td>\n",
       "      <td>6197.104328</td>\n",
       "    </tr>\n",
       "    <tr>\n",
       "      <th>14</th>\n",
       "      <td>Bangalore-Hyderabad</td>\n",
       "      <td>Evening</td>\n",
       "      <td>6346.445298</td>\n",
       "    </tr>\n",
       "    <tr>\n",
       "      <th>15</th>\n",
       "      <td>Bangalore-Hyderabad</td>\n",
       "      <td>Late_Night</td>\n",
       "      <td>7568.833333</td>\n",
       "    </tr>\n",
       "    <tr>\n",
       "      <th>16</th>\n",
       "      <td>Bangalore-Hyderabad</td>\n",
       "      <td>Morning</td>\n",
       "      <td>6689.966102</td>\n",
       "    </tr>\n",
       "    <tr>\n",
       "      <th>17</th>\n",
       "      <td>Bangalore-Hyderabad</td>\n",
       "      <td>Night</td>\n",
       "      <td>6123.393487</td>\n",
       "    </tr>\n",
       "    <tr>\n",
       "      <th>18</th>\n",
       "      <td>Bangalore-Kolkata</td>\n",
       "      <td>Afternoon</td>\n",
       "      <td>6393.414720</td>\n",
       "    </tr>\n",
       "    <tr>\n",
       "      <th>19</th>\n",
       "      <td>Bangalore-Kolkata</td>\n",
       "      <td>Early_Morning</td>\n",
       "      <td>7296.725628</td>\n",
       "    </tr>\n",
       "  </tbody>\n",
       "</table>\n",
       "</div>"
      ],
      "text/plain": [
       "                   trip departure_time        price\n",
       "0     Bangalore-Chennai      Afternoon  6458.835052\n",
       "1     Bangalore-Chennai  Early_Morning  7083.332278\n",
       "2     Bangalore-Chennai        Evening  6714.022498\n",
       "3     Bangalore-Chennai     Late_Night  8068.000000\n",
       "4     Bangalore-Chennai        Morning  7883.045257\n",
       "5     Bangalore-Chennai          Night  6643.303318\n",
       "6       Bangalore-Delhi      Afternoon  6697.211871\n",
       "7       Bangalore-Delhi  Early_Morning  6201.080908\n",
       "8       Bangalore-Delhi        Evening  5856.013720\n",
       "9       Bangalore-Delhi     Late_Night  6600.877193\n",
       "10      Bangalore-Delhi        Morning  6413.676869\n",
       "11      Bangalore-Delhi          Night  5164.164959\n",
       "12  Bangalore-Hyderabad      Afternoon  6267.673815\n",
       "13  Bangalore-Hyderabad  Early_Morning  6197.104328\n",
       "14  Bangalore-Hyderabad        Evening  6346.445298\n",
       "15  Bangalore-Hyderabad     Late_Night  7568.833333\n",
       "16  Bangalore-Hyderabad        Morning  6689.966102\n",
       "17  Bangalore-Hyderabad          Night  6123.393487\n",
       "18    Bangalore-Kolkata      Afternoon  6393.414720\n",
       "19    Bangalore-Kolkata  Early_Morning  7296.725628"
      ]
     },
     "execution_count": 17,
     "metadata": {},
     "output_type": "execute_result"
    }
   ],
   "source": [
    "eco= df[df['class']=='Economy']\n",
    "ww1=eco.groupby(['trip','departure_time'],as_index=False).price.mean()\n",
    "df1=pd.DataFrame(ww1)\n",
    "df1. head(20)\n"
   ]
  },
  {
   "cell_type": "code",
   "execution_count": 42,
   "metadata": {},
   "outputs": [
    {
     "data": {
      "text/plain": [
       "array(['Bangalore-Chennai', 'Bangalore-Delhi', 'Bangalore-Hyderabad',\n",
       "       'Bangalore-Kolkata', 'Bangalore-Mumbai', 'Chennai-Bangalore',\n",
       "       'Chennai-Delhi', 'Chennai-Hyderabad', 'Chennai-Kolkata',\n",
       "       'Chennai-Mumbai', 'Delhi-Bangalore', 'Delhi-Chennai',\n",
       "       'Delhi-Hyderabad', 'Delhi-Kolkata', 'Delhi-Mumbai',\n",
       "       'Hyderabad-Bangalore', 'Hyderabad-Chennai', 'Hyderabad-Delhi',\n",
       "       'Hyderabad-Kolkata', 'Hyderabad-Mumbai', 'Kolkata-Bangalore',\n",
       "       'Kolkata-Chennai', 'Kolkata-Delhi', 'Kolkata-Hyderabad',\n",
       "       'Kolkata-Mumbai', 'Mumbai-Bangalore', 'Mumbai-Chennai',\n",
       "       'Mumbai-Delhi', 'Mumbai-Hyderabad', 'Mumbai-Kolkata'], dtype=object)"
      ]
     },
     "execution_count": 42,
     "metadata": {},
     "output_type": "execute_result"
    }
   ],
   "source": [
    "df1.trip.unique()"
   ]
  },
  {
   "cell_type": "code",
   "execution_count": 18,
   "metadata": {},
   "outputs": [
    {
     "data": {
      "application/vnd.plotly.v1+json": {
       "config": {
        "plotlyServerURL": "https://plot.ly"
       },
       "data": [
        {
         "hovertemplate": "departure_time=Afternoon<br>trip=%{x}<br>price=%{y}<extra></extra>",
         "legendgroup": "Afternoon",
         "marker": {
          "color": "#636efa",
          "symbol": "circle"
         },
         "mode": "markers",
         "name": "Afternoon",
         "orientation": "v",
         "showlegend": true,
         "type": "scatter",
         "x": [
          "Bangalore-Chennai",
          "Bangalore-Delhi",
          "Bangalore-Hyderabad",
          "Bangalore-Kolkata",
          "Bangalore-Mumbai",
          "Chennai-Bangalore",
          "Chennai-Delhi",
          "Chennai-Hyderabad",
          "Chennai-Kolkata",
          "Chennai-Mumbai",
          "Delhi-Bangalore",
          "Delhi-Chennai",
          "Delhi-Hyderabad",
          "Delhi-Kolkata",
          "Delhi-Mumbai",
          "Hyderabad-Bangalore",
          "Hyderabad-Chennai",
          "Hyderabad-Delhi",
          "Hyderabad-Kolkata",
          "Hyderabad-Mumbai",
          "Kolkata-Bangalore",
          "Kolkata-Chennai",
          "Kolkata-Delhi",
          "Kolkata-Hyderabad",
          "Kolkata-Mumbai",
          "Mumbai-Bangalore",
          "Mumbai-Chennai",
          "Mumbai-Delhi",
          "Mumbai-Hyderabad",
          "Mumbai-Kolkata"
         ],
         "xaxis": "x",
         "y": [
          6458.835051546392,
          6697.21187139324,
          6267.67381489842,
          6393.414719626168,
          6867.5808550185875,
          5711.913324708927,
          6476.703583061889,
          4841.547967479675,
          7744.773876404494,
          4786.089214380826,
          6187.555945590171,
          6428.42233357194,
          6480.708614864865,
          6902.115985130112,
          6223.398273070696,
          6100.352024922118,
          6070.925061425061,
          5942.795031055901,
          6649.221902017291,
          6005.235294117647,
          7236.138554216867,
          7904.897535667964,
          6447.646952323476,
          7368.902874132805,
          7433.856614929786,
          6179.319512195122,
          6551.205432937181,
          5592.775495750709,
          6004.94847605225,
          7393.85363357216
         ],
         "yaxis": "y"
        },
        {
         "hovertemplate": "departure_time=Early_Morning<br>trip=%{x}<br>price=%{y}<extra></extra>",
         "legendgroup": "Early_Morning",
         "marker": {
          "color": "#EF553B",
          "symbol": "circle"
         },
         "mode": "markers",
         "name": "Early_Morning",
         "orientation": "v",
         "showlegend": true,
         "type": "scatter",
         "x": [
          "Bangalore-Chennai",
          "Bangalore-Delhi",
          "Bangalore-Hyderabad",
          "Bangalore-Kolkata",
          "Bangalore-Mumbai",
          "Chennai-Bangalore",
          "Chennai-Delhi",
          "Chennai-Hyderabad",
          "Chennai-Kolkata",
          "Chennai-Mumbai",
          "Delhi-Bangalore",
          "Delhi-Chennai",
          "Delhi-Hyderabad",
          "Delhi-Kolkata",
          "Delhi-Mumbai",
          "Hyderabad-Bangalore",
          "Hyderabad-Chennai",
          "Hyderabad-Delhi",
          "Hyderabad-Kolkata",
          "Hyderabad-Mumbai",
          "Kolkata-Bangalore",
          "Kolkata-Chennai",
          "Kolkata-Delhi",
          "Kolkata-Hyderabad",
          "Kolkata-Mumbai",
          "Mumbai-Bangalore",
          "Mumbai-Chennai",
          "Mumbai-Delhi",
          "Mumbai-Hyderabad",
          "Mumbai-Kolkata"
         ],
         "xaxis": "x",
         "y": [
          7083.3322784810125,
          6201.080908445706,
          6197.104327666151,
          7296.7256275539985,
          6515.563328424153,
          8174.917587939699,
          6588.342709529276,
          7128.54899328859,
          8044.519911504425,
          6887.557534246575,
          6077.655355249205,
          6123.221331689272,
          5568.097848716169,
          6786.784924623115,
          6165.8852157943065,
          6016.622489959839,
          5375.325605900948,
          6225.049315068493,
          6615.354474370113,
          6036.568844221106,
          7424.841365461847,
          7615.003984063745,
          6043.957085828343,
          7117.772908366534,
          7443.102523659306,
          6636.041255605382,
          6554.737762237763,
          6304.641725352113,
          5549.361077111383,
          6894.4384765625
         ],
         "yaxis": "y"
        },
        {
         "hovertemplate": "departure_time=Evening<br>trip=%{x}<br>price=%{y}<extra></extra>",
         "legendgroup": "Evening",
         "marker": {
          "color": "#00cc96",
          "symbol": "circle"
         },
         "mode": "markers",
         "name": "Evening",
         "orientation": "v",
         "showlegend": true,
         "type": "scatter",
         "x": [
          "Bangalore-Chennai",
          "Bangalore-Delhi",
          "Bangalore-Hyderabad",
          "Bangalore-Kolkata",
          "Bangalore-Mumbai",
          "Chennai-Bangalore",
          "Chennai-Delhi",
          "Chennai-Hyderabad",
          "Chennai-Kolkata",
          "Chennai-Mumbai",
          "Delhi-Bangalore",
          "Delhi-Chennai",
          "Delhi-Hyderabad",
          "Delhi-Kolkata",
          "Delhi-Mumbai",
          "Hyderabad-Bangalore",
          "Hyderabad-Chennai",
          "Hyderabad-Delhi",
          "Hyderabad-Kolkata",
          "Hyderabad-Mumbai",
          "Kolkata-Bangalore",
          "Kolkata-Chennai",
          "Kolkata-Delhi",
          "Kolkata-Hyderabad",
          "Kolkata-Mumbai",
          "Mumbai-Bangalore",
          "Mumbai-Chennai",
          "Mumbai-Delhi",
          "Mumbai-Hyderabad",
          "Mumbai-Kolkata"
         ],
         "xaxis": "x",
         "y": [
          6714.022498060512,
          5856.0137201097605,
          6346.445297504799,
          7546.359133126935,
          5657.9946472019465,
          6881.307692307692,
          4713.877252252252,
          4950.026315789473,
          6552.902665121668,
          5923.969518190757,
          5989.518912027199,
          5990.985768500948,
          6199.2848557692305,
          7175.00121703854,
          5785.62890768665,
          5424.656538969617,
          5715.21676300578,
          5851.397333333333,
          6703.544268406337,
          6002.389009399855,
          7410.170520231214,
          8120.009744214372,
          7316.718218218218,
          7161.401673640167,
          7100.479315263909,
          6369.112255965293,
          6046.906796116505,
          5683.350951374207,
          5710.280361757106,
          7489.118441558441
         ],
         "yaxis": "y"
        },
        {
         "hovertemplate": "departure_time=Late_Night<br>trip=%{x}<br>price=%{y}<extra></extra>",
         "legendgroup": "Late_Night",
         "marker": {
          "color": "#ab63fa",
          "symbol": "circle"
         },
         "mode": "markers",
         "name": "Late_Night",
         "orientation": "v",
         "showlegend": true,
         "type": "scatter",
         "x": [
          "Bangalore-Chennai",
          "Bangalore-Delhi",
          "Bangalore-Hyderabad",
          "Bangalore-Kolkata",
          "Bangalore-Mumbai",
          "Chennai-Kolkata",
          "Delhi-Bangalore",
          "Delhi-Chennai",
          "Delhi-Kolkata",
          "Delhi-Mumbai",
          "Hyderabad-Kolkata",
          "Kolkata-Delhi",
          "Kolkata-Hyderabad",
          "Kolkata-Mumbai",
          "Mumbai-Bangalore",
          "Mumbai-Chennai",
          "Mumbai-Delhi",
          "Mumbai-Kolkata"
         ],
         "xaxis": "x",
         "y": [
          8068,
          6600.877192982456,
          7568.833333333333,
          4055.3253012048194,
          5523.720930232558,
          5294.111111111111,
          4517.509259259259,
          4200.064935064935,
          5981.721518987341,
          2857.2688172043013,
          3438.5,
          5330.740740740741,
          6653.548387096775,
          5004.862068965517,
          2634.6857142857143,
          6794.75,
          3229.365517241379,
          5342.825
         ],
         "yaxis": "y"
        },
        {
         "hovertemplate": "departure_time=Morning<br>trip=%{x}<br>price=%{y}<extra></extra>",
         "legendgroup": "Morning",
         "marker": {
          "color": "#FFA15A",
          "symbol": "circle"
         },
         "mode": "markers",
         "name": "Morning",
         "orientation": "v",
         "showlegend": true,
         "type": "scatter",
         "x": [
          "Bangalore-Chennai",
          "Bangalore-Delhi",
          "Bangalore-Hyderabad",
          "Bangalore-Kolkata",
          "Bangalore-Mumbai",
          "Chennai-Bangalore",
          "Chennai-Delhi",
          "Chennai-Hyderabad",
          "Chennai-Kolkata",
          "Chennai-Mumbai",
          "Delhi-Bangalore",
          "Delhi-Chennai",
          "Delhi-Hyderabad",
          "Delhi-Kolkata",
          "Delhi-Mumbai",
          "Hyderabad-Bangalore",
          "Hyderabad-Chennai",
          "Hyderabad-Delhi",
          "Hyderabad-Kolkata",
          "Hyderabad-Mumbai",
          "Kolkata-Bangalore",
          "Kolkata-Chennai",
          "Kolkata-Delhi",
          "Kolkata-Hyderabad",
          "Kolkata-Mumbai",
          "Mumbai-Bangalore",
          "Mumbai-Chennai",
          "Mumbai-Delhi",
          "Mumbai-Hyderabad",
          "Mumbai-Kolkata"
         ],
         "xaxis": "x",
         "y": [
          7883.045256744996,
          6413.67686926104,
          6689.966101694915,
          8320.152954808806,
          7310.019315673289,
          7639.016965127238,
          6211.467930842164,
          6236.085759244689,
          7695.0496350364965,
          7286.86601836845,
          6644.089808668489,
          6334.141277641278,
          6235.871308016877,
          7410.817989417989,
          6569.688214818499,
          6726.108662613981,
          6535.268415741675,
          6117.352867830424,
          7293.9004360465115,
          6388.557057057057,
          7918.493765586035,
          8974.152959262106,
          7790.217111770524,
          8247.341824644549,
          8125.210307131702,
          7234.993721461187,
          6948.778015703069,
          6547.380701093102,
          6405.153359683794,
          8101.582034149963
         ],
         "yaxis": "y"
        },
        {
         "hovertemplate": "departure_time=Night<br>trip=%{x}<br>price=%{y}<extra></extra>",
         "legendgroup": "Night",
         "marker": {
          "color": "#19d3f3",
          "symbol": "circle"
         },
         "mode": "markers",
         "name": "Night",
         "orientation": "v",
         "showlegend": true,
         "type": "scatter",
         "x": [
          "Bangalore-Chennai",
          "Bangalore-Delhi",
          "Bangalore-Hyderabad",
          "Bangalore-Kolkata",
          "Bangalore-Mumbai",
          "Chennai-Bangalore",
          "Chennai-Delhi",
          "Chennai-Hyderabad",
          "Chennai-Kolkata",
          "Chennai-Mumbai",
          "Delhi-Bangalore",
          "Delhi-Chennai",
          "Delhi-Hyderabad",
          "Delhi-Kolkata",
          "Delhi-Mumbai",
          "Hyderabad-Bangalore",
          "Hyderabad-Chennai",
          "Hyderabad-Delhi",
          "Hyderabad-Kolkata",
          "Hyderabad-Mumbai",
          "Kolkata-Bangalore",
          "Kolkata-Chennai",
          "Kolkata-Delhi",
          "Kolkata-Hyderabad",
          "Kolkata-Mumbai",
          "Mumbai-Bangalore",
          "Mumbai-Chennai",
          "Mumbai-Delhi",
          "Mumbai-Hyderabad",
          "Mumbai-Kolkata"
         ],
         "xaxis": "x",
         "y": [
          6643.303317535545,
          5164.164959016393,
          6123.393487109905,
          6643.649888143177,
          5366.871743486974,
          6849.1972602739725,
          5584.907441016334,
          6190.402298850575,
          7792.320430107527,
          6527.914735099338,
          5731.320794148381,
          5519.913669064748,
          5530.212643678161,
          6800.431638418079,
          5602.3359929078015,
          6512.115724381625,
          6577.576271186441,
          6122.323386537127,
          7207.455424274973,
          5357.126382306477,
          7241.0528,
          6895.6383720930235,
          7918.028624192059,
          6974.22952710496,
          6741.820187165776,
          5441.018257261411,
          5824.847660500544,
          4841.165381920112,
          5220.584549356223,
          6404.235211267605
         ],
         "yaxis": "y"
        }
       ],
       "layout": {
        "legend": {
         "title": {
          "text": "departure_time"
         },
         "tracegroupgap": 0
        },
        "template": {
         "data": {
          "bar": [
           {
            "error_x": {
             "color": "#2a3f5f"
            },
            "error_y": {
             "color": "#2a3f5f"
            },
            "marker": {
             "line": {
              "color": "#E5ECF6",
              "width": 0.5
             },
             "pattern": {
              "fillmode": "overlay",
              "size": 10,
              "solidity": 0.2
             }
            },
            "type": "bar"
           }
          ],
          "barpolar": [
           {
            "marker": {
             "line": {
              "color": "#E5ECF6",
              "width": 0.5
             },
             "pattern": {
              "fillmode": "overlay",
              "size": 10,
              "solidity": 0.2
             }
            },
            "type": "barpolar"
           }
          ],
          "carpet": [
           {
            "aaxis": {
             "endlinecolor": "#2a3f5f",
             "gridcolor": "white",
             "linecolor": "white",
             "minorgridcolor": "white",
             "startlinecolor": "#2a3f5f"
            },
            "baxis": {
             "endlinecolor": "#2a3f5f",
             "gridcolor": "white",
             "linecolor": "white",
             "minorgridcolor": "white",
             "startlinecolor": "#2a3f5f"
            },
            "type": "carpet"
           }
          ],
          "choropleth": [
           {
            "colorbar": {
             "outlinewidth": 0,
             "ticks": ""
            },
            "type": "choropleth"
           }
          ],
          "contour": [
           {
            "colorbar": {
             "outlinewidth": 0,
             "ticks": ""
            },
            "colorscale": [
             [
              0,
              "#0d0887"
             ],
             [
              0.1111111111111111,
              "#46039f"
             ],
             [
              0.2222222222222222,
              "#7201a8"
             ],
             [
              0.3333333333333333,
              "#9c179e"
             ],
             [
              0.4444444444444444,
              "#bd3786"
             ],
             [
              0.5555555555555556,
              "#d8576b"
             ],
             [
              0.6666666666666666,
              "#ed7953"
             ],
             [
              0.7777777777777778,
              "#fb9f3a"
             ],
             [
              0.8888888888888888,
              "#fdca26"
             ],
             [
              1,
              "#f0f921"
             ]
            ],
            "type": "contour"
           }
          ],
          "contourcarpet": [
           {
            "colorbar": {
             "outlinewidth": 0,
             "ticks": ""
            },
            "type": "contourcarpet"
           }
          ],
          "heatmap": [
           {
            "colorbar": {
             "outlinewidth": 0,
             "ticks": ""
            },
            "colorscale": [
             [
              0,
              "#0d0887"
             ],
             [
              0.1111111111111111,
              "#46039f"
             ],
             [
              0.2222222222222222,
              "#7201a8"
             ],
             [
              0.3333333333333333,
              "#9c179e"
             ],
             [
              0.4444444444444444,
              "#bd3786"
             ],
             [
              0.5555555555555556,
              "#d8576b"
             ],
             [
              0.6666666666666666,
              "#ed7953"
             ],
             [
              0.7777777777777778,
              "#fb9f3a"
             ],
             [
              0.8888888888888888,
              "#fdca26"
             ],
             [
              1,
              "#f0f921"
             ]
            ],
            "type": "heatmap"
           }
          ],
          "heatmapgl": [
           {
            "colorbar": {
             "outlinewidth": 0,
             "ticks": ""
            },
            "colorscale": [
             [
              0,
              "#0d0887"
             ],
             [
              0.1111111111111111,
              "#46039f"
             ],
             [
              0.2222222222222222,
              "#7201a8"
             ],
             [
              0.3333333333333333,
              "#9c179e"
             ],
             [
              0.4444444444444444,
              "#bd3786"
             ],
             [
              0.5555555555555556,
              "#d8576b"
             ],
             [
              0.6666666666666666,
              "#ed7953"
             ],
             [
              0.7777777777777778,
              "#fb9f3a"
             ],
             [
              0.8888888888888888,
              "#fdca26"
             ],
             [
              1,
              "#f0f921"
             ]
            ],
            "type": "heatmapgl"
           }
          ],
          "histogram": [
           {
            "marker": {
             "pattern": {
              "fillmode": "overlay",
              "size": 10,
              "solidity": 0.2
             }
            },
            "type": "histogram"
           }
          ],
          "histogram2d": [
           {
            "colorbar": {
             "outlinewidth": 0,
             "ticks": ""
            },
            "colorscale": [
             [
              0,
              "#0d0887"
             ],
             [
              0.1111111111111111,
              "#46039f"
             ],
             [
              0.2222222222222222,
              "#7201a8"
             ],
             [
              0.3333333333333333,
              "#9c179e"
             ],
             [
              0.4444444444444444,
              "#bd3786"
             ],
             [
              0.5555555555555556,
              "#d8576b"
             ],
             [
              0.6666666666666666,
              "#ed7953"
             ],
             [
              0.7777777777777778,
              "#fb9f3a"
             ],
             [
              0.8888888888888888,
              "#fdca26"
             ],
             [
              1,
              "#f0f921"
             ]
            ],
            "type": "histogram2d"
           }
          ],
          "histogram2dcontour": [
           {
            "colorbar": {
             "outlinewidth": 0,
             "ticks": ""
            },
            "colorscale": [
             [
              0,
              "#0d0887"
             ],
             [
              0.1111111111111111,
              "#46039f"
             ],
             [
              0.2222222222222222,
              "#7201a8"
             ],
             [
              0.3333333333333333,
              "#9c179e"
             ],
             [
              0.4444444444444444,
              "#bd3786"
             ],
             [
              0.5555555555555556,
              "#d8576b"
             ],
             [
              0.6666666666666666,
              "#ed7953"
             ],
             [
              0.7777777777777778,
              "#fb9f3a"
             ],
             [
              0.8888888888888888,
              "#fdca26"
             ],
             [
              1,
              "#f0f921"
             ]
            ],
            "type": "histogram2dcontour"
           }
          ],
          "mesh3d": [
           {
            "colorbar": {
             "outlinewidth": 0,
             "ticks": ""
            },
            "type": "mesh3d"
           }
          ],
          "parcoords": [
           {
            "line": {
             "colorbar": {
              "outlinewidth": 0,
              "ticks": ""
             }
            },
            "type": "parcoords"
           }
          ],
          "pie": [
           {
            "automargin": true,
            "type": "pie"
           }
          ],
          "scatter": [
           {
            "fillpattern": {
             "fillmode": "overlay",
             "size": 10,
             "solidity": 0.2
            },
            "type": "scatter"
           }
          ],
          "scatter3d": [
           {
            "line": {
             "colorbar": {
              "outlinewidth": 0,
              "ticks": ""
             }
            },
            "marker": {
             "colorbar": {
              "outlinewidth": 0,
              "ticks": ""
             }
            },
            "type": "scatter3d"
           }
          ],
          "scattercarpet": [
           {
            "marker": {
             "colorbar": {
              "outlinewidth": 0,
              "ticks": ""
             }
            },
            "type": "scattercarpet"
           }
          ],
          "scattergeo": [
           {
            "marker": {
             "colorbar": {
              "outlinewidth": 0,
              "ticks": ""
             }
            },
            "type": "scattergeo"
           }
          ],
          "scattergl": [
           {
            "marker": {
             "colorbar": {
              "outlinewidth": 0,
              "ticks": ""
             }
            },
            "type": "scattergl"
           }
          ],
          "scattermapbox": [
           {
            "marker": {
             "colorbar": {
              "outlinewidth": 0,
              "ticks": ""
             }
            },
            "type": "scattermapbox"
           }
          ],
          "scatterpolar": [
           {
            "marker": {
             "colorbar": {
              "outlinewidth": 0,
              "ticks": ""
             }
            },
            "type": "scatterpolar"
           }
          ],
          "scatterpolargl": [
           {
            "marker": {
             "colorbar": {
              "outlinewidth": 0,
              "ticks": ""
             }
            },
            "type": "scatterpolargl"
           }
          ],
          "scatterternary": [
           {
            "marker": {
             "colorbar": {
              "outlinewidth": 0,
              "ticks": ""
             }
            },
            "type": "scatterternary"
           }
          ],
          "surface": [
           {
            "colorbar": {
             "outlinewidth": 0,
             "ticks": ""
            },
            "colorscale": [
             [
              0,
              "#0d0887"
             ],
             [
              0.1111111111111111,
              "#46039f"
             ],
             [
              0.2222222222222222,
              "#7201a8"
             ],
             [
              0.3333333333333333,
              "#9c179e"
             ],
             [
              0.4444444444444444,
              "#bd3786"
             ],
             [
              0.5555555555555556,
              "#d8576b"
             ],
             [
              0.6666666666666666,
              "#ed7953"
             ],
             [
              0.7777777777777778,
              "#fb9f3a"
             ],
             [
              0.8888888888888888,
              "#fdca26"
             ],
             [
              1,
              "#f0f921"
             ]
            ],
            "type": "surface"
           }
          ],
          "table": [
           {
            "cells": {
             "fill": {
              "color": "#EBF0F8"
             },
             "line": {
              "color": "white"
             }
            },
            "header": {
             "fill": {
              "color": "#C8D4E3"
             },
             "line": {
              "color": "white"
             }
            },
            "type": "table"
           }
          ]
         },
         "layout": {
          "annotationdefaults": {
           "arrowcolor": "#2a3f5f",
           "arrowhead": 0,
           "arrowwidth": 1
          },
          "autotypenumbers": "strict",
          "coloraxis": {
           "colorbar": {
            "outlinewidth": 0,
            "ticks": ""
           }
          },
          "colorscale": {
           "diverging": [
            [
             0,
             "#8e0152"
            ],
            [
             0.1,
             "#c51b7d"
            ],
            [
             0.2,
             "#de77ae"
            ],
            [
             0.3,
             "#f1b6da"
            ],
            [
             0.4,
             "#fde0ef"
            ],
            [
             0.5,
             "#f7f7f7"
            ],
            [
             0.6,
             "#e6f5d0"
            ],
            [
             0.7,
             "#b8e186"
            ],
            [
             0.8,
             "#7fbc41"
            ],
            [
             0.9,
             "#4d9221"
            ],
            [
             1,
             "#276419"
            ]
           ],
           "sequential": [
            [
             0,
             "#0d0887"
            ],
            [
             0.1111111111111111,
             "#46039f"
            ],
            [
             0.2222222222222222,
             "#7201a8"
            ],
            [
             0.3333333333333333,
             "#9c179e"
            ],
            [
             0.4444444444444444,
             "#bd3786"
            ],
            [
             0.5555555555555556,
             "#d8576b"
            ],
            [
             0.6666666666666666,
             "#ed7953"
            ],
            [
             0.7777777777777778,
             "#fb9f3a"
            ],
            [
             0.8888888888888888,
             "#fdca26"
            ],
            [
             1,
             "#f0f921"
            ]
           ],
           "sequentialminus": [
            [
             0,
             "#0d0887"
            ],
            [
             0.1111111111111111,
             "#46039f"
            ],
            [
             0.2222222222222222,
             "#7201a8"
            ],
            [
             0.3333333333333333,
             "#9c179e"
            ],
            [
             0.4444444444444444,
             "#bd3786"
            ],
            [
             0.5555555555555556,
             "#d8576b"
            ],
            [
             0.6666666666666666,
             "#ed7953"
            ],
            [
             0.7777777777777778,
             "#fb9f3a"
            ],
            [
             0.8888888888888888,
             "#fdca26"
            ],
            [
             1,
             "#f0f921"
            ]
           ]
          },
          "colorway": [
           "#636efa",
           "#EF553B",
           "#00cc96",
           "#ab63fa",
           "#FFA15A",
           "#19d3f3",
           "#FF6692",
           "#B6E880",
           "#FF97FF",
           "#FECB52"
          ],
          "font": {
           "color": "#2a3f5f"
          },
          "geo": {
           "bgcolor": "white",
           "lakecolor": "white",
           "landcolor": "#E5ECF6",
           "showlakes": true,
           "showland": true,
           "subunitcolor": "white"
          },
          "hoverlabel": {
           "align": "left"
          },
          "hovermode": "closest",
          "mapbox": {
           "style": "light"
          },
          "paper_bgcolor": "white",
          "plot_bgcolor": "#E5ECF6",
          "polar": {
           "angularaxis": {
            "gridcolor": "white",
            "linecolor": "white",
            "ticks": ""
           },
           "bgcolor": "#E5ECF6",
           "radialaxis": {
            "gridcolor": "white",
            "linecolor": "white",
            "ticks": ""
           }
          },
          "scene": {
           "xaxis": {
            "backgroundcolor": "#E5ECF6",
            "gridcolor": "white",
            "gridwidth": 2,
            "linecolor": "white",
            "showbackground": true,
            "ticks": "",
            "zerolinecolor": "white"
           },
           "yaxis": {
            "backgroundcolor": "#E5ECF6",
            "gridcolor": "white",
            "gridwidth": 2,
            "linecolor": "white",
            "showbackground": true,
            "ticks": "",
            "zerolinecolor": "white"
           },
           "zaxis": {
            "backgroundcolor": "#E5ECF6",
            "gridcolor": "white",
            "gridwidth": 2,
            "linecolor": "white",
            "showbackground": true,
            "ticks": "",
            "zerolinecolor": "white"
           }
          },
          "shapedefaults": {
           "line": {
            "color": "#2a3f5f"
           }
          },
          "ternary": {
           "aaxis": {
            "gridcolor": "white",
            "linecolor": "white",
            "ticks": ""
           },
           "baxis": {
            "gridcolor": "white",
            "linecolor": "white",
            "ticks": ""
           },
           "bgcolor": "#E5ECF6",
           "caxis": {
            "gridcolor": "white",
            "linecolor": "white",
            "ticks": ""
           }
          },
          "title": {
           "x": 0.05
          },
          "xaxis": {
           "automargin": true,
           "gridcolor": "white",
           "linecolor": "white",
           "ticks": "",
           "title": {
            "standoff": 15
           },
           "zerolinecolor": "white",
           "zerolinewidth": 2
          },
          "yaxis": {
           "automargin": true,
           "gridcolor": "white",
           "linecolor": "white",
           "ticks": "",
           "title": {
            "standoff": 15
           },
           "zerolinecolor": "white",
           "zerolinewidth": 2
          }
         }
        },
        "title": {
         "text": "Economy flight prices based on daparture time"
        },
        "xaxis": {
         "anchor": "y",
         "domain": [
          0,
          1
         ],
         "title": {
          "text": "trip"
         }
        },
        "yaxis": {
         "anchor": "x",
         "domain": [
          0,
          1
         ],
         "title": {
          "text": "price"
         }
        }
       }
      },
      "text/html": [
       "<div>                            <div id=\"6241f781-4fa8-4a4a-b02b-9eb6f3975918\" class=\"plotly-graph-div\" style=\"height:525px; width:100%;\"></div>            <script type=\"text/javascript\">                require([\"plotly\"], function(Plotly) {                    window.PLOTLYENV=window.PLOTLYENV || {};                                    if (document.getElementById(\"6241f781-4fa8-4a4a-b02b-9eb6f3975918\")) {                    Plotly.newPlot(                        \"6241f781-4fa8-4a4a-b02b-9eb6f3975918\",                        [{\"hovertemplate\":\"departure_time=Afternoon<br>trip=%{x}<br>price=%{y}<extra></extra>\",\"legendgroup\":\"Afternoon\",\"marker\":{\"color\":\"#636efa\",\"symbol\":\"circle\"},\"mode\":\"markers\",\"name\":\"Afternoon\",\"orientation\":\"v\",\"showlegend\":true,\"x\":[\"Bangalore-Chennai\",\"Bangalore-Delhi\",\"Bangalore-Hyderabad\",\"Bangalore-Kolkata\",\"Bangalore-Mumbai\",\"Chennai-Bangalore\",\"Chennai-Delhi\",\"Chennai-Hyderabad\",\"Chennai-Kolkata\",\"Chennai-Mumbai\",\"Delhi-Bangalore\",\"Delhi-Chennai\",\"Delhi-Hyderabad\",\"Delhi-Kolkata\",\"Delhi-Mumbai\",\"Hyderabad-Bangalore\",\"Hyderabad-Chennai\",\"Hyderabad-Delhi\",\"Hyderabad-Kolkata\",\"Hyderabad-Mumbai\",\"Kolkata-Bangalore\",\"Kolkata-Chennai\",\"Kolkata-Delhi\",\"Kolkata-Hyderabad\",\"Kolkata-Mumbai\",\"Mumbai-Bangalore\",\"Mumbai-Chennai\",\"Mumbai-Delhi\",\"Mumbai-Hyderabad\",\"Mumbai-Kolkata\"],\"xaxis\":\"x\",\"y\":[6458.835051546392,6697.21187139324,6267.67381489842,6393.414719626168,6867.5808550185875,5711.913324708927,6476.703583061889,4841.547967479675,7744.773876404494,4786.089214380826,6187.555945590171,6428.42233357194,6480.708614864865,6902.115985130112,6223.398273070696,6100.352024922118,6070.925061425061,5942.795031055901,6649.221902017291,6005.235294117647,7236.138554216867,7904.897535667964,6447.646952323476,7368.902874132805,7433.856614929786,6179.319512195122,6551.205432937181,5592.775495750709,6004.94847605225,7393.85363357216],\"yaxis\":\"y\",\"type\":\"scatter\"},{\"hovertemplate\":\"departure_time=Early_Morning<br>trip=%{x}<br>price=%{y}<extra></extra>\",\"legendgroup\":\"Early_Morning\",\"marker\":{\"color\":\"#EF553B\",\"symbol\":\"circle\"},\"mode\":\"markers\",\"name\":\"Early_Morning\",\"orientation\":\"v\",\"showlegend\":true,\"x\":[\"Bangalore-Chennai\",\"Bangalore-Delhi\",\"Bangalore-Hyderabad\",\"Bangalore-Kolkata\",\"Bangalore-Mumbai\",\"Chennai-Bangalore\",\"Chennai-Delhi\",\"Chennai-Hyderabad\",\"Chennai-Kolkata\",\"Chennai-Mumbai\",\"Delhi-Bangalore\",\"Delhi-Chennai\",\"Delhi-Hyderabad\",\"Delhi-Kolkata\",\"Delhi-Mumbai\",\"Hyderabad-Bangalore\",\"Hyderabad-Chennai\",\"Hyderabad-Delhi\",\"Hyderabad-Kolkata\",\"Hyderabad-Mumbai\",\"Kolkata-Bangalore\",\"Kolkata-Chennai\",\"Kolkata-Delhi\",\"Kolkata-Hyderabad\",\"Kolkata-Mumbai\",\"Mumbai-Bangalore\",\"Mumbai-Chennai\",\"Mumbai-Delhi\",\"Mumbai-Hyderabad\",\"Mumbai-Kolkata\"],\"xaxis\":\"x\",\"y\":[7083.3322784810125,6201.080908445706,6197.104327666151,7296.7256275539985,6515.563328424153,8174.917587939699,6588.342709529276,7128.54899328859,8044.519911504425,6887.557534246575,6077.655355249205,6123.221331689272,5568.097848716169,6786.784924623115,6165.8852157943065,6016.622489959839,5375.325605900948,6225.049315068493,6615.354474370113,6036.568844221106,7424.841365461847,7615.003984063745,6043.957085828343,7117.772908366534,7443.102523659306,6636.041255605382,6554.737762237763,6304.641725352113,5549.361077111383,6894.4384765625],\"yaxis\":\"y\",\"type\":\"scatter\"},{\"hovertemplate\":\"departure_time=Evening<br>trip=%{x}<br>price=%{y}<extra></extra>\",\"legendgroup\":\"Evening\",\"marker\":{\"color\":\"#00cc96\",\"symbol\":\"circle\"},\"mode\":\"markers\",\"name\":\"Evening\",\"orientation\":\"v\",\"showlegend\":true,\"x\":[\"Bangalore-Chennai\",\"Bangalore-Delhi\",\"Bangalore-Hyderabad\",\"Bangalore-Kolkata\",\"Bangalore-Mumbai\",\"Chennai-Bangalore\",\"Chennai-Delhi\",\"Chennai-Hyderabad\",\"Chennai-Kolkata\",\"Chennai-Mumbai\",\"Delhi-Bangalore\",\"Delhi-Chennai\",\"Delhi-Hyderabad\",\"Delhi-Kolkata\",\"Delhi-Mumbai\",\"Hyderabad-Bangalore\",\"Hyderabad-Chennai\",\"Hyderabad-Delhi\",\"Hyderabad-Kolkata\",\"Hyderabad-Mumbai\",\"Kolkata-Bangalore\",\"Kolkata-Chennai\",\"Kolkata-Delhi\",\"Kolkata-Hyderabad\",\"Kolkata-Mumbai\",\"Mumbai-Bangalore\",\"Mumbai-Chennai\",\"Mumbai-Delhi\",\"Mumbai-Hyderabad\",\"Mumbai-Kolkata\"],\"xaxis\":\"x\",\"y\":[6714.022498060512,5856.0137201097605,6346.445297504799,7546.359133126935,5657.9946472019465,6881.307692307692,4713.877252252252,4950.026315789473,6552.902665121668,5923.969518190757,5989.518912027199,5990.985768500948,6199.2848557692305,7175.00121703854,5785.62890768665,5424.656538969617,5715.21676300578,5851.397333333333,6703.544268406337,6002.389009399855,7410.170520231214,8120.009744214372,7316.718218218218,7161.401673640167,7100.479315263909,6369.112255965293,6046.906796116505,5683.350951374207,5710.280361757106,7489.118441558441],\"yaxis\":\"y\",\"type\":\"scatter\"},{\"hovertemplate\":\"departure_time=Late_Night<br>trip=%{x}<br>price=%{y}<extra></extra>\",\"legendgroup\":\"Late_Night\",\"marker\":{\"color\":\"#ab63fa\",\"symbol\":\"circle\"},\"mode\":\"markers\",\"name\":\"Late_Night\",\"orientation\":\"v\",\"showlegend\":true,\"x\":[\"Bangalore-Chennai\",\"Bangalore-Delhi\",\"Bangalore-Hyderabad\",\"Bangalore-Kolkata\",\"Bangalore-Mumbai\",\"Chennai-Kolkata\",\"Delhi-Bangalore\",\"Delhi-Chennai\",\"Delhi-Kolkata\",\"Delhi-Mumbai\",\"Hyderabad-Kolkata\",\"Kolkata-Delhi\",\"Kolkata-Hyderabad\",\"Kolkata-Mumbai\",\"Mumbai-Bangalore\",\"Mumbai-Chennai\",\"Mumbai-Delhi\",\"Mumbai-Kolkata\"],\"xaxis\":\"x\",\"y\":[8068.0,6600.877192982456,7568.833333333333,4055.3253012048194,5523.720930232558,5294.111111111111,4517.509259259259,4200.064935064935,5981.721518987341,2857.2688172043013,3438.5,5330.740740740741,6653.548387096775,5004.862068965517,2634.6857142857143,6794.75,3229.365517241379,5342.825],\"yaxis\":\"y\",\"type\":\"scatter\"},{\"hovertemplate\":\"departure_time=Morning<br>trip=%{x}<br>price=%{y}<extra></extra>\",\"legendgroup\":\"Morning\",\"marker\":{\"color\":\"#FFA15A\",\"symbol\":\"circle\"},\"mode\":\"markers\",\"name\":\"Morning\",\"orientation\":\"v\",\"showlegend\":true,\"x\":[\"Bangalore-Chennai\",\"Bangalore-Delhi\",\"Bangalore-Hyderabad\",\"Bangalore-Kolkata\",\"Bangalore-Mumbai\",\"Chennai-Bangalore\",\"Chennai-Delhi\",\"Chennai-Hyderabad\",\"Chennai-Kolkata\",\"Chennai-Mumbai\",\"Delhi-Bangalore\",\"Delhi-Chennai\",\"Delhi-Hyderabad\",\"Delhi-Kolkata\",\"Delhi-Mumbai\",\"Hyderabad-Bangalore\",\"Hyderabad-Chennai\",\"Hyderabad-Delhi\",\"Hyderabad-Kolkata\",\"Hyderabad-Mumbai\",\"Kolkata-Bangalore\",\"Kolkata-Chennai\",\"Kolkata-Delhi\",\"Kolkata-Hyderabad\",\"Kolkata-Mumbai\",\"Mumbai-Bangalore\",\"Mumbai-Chennai\",\"Mumbai-Delhi\",\"Mumbai-Hyderabad\",\"Mumbai-Kolkata\"],\"xaxis\":\"x\",\"y\":[7883.045256744996,6413.67686926104,6689.966101694915,8320.152954808806,7310.019315673289,7639.016965127238,6211.467930842164,6236.085759244689,7695.0496350364965,7286.86601836845,6644.089808668489,6334.141277641278,6235.871308016877,7410.817989417989,6569.688214818499,6726.108662613981,6535.268415741675,6117.352867830424,7293.9004360465115,6388.557057057057,7918.493765586035,8974.152959262106,7790.217111770524,8247.341824644549,8125.210307131702,7234.993721461187,6948.778015703069,6547.380701093102,6405.153359683794,8101.582034149963],\"yaxis\":\"y\",\"type\":\"scatter\"},{\"hovertemplate\":\"departure_time=Night<br>trip=%{x}<br>price=%{y}<extra></extra>\",\"legendgroup\":\"Night\",\"marker\":{\"color\":\"#19d3f3\",\"symbol\":\"circle\"},\"mode\":\"markers\",\"name\":\"Night\",\"orientation\":\"v\",\"showlegend\":true,\"x\":[\"Bangalore-Chennai\",\"Bangalore-Delhi\",\"Bangalore-Hyderabad\",\"Bangalore-Kolkata\",\"Bangalore-Mumbai\",\"Chennai-Bangalore\",\"Chennai-Delhi\",\"Chennai-Hyderabad\",\"Chennai-Kolkata\",\"Chennai-Mumbai\",\"Delhi-Bangalore\",\"Delhi-Chennai\",\"Delhi-Hyderabad\",\"Delhi-Kolkata\",\"Delhi-Mumbai\",\"Hyderabad-Bangalore\",\"Hyderabad-Chennai\",\"Hyderabad-Delhi\",\"Hyderabad-Kolkata\",\"Hyderabad-Mumbai\",\"Kolkata-Bangalore\",\"Kolkata-Chennai\",\"Kolkata-Delhi\",\"Kolkata-Hyderabad\",\"Kolkata-Mumbai\",\"Mumbai-Bangalore\",\"Mumbai-Chennai\",\"Mumbai-Delhi\",\"Mumbai-Hyderabad\",\"Mumbai-Kolkata\"],\"xaxis\":\"x\",\"y\":[6643.303317535545,5164.164959016393,6123.393487109905,6643.649888143177,5366.871743486974,6849.1972602739725,5584.907441016334,6190.402298850575,7792.320430107527,6527.914735099338,5731.320794148381,5519.913669064748,5530.212643678161,6800.431638418079,5602.3359929078015,6512.115724381625,6577.576271186441,6122.323386537127,7207.455424274973,5357.126382306477,7241.0528,6895.6383720930235,7918.028624192059,6974.22952710496,6741.820187165776,5441.018257261411,5824.847660500544,4841.165381920112,5220.584549356223,6404.235211267605],\"yaxis\":\"y\",\"type\":\"scatter\"}],                        {\"template\":{\"data\":{\"histogram2dcontour\":[{\"type\":\"histogram2dcontour\",\"colorbar\":{\"outlinewidth\":0,\"ticks\":\"\"},\"colorscale\":[[0.0,\"#0d0887\"],[0.1111111111111111,\"#46039f\"],[0.2222222222222222,\"#7201a8\"],[0.3333333333333333,\"#9c179e\"],[0.4444444444444444,\"#bd3786\"],[0.5555555555555556,\"#d8576b\"],[0.6666666666666666,\"#ed7953\"],[0.7777777777777778,\"#fb9f3a\"],[0.8888888888888888,\"#fdca26\"],[1.0,\"#f0f921\"]]}],\"choropleth\":[{\"type\":\"choropleth\",\"colorbar\":{\"outlinewidth\":0,\"ticks\":\"\"}}],\"histogram2d\":[{\"type\":\"histogram2d\",\"colorbar\":{\"outlinewidth\":0,\"ticks\":\"\"},\"colorscale\":[[0.0,\"#0d0887\"],[0.1111111111111111,\"#46039f\"],[0.2222222222222222,\"#7201a8\"],[0.3333333333333333,\"#9c179e\"],[0.4444444444444444,\"#bd3786\"],[0.5555555555555556,\"#d8576b\"],[0.6666666666666666,\"#ed7953\"],[0.7777777777777778,\"#fb9f3a\"],[0.8888888888888888,\"#fdca26\"],[1.0,\"#f0f921\"]]}],\"heatmap\":[{\"type\":\"heatmap\",\"colorbar\":{\"outlinewidth\":0,\"ticks\":\"\"},\"colorscale\":[[0.0,\"#0d0887\"],[0.1111111111111111,\"#46039f\"],[0.2222222222222222,\"#7201a8\"],[0.3333333333333333,\"#9c179e\"],[0.4444444444444444,\"#bd3786\"],[0.5555555555555556,\"#d8576b\"],[0.6666666666666666,\"#ed7953\"],[0.7777777777777778,\"#fb9f3a\"],[0.8888888888888888,\"#fdca26\"],[1.0,\"#f0f921\"]]}],\"heatmapgl\":[{\"type\":\"heatmapgl\",\"colorbar\":{\"outlinewidth\":0,\"ticks\":\"\"},\"colorscale\":[[0.0,\"#0d0887\"],[0.1111111111111111,\"#46039f\"],[0.2222222222222222,\"#7201a8\"],[0.3333333333333333,\"#9c179e\"],[0.4444444444444444,\"#bd3786\"],[0.5555555555555556,\"#d8576b\"],[0.6666666666666666,\"#ed7953\"],[0.7777777777777778,\"#fb9f3a\"],[0.8888888888888888,\"#fdca26\"],[1.0,\"#f0f921\"]]}],\"contourcarpet\":[{\"type\":\"contourcarpet\",\"colorbar\":{\"outlinewidth\":0,\"ticks\":\"\"}}],\"contour\":[{\"type\":\"contour\",\"colorbar\":{\"outlinewidth\":0,\"ticks\":\"\"},\"colorscale\":[[0.0,\"#0d0887\"],[0.1111111111111111,\"#46039f\"],[0.2222222222222222,\"#7201a8\"],[0.3333333333333333,\"#9c179e\"],[0.4444444444444444,\"#bd3786\"],[0.5555555555555556,\"#d8576b\"],[0.6666666666666666,\"#ed7953\"],[0.7777777777777778,\"#fb9f3a\"],[0.8888888888888888,\"#fdca26\"],[1.0,\"#f0f921\"]]}],\"surface\":[{\"type\":\"surface\",\"colorbar\":{\"outlinewidth\":0,\"ticks\":\"\"},\"colorscale\":[[0.0,\"#0d0887\"],[0.1111111111111111,\"#46039f\"],[0.2222222222222222,\"#7201a8\"],[0.3333333333333333,\"#9c179e\"],[0.4444444444444444,\"#bd3786\"],[0.5555555555555556,\"#d8576b\"],[0.6666666666666666,\"#ed7953\"],[0.7777777777777778,\"#fb9f3a\"],[0.8888888888888888,\"#fdca26\"],[1.0,\"#f0f921\"]]}],\"mesh3d\":[{\"type\":\"mesh3d\",\"colorbar\":{\"outlinewidth\":0,\"ticks\":\"\"}}],\"scatter\":[{\"fillpattern\":{\"fillmode\":\"overlay\",\"size\":10,\"solidity\":0.2},\"type\":\"scatter\"}],\"parcoords\":[{\"type\":\"parcoords\",\"line\":{\"colorbar\":{\"outlinewidth\":0,\"ticks\":\"\"}}}],\"scatterpolargl\":[{\"type\":\"scatterpolargl\",\"marker\":{\"colorbar\":{\"outlinewidth\":0,\"ticks\":\"\"}}}],\"bar\":[{\"error_x\":{\"color\":\"#2a3f5f\"},\"error_y\":{\"color\":\"#2a3f5f\"},\"marker\":{\"line\":{\"color\":\"#E5ECF6\",\"width\":0.5},\"pattern\":{\"fillmode\":\"overlay\",\"size\":10,\"solidity\":0.2}},\"type\":\"bar\"}],\"scattergeo\":[{\"type\":\"scattergeo\",\"marker\":{\"colorbar\":{\"outlinewidth\":0,\"ticks\":\"\"}}}],\"scatterpolar\":[{\"type\":\"scatterpolar\",\"marker\":{\"colorbar\":{\"outlinewidth\":0,\"ticks\":\"\"}}}],\"histogram\":[{\"marker\":{\"pattern\":{\"fillmode\":\"overlay\",\"size\":10,\"solidity\":0.2}},\"type\":\"histogram\"}],\"scattergl\":[{\"type\":\"scattergl\",\"marker\":{\"colorbar\":{\"outlinewidth\":0,\"ticks\":\"\"}}}],\"scatter3d\":[{\"type\":\"scatter3d\",\"line\":{\"colorbar\":{\"outlinewidth\":0,\"ticks\":\"\"}},\"marker\":{\"colorbar\":{\"outlinewidth\":0,\"ticks\":\"\"}}}],\"scattermapbox\":[{\"type\":\"scattermapbox\",\"marker\":{\"colorbar\":{\"outlinewidth\":0,\"ticks\":\"\"}}}],\"scatterternary\":[{\"type\":\"scatterternary\",\"marker\":{\"colorbar\":{\"outlinewidth\":0,\"ticks\":\"\"}}}],\"scattercarpet\":[{\"type\":\"scattercarpet\",\"marker\":{\"colorbar\":{\"outlinewidth\":0,\"ticks\":\"\"}}}],\"carpet\":[{\"aaxis\":{\"endlinecolor\":\"#2a3f5f\",\"gridcolor\":\"white\",\"linecolor\":\"white\",\"minorgridcolor\":\"white\",\"startlinecolor\":\"#2a3f5f\"},\"baxis\":{\"endlinecolor\":\"#2a3f5f\",\"gridcolor\":\"white\",\"linecolor\":\"white\",\"minorgridcolor\":\"white\",\"startlinecolor\":\"#2a3f5f\"},\"type\":\"carpet\"}],\"table\":[{\"cells\":{\"fill\":{\"color\":\"#EBF0F8\"},\"line\":{\"color\":\"white\"}},\"header\":{\"fill\":{\"color\":\"#C8D4E3\"},\"line\":{\"color\":\"white\"}},\"type\":\"table\"}],\"barpolar\":[{\"marker\":{\"line\":{\"color\":\"#E5ECF6\",\"width\":0.5},\"pattern\":{\"fillmode\":\"overlay\",\"size\":10,\"solidity\":0.2}},\"type\":\"barpolar\"}],\"pie\":[{\"automargin\":true,\"type\":\"pie\"}]},\"layout\":{\"autotypenumbers\":\"strict\",\"colorway\":[\"#636efa\",\"#EF553B\",\"#00cc96\",\"#ab63fa\",\"#FFA15A\",\"#19d3f3\",\"#FF6692\",\"#B6E880\",\"#FF97FF\",\"#FECB52\"],\"font\":{\"color\":\"#2a3f5f\"},\"hovermode\":\"closest\",\"hoverlabel\":{\"align\":\"left\"},\"paper_bgcolor\":\"white\",\"plot_bgcolor\":\"#E5ECF6\",\"polar\":{\"bgcolor\":\"#E5ECF6\",\"angularaxis\":{\"gridcolor\":\"white\",\"linecolor\":\"white\",\"ticks\":\"\"},\"radialaxis\":{\"gridcolor\":\"white\",\"linecolor\":\"white\",\"ticks\":\"\"}},\"ternary\":{\"bgcolor\":\"#E5ECF6\",\"aaxis\":{\"gridcolor\":\"white\",\"linecolor\":\"white\",\"ticks\":\"\"},\"baxis\":{\"gridcolor\":\"white\",\"linecolor\":\"white\",\"ticks\":\"\"},\"caxis\":{\"gridcolor\":\"white\",\"linecolor\":\"white\",\"ticks\":\"\"}},\"coloraxis\":{\"colorbar\":{\"outlinewidth\":0,\"ticks\":\"\"}},\"colorscale\":{\"sequential\":[[0.0,\"#0d0887\"],[0.1111111111111111,\"#46039f\"],[0.2222222222222222,\"#7201a8\"],[0.3333333333333333,\"#9c179e\"],[0.4444444444444444,\"#bd3786\"],[0.5555555555555556,\"#d8576b\"],[0.6666666666666666,\"#ed7953\"],[0.7777777777777778,\"#fb9f3a\"],[0.8888888888888888,\"#fdca26\"],[1.0,\"#f0f921\"]],\"sequentialminus\":[[0.0,\"#0d0887\"],[0.1111111111111111,\"#46039f\"],[0.2222222222222222,\"#7201a8\"],[0.3333333333333333,\"#9c179e\"],[0.4444444444444444,\"#bd3786\"],[0.5555555555555556,\"#d8576b\"],[0.6666666666666666,\"#ed7953\"],[0.7777777777777778,\"#fb9f3a\"],[0.8888888888888888,\"#fdca26\"],[1.0,\"#f0f921\"]],\"diverging\":[[0,\"#8e0152\"],[0.1,\"#c51b7d\"],[0.2,\"#de77ae\"],[0.3,\"#f1b6da\"],[0.4,\"#fde0ef\"],[0.5,\"#f7f7f7\"],[0.6,\"#e6f5d0\"],[0.7,\"#b8e186\"],[0.8,\"#7fbc41\"],[0.9,\"#4d9221\"],[1,\"#276419\"]]},\"xaxis\":{\"gridcolor\":\"white\",\"linecolor\":\"white\",\"ticks\":\"\",\"title\":{\"standoff\":15},\"zerolinecolor\":\"white\",\"automargin\":true,\"zerolinewidth\":2},\"yaxis\":{\"gridcolor\":\"white\",\"linecolor\":\"white\",\"ticks\":\"\",\"title\":{\"standoff\":15},\"zerolinecolor\":\"white\",\"automargin\":true,\"zerolinewidth\":2},\"scene\":{\"xaxis\":{\"backgroundcolor\":\"#E5ECF6\",\"gridcolor\":\"white\",\"linecolor\":\"white\",\"showbackground\":true,\"ticks\":\"\",\"zerolinecolor\":\"white\",\"gridwidth\":2},\"yaxis\":{\"backgroundcolor\":\"#E5ECF6\",\"gridcolor\":\"white\",\"linecolor\":\"white\",\"showbackground\":true,\"ticks\":\"\",\"zerolinecolor\":\"white\",\"gridwidth\":2},\"zaxis\":{\"backgroundcolor\":\"#E5ECF6\",\"gridcolor\":\"white\",\"linecolor\":\"white\",\"showbackground\":true,\"ticks\":\"\",\"zerolinecolor\":\"white\",\"gridwidth\":2}},\"shapedefaults\":{\"line\":{\"color\":\"#2a3f5f\"}},\"annotationdefaults\":{\"arrowcolor\":\"#2a3f5f\",\"arrowhead\":0,\"arrowwidth\":1},\"geo\":{\"bgcolor\":\"white\",\"landcolor\":\"#E5ECF6\",\"subunitcolor\":\"white\",\"showland\":true,\"showlakes\":true,\"lakecolor\":\"white\"},\"title\":{\"x\":0.05},\"mapbox\":{\"style\":\"light\"}}},\"xaxis\":{\"anchor\":\"y\",\"domain\":[0.0,1.0],\"title\":{\"text\":\"trip\"}},\"yaxis\":{\"anchor\":\"x\",\"domain\":[0.0,1.0],\"title\":{\"text\":\"price\"}},\"legend\":{\"title\":{\"text\":\"departure_time\"},\"tracegroupgap\":0},\"title\":{\"text\":\"Economy flight prices based on daparture time\"}},                        {\"responsive\": true}                    ).then(function(){\n",
       "                            \n",
       "var gd = document.getElementById('6241f781-4fa8-4a4a-b02b-9eb6f3975918');\n",
       "var x = new MutationObserver(function (mutations, observer) {{\n",
       "        var display = window.getComputedStyle(gd).display;\n",
       "        if (!display || display === 'none') {{\n",
       "            console.log([gd, 'removed!']);\n",
       "            Plotly.purge(gd);\n",
       "            observer.disconnect();\n",
       "        }}\n",
       "}});\n",
       "\n",
       "// Listen for the removal of the full notebook cells\n",
       "var notebookContainer = gd.closest('#notebook-container');\n",
       "if (notebookContainer) {{\n",
       "    x.observe(notebookContainer, {childList: true});\n",
       "}}\n",
       "\n",
       "// Listen for the clearing of the current output cell\n",
       "var outputEl = gd.closest('.output');\n",
       "if (outputEl) {{\n",
       "    x.observe(outputEl, {childList: true});\n",
       "}}\n",
       "\n",
       "                        })                };                });            </script>        </div>"
      ]
     },
     "metadata": {},
     "output_type": "display_data"
    }
   ],
   "source": [
    "px.scatter(df1, \n",
    "           x= 'trip',\n",
    "           y= 'price',\n",
    "           color= 'departure_time',\n",
    "           title= 'Economy flight prices based on daparture time'\n",
    "           )"
   ]
  },
  {
   "cell_type": "code",
   "execution_count": 19,
   "metadata": {},
   "outputs": [
    {
     "data": {
      "application/vnd.plotly.v1+json": {
       "config": {
        "plotlyServerURL": "https://plot.ly"
       },
       "data": [
        {
         "hovertemplate": "departure_time=Afternoon<br>trip=%{x}<br>price=%{y}<extra></extra>",
         "legendgroup": "Afternoon",
         "marker": {
          "color": "#636efa",
          "symbol": "circle"
         },
         "mode": "markers",
         "name": "Afternoon",
         "orientation": "v",
         "showlegend": true,
         "type": "scatter",
         "x": [
          "Bangalore-Chennai",
          "Bangalore-Delhi",
          "Bangalore-Hyderabad",
          "Bangalore-Kolkata",
          "Bangalore-Mumbai",
          "Chennai-Bangalore",
          "Chennai-Delhi",
          "Chennai-Hyderabad",
          "Chennai-Kolkata",
          "Chennai-Mumbai",
          "Delhi-Bangalore",
          "Delhi-Chennai",
          "Delhi-Hyderabad",
          "Delhi-Kolkata",
          "Delhi-Mumbai",
          "Hyderabad-Bangalore",
          "Hyderabad-Chennai",
          "Hyderabad-Delhi",
          "Hyderabad-Kolkata",
          "Hyderabad-Mumbai",
          "Kolkata-Bangalore",
          "Kolkata-Chennai",
          "Kolkata-Delhi",
          "Kolkata-Hyderabad",
          "Kolkata-Mumbai",
          "Mumbai-Bangalore",
          "Mumbai-Chennai",
          "Mumbai-Delhi",
          "Mumbai-Hyderabad",
          "Mumbai-Kolkata"
         ],
         "xaxis": "x",
         "y": [
          60339.07462686567,
          43709.38502673797,
          55182.9435483871,
          52122.11724137931,
          50790.70479704797,
          45328.207920792076,
          56403.740157480315,
          43331.55778894472,
          55090.81081081081,
          26683.048,
          48423.94944707741,
          54094.70809792844,
          45086.20042194093,
          54672.16144578313,
          43322.545859305435,
          44381.57026476578,
          53586.95701357466,
          48022.763636363634,
          55587.87173396675,
          51881.75675675676,
          60444.58967391304,
          57494.77259475218,
          41646.31065088757,
          53436.555555555555,
          57959.5020661157,
          58514.18070444104,
          56689.110878661086,
          42797.25801011804,
          52241.79157894737,
          57277.096551724135
         ],
         "yaxis": "y"
        },
        {
         "hovertemplate": "departure_time=Early_Morning<br>trip=%{x}<br>price=%{y}<extra></extra>",
         "legendgroup": "Early_Morning",
         "marker": {
          "color": "#EF553B",
          "symbol": "circle"
         },
         "mode": "markers",
         "name": "Early_Morning",
         "orientation": "v",
         "showlegend": true,
         "type": "scatter",
         "x": [
          "Bangalore-Chennai",
          "Bangalore-Delhi",
          "Bangalore-Hyderabad",
          "Bangalore-Kolkata",
          "Bangalore-Mumbai",
          "Chennai-Bangalore",
          "Chennai-Delhi",
          "Chennai-Hyderabad",
          "Chennai-Kolkata",
          "Chennai-Mumbai",
          "Delhi-Bangalore",
          "Delhi-Chennai",
          "Delhi-Hyderabad",
          "Delhi-Kolkata",
          "Delhi-Mumbai",
          "Hyderabad-Bangalore",
          "Hyderabad-Chennai",
          "Hyderabad-Delhi",
          "Hyderabad-Kolkata",
          "Hyderabad-Mumbai",
          "Kolkata-Bangalore",
          "Kolkata-Chennai",
          "Kolkata-Delhi",
          "Kolkata-Hyderabad",
          "Kolkata-Mumbai",
          "Mumbai-Bangalore",
          "Mumbai-Chennai",
          "Mumbai-Delhi",
          "Mumbai-Hyderabad",
          "Mumbai-Kolkata"
         ],
         "xaxis": "x",
         "y": [
          54513.901639344265,
          45805.10612691466,
          49152.42050520059,
          57653.60582822086,
          59107.92578710645,
          54142.410769230766,
          52431.420994475135,
          50686.45029239766,
          55637.24270072993,
          54612.40023337223,
          50714.5861423221,
          52289.725165562915,
          45245.20267260579,
          57267.22528363047,
          47604.51564185545,
          56347.04513064133,
          50823.631097560974,
          40211.48051948052,
          49863.71867612293,
          53920.59212050985,
          62321.01511335013,
          55575.70469798658,
          30459.980582524273,
          52922.37195121951,
          58407.454225352114,
          55999.68571428571,
          54305.46658851114,
          44106.522660818715,
          48765.7734939759,
          52890.09841628959
         ],
         "yaxis": "y"
        },
        {
         "hovertemplate": "departure_time=Evening<br>trip=%{x}<br>price=%{y}<extra></extra>",
         "legendgroup": "Evening",
         "marker": {
          "color": "#00cc96",
          "symbol": "circle"
         },
         "mode": "markers",
         "name": "Evening",
         "orientation": "v",
         "showlegend": true,
         "type": "scatter",
         "x": [
          "Bangalore-Chennai",
          "Bangalore-Delhi",
          "Bangalore-Hyderabad",
          "Bangalore-Kolkata",
          "Bangalore-Mumbai",
          "Chennai-Bangalore",
          "Chennai-Delhi",
          "Chennai-Hyderabad",
          "Chennai-Kolkata",
          "Chennai-Mumbai",
          "Delhi-Bangalore",
          "Delhi-Chennai",
          "Delhi-Hyderabad",
          "Delhi-Kolkata",
          "Delhi-Mumbai",
          "Hyderabad-Bangalore",
          "Hyderabad-Chennai",
          "Hyderabad-Delhi",
          "Hyderabad-Kolkata",
          "Hyderabad-Mumbai",
          "Kolkata-Bangalore",
          "Kolkata-Chennai",
          "Kolkata-Delhi",
          "Kolkata-Hyderabad",
          "Kolkata-Mumbai",
          "Mumbai-Bangalore",
          "Mumbai-Chennai",
          "Mumbai-Delhi",
          "Mumbai-Hyderabad",
          "Mumbai-Kolkata"
         ],
         "xaxis": "x",
         "y": [
          48895.696275071634,
          48021.692679002415,
          50409.180102915954,
          59928.361518550475,
          56892.92256637168,
          60697.0861423221,
          37060.17808219178,
          56073.12987012987,
          62096.563888888886,
          58220.744635193136,
          48133.99249374479,
          51808.177532597794,
          46636.40026420079,
          59030.65517241379,
          43400.890835579514,
          60601.82671480144,
          54685.39261744967,
          26361.042553191488,
          56065.45930232558,
          55149.13003095975,
          55929.36863823934,
          55111.713983050846,
          54286.81477398016,
          48445.56689342404,
          52551.70576131687,
          57986.330148619956,
          57516.924221921516,
          41523.26902465166,
          53486.052369077304,
          59512.11513157895
         ],
         "yaxis": "y"
        },
        {
         "hovertemplate": "departure_time=Late_Night<br>trip=%{x}<br>price=%{y}<extra></extra>",
         "legendgroup": "Late_Night",
         "marker": {
          "color": "#ab63fa",
          "symbol": "circle"
         },
         "mode": "markers",
         "name": "Late_Night",
         "orientation": "v",
         "showlegend": true,
         "type": "scatter",
         "x": [
          "Bangalore-Chennai",
          "Bangalore-Delhi",
          "Bangalore-Hyderabad",
          "Bangalore-Kolkata",
          "Bangalore-Mumbai"
         ],
         "xaxis": "x",
         "y": [
          44682,
          52586,
          44432,
          25000,
          56058
         ],
         "yaxis": "y"
        },
        {
         "hovertemplate": "departure_time=Morning<br>trip=%{x}<br>price=%{y}<extra></extra>",
         "legendgroup": "Morning",
         "marker": {
          "color": "#FFA15A",
          "symbol": "circle"
         },
         "mode": "markers",
         "name": "Morning",
         "orientation": "v",
         "showlegend": true,
         "type": "scatter",
         "x": [
          "Bangalore-Chennai",
          "Bangalore-Delhi",
          "Bangalore-Hyderabad",
          "Bangalore-Kolkata",
          "Bangalore-Mumbai",
          "Chennai-Bangalore",
          "Chennai-Delhi",
          "Chennai-Hyderabad",
          "Chennai-Kolkata",
          "Chennai-Mumbai",
          "Delhi-Bangalore",
          "Delhi-Chennai",
          "Delhi-Hyderabad",
          "Delhi-Kolkata",
          "Delhi-Mumbai",
          "Hyderabad-Bangalore",
          "Hyderabad-Chennai",
          "Hyderabad-Delhi",
          "Hyderabad-Kolkata",
          "Hyderabad-Mumbai",
          "Kolkata-Bangalore",
          "Kolkata-Chennai",
          "Kolkata-Delhi",
          "Kolkata-Hyderabad",
          "Kolkata-Mumbai",
          "Mumbai-Bangalore",
          "Mumbai-Chennai",
          "Mumbai-Delhi",
          "Mumbai-Hyderabad",
          "Mumbai-Kolkata"
         ],
         "xaxis": "x",
         "y": [
          53040.175958188156,
          50620.78125,
          49360.666666666664,
          59384.982881597716,
          59137.10815602837,
          53773.527407407404,
          52156.067001675045,
          53316.03979238754,
          54089.468330134354,
          59264.834333733495,
          49154.63746505126,
          51702.421768707485,
          42981.5586510264,
          55437.87,
          43284.03202846975,
          47737.90948275862,
          50968.653225806454,
          45319.65770862801,
          54447.41419141914,
          50231.79851851852,
          58408.88759124088,
          57741.932021466906,
          63426.96005706134,
          61439.8647887324,
          60011.07780320366,
          60700.930785123965,
          55070.91705069124,
          45158.28712174525,
          52393.41330998249,
          60434.781629116114
         ],
         "yaxis": "y"
        },
        {
         "hovertemplate": "departure_time=Night<br>trip=%{x}<br>price=%{y}<extra></extra>",
         "legendgroup": "Night",
         "marker": {
          "color": "#19d3f3",
          "symbol": "circle"
         },
         "mode": "markers",
         "name": "Night",
         "orientation": "v",
         "showlegend": true,
         "type": "scatter",
         "x": [
          "Bangalore-Chennai",
          "Bangalore-Delhi",
          "Bangalore-Hyderabad",
          "Bangalore-Kolkata",
          "Bangalore-Mumbai",
          "Chennai-Bangalore",
          "Chennai-Delhi",
          "Chennai-Hyderabad",
          "Chennai-Kolkata",
          "Chennai-Mumbai",
          "Delhi-Bangalore",
          "Delhi-Chennai",
          "Delhi-Hyderabad",
          "Delhi-Kolkata",
          "Delhi-Mumbai",
          "Hyderabad-Bangalore",
          "Hyderabad-Chennai",
          "Hyderabad-Delhi",
          "Hyderabad-Kolkata",
          "Hyderabad-Mumbai",
          "Kolkata-Bangalore",
          "Kolkata-Chennai",
          "Kolkata-Delhi",
          "Kolkata-Hyderabad",
          "Kolkata-Mumbai",
          "Mumbai-Bangalore",
          "Mumbai-Chennai",
          "Mumbai-Delhi",
          "Mumbai-Hyderabad",
          "Mumbai-Kolkata"
         ],
         "xaxis": "x",
         "y": [
          52642.95625,
          49235.80092592593,
          52393.53779697624,
          60469.71888412017,
          58637.77985074627,
          53122.633644859816,
          53177.76895943563,
          50912.81983805668,
          58833.63127413127,
          58314.60779220779,
          45926.67599067599,
          49913.441624365485,
          41094.236363636366,
          51605.916666666664,
          45613.74268104776,
          49612.48944099379,
          47621.63110307414,
          44592.82824858757,
          53066.39794168096,
          50923.92298136646,
          58804.575033200534,
          56292.04631578947,
          57977.352574102966,
          52863.99587628866,
          55934.28592814371,
          56346.51814516129,
          55380.30218068536,
          44667.79797979798,
          51674.543640897755,
          56407.01780821918
         ],
         "yaxis": "y"
        }
       ],
       "layout": {
        "legend": {
         "title": {
          "text": "departure_time"
         },
         "tracegroupgap": 0
        },
        "template": {
         "data": {
          "bar": [
           {
            "error_x": {
             "color": "#2a3f5f"
            },
            "error_y": {
             "color": "#2a3f5f"
            },
            "marker": {
             "line": {
              "color": "#E5ECF6",
              "width": 0.5
             },
             "pattern": {
              "fillmode": "overlay",
              "size": 10,
              "solidity": 0.2
             }
            },
            "type": "bar"
           }
          ],
          "barpolar": [
           {
            "marker": {
             "line": {
              "color": "#E5ECF6",
              "width": 0.5
             },
             "pattern": {
              "fillmode": "overlay",
              "size": 10,
              "solidity": 0.2
             }
            },
            "type": "barpolar"
           }
          ],
          "carpet": [
           {
            "aaxis": {
             "endlinecolor": "#2a3f5f",
             "gridcolor": "white",
             "linecolor": "white",
             "minorgridcolor": "white",
             "startlinecolor": "#2a3f5f"
            },
            "baxis": {
             "endlinecolor": "#2a3f5f",
             "gridcolor": "white",
             "linecolor": "white",
             "minorgridcolor": "white",
             "startlinecolor": "#2a3f5f"
            },
            "type": "carpet"
           }
          ],
          "choropleth": [
           {
            "colorbar": {
             "outlinewidth": 0,
             "ticks": ""
            },
            "type": "choropleth"
           }
          ],
          "contour": [
           {
            "colorbar": {
             "outlinewidth": 0,
             "ticks": ""
            },
            "colorscale": [
             [
              0,
              "#0d0887"
             ],
             [
              0.1111111111111111,
              "#46039f"
             ],
             [
              0.2222222222222222,
              "#7201a8"
             ],
             [
              0.3333333333333333,
              "#9c179e"
             ],
             [
              0.4444444444444444,
              "#bd3786"
             ],
             [
              0.5555555555555556,
              "#d8576b"
             ],
             [
              0.6666666666666666,
              "#ed7953"
             ],
             [
              0.7777777777777778,
              "#fb9f3a"
             ],
             [
              0.8888888888888888,
              "#fdca26"
             ],
             [
              1,
              "#f0f921"
             ]
            ],
            "type": "contour"
           }
          ],
          "contourcarpet": [
           {
            "colorbar": {
             "outlinewidth": 0,
             "ticks": ""
            },
            "type": "contourcarpet"
           }
          ],
          "heatmap": [
           {
            "colorbar": {
             "outlinewidth": 0,
             "ticks": ""
            },
            "colorscale": [
             [
              0,
              "#0d0887"
             ],
             [
              0.1111111111111111,
              "#46039f"
             ],
             [
              0.2222222222222222,
              "#7201a8"
             ],
             [
              0.3333333333333333,
              "#9c179e"
             ],
             [
              0.4444444444444444,
              "#bd3786"
             ],
             [
              0.5555555555555556,
              "#d8576b"
             ],
             [
              0.6666666666666666,
              "#ed7953"
             ],
             [
              0.7777777777777778,
              "#fb9f3a"
             ],
             [
              0.8888888888888888,
              "#fdca26"
             ],
             [
              1,
              "#f0f921"
             ]
            ],
            "type": "heatmap"
           }
          ],
          "heatmapgl": [
           {
            "colorbar": {
             "outlinewidth": 0,
             "ticks": ""
            },
            "colorscale": [
             [
              0,
              "#0d0887"
             ],
             [
              0.1111111111111111,
              "#46039f"
             ],
             [
              0.2222222222222222,
              "#7201a8"
             ],
             [
              0.3333333333333333,
              "#9c179e"
             ],
             [
              0.4444444444444444,
              "#bd3786"
             ],
             [
              0.5555555555555556,
              "#d8576b"
             ],
             [
              0.6666666666666666,
              "#ed7953"
             ],
             [
              0.7777777777777778,
              "#fb9f3a"
             ],
             [
              0.8888888888888888,
              "#fdca26"
             ],
             [
              1,
              "#f0f921"
             ]
            ],
            "type": "heatmapgl"
           }
          ],
          "histogram": [
           {
            "marker": {
             "pattern": {
              "fillmode": "overlay",
              "size": 10,
              "solidity": 0.2
             }
            },
            "type": "histogram"
           }
          ],
          "histogram2d": [
           {
            "colorbar": {
             "outlinewidth": 0,
             "ticks": ""
            },
            "colorscale": [
             [
              0,
              "#0d0887"
             ],
             [
              0.1111111111111111,
              "#46039f"
             ],
             [
              0.2222222222222222,
              "#7201a8"
             ],
             [
              0.3333333333333333,
              "#9c179e"
             ],
             [
              0.4444444444444444,
              "#bd3786"
             ],
             [
              0.5555555555555556,
              "#d8576b"
             ],
             [
              0.6666666666666666,
              "#ed7953"
             ],
             [
              0.7777777777777778,
              "#fb9f3a"
             ],
             [
              0.8888888888888888,
              "#fdca26"
             ],
             [
              1,
              "#f0f921"
             ]
            ],
            "type": "histogram2d"
           }
          ],
          "histogram2dcontour": [
           {
            "colorbar": {
             "outlinewidth": 0,
             "ticks": ""
            },
            "colorscale": [
             [
              0,
              "#0d0887"
             ],
             [
              0.1111111111111111,
              "#46039f"
             ],
             [
              0.2222222222222222,
              "#7201a8"
             ],
             [
              0.3333333333333333,
              "#9c179e"
             ],
             [
              0.4444444444444444,
              "#bd3786"
             ],
             [
              0.5555555555555556,
              "#d8576b"
             ],
             [
              0.6666666666666666,
              "#ed7953"
             ],
             [
              0.7777777777777778,
              "#fb9f3a"
             ],
             [
              0.8888888888888888,
              "#fdca26"
             ],
             [
              1,
              "#f0f921"
             ]
            ],
            "type": "histogram2dcontour"
           }
          ],
          "mesh3d": [
           {
            "colorbar": {
             "outlinewidth": 0,
             "ticks": ""
            },
            "type": "mesh3d"
           }
          ],
          "parcoords": [
           {
            "line": {
             "colorbar": {
              "outlinewidth": 0,
              "ticks": ""
             }
            },
            "type": "parcoords"
           }
          ],
          "pie": [
           {
            "automargin": true,
            "type": "pie"
           }
          ],
          "scatter": [
           {
            "fillpattern": {
             "fillmode": "overlay",
             "size": 10,
             "solidity": 0.2
            },
            "type": "scatter"
           }
          ],
          "scatter3d": [
           {
            "line": {
             "colorbar": {
              "outlinewidth": 0,
              "ticks": ""
             }
            },
            "marker": {
             "colorbar": {
              "outlinewidth": 0,
              "ticks": ""
             }
            },
            "type": "scatter3d"
           }
          ],
          "scattercarpet": [
           {
            "marker": {
             "colorbar": {
              "outlinewidth": 0,
              "ticks": ""
             }
            },
            "type": "scattercarpet"
           }
          ],
          "scattergeo": [
           {
            "marker": {
             "colorbar": {
              "outlinewidth": 0,
              "ticks": ""
             }
            },
            "type": "scattergeo"
           }
          ],
          "scattergl": [
           {
            "marker": {
             "colorbar": {
              "outlinewidth": 0,
              "ticks": ""
             }
            },
            "type": "scattergl"
           }
          ],
          "scattermapbox": [
           {
            "marker": {
             "colorbar": {
              "outlinewidth": 0,
              "ticks": ""
             }
            },
            "type": "scattermapbox"
           }
          ],
          "scatterpolar": [
           {
            "marker": {
             "colorbar": {
              "outlinewidth": 0,
              "ticks": ""
             }
            },
            "type": "scatterpolar"
           }
          ],
          "scatterpolargl": [
           {
            "marker": {
             "colorbar": {
              "outlinewidth": 0,
              "ticks": ""
             }
            },
            "type": "scatterpolargl"
           }
          ],
          "scatterternary": [
           {
            "marker": {
             "colorbar": {
              "outlinewidth": 0,
              "ticks": ""
             }
            },
            "type": "scatterternary"
           }
          ],
          "surface": [
           {
            "colorbar": {
             "outlinewidth": 0,
             "ticks": ""
            },
            "colorscale": [
             [
              0,
              "#0d0887"
             ],
             [
              0.1111111111111111,
              "#46039f"
             ],
             [
              0.2222222222222222,
              "#7201a8"
             ],
             [
              0.3333333333333333,
              "#9c179e"
             ],
             [
              0.4444444444444444,
              "#bd3786"
             ],
             [
              0.5555555555555556,
              "#d8576b"
             ],
             [
              0.6666666666666666,
              "#ed7953"
             ],
             [
              0.7777777777777778,
              "#fb9f3a"
             ],
             [
              0.8888888888888888,
              "#fdca26"
             ],
             [
              1,
              "#f0f921"
             ]
            ],
            "type": "surface"
           }
          ],
          "table": [
           {
            "cells": {
             "fill": {
              "color": "#EBF0F8"
             },
             "line": {
              "color": "white"
             }
            },
            "header": {
             "fill": {
              "color": "#C8D4E3"
             },
             "line": {
              "color": "white"
             }
            },
            "type": "table"
           }
          ]
         },
         "layout": {
          "annotationdefaults": {
           "arrowcolor": "#2a3f5f",
           "arrowhead": 0,
           "arrowwidth": 1
          },
          "autotypenumbers": "strict",
          "coloraxis": {
           "colorbar": {
            "outlinewidth": 0,
            "ticks": ""
           }
          },
          "colorscale": {
           "diverging": [
            [
             0,
             "#8e0152"
            ],
            [
             0.1,
             "#c51b7d"
            ],
            [
             0.2,
             "#de77ae"
            ],
            [
             0.3,
             "#f1b6da"
            ],
            [
             0.4,
             "#fde0ef"
            ],
            [
             0.5,
             "#f7f7f7"
            ],
            [
             0.6,
             "#e6f5d0"
            ],
            [
             0.7,
             "#b8e186"
            ],
            [
             0.8,
             "#7fbc41"
            ],
            [
             0.9,
             "#4d9221"
            ],
            [
             1,
             "#276419"
            ]
           ],
           "sequential": [
            [
             0,
             "#0d0887"
            ],
            [
             0.1111111111111111,
             "#46039f"
            ],
            [
             0.2222222222222222,
             "#7201a8"
            ],
            [
             0.3333333333333333,
             "#9c179e"
            ],
            [
             0.4444444444444444,
             "#bd3786"
            ],
            [
             0.5555555555555556,
             "#d8576b"
            ],
            [
             0.6666666666666666,
             "#ed7953"
            ],
            [
             0.7777777777777778,
             "#fb9f3a"
            ],
            [
             0.8888888888888888,
             "#fdca26"
            ],
            [
             1,
             "#f0f921"
            ]
           ],
           "sequentialminus": [
            [
             0,
             "#0d0887"
            ],
            [
             0.1111111111111111,
             "#46039f"
            ],
            [
             0.2222222222222222,
             "#7201a8"
            ],
            [
             0.3333333333333333,
             "#9c179e"
            ],
            [
             0.4444444444444444,
             "#bd3786"
            ],
            [
             0.5555555555555556,
             "#d8576b"
            ],
            [
             0.6666666666666666,
             "#ed7953"
            ],
            [
             0.7777777777777778,
             "#fb9f3a"
            ],
            [
             0.8888888888888888,
             "#fdca26"
            ],
            [
             1,
             "#f0f921"
            ]
           ]
          },
          "colorway": [
           "#636efa",
           "#EF553B",
           "#00cc96",
           "#ab63fa",
           "#FFA15A",
           "#19d3f3",
           "#FF6692",
           "#B6E880",
           "#FF97FF",
           "#FECB52"
          ],
          "font": {
           "color": "#2a3f5f"
          },
          "geo": {
           "bgcolor": "white",
           "lakecolor": "white",
           "landcolor": "#E5ECF6",
           "showlakes": true,
           "showland": true,
           "subunitcolor": "white"
          },
          "hoverlabel": {
           "align": "left"
          },
          "hovermode": "closest",
          "mapbox": {
           "style": "light"
          },
          "paper_bgcolor": "white",
          "plot_bgcolor": "#E5ECF6",
          "polar": {
           "angularaxis": {
            "gridcolor": "white",
            "linecolor": "white",
            "ticks": ""
           },
           "bgcolor": "#E5ECF6",
           "radialaxis": {
            "gridcolor": "white",
            "linecolor": "white",
            "ticks": ""
           }
          },
          "scene": {
           "xaxis": {
            "backgroundcolor": "#E5ECF6",
            "gridcolor": "white",
            "gridwidth": 2,
            "linecolor": "white",
            "showbackground": true,
            "ticks": "",
            "zerolinecolor": "white"
           },
           "yaxis": {
            "backgroundcolor": "#E5ECF6",
            "gridcolor": "white",
            "gridwidth": 2,
            "linecolor": "white",
            "showbackground": true,
            "ticks": "",
            "zerolinecolor": "white"
           },
           "zaxis": {
            "backgroundcolor": "#E5ECF6",
            "gridcolor": "white",
            "gridwidth": 2,
            "linecolor": "white",
            "showbackground": true,
            "ticks": "",
            "zerolinecolor": "white"
           }
          },
          "shapedefaults": {
           "line": {
            "color": "#2a3f5f"
           }
          },
          "ternary": {
           "aaxis": {
            "gridcolor": "white",
            "linecolor": "white",
            "ticks": ""
           },
           "baxis": {
            "gridcolor": "white",
            "linecolor": "white",
            "ticks": ""
           },
           "bgcolor": "#E5ECF6",
           "caxis": {
            "gridcolor": "white",
            "linecolor": "white",
            "ticks": ""
           }
          },
          "title": {
           "x": 0.05
          },
          "xaxis": {
           "automargin": true,
           "gridcolor": "white",
           "linecolor": "white",
           "ticks": "",
           "title": {
            "standoff": 15
           },
           "zerolinecolor": "white",
           "zerolinewidth": 2
          },
          "yaxis": {
           "automargin": true,
           "gridcolor": "white",
           "linecolor": "white",
           "ticks": "",
           "title": {
            "standoff": 15
           },
           "zerolinecolor": "white",
           "zerolinewidth": 2
          }
         }
        },
        "title": {
         "text": "Business flight prices based on daparture time"
        },
        "xaxis": {
         "anchor": "y",
         "domain": [
          0,
          1
         ],
         "title": {
          "text": "trip"
         }
        },
        "yaxis": {
         "anchor": "x",
         "domain": [
          0,
          1
         ],
         "title": {
          "text": "price"
         }
        }
       }
      },
      "text/html": [
       "<div>                            <div id=\"da8ed883-d019-488e-9cc3-a0834ce235c9\" class=\"plotly-graph-div\" style=\"height:525px; width:100%;\"></div>            <script type=\"text/javascript\">                require([\"plotly\"], function(Plotly) {                    window.PLOTLYENV=window.PLOTLYENV || {};                                    if (document.getElementById(\"da8ed883-d019-488e-9cc3-a0834ce235c9\")) {                    Plotly.newPlot(                        \"da8ed883-d019-488e-9cc3-a0834ce235c9\",                        [{\"hovertemplate\":\"departure_time=Afternoon<br>trip=%{x}<br>price=%{y}<extra></extra>\",\"legendgroup\":\"Afternoon\",\"marker\":{\"color\":\"#636efa\",\"symbol\":\"circle\"},\"mode\":\"markers\",\"name\":\"Afternoon\",\"orientation\":\"v\",\"showlegend\":true,\"x\":[\"Bangalore-Chennai\",\"Bangalore-Delhi\",\"Bangalore-Hyderabad\",\"Bangalore-Kolkata\",\"Bangalore-Mumbai\",\"Chennai-Bangalore\",\"Chennai-Delhi\",\"Chennai-Hyderabad\",\"Chennai-Kolkata\",\"Chennai-Mumbai\",\"Delhi-Bangalore\",\"Delhi-Chennai\",\"Delhi-Hyderabad\",\"Delhi-Kolkata\",\"Delhi-Mumbai\",\"Hyderabad-Bangalore\",\"Hyderabad-Chennai\",\"Hyderabad-Delhi\",\"Hyderabad-Kolkata\",\"Hyderabad-Mumbai\",\"Kolkata-Bangalore\",\"Kolkata-Chennai\",\"Kolkata-Delhi\",\"Kolkata-Hyderabad\",\"Kolkata-Mumbai\",\"Mumbai-Bangalore\",\"Mumbai-Chennai\",\"Mumbai-Delhi\",\"Mumbai-Hyderabad\",\"Mumbai-Kolkata\"],\"xaxis\":\"x\",\"y\":[60339.07462686567,43709.38502673797,55182.9435483871,52122.11724137931,50790.70479704797,45328.207920792076,56403.740157480315,43331.55778894472,55090.81081081081,26683.048,48423.94944707741,54094.70809792844,45086.20042194093,54672.16144578313,43322.545859305435,44381.57026476578,53586.95701357466,48022.763636363634,55587.87173396675,51881.75675675676,60444.58967391304,57494.77259475218,41646.31065088757,53436.555555555555,57959.5020661157,58514.18070444104,56689.110878661086,42797.25801011804,52241.79157894737,57277.096551724135],\"yaxis\":\"y\",\"type\":\"scatter\"},{\"hovertemplate\":\"departure_time=Early_Morning<br>trip=%{x}<br>price=%{y}<extra></extra>\",\"legendgroup\":\"Early_Morning\",\"marker\":{\"color\":\"#EF553B\",\"symbol\":\"circle\"},\"mode\":\"markers\",\"name\":\"Early_Morning\",\"orientation\":\"v\",\"showlegend\":true,\"x\":[\"Bangalore-Chennai\",\"Bangalore-Delhi\",\"Bangalore-Hyderabad\",\"Bangalore-Kolkata\",\"Bangalore-Mumbai\",\"Chennai-Bangalore\",\"Chennai-Delhi\",\"Chennai-Hyderabad\",\"Chennai-Kolkata\",\"Chennai-Mumbai\",\"Delhi-Bangalore\",\"Delhi-Chennai\",\"Delhi-Hyderabad\",\"Delhi-Kolkata\",\"Delhi-Mumbai\",\"Hyderabad-Bangalore\",\"Hyderabad-Chennai\",\"Hyderabad-Delhi\",\"Hyderabad-Kolkata\",\"Hyderabad-Mumbai\",\"Kolkata-Bangalore\",\"Kolkata-Chennai\",\"Kolkata-Delhi\",\"Kolkata-Hyderabad\",\"Kolkata-Mumbai\",\"Mumbai-Bangalore\",\"Mumbai-Chennai\",\"Mumbai-Delhi\",\"Mumbai-Hyderabad\",\"Mumbai-Kolkata\"],\"xaxis\":\"x\",\"y\":[54513.901639344265,45805.10612691466,49152.42050520059,57653.60582822086,59107.92578710645,54142.410769230766,52431.420994475135,50686.45029239766,55637.24270072993,54612.40023337223,50714.5861423221,52289.725165562915,45245.20267260579,57267.22528363047,47604.51564185545,56347.04513064133,50823.631097560974,40211.48051948052,49863.71867612293,53920.59212050985,62321.01511335013,55575.70469798658,30459.980582524273,52922.37195121951,58407.454225352114,55999.68571428571,54305.46658851114,44106.522660818715,48765.7734939759,52890.09841628959],\"yaxis\":\"y\",\"type\":\"scatter\"},{\"hovertemplate\":\"departure_time=Evening<br>trip=%{x}<br>price=%{y}<extra></extra>\",\"legendgroup\":\"Evening\",\"marker\":{\"color\":\"#00cc96\",\"symbol\":\"circle\"},\"mode\":\"markers\",\"name\":\"Evening\",\"orientation\":\"v\",\"showlegend\":true,\"x\":[\"Bangalore-Chennai\",\"Bangalore-Delhi\",\"Bangalore-Hyderabad\",\"Bangalore-Kolkata\",\"Bangalore-Mumbai\",\"Chennai-Bangalore\",\"Chennai-Delhi\",\"Chennai-Hyderabad\",\"Chennai-Kolkata\",\"Chennai-Mumbai\",\"Delhi-Bangalore\",\"Delhi-Chennai\",\"Delhi-Hyderabad\",\"Delhi-Kolkata\",\"Delhi-Mumbai\",\"Hyderabad-Bangalore\",\"Hyderabad-Chennai\",\"Hyderabad-Delhi\",\"Hyderabad-Kolkata\",\"Hyderabad-Mumbai\",\"Kolkata-Bangalore\",\"Kolkata-Chennai\",\"Kolkata-Delhi\",\"Kolkata-Hyderabad\",\"Kolkata-Mumbai\",\"Mumbai-Bangalore\",\"Mumbai-Chennai\",\"Mumbai-Delhi\",\"Mumbai-Hyderabad\",\"Mumbai-Kolkata\"],\"xaxis\":\"x\",\"y\":[48895.696275071634,48021.692679002415,50409.180102915954,59928.361518550475,56892.92256637168,60697.0861423221,37060.17808219178,56073.12987012987,62096.563888888886,58220.744635193136,48133.99249374479,51808.177532597794,46636.40026420079,59030.65517241379,43400.890835579514,60601.82671480144,54685.39261744967,26361.042553191488,56065.45930232558,55149.13003095975,55929.36863823934,55111.713983050846,54286.81477398016,48445.56689342404,52551.70576131687,57986.330148619956,57516.924221921516,41523.26902465166,53486.052369077304,59512.11513157895],\"yaxis\":\"y\",\"type\":\"scatter\"},{\"hovertemplate\":\"departure_time=Late_Night<br>trip=%{x}<br>price=%{y}<extra></extra>\",\"legendgroup\":\"Late_Night\",\"marker\":{\"color\":\"#ab63fa\",\"symbol\":\"circle\"},\"mode\":\"markers\",\"name\":\"Late_Night\",\"orientation\":\"v\",\"showlegend\":true,\"x\":[\"Bangalore-Chennai\",\"Bangalore-Delhi\",\"Bangalore-Hyderabad\",\"Bangalore-Kolkata\",\"Bangalore-Mumbai\"],\"xaxis\":\"x\",\"y\":[44682.0,52586.0,44432.0,25000.0,56058.0],\"yaxis\":\"y\",\"type\":\"scatter\"},{\"hovertemplate\":\"departure_time=Morning<br>trip=%{x}<br>price=%{y}<extra></extra>\",\"legendgroup\":\"Morning\",\"marker\":{\"color\":\"#FFA15A\",\"symbol\":\"circle\"},\"mode\":\"markers\",\"name\":\"Morning\",\"orientation\":\"v\",\"showlegend\":true,\"x\":[\"Bangalore-Chennai\",\"Bangalore-Delhi\",\"Bangalore-Hyderabad\",\"Bangalore-Kolkata\",\"Bangalore-Mumbai\",\"Chennai-Bangalore\",\"Chennai-Delhi\",\"Chennai-Hyderabad\",\"Chennai-Kolkata\",\"Chennai-Mumbai\",\"Delhi-Bangalore\",\"Delhi-Chennai\",\"Delhi-Hyderabad\",\"Delhi-Kolkata\",\"Delhi-Mumbai\",\"Hyderabad-Bangalore\",\"Hyderabad-Chennai\",\"Hyderabad-Delhi\",\"Hyderabad-Kolkata\",\"Hyderabad-Mumbai\",\"Kolkata-Bangalore\",\"Kolkata-Chennai\",\"Kolkata-Delhi\",\"Kolkata-Hyderabad\",\"Kolkata-Mumbai\",\"Mumbai-Bangalore\",\"Mumbai-Chennai\",\"Mumbai-Delhi\",\"Mumbai-Hyderabad\",\"Mumbai-Kolkata\"],\"xaxis\":\"x\",\"y\":[53040.175958188156,50620.78125,49360.666666666664,59384.982881597716,59137.10815602837,53773.527407407404,52156.067001675045,53316.03979238754,54089.468330134354,59264.834333733495,49154.63746505126,51702.421768707485,42981.5586510264,55437.87,43284.03202846975,47737.90948275862,50968.653225806454,45319.65770862801,54447.41419141914,50231.79851851852,58408.88759124088,57741.932021466906,63426.96005706134,61439.8647887324,60011.07780320366,60700.930785123965,55070.91705069124,45158.28712174525,52393.41330998249,60434.781629116114],\"yaxis\":\"y\",\"type\":\"scatter\"},{\"hovertemplate\":\"departure_time=Night<br>trip=%{x}<br>price=%{y}<extra></extra>\",\"legendgroup\":\"Night\",\"marker\":{\"color\":\"#19d3f3\",\"symbol\":\"circle\"},\"mode\":\"markers\",\"name\":\"Night\",\"orientation\":\"v\",\"showlegend\":true,\"x\":[\"Bangalore-Chennai\",\"Bangalore-Delhi\",\"Bangalore-Hyderabad\",\"Bangalore-Kolkata\",\"Bangalore-Mumbai\",\"Chennai-Bangalore\",\"Chennai-Delhi\",\"Chennai-Hyderabad\",\"Chennai-Kolkata\",\"Chennai-Mumbai\",\"Delhi-Bangalore\",\"Delhi-Chennai\",\"Delhi-Hyderabad\",\"Delhi-Kolkata\",\"Delhi-Mumbai\",\"Hyderabad-Bangalore\",\"Hyderabad-Chennai\",\"Hyderabad-Delhi\",\"Hyderabad-Kolkata\",\"Hyderabad-Mumbai\",\"Kolkata-Bangalore\",\"Kolkata-Chennai\",\"Kolkata-Delhi\",\"Kolkata-Hyderabad\",\"Kolkata-Mumbai\",\"Mumbai-Bangalore\",\"Mumbai-Chennai\",\"Mumbai-Delhi\",\"Mumbai-Hyderabad\",\"Mumbai-Kolkata\"],\"xaxis\":\"x\",\"y\":[52642.95625,49235.80092592593,52393.53779697624,60469.71888412017,58637.77985074627,53122.633644859816,53177.76895943563,50912.81983805668,58833.63127413127,58314.60779220779,45926.67599067599,49913.441624365485,41094.236363636366,51605.916666666664,45613.74268104776,49612.48944099379,47621.63110307414,44592.82824858757,53066.39794168096,50923.92298136646,58804.575033200534,56292.04631578947,57977.352574102966,52863.99587628866,55934.28592814371,56346.51814516129,55380.30218068536,44667.79797979798,51674.543640897755,56407.01780821918],\"yaxis\":\"y\",\"type\":\"scatter\"}],                        {\"template\":{\"data\":{\"histogram2dcontour\":[{\"type\":\"histogram2dcontour\",\"colorbar\":{\"outlinewidth\":0,\"ticks\":\"\"},\"colorscale\":[[0.0,\"#0d0887\"],[0.1111111111111111,\"#46039f\"],[0.2222222222222222,\"#7201a8\"],[0.3333333333333333,\"#9c179e\"],[0.4444444444444444,\"#bd3786\"],[0.5555555555555556,\"#d8576b\"],[0.6666666666666666,\"#ed7953\"],[0.7777777777777778,\"#fb9f3a\"],[0.8888888888888888,\"#fdca26\"],[1.0,\"#f0f921\"]]}],\"choropleth\":[{\"type\":\"choropleth\",\"colorbar\":{\"outlinewidth\":0,\"ticks\":\"\"}}],\"histogram2d\":[{\"type\":\"histogram2d\",\"colorbar\":{\"outlinewidth\":0,\"ticks\":\"\"},\"colorscale\":[[0.0,\"#0d0887\"],[0.1111111111111111,\"#46039f\"],[0.2222222222222222,\"#7201a8\"],[0.3333333333333333,\"#9c179e\"],[0.4444444444444444,\"#bd3786\"],[0.5555555555555556,\"#d8576b\"],[0.6666666666666666,\"#ed7953\"],[0.7777777777777778,\"#fb9f3a\"],[0.8888888888888888,\"#fdca26\"],[1.0,\"#f0f921\"]]}],\"heatmap\":[{\"type\":\"heatmap\",\"colorbar\":{\"outlinewidth\":0,\"ticks\":\"\"},\"colorscale\":[[0.0,\"#0d0887\"],[0.1111111111111111,\"#46039f\"],[0.2222222222222222,\"#7201a8\"],[0.3333333333333333,\"#9c179e\"],[0.4444444444444444,\"#bd3786\"],[0.5555555555555556,\"#d8576b\"],[0.6666666666666666,\"#ed7953\"],[0.7777777777777778,\"#fb9f3a\"],[0.8888888888888888,\"#fdca26\"],[1.0,\"#f0f921\"]]}],\"heatmapgl\":[{\"type\":\"heatmapgl\",\"colorbar\":{\"outlinewidth\":0,\"ticks\":\"\"},\"colorscale\":[[0.0,\"#0d0887\"],[0.1111111111111111,\"#46039f\"],[0.2222222222222222,\"#7201a8\"],[0.3333333333333333,\"#9c179e\"],[0.4444444444444444,\"#bd3786\"],[0.5555555555555556,\"#d8576b\"],[0.6666666666666666,\"#ed7953\"],[0.7777777777777778,\"#fb9f3a\"],[0.8888888888888888,\"#fdca26\"],[1.0,\"#f0f921\"]]}],\"contourcarpet\":[{\"type\":\"contourcarpet\",\"colorbar\":{\"outlinewidth\":0,\"ticks\":\"\"}}],\"contour\":[{\"type\":\"contour\",\"colorbar\":{\"outlinewidth\":0,\"ticks\":\"\"},\"colorscale\":[[0.0,\"#0d0887\"],[0.1111111111111111,\"#46039f\"],[0.2222222222222222,\"#7201a8\"],[0.3333333333333333,\"#9c179e\"],[0.4444444444444444,\"#bd3786\"],[0.5555555555555556,\"#d8576b\"],[0.6666666666666666,\"#ed7953\"],[0.7777777777777778,\"#fb9f3a\"],[0.8888888888888888,\"#fdca26\"],[1.0,\"#f0f921\"]]}],\"surface\":[{\"type\":\"surface\",\"colorbar\":{\"outlinewidth\":0,\"ticks\":\"\"},\"colorscale\":[[0.0,\"#0d0887\"],[0.1111111111111111,\"#46039f\"],[0.2222222222222222,\"#7201a8\"],[0.3333333333333333,\"#9c179e\"],[0.4444444444444444,\"#bd3786\"],[0.5555555555555556,\"#d8576b\"],[0.6666666666666666,\"#ed7953\"],[0.7777777777777778,\"#fb9f3a\"],[0.8888888888888888,\"#fdca26\"],[1.0,\"#f0f921\"]]}],\"mesh3d\":[{\"type\":\"mesh3d\",\"colorbar\":{\"outlinewidth\":0,\"ticks\":\"\"}}],\"scatter\":[{\"fillpattern\":{\"fillmode\":\"overlay\",\"size\":10,\"solidity\":0.2},\"type\":\"scatter\"}],\"parcoords\":[{\"type\":\"parcoords\",\"line\":{\"colorbar\":{\"outlinewidth\":0,\"ticks\":\"\"}}}],\"scatterpolargl\":[{\"type\":\"scatterpolargl\",\"marker\":{\"colorbar\":{\"outlinewidth\":0,\"ticks\":\"\"}}}],\"bar\":[{\"error_x\":{\"color\":\"#2a3f5f\"},\"error_y\":{\"color\":\"#2a3f5f\"},\"marker\":{\"line\":{\"color\":\"#E5ECF6\",\"width\":0.5},\"pattern\":{\"fillmode\":\"overlay\",\"size\":10,\"solidity\":0.2}},\"type\":\"bar\"}],\"scattergeo\":[{\"type\":\"scattergeo\",\"marker\":{\"colorbar\":{\"outlinewidth\":0,\"ticks\":\"\"}}}],\"scatterpolar\":[{\"type\":\"scatterpolar\",\"marker\":{\"colorbar\":{\"outlinewidth\":0,\"ticks\":\"\"}}}],\"histogram\":[{\"marker\":{\"pattern\":{\"fillmode\":\"overlay\",\"size\":10,\"solidity\":0.2}},\"type\":\"histogram\"}],\"scattergl\":[{\"type\":\"scattergl\",\"marker\":{\"colorbar\":{\"outlinewidth\":0,\"ticks\":\"\"}}}],\"scatter3d\":[{\"type\":\"scatter3d\",\"line\":{\"colorbar\":{\"outlinewidth\":0,\"ticks\":\"\"}},\"marker\":{\"colorbar\":{\"outlinewidth\":0,\"ticks\":\"\"}}}],\"scattermapbox\":[{\"type\":\"scattermapbox\",\"marker\":{\"colorbar\":{\"outlinewidth\":0,\"ticks\":\"\"}}}],\"scatterternary\":[{\"type\":\"scatterternary\",\"marker\":{\"colorbar\":{\"outlinewidth\":0,\"ticks\":\"\"}}}],\"scattercarpet\":[{\"type\":\"scattercarpet\",\"marker\":{\"colorbar\":{\"outlinewidth\":0,\"ticks\":\"\"}}}],\"carpet\":[{\"aaxis\":{\"endlinecolor\":\"#2a3f5f\",\"gridcolor\":\"white\",\"linecolor\":\"white\",\"minorgridcolor\":\"white\",\"startlinecolor\":\"#2a3f5f\"},\"baxis\":{\"endlinecolor\":\"#2a3f5f\",\"gridcolor\":\"white\",\"linecolor\":\"white\",\"minorgridcolor\":\"white\",\"startlinecolor\":\"#2a3f5f\"},\"type\":\"carpet\"}],\"table\":[{\"cells\":{\"fill\":{\"color\":\"#EBF0F8\"},\"line\":{\"color\":\"white\"}},\"header\":{\"fill\":{\"color\":\"#C8D4E3\"},\"line\":{\"color\":\"white\"}},\"type\":\"table\"}],\"barpolar\":[{\"marker\":{\"line\":{\"color\":\"#E5ECF6\",\"width\":0.5},\"pattern\":{\"fillmode\":\"overlay\",\"size\":10,\"solidity\":0.2}},\"type\":\"barpolar\"}],\"pie\":[{\"automargin\":true,\"type\":\"pie\"}]},\"layout\":{\"autotypenumbers\":\"strict\",\"colorway\":[\"#636efa\",\"#EF553B\",\"#00cc96\",\"#ab63fa\",\"#FFA15A\",\"#19d3f3\",\"#FF6692\",\"#B6E880\",\"#FF97FF\",\"#FECB52\"],\"font\":{\"color\":\"#2a3f5f\"},\"hovermode\":\"closest\",\"hoverlabel\":{\"align\":\"left\"},\"paper_bgcolor\":\"white\",\"plot_bgcolor\":\"#E5ECF6\",\"polar\":{\"bgcolor\":\"#E5ECF6\",\"angularaxis\":{\"gridcolor\":\"white\",\"linecolor\":\"white\",\"ticks\":\"\"},\"radialaxis\":{\"gridcolor\":\"white\",\"linecolor\":\"white\",\"ticks\":\"\"}},\"ternary\":{\"bgcolor\":\"#E5ECF6\",\"aaxis\":{\"gridcolor\":\"white\",\"linecolor\":\"white\",\"ticks\":\"\"},\"baxis\":{\"gridcolor\":\"white\",\"linecolor\":\"white\",\"ticks\":\"\"},\"caxis\":{\"gridcolor\":\"white\",\"linecolor\":\"white\",\"ticks\":\"\"}},\"coloraxis\":{\"colorbar\":{\"outlinewidth\":0,\"ticks\":\"\"}},\"colorscale\":{\"sequential\":[[0.0,\"#0d0887\"],[0.1111111111111111,\"#46039f\"],[0.2222222222222222,\"#7201a8\"],[0.3333333333333333,\"#9c179e\"],[0.4444444444444444,\"#bd3786\"],[0.5555555555555556,\"#d8576b\"],[0.6666666666666666,\"#ed7953\"],[0.7777777777777778,\"#fb9f3a\"],[0.8888888888888888,\"#fdca26\"],[1.0,\"#f0f921\"]],\"sequentialminus\":[[0.0,\"#0d0887\"],[0.1111111111111111,\"#46039f\"],[0.2222222222222222,\"#7201a8\"],[0.3333333333333333,\"#9c179e\"],[0.4444444444444444,\"#bd3786\"],[0.5555555555555556,\"#d8576b\"],[0.6666666666666666,\"#ed7953\"],[0.7777777777777778,\"#fb9f3a\"],[0.8888888888888888,\"#fdca26\"],[1.0,\"#f0f921\"]],\"diverging\":[[0,\"#8e0152\"],[0.1,\"#c51b7d\"],[0.2,\"#de77ae\"],[0.3,\"#f1b6da\"],[0.4,\"#fde0ef\"],[0.5,\"#f7f7f7\"],[0.6,\"#e6f5d0\"],[0.7,\"#b8e186\"],[0.8,\"#7fbc41\"],[0.9,\"#4d9221\"],[1,\"#276419\"]]},\"xaxis\":{\"gridcolor\":\"white\",\"linecolor\":\"white\",\"ticks\":\"\",\"title\":{\"standoff\":15},\"zerolinecolor\":\"white\",\"automargin\":true,\"zerolinewidth\":2},\"yaxis\":{\"gridcolor\":\"white\",\"linecolor\":\"white\",\"ticks\":\"\",\"title\":{\"standoff\":15},\"zerolinecolor\":\"white\",\"automargin\":true,\"zerolinewidth\":2},\"scene\":{\"xaxis\":{\"backgroundcolor\":\"#E5ECF6\",\"gridcolor\":\"white\",\"linecolor\":\"white\",\"showbackground\":true,\"ticks\":\"\",\"zerolinecolor\":\"white\",\"gridwidth\":2},\"yaxis\":{\"backgroundcolor\":\"#E5ECF6\",\"gridcolor\":\"white\",\"linecolor\":\"white\",\"showbackground\":true,\"ticks\":\"\",\"zerolinecolor\":\"white\",\"gridwidth\":2},\"zaxis\":{\"backgroundcolor\":\"#E5ECF6\",\"gridcolor\":\"white\",\"linecolor\":\"white\",\"showbackground\":true,\"ticks\":\"\",\"zerolinecolor\":\"white\",\"gridwidth\":2}},\"shapedefaults\":{\"line\":{\"color\":\"#2a3f5f\"}},\"annotationdefaults\":{\"arrowcolor\":\"#2a3f5f\",\"arrowhead\":0,\"arrowwidth\":1},\"geo\":{\"bgcolor\":\"white\",\"landcolor\":\"#E5ECF6\",\"subunitcolor\":\"white\",\"showland\":true,\"showlakes\":true,\"lakecolor\":\"white\"},\"title\":{\"x\":0.05},\"mapbox\":{\"style\":\"light\"}}},\"xaxis\":{\"anchor\":\"y\",\"domain\":[0.0,1.0],\"title\":{\"text\":\"trip\"}},\"yaxis\":{\"anchor\":\"x\",\"domain\":[0.0,1.0],\"title\":{\"text\":\"price\"}},\"legend\":{\"title\":{\"text\":\"departure_time\"},\"tracegroupgap\":0},\"title\":{\"text\":\"Business flight prices based on daparture time\"}},                        {\"responsive\": true}                    ).then(function(){\n",
       "                            \n",
       "var gd = document.getElementById('da8ed883-d019-488e-9cc3-a0834ce235c9');\n",
       "var x = new MutationObserver(function (mutations, observer) {{\n",
       "        var display = window.getComputedStyle(gd).display;\n",
       "        if (!display || display === 'none') {{\n",
       "            console.log([gd, 'removed!']);\n",
       "            Plotly.purge(gd);\n",
       "            observer.disconnect();\n",
       "        }}\n",
       "}});\n",
       "\n",
       "// Listen for the removal of the full notebook cells\n",
       "var notebookContainer = gd.closest('#notebook-container');\n",
       "if (notebookContainer) {{\n",
       "    x.observe(notebookContainer, {childList: true});\n",
       "}}\n",
       "\n",
       "// Listen for the clearing of the current output cell\n",
       "var outputEl = gd.closest('.output');\n",
       "if (outputEl) {{\n",
       "    x.observe(outputEl, {childList: true});\n",
       "}}\n",
       "\n",
       "                        })                };                });            </script>        </div>"
      ]
     },
     "metadata": {},
     "output_type": "display_data"
    }
   ],
   "source": [
    "busi= df[df['class']=='Business']\n",
    "bus=busi.groupby(['trip','departure_time'],as_index=False).price.mean()\n",
    "df_bus=pd.DataFrame(bus)\n",
    "df_bus. head(20)\n",
    "px.scatter(df_bus, \n",
    "           x= 'trip',\n",
    "           y= 'price',\n",
    "           color= 'departure_time',\n",
    "           title= 'Business flight prices based on daparture time'\n",
    "           )"
   ]
  },
  {
   "cell_type": "code",
   "execution_count": 20,
   "metadata": {},
   "outputs": [
    {
     "data": {
      "application/vnd.plotly.v1+json": {
       "config": {
        "plotlyServerURL": "https://plot.ly"
       },
       "data": [
        {
         "hovertemplate": "arrival_time=Afternoon<br>trip=%{x}<br>price=%{y}<extra></extra>",
         "legendgroup": "Afternoon",
         "marker": {
          "color": "#636efa",
          "symbol": "circle"
         },
         "mode": "markers",
         "name": "Afternoon",
         "orientation": "v",
         "showlegend": true,
         "type": "scatter",
         "x": [
          "Bangalore-Chennai",
          "Bangalore-Delhi",
          "Bangalore-Hyderabad",
          "Bangalore-Kolkata",
          "Bangalore-Mumbai",
          "Chennai-Bangalore",
          "Chennai-Delhi",
          "Chennai-Hyderabad",
          "Chennai-Kolkata",
          "Chennai-Mumbai",
          "Delhi-Bangalore",
          "Delhi-Chennai",
          "Delhi-Hyderabad",
          "Delhi-Kolkata",
          "Delhi-Mumbai",
          "Hyderabad-Bangalore",
          "Hyderabad-Chennai",
          "Hyderabad-Delhi",
          "Hyderabad-Kolkata",
          "Hyderabad-Mumbai",
          "Kolkata-Bangalore",
          "Kolkata-Chennai",
          "Kolkata-Delhi",
          "Kolkata-Hyderabad",
          "Kolkata-Mumbai",
          "Mumbai-Bangalore",
          "Mumbai-Chennai",
          "Mumbai-Delhi",
          "Mumbai-Hyderabad",
          "Mumbai-Kolkata"
         ],
         "xaxis": "x",
         "y": [
          4630.605911330049,
          5858.894158473106,
          6199.251851851852,
          7223.9385542168675,
          6431.79512195122,
          8662.768656716418,
          6195.991620111732,
          5609.473267326733,
          7208.840073529412,
          6425.343848580442,
          6386.534201954398,
          4842.851520572451,
          5653.785974499089,
          6685.1247877758915,
          6513.732258064516,
          5466.1,
          4304.59796437659,
          6545.401869158878,
          6161.807299270073,
          6139.102094240838,
          6667.621722846442,
          6614.418397626113,
          7697.48628613788,
          7250.618448637317,
          6861.111829944547,
          6525.517423442449,
          5916.080291970803,
          5895.171590909091,
          5821.451564828614,
          7756.097387173397
         ],
         "yaxis": "y"
        },
        {
         "hovertemplate": "arrival_time=Early_Morning<br>trip=%{x}<br>price=%{y}<extra></extra>",
         "legendgroup": "Early_Morning",
         "marker": {
          "color": "#EF553B",
          "symbol": "circle"
         },
         "mode": "markers",
         "name": "Early_Morning",
         "orientation": "v",
         "showlegend": true,
         "type": "scatter",
         "x": [
          "Bangalore-Chennai",
          "Bangalore-Delhi",
          "Bangalore-Hyderabad",
          "Bangalore-Kolkata",
          "Bangalore-Mumbai",
          "Chennai-Bangalore",
          "Chennai-Delhi",
          "Chennai-Hyderabad",
          "Chennai-Kolkata",
          "Chennai-Mumbai",
          "Delhi-Bangalore",
          "Delhi-Chennai",
          "Delhi-Hyderabad",
          "Delhi-Kolkata",
          "Delhi-Mumbai",
          "Hyderabad-Bangalore",
          "Hyderabad-Chennai",
          "Hyderabad-Delhi",
          "Hyderabad-Kolkata",
          "Hyderabad-Mumbai",
          "Kolkata-Bangalore",
          "Kolkata-Chennai",
          "Kolkata-Delhi",
          "Kolkata-Hyderabad",
          "Kolkata-Mumbai",
          "Mumbai-Bangalore",
          "Mumbai-Chennai",
          "Mumbai-Delhi",
          "Mumbai-Hyderabad",
          "Mumbai-Kolkata"
         ],
         "xaxis": "x",
         "y": [
          5836.422505307855,
          4757.12865497076,
          5015.7168316831685,
          5018.686244204018,
          4842.1689008042895,
          5389.972972972973,
          4554.7692307692305,
          5302.922033898305,
          5134.416,
          4350.790588235294,
          5683.583333333333,
          5675.854838709677,
          6133.95592864638,
          6441.3171875,
          4144.798347107438,
          4773.611111111111,
          4693.415162454874,
          3240.6222222222223,
          4553.021739130435,
          4063.150205761317,
          6945.691358024691,
          6481.265350877193,
          5068.3650793650795,
          7246.6450511945395,
          5536.867298578199,
          3088.20625,
          5318.353260869565,
          4264.572222222222,
          4188.732484076433,
          5916.978666666667
         ],
         "yaxis": "y"
        },
        {
         "hovertemplate": "arrival_time=Evening<br>trip=%{x}<br>price=%{y}<extra></extra>",
         "legendgroup": "Evening",
         "marker": {
          "color": "#00cc96",
          "symbol": "circle"
         },
         "mode": "markers",
         "name": "Evening",
         "orientation": "v",
         "showlegend": true,
         "type": "scatter",
         "x": [
          "Bangalore-Chennai",
          "Bangalore-Delhi",
          "Bangalore-Hyderabad",
          "Bangalore-Kolkata",
          "Bangalore-Mumbai",
          "Chennai-Bangalore",
          "Chennai-Delhi",
          "Chennai-Hyderabad",
          "Chennai-Kolkata",
          "Chennai-Mumbai",
          "Delhi-Bangalore",
          "Delhi-Chennai",
          "Delhi-Hyderabad",
          "Delhi-Kolkata",
          "Delhi-Mumbai",
          "Hyderabad-Bangalore",
          "Hyderabad-Chennai",
          "Hyderabad-Delhi",
          "Hyderabad-Kolkata",
          "Hyderabad-Mumbai",
          "Kolkata-Bangalore",
          "Kolkata-Chennai",
          "Kolkata-Delhi",
          "Kolkata-Hyderabad",
          "Kolkata-Mumbai",
          "Mumbai-Bangalore",
          "Mumbai-Chennai",
          "Mumbai-Delhi",
          "Mumbai-Hyderabad",
          "Mumbai-Kolkata"
         ],
         "xaxis": "x",
         "y": [
          7694.561440677966,
          6711.049357945425,
          7307.10551558753,
          8263.10736925515,
          7099.77974025974,
          7378.032546786005,
          6879.624563445867,
          6545.718456725756,
          8960.65389294404,
          6982.699203187251,
          6248.659769335142,
          6840.712620027435,
          5982.14373088685,
          7920.829929577465,
          6491.5734806629835,
          6332.794232268122,
          6194.00871459695,
          6308.741580310881,
          7696.825944170771,
          6678.936475409836,
          7783.857447944474,
          8576.454545454546,
          7384.513527851459,
          7982.018067556952,
          7928.917411888479,
          6884.485397784491,
          6750.202316076295,
          6863.624886466849,
          6562.5964405964405,
          7949.04851202609
         ],
         "yaxis": "y"
        },
        {
         "hovertemplate": "arrival_time=Late_Night<br>trip=%{x}<br>price=%{y}<extra></extra>",
         "legendgroup": "Late_Night",
         "marker": {
          "color": "#ab63fa",
          "symbol": "circle"
         },
         "mode": "markers",
         "name": "Late_Night",
         "orientation": "v",
         "showlegend": true,
         "type": "scatter",
         "x": [
          "Bangalore-Chennai",
          "Bangalore-Delhi",
          "Bangalore-Hyderabad",
          "Bangalore-Kolkata",
          "Bangalore-Mumbai",
          "Chennai-Bangalore",
          "Chennai-Delhi",
          "Chennai-Hyderabad",
          "Chennai-Kolkata",
          "Chennai-Mumbai",
          "Delhi-Bangalore",
          "Delhi-Chennai",
          "Delhi-Hyderabad",
          "Delhi-Kolkata",
          "Delhi-Mumbai",
          "Hyderabad-Bangalore",
          "Hyderabad-Chennai",
          "Hyderabad-Delhi",
          "Hyderabad-Kolkata",
          "Hyderabad-Mumbai",
          "Kolkata-Bangalore",
          "Kolkata-Chennai",
          "Kolkata-Delhi",
          "Kolkata-Hyderabad",
          "Kolkata-Mumbai",
          "Mumbai-Bangalore",
          "Mumbai-Chennai",
          "Mumbai-Delhi",
          "Mumbai-Hyderabad",
          "Mumbai-Kolkata"
         ],
         "xaxis": "x",
         "y": [
          5732.613636363636,
          5216.992656058752,
          3604.8939393939395,
          3956.9532163742692,
          4399.8493150684935,
          7151.841836734694,
          4454.9159388646285,
          3336.653846153846,
          5461.66037735849,
          5032.4324324324325,
          5026.889007470651,
          5091.341207349082,
          5127.072463768116,
          5205.560747663551,
          4044.6256157635466,
          7487.534031413613,
          2693.734693877551,
          4719.399506781751,
          5007.865942028986,
          5122.921658986175,
          7070.989177489178,
          7132.05303030303,
          6239.34765625,
          5318.614678899083,
          5231.043824701195,
          5645.737024221453,
          4578.2918149466195,
          4414.307268722467,
          4221.721590909091,
          5143.871710526316
         ],
         "yaxis": "y"
        },
        {
         "hovertemplate": "arrival_time=Morning<br>trip=%{x}<br>price=%{y}<extra></extra>",
         "legendgroup": "Morning",
         "marker": {
          "color": "#FFA15A",
          "symbol": "circle"
         },
         "mode": "markers",
         "name": "Morning",
         "orientation": "v",
         "showlegend": true,
         "type": "scatter",
         "x": [
          "Bangalore-Chennai",
          "Bangalore-Delhi",
          "Bangalore-Hyderabad",
          "Bangalore-Kolkata",
          "Bangalore-Mumbai",
          "Chennai-Bangalore",
          "Chennai-Delhi",
          "Chennai-Hyderabad",
          "Chennai-Kolkata",
          "Chennai-Mumbai",
          "Delhi-Bangalore",
          "Delhi-Chennai",
          "Delhi-Hyderabad",
          "Delhi-Kolkata",
          "Delhi-Mumbai",
          "Hyderabad-Bangalore",
          "Hyderabad-Chennai",
          "Hyderabad-Delhi",
          "Hyderabad-Kolkata",
          "Hyderabad-Mumbai",
          "Kolkata-Bangalore",
          "Kolkata-Chennai",
          "Kolkata-Delhi",
          "Kolkata-Hyderabad",
          "Kolkata-Mumbai",
          "Mumbai-Bangalore",
          "Mumbai-Chennai",
          "Mumbai-Delhi",
          "Mumbai-Hyderabad",
          "Mumbai-Kolkata"
         ],
         "xaxis": "x",
         "y": [
          6639.165971643036,
          5832.106344410876,
          6537.155872667398,
          7909.744482173175,
          6060.283389830509,
          6763.022756005057,
          5369.703888334995,
          5827.669195751138,
          7215.123885918004,
          6152.6240234375,
          6280.834682080925,
          6475.780055401662,
          5203.654634146342,
          7228.301470588235,
          5525.317530864198,
          6022.796958855099,
          5892.048059149723,
          6059.857291666666,
          7093.864498644986,
          5821.421052631579,
          7561.400826446281,
          8622.520168067227,
          7179.099118942731,
          6967.864306784661,
          7597.019047619047,
          6239.069075937786,
          6029.050348567002,
          5013.3057324840765,
          5336.71951917573,
          6875.038813781073
         ],
         "yaxis": "y"
        },
        {
         "hovertemplate": "arrival_time=Night<br>trip=%{x}<br>price=%{y}<extra></extra>",
         "legendgroup": "Night",
         "marker": {
          "color": "#19d3f3",
          "symbol": "circle"
         },
         "mode": "markers",
         "name": "Night",
         "orientation": "v",
         "showlegend": true,
         "type": "scatter",
         "x": [
          "Bangalore-Chennai",
          "Bangalore-Delhi",
          "Bangalore-Hyderabad",
          "Bangalore-Kolkata",
          "Bangalore-Mumbai",
          "Chennai-Bangalore",
          "Chennai-Delhi",
          "Chennai-Hyderabad",
          "Chennai-Kolkata",
          "Chennai-Mumbai",
          "Delhi-Bangalore",
          "Delhi-Chennai",
          "Delhi-Hyderabad",
          "Delhi-Kolkata",
          "Delhi-Mumbai",
          "Hyderabad-Bangalore",
          "Hyderabad-Chennai",
          "Hyderabad-Delhi",
          "Hyderabad-Kolkata",
          "Hyderabad-Mumbai",
          "Kolkata-Bangalore",
          "Kolkata-Chennai",
          "Kolkata-Delhi",
          "Kolkata-Hyderabad",
          "Kolkata-Mumbai",
          "Mumbai-Bangalore",
          "Mumbai-Chennai",
          "Mumbai-Delhi",
          "Mumbai-Hyderabad",
          "Mumbai-Kolkata"
         ],
         "xaxis": "x",
         "y": [
          8206.774828767124,
          6652.205882352941,
          5959.936228697086,
          6963.346128822382,
          6737.249914646637,
          7013.7515099223465,
          6387.281962978906,
          5939.404594767071,
          6951.944444444444,
          7019.710050949514,
          6384.3904696606105,
          6032.695842450766,
          6550.540936863544,
          6096.675086107922,
          6497.376373626374,
          6592.921803652968,
          6931.114982578397,
          6317.807556080284,
          6907.491744436468,
          6112.639075630252,
          7588.792050412021,
          7952.242710795902,
          7118.356305672762,
          7863.863888888889,
          7763.749756572542,
          6582.3945243945245,
          7021.206827309237,
          6282.093128705965,
          5598.497222222222,
          7116.675708017551
         ],
         "yaxis": "y"
        }
       ],
       "layout": {
        "legend": {
         "title": {
          "text": "arrival_time"
         },
         "tracegroupgap": 0
        },
        "template": {
         "data": {
          "bar": [
           {
            "error_x": {
             "color": "#2a3f5f"
            },
            "error_y": {
             "color": "#2a3f5f"
            },
            "marker": {
             "line": {
              "color": "#E5ECF6",
              "width": 0.5
             },
             "pattern": {
              "fillmode": "overlay",
              "size": 10,
              "solidity": 0.2
             }
            },
            "type": "bar"
           }
          ],
          "barpolar": [
           {
            "marker": {
             "line": {
              "color": "#E5ECF6",
              "width": 0.5
             },
             "pattern": {
              "fillmode": "overlay",
              "size": 10,
              "solidity": 0.2
             }
            },
            "type": "barpolar"
           }
          ],
          "carpet": [
           {
            "aaxis": {
             "endlinecolor": "#2a3f5f",
             "gridcolor": "white",
             "linecolor": "white",
             "minorgridcolor": "white",
             "startlinecolor": "#2a3f5f"
            },
            "baxis": {
             "endlinecolor": "#2a3f5f",
             "gridcolor": "white",
             "linecolor": "white",
             "minorgridcolor": "white",
             "startlinecolor": "#2a3f5f"
            },
            "type": "carpet"
           }
          ],
          "choropleth": [
           {
            "colorbar": {
             "outlinewidth": 0,
             "ticks": ""
            },
            "type": "choropleth"
           }
          ],
          "contour": [
           {
            "colorbar": {
             "outlinewidth": 0,
             "ticks": ""
            },
            "colorscale": [
             [
              0,
              "#0d0887"
             ],
             [
              0.1111111111111111,
              "#46039f"
             ],
             [
              0.2222222222222222,
              "#7201a8"
             ],
             [
              0.3333333333333333,
              "#9c179e"
             ],
             [
              0.4444444444444444,
              "#bd3786"
             ],
             [
              0.5555555555555556,
              "#d8576b"
             ],
             [
              0.6666666666666666,
              "#ed7953"
             ],
             [
              0.7777777777777778,
              "#fb9f3a"
             ],
             [
              0.8888888888888888,
              "#fdca26"
             ],
             [
              1,
              "#f0f921"
             ]
            ],
            "type": "contour"
           }
          ],
          "contourcarpet": [
           {
            "colorbar": {
             "outlinewidth": 0,
             "ticks": ""
            },
            "type": "contourcarpet"
           }
          ],
          "heatmap": [
           {
            "colorbar": {
             "outlinewidth": 0,
             "ticks": ""
            },
            "colorscale": [
             [
              0,
              "#0d0887"
             ],
             [
              0.1111111111111111,
              "#46039f"
             ],
             [
              0.2222222222222222,
              "#7201a8"
             ],
             [
              0.3333333333333333,
              "#9c179e"
             ],
             [
              0.4444444444444444,
              "#bd3786"
             ],
             [
              0.5555555555555556,
              "#d8576b"
             ],
             [
              0.6666666666666666,
              "#ed7953"
             ],
             [
              0.7777777777777778,
              "#fb9f3a"
             ],
             [
              0.8888888888888888,
              "#fdca26"
             ],
             [
              1,
              "#f0f921"
             ]
            ],
            "type": "heatmap"
           }
          ],
          "heatmapgl": [
           {
            "colorbar": {
             "outlinewidth": 0,
             "ticks": ""
            },
            "colorscale": [
             [
              0,
              "#0d0887"
             ],
             [
              0.1111111111111111,
              "#46039f"
             ],
             [
              0.2222222222222222,
              "#7201a8"
             ],
             [
              0.3333333333333333,
              "#9c179e"
             ],
             [
              0.4444444444444444,
              "#bd3786"
             ],
             [
              0.5555555555555556,
              "#d8576b"
             ],
             [
              0.6666666666666666,
              "#ed7953"
             ],
             [
              0.7777777777777778,
              "#fb9f3a"
             ],
             [
              0.8888888888888888,
              "#fdca26"
             ],
             [
              1,
              "#f0f921"
             ]
            ],
            "type": "heatmapgl"
           }
          ],
          "histogram": [
           {
            "marker": {
             "pattern": {
              "fillmode": "overlay",
              "size": 10,
              "solidity": 0.2
             }
            },
            "type": "histogram"
           }
          ],
          "histogram2d": [
           {
            "colorbar": {
             "outlinewidth": 0,
             "ticks": ""
            },
            "colorscale": [
             [
              0,
              "#0d0887"
             ],
             [
              0.1111111111111111,
              "#46039f"
             ],
             [
              0.2222222222222222,
              "#7201a8"
             ],
             [
              0.3333333333333333,
              "#9c179e"
             ],
             [
              0.4444444444444444,
              "#bd3786"
             ],
             [
              0.5555555555555556,
              "#d8576b"
             ],
             [
              0.6666666666666666,
              "#ed7953"
             ],
             [
              0.7777777777777778,
              "#fb9f3a"
             ],
             [
              0.8888888888888888,
              "#fdca26"
             ],
             [
              1,
              "#f0f921"
             ]
            ],
            "type": "histogram2d"
           }
          ],
          "histogram2dcontour": [
           {
            "colorbar": {
             "outlinewidth": 0,
             "ticks": ""
            },
            "colorscale": [
             [
              0,
              "#0d0887"
             ],
             [
              0.1111111111111111,
              "#46039f"
             ],
             [
              0.2222222222222222,
              "#7201a8"
             ],
             [
              0.3333333333333333,
              "#9c179e"
             ],
             [
              0.4444444444444444,
              "#bd3786"
             ],
             [
              0.5555555555555556,
              "#d8576b"
             ],
             [
              0.6666666666666666,
              "#ed7953"
             ],
             [
              0.7777777777777778,
              "#fb9f3a"
             ],
             [
              0.8888888888888888,
              "#fdca26"
             ],
             [
              1,
              "#f0f921"
             ]
            ],
            "type": "histogram2dcontour"
           }
          ],
          "mesh3d": [
           {
            "colorbar": {
             "outlinewidth": 0,
             "ticks": ""
            },
            "type": "mesh3d"
           }
          ],
          "parcoords": [
           {
            "line": {
             "colorbar": {
              "outlinewidth": 0,
              "ticks": ""
             }
            },
            "type": "parcoords"
           }
          ],
          "pie": [
           {
            "automargin": true,
            "type": "pie"
           }
          ],
          "scatter": [
           {
            "fillpattern": {
             "fillmode": "overlay",
             "size": 10,
             "solidity": 0.2
            },
            "type": "scatter"
           }
          ],
          "scatter3d": [
           {
            "line": {
             "colorbar": {
              "outlinewidth": 0,
              "ticks": ""
             }
            },
            "marker": {
             "colorbar": {
              "outlinewidth": 0,
              "ticks": ""
             }
            },
            "type": "scatter3d"
           }
          ],
          "scattercarpet": [
           {
            "marker": {
             "colorbar": {
              "outlinewidth": 0,
              "ticks": ""
             }
            },
            "type": "scattercarpet"
           }
          ],
          "scattergeo": [
           {
            "marker": {
             "colorbar": {
              "outlinewidth": 0,
              "ticks": ""
             }
            },
            "type": "scattergeo"
           }
          ],
          "scattergl": [
           {
            "marker": {
             "colorbar": {
              "outlinewidth": 0,
              "ticks": ""
             }
            },
            "type": "scattergl"
           }
          ],
          "scattermapbox": [
           {
            "marker": {
             "colorbar": {
              "outlinewidth": 0,
              "ticks": ""
             }
            },
            "type": "scattermapbox"
           }
          ],
          "scatterpolar": [
           {
            "marker": {
             "colorbar": {
              "outlinewidth": 0,
              "ticks": ""
             }
            },
            "type": "scatterpolar"
           }
          ],
          "scatterpolargl": [
           {
            "marker": {
             "colorbar": {
              "outlinewidth": 0,
              "ticks": ""
             }
            },
            "type": "scatterpolargl"
           }
          ],
          "scatterternary": [
           {
            "marker": {
             "colorbar": {
              "outlinewidth": 0,
              "ticks": ""
             }
            },
            "type": "scatterternary"
           }
          ],
          "surface": [
           {
            "colorbar": {
             "outlinewidth": 0,
             "ticks": ""
            },
            "colorscale": [
             [
              0,
              "#0d0887"
             ],
             [
              0.1111111111111111,
              "#46039f"
             ],
             [
              0.2222222222222222,
              "#7201a8"
             ],
             [
              0.3333333333333333,
              "#9c179e"
             ],
             [
              0.4444444444444444,
              "#bd3786"
             ],
             [
              0.5555555555555556,
              "#d8576b"
             ],
             [
              0.6666666666666666,
              "#ed7953"
             ],
             [
              0.7777777777777778,
              "#fb9f3a"
             ],
             [
              0.8888888888888888,
              "#fdca26"
             ],
             [
              1,
              "#f0f921"
             ]
            ],
            "type": "surface"
           }
          ],
          "table": [
           {
            "cells": {
             "fill": {
              "color": "#EBF0F8"
             },
             "line": {
              "color": "white"
             }
            },
            "header": {
             "fill": {
              "color": "#C8D4E3"
             },
             "line": {
              "color": "white"
             }
            },
            "type": "table"
           }
          ]
         },
         "layout": {
          "annotationdefaults": {
           "arrowcolor": "#2a3f5f",
           "arrowhead": 0,
           "arrowwidth": 1
          },
          "autotypenumbers": "strict",
          "coloraxis": {
           "colorbar": {
            "outlinewidth": 0,
            "ticks": ""
           }
          },
          "colorscale": {
           "diverging": [
            [
             0,
             "#8e0152"
            ],
            [
             0.1,
             "#c51b7d"
            ],
            [
             0.2,
             "#de77ae"
            ],
            [
             0.3,
             "#f1b6da"
            ],
            [
             0.4,
             "#fde0ef"
            ],
            [
             0.5,
             "#f7f7f7"
            ],
            [
             0.6,
             "#e6f5d0"
            ],
            [
             0.7,
             "#b8e186"
            ],
            [
             0.8,
             "#7fbc41"
            ],
            [
             0.9,
             "#4d9221"
            ],
            [
             1,
             "#276419"
            ]
           ],
           "sequential": [
            [
             0,
             "#0d0887"
            ],
            [
             0.1111111111111111,
             "#46039f"
            ],
            [
             0.2222222222222222,
             "#7201a8"
            ],
            [
             0.3333333333333333,
             "#9c179e"
            ],
            [
             0.4444444444444444,
             "#bd3786"
            ],
            [
             0.5555555555555556,
             "#d8576b"
            ],
            [
             0.6666666666666666,
             "#ed7953"
            ],
            [
             0.7777777777777778,
             "#fb9f3a"
            ],
            [
             0.8888888888888888,
             "#fdca26"
            ],
            [
             1,
             "#f0f921"
            ]
           ],
           "sequentialminus": [
            [
             0,
             "#0d0887"
            ],
            [
             0.1111111111111111,
             "#46039f"
            ],
            [
             0.2222222222222222,
             "#7201a8"
            ],
            [
             0.3333333333333333,
             "#9c179e"
            ],
            [
             0.4444444444444444,
             "#bd3786"
            ],
            [
             0.5555555555555556,
             "#d8576b"
            ],
            [
             0.6666666666666666,
             "#ed7953"
            ],
            [
             0.7777777777777778,
             "#fb9f3a"
            ],
            [
             0.8888888888888888,
             "#fdca26"
            ],
            [
             1,
             "#f0f921"
            ]
           ]
          },
          "colorway": [
           "#636efa",
           "#EF553B",
           "#00cc96",
           "#ab63fa",
           "#FFA15A",
           "#19d3f3",
           "#FF6692",
           "#B6E880",
           "#FF97FF",
           "#FECB52"
          ],
          "font": {
           "color": "#2a3f5f"
          },
          "geo": {
           "bgcolor": "white",
           "lakecolor": "white",
           "landcolor": "#E5ECF6",
           "showlakes": true,
           "showland": true,
           "subunitcolor": "white"
          },
          "hoverlabel": {
           "align": "left"
          },
          "hovermode": "closest",
          "mapbox": {
           "style": "light"
          },
          "paper_bgcolor": "white",
          "plot_bgcolor": "#E5ECF6",
          "polar": {
           "angularaxis": {
            "gridcolor": "white",
            "linecolor": "white",
            "ticks": ""
           },
           "bgcolor": "#E5ECF6",
           "radialaxis": {
            "gridcolor": "white",
            "linecolor": "white",
            "ticks": ""
           }
          },
          "scene": {
           "xaxis": {
            "backgroundcolor": "#E5ECF6",
            "gridcolor": "white",
            "gridwidth": 2,
            "linecolor": "white",
            "showbackground": true,
            "ticks": "",
            "zerolinecolor": "white"
           },
           "yaxis": {
            "backgroundcolor": "#E5ECF6",
            "gridcolor": "white",
            "gridwidth": 2,
            "linecolor": "white",
            "showbackground": true,
            "ticks": "",
            "zerolinecolor": "white"
           },
           "zaxis": {
            "backgroundcolor": "#E5ECF6",
            "gridcolor": "white",
            "gridwidth": 2,
            "linecolor": "white",
            "showbackground": true,
            "ticks": "",
            "zerolinecolor": "white"
           }
          },
          "shapedefaults": {
           "line": {
            "color": "#2a3f5f"
           }
          },
          "ternary": {
           "aaxis": {
            "gridcolor": "white",
            "linecolor": "white",
            "ticks": ""
           },
           "baxis": {
            "gridcolor": "white",
            "linecolor": "white",
            "ticks": ""
           },
           "bgcolor": "#E5ECF6",
           "caxis": {
            "gridcolor": "white",
            "linecolor": "white",
            "ticks": ""
           }
          },
          "title": {
           "x": 0.05
          },
          "xaxis": {
           "automargin": true,
           "gridcolor": "white",
           "linecolor": "white",
           "ticks": "",
           "title": {
            "standoff": 15
           },
           "zerolinecolor": "white",
           "zerolinewidth": 2
          },
          "yaxis": {
           "automargin": true,
           "gridcolor": "white",
           "linecolor": "white",
           "ticks": "",
           "title": {
            "standoff": 15
           },
           "zerolinecolor": "white",
           "zerolinewidth": 2
          }
         }
        },
        "title": {
         "text": "Economy flight prices based on arrival time"
        },
        "xaxis": {
         "anchor": "y",
         "domain": [
          0,
          1
         ],
         "title": {
          "text": "trip"
         }
        },
        "yaxis": {
         "anchor": "x",
         "domain": [
          0,
          1
         ],
         "title": {
          "text": "price"
         }
        }
       }
      },
      "text/html": [
       "<div>                            <div id=\"8fc682c5-cad2-4d1d-9b38-a35fb75d49d7\" class=\"plotly-graph-div\" style=\"height:525px; width:100%;\"></div>            <script type=\"text/javascript\">                require([\"plotly\"], function(Plotly) {                    window.PLOTLYENV=window.PLOTLYENV || {};                                    if (document.getElementById(\"8fc682c5-cad2-4d1d-9b38-a35fb75d49d7\")) {                    Plotly.newPlot(                        \"8fc682c5-cad2-4d1d-9b38-a35fb75d49d7\",                        [{\"hovertemplate\":\"arrival_time=Afternoon<br>trip=%{x}<br>price=%{y}<extra></extra>\",\"legendgroup\":\"Afternoon\",\"marker\":{\"color\":\"#636efa\",\"symbol\":\"circle\"},\"mode\":\"markers\",\"name\":\"Afternoon\",\"orientation\":\"v\",\"showlegend\":true,\"x\":[\"Bangalore-Chennai\",\"Bangalore-Delhi\",\"Bangalore-Hyderabad\",\"Bangalore-Kolkata\",\"Bangalore-Mumbai\",\"Chennai-Bangalore\",\"Chennai-Delhi\",\"Chennai-Hyderabad\",\"Chennai-Kolkata\",\"Chennai-Mumbai\",\"Delhi-Bangalore\",\"Delhi-Chennai\",\"Delhi-Hyderabad\",\"Delhi-Kolkata\",\"Delhi-Mumbai\",\"Hyderabad-Bangalore\",\"Hyderabad-Chennai\",\"Hyderabad-Delhi\",\"Hyderabad-Kolkata\",\"Hyderabad-Mumbai\",\"Kolkata-Bangalore\",\"Kolkata-Chennai\",\"Kolkata-Delhi\",\"Kolkata-Hyderabad\",\"Kolkata-Mumbai\",\"Mumbai-Bangalore\",\"Mumbai-Chennai\",\"Mumbai-Delhi\",\"Mumbai-Hyderabad\",\"Mumbai-Kolkata\"],\"xaxis\":\"x\",\"y\":[4630.605911330049,5858.894158473106,6199.251851851852,7223.9385542168675,6431.79512195122,8662.768656716418,6195.991620111732,5609.473267326733,7208.840073529412,6425.343848580442,6386.534201954398,4842.851520572451,5653.785974499089,6685.1247877758915,6513.732258064516,5466.1,4304.59796437659,6545.401869158878,6161.807299270073,6139.102094240838,6667.621722846442,6614.418397626113,7697.48628613788,7250.618448637317,6861.111829944547,6525.517423442449,5916.080291970803,5895.171590909091,5821.451564828614,7756.097387173397],\"yaxis\":\"y\",\"type\":\"scatter\"},{\"hovertemplate\":\"arrival_time=Early_Morning<br>trip=%{x}<br>price=%{y}<extra></extra>\",\"legendgroup\":\"Early_Morning\",\"marker\":{\"color\":\"#EF553B\",\"symbol\":\"circle\"},\"mode\":\"markers\",\"name\":\"Early_Morning\",\"orientation\":\"v\",\"showlegend\":true,\"x\":[\"Bangalore-Chennai\",\"Bangalore-Delhi\",\"Bangalore-Hyderabad\",\"Bangalore-Kolkata\",\"Bangalore-Mumbai\",\"Chennai-Bangalore\",\"Chennai-Delhi\",\"Chennai-Hyderabad\",\"Chennai-Kolkata\",\"Chennai-Mumbai\",\"Delhi-Bangalore\",\"Delhi-Chennai\",\"Delhi-Hyderabad\",\"Delhi-Kolkata\",\"Delhi-Mumbai\",\"Hyderabad-Bangalore\",\"Hyderabad-Chennai\",\"Hyderabad-Delhi\",\"Hyderabad-Kolkata\",\"Hyderabad-Mumbai\",\"Kolkata-Bangalore\",\"Kolkata-Chennai\",\"Kolkata-Delhi\",\"Kolkata-Hyderabad\",\"Kolkata-Mumbai\",\"Mumbai-Bangalore\",\"Mumbai-Chennai\",\"Mumbai-Delhi\",\"Mumbai-Hyderabad\",\"Mumbai-Kolkata\"],\"xaxis\":\"x\",\"y\":[5836.422505307855,4757.12865497076,5015.7168316831685,5018.686244204018,4842.1689008042895,5389.972972972973,4554.7692307692305,5302.922033898305,5134.416,4350.790588235294,5683.583333333333,5675.854838709677,6133.95592864638,6441.3171875,4144.798347107438,4773.611111111111,4693.415162454874,3240.6222222222223,4553.021739130435,4063.150205761317,6945.691358024691,6481.265350877193,5068.3650793650795,7246.6450511945395,5536.867298578199,3088.20625,5318.353260869565,4264.572222222222,4188.732484076433,5916.978666666667],\"yaxis\":\"y\",\"type\":\"scatter\"},{\"hovertemplate\":\"arrival_time=Evening<br>trip=%{x}<br>price=%{y}<extra></extra>\",\"legendgroup\":\"Evening\",\"marker\":{\"color\":\"#00cc96\",\"symbol\":\"circle\"},\"mode\":\"markers\",\"name\":\"Evening\",\"orientation\":\"v\",\"showlegend\":true,\"x\":[\"Bangalore-Chennai\",\"Bangalore-Delhi\",\"Bangalore-Hyderabad\",\"Bangalore-Kolkata\",\"Bangalore-Mumbai\",\"Chennai-Bangalore\",\"Chennai-Delhi\",\"Chennai-Hyderabad\",\"Chennai-Kolkata\",\"Chennai-Mumbai\",\"Delhi-Bangalore\",\"Delhi-Chennai\",\"Delhi-Hyderabad\",\"Delhi-Kolkata\",\"Delhi-Mumbai\",\"Hyderabad-Bangalore\",\"Hyderabad-Chennai\",\"Hyderabad-Delhi\",\"Hyderabad-Kolkata\",\"Hyderabad-Mumbai\",\"Kolkata-Bangalore\",\"Kolkata-Chennai\",\"Kolkata-Delhi\",\"Kolkata-Hyderabad\",\"Kolkata-Mumbai\",\"Mumbai-Bangalore\",\"Mumbai-Chennai\",\"Mumbai-Delhi\",\"Mumbai-Hyderabad\",\"Mumbai-Kolkata\"],\"xaxis\":\"x\",\"y\":[7694.561440677966,6711.049357945425,7307.10551558753,8263.10736925515,7099.77974025974,7378.032546786005,6879.624563445867,6545.718456725756,8960.65389294404,6982.699203187251,6248.659769335142,6840.712620027435,5982.14373088685,7920.829929577465,6491.5734806629835,6332.794232268122,6194.00871459695,6308.741580310881,7696.825944170771,6678.936475409836,7783.857447944474,8576.454545454546,7384.513527851459,7982.018067556952,7928.917411888479,6884.485397784491,6750.202316076295,6863.624886466849,6562.5964405964405,7949.04851202609],\"yaxis\":\"y\",\"type\":\"scatter\"},{\"hovertemplate\":\"arrival_time=Late_Night<br>trip=%{x}<br>price=%{y}<extra></extra>\",\"legendgroup\":\"Late_Night\",\"marker\":{\"color\":\"#ab63fa\",\"symbol\":\"circle\"},\"mode\":\"markers\",\"name\":\"Late_Night\",\"orientation\":\"v\",\"showlegend\":true,\"x\":[\"Bangalore-Chennai\",\"Bangalore-Delhi\",\"Bangalore-Hyderabad\",\"Bangalore-Kolkata\",\"Bangalore-Mumbai\",\"Chennai-Bangalore\",\"Chennai-Delhi\",\"Chennai-Hyderabad\",\"Chennai-Kolkata\",\"Chennai-Mumbai\",\"Delhi-Bangalore\",\"Delhi-Chennai\",\"Delhi-Hyderabad\",\"Delhi-Kolkata\",\"Delhi-Mumbai\",\"Hyderabad-Bangalore\",\"Hyderabad-Chennai\",\"Hyderabad-Delhi\",\"Hyderabad-Kolkata\",\"Hyderabad-Mumbai\",\"Kolkata-Bangalore\",\"Kolkata-Chennai\",\"Kolkata-Delhi\",\"Kolkata-Hyderabad\",\"Kolkata-Mumbai\",\"Mumbai-Bangalore\",\"Mumbai-Chennai\",\"Mumbai-Delhi\",\"Mumbai-Hyderabad\",\"Mumbai-Kolkata\"],\"xaxis\":\"x\",\"y\":[5732.613636363636,5216.992656058752,3604.8939393939395,3956.9532163742692,4399.8493150684935,7151.841836734694,4454.9159388646285,3336.653846153846,5461.66037735849,5032.4324324324325,5026.889007470651,5091.341207349082,5127.072463768116,5205.560747663551,4044.6256157635466,7487.534031413613,2693.734693877551,4719.399506781751,5007.865942028986,5122.921658986175,7070.989177489178,7132.05303030303,6239.34765625,5318.614678899083,5231.043824701195,5645.737024221453,4578.2918149466195,4414.307268722467,4221.721590909091,5143.871710526316],\"yaxis\":\"y\",\"type\":\"scatter\"},{\"hovertemplate\":\"arrival_time=Morning<br>trip=%{x}<br>price=%{y}<extra></extra>\",\"legendgroup\":\"Morning\",\"marker\":{\"color\":\"#FFA15A\",\"symbol\":\"circle\"},\"mode\":\"markers\",\"name\":\"Morning\",\"orientation\":\"v\",\"showlegend\":true,\"x\":[\"Bangalore-Chennai\",\"Bangalore-Delhi\",\"Bangalore-Hyderabad\",\"Bangalore-Kolkata\",\"Bangalore-Mumbai\",\"Chennai-Bangalore\",\"Chennai-Delhi\",\"Chennai-Hyderabad\",\"Chennai-Kolkata\",\"Chennai-Mumbai\",\"Delhi-Bangalore\",\"Delhi-Chennai\",\"Delhi-Hyderabad\",\"Delhi-Kolkata\",\"Delhi-Mumbai\",\"Hyderabad-Bangalore\",\"Hyderabad-Chennai\",\"Hyderabad-Delhi\",\"Hyderabad-Kolkata\",\"Hyderabad-Mumbai\",\"Kolkata-Bangalore\",\"Kolkata-Chennai\",\"Kolkata-Delhi\",\"Kolkata-Hyderabad\",\"Kolkata-Mumbai\",\"Mumbai-Bangalore\",\"Mumbai-Chennai\",\"Mumbai-Delhi\",\"Mumbai-Hyderabad\",\"Mumbai-Kolkata\"],\"xaxis\":\"x\",\"y\":[6639.165971643036,5832.106344410876,6537.155872667398,7909.744482173175,6060.283389830509,6763.022756005057,5369.703888334995,5827.669195751138,7215.123885918004,6152.6240234375,6280.834682080925,6475.780055401662,5203.654634146342,7228.301470588235,5525.317530864198,6022.796958855099,5892.048059149723,6059.857291666666,7093.864498644986,5821.421052631579,7561.400826446281,8622.520168067227,7179.099118942731,6967.864306784661,7597.019047619047,6239.069075937786,6029.050348567002,5013.3057324840765,5336.71951917573,6875.038813781073],\"yaxis\":\"y\",\"type\":\"scatter\"},{\"hovertemplate\":\"arrival_time=Night<br>trip=%{x}<br>price=%{y}<extra></extra>\",\"legendgroup\":\"Night\",\"marker\":{\"color\":\"#19d3f3\",\"symbol\":\"circle\"},\"mode\":\"markers\",\"name\":\"Night\",\"orientation\":\"v\",\"showlegend\":true,\"x\":[\"Bangalore-Chennai\",\"Bangalore-Delhi\",\"Bangalore-Hyderabad\",\"Bangalore-Kolkata\",\"Bangalore-Mumbai\",\"Chennai-Bangalore\",\"Chennai-Delhi\",\"Chennai-Hyderabad\",\"Chennai-Kolkata\",\"Chennai-Mumbai\",\"Delhi-Bangalore\",\"Delhi-Chennai\",\"Delhi-Hyderabad\",\"Delhi-Kolkata\",\"Delhi-Mumbai\",\"Hyderabad-Bangalore\",\"Hyderabad-Chennai\",\"Hyderabad-Delhi\",\"Hyderabad-Kolkata\",\"Hyderabad-Mumbai\",\"Kolkata-Bangalore\",\"Kolkata-Chennai\",\"Kolkata-Delhi\",\"Kolkata-Hyderabad\",\"Kolkata-Mumbai\",\"Mumbai-Bangalore\",\"Mumbai-Chennai\",\"Mumbai-Delhi\",\"Mumbai-Hyderabad\",\"Mumbai-Kolkata\"],\"xaxis\":\"x\",\"y\":[8206.774828767124,6652.205882352941,5959.936228697086,6963.346128822382,6737.249914646637,7013.7515099223465,6387.281962978906,5939.404594767071,6951.944444444444,7019.710050949514,6384.3904696606105,6032.695842450766,6550.540936863544,6096.675086107922,6497.376373626374,6592.921803652968,6931.114982578397,6317.807556080284,6907.491744436468,6112.639075630252,7588.792050412021,7952.242710795902,7118.356305672762,7863.863888888889,7763.749756572542,6582.3945243945245,7021.206827309237,6282.093128705965,5598.497222222222,7116.675708017551],\"yaxis\":\"y\",\"type\":\"scatter\"}],                        {\"template\":{\"data\":{\"histogram2dcontour\":[{\"type\":\"histogram2dcontour\",\"colorbar\":{\"outlinewidth\":0,\"ticks\":\"\"},\"colorscale\":[[0.0,\"#0d0887\"],[0.1111111111111111,\"#46039f\"],[0.2222222222222222,\"#7201a8\"],[0.3333333333333333,\"#9c179e\"],[0.4444444444444444,\"#bd3786\"],[0.5555555555555556,\"#d8576b\"],[0.6666666666666666,\"#ed7953\"],[0.7777777777777778,\"#fb9f3a\"],[0.8888888888888888,\"#fdca26\"],[1.0,\"#f0f921\"]]}],\"choropleth\":[{\"type\":\"choropleth\",\"colorbar\":{\"outlinewidth\":0,\"ticks\":\"\"}}],\"histogram2d\":[{\"type\":\"histogram2d\",\"colorbar\":{\"outlinewidth\":0,\"ticks\":\"\"},\"colorscale\":[[0.0,\"#0d0887\"],[0.1111111111111111,\"#46039f\"],[0.2222222222222222,\"#7201a8\"],[0.3333333333333333,\"#9c179e\"],[0.4444444444444444,\"#bd3786\"],[0.5555555555555556,\"#d8576b\"],[0.6666666666666666,\"#ed7953\"],[0.7777777777777778,\"#fb9f3a\"],[0.8888888888888888,\"#fdca26\"],[1.0,\"#f0f921\"]]}],\"heatmap\":[{\"type\":\"heatmap\",\"colorbar\":{\"outlinewidth\":0,\"ticks\":\"\"},\"colorscale\":[[0.0,\"#0d0887\"],[0.1111111111111111,\"#46039f\"],[0.2222222222222222,\"#7201a8\"],[0.3333333333333333,\"#9c179e\"],[0.4444444444444444,\"#bd3786\"],[0.5555555555555556,\"#d8576b\"],[0.6666666666666666,\"#ed7953\"],[0.7777777777777778,\"#fb9f3a\"],[0.8888888888888888,\"#fdca26\"],[1.0,\"#f0f921\"]]}],\"heatmapgl\":[{\"type\":\"heatmapgl\",\"colorbar\":{\"outlinewidth\":0,\"ticks\":\"\"},\"colorscale\":[[0.0,\"#0d0887\"],[0.1111111111111111,\"#46039f\"],[0.2222222222222222,\"#7201a8\"],[0.3333333333333333,\"#9c179e\"],[0.4444444444444444,\"#bd3786\"],[0.5555555555555556,\"#d8576b\"],[0.6666666666666666,\"#ed7953\"],[0.7777777777777778,\"#fb9f3a\"],[0.8888888888888888,\"#fdca26\"],[1.0,\"#f0f921\"]]}],\"contourcarpet\":[{\"type\":\"contourcarpet\",\"colorbar\":{\"outlinewidth\":0,\"ticks\":\"\"}}],\"contour\":[{\"type\":\"contour\",\"colorbar\":{\"outlinewidth\":0,\"ticks\":\"\"},\"colorscale\":[[0.0,\"#0d0887\"],[0.1111111111111111,\"#46039f\"],[0.2222222222222222,\"#7201a8\"],[0.3333333333333333,\"#9c179e\"],[0.4444444444444444,\"#bd3786\"],[0.5555555555555556,\"#d8576b\"],[0.6666666666666666,\"#ed7953\"],[0.7777777777777778,\"#fb9f3a\"],[0.8888888888888888,\"#fdca26\"],[1.0,\"#f0f921\"]]}],\"surface\":[{\"type\":\"surface\",\"colorbar\":{\"outlinewidth\":0,\"ticks\":\"\"},\"colorscale\":[[0.0,\"#0d0887\"],[0.1111111111111111,\"#46039f\"],[0.2222222222222222,\"#7201a8\"],[0.3333333333333333,\"#9c179e\"],[0.4444444444444444,\"#bd3786\"],[0.5555555555555556,\"#d8576b\"],[0.6666666666666666,\"#ed7953\"],[0.7777777777777778,\"#fb9f3a\"],[0.8888888888888888,\"#fdca26\"],[1.0,\"#f0f921\"]]}],\"mesh3d\":[{\"type\":\"mesh3d\",\"colorbar\":{\"outlinewidth\":0,\"ticks\":\"\"}}],\"scatter\":[{\"fillpattern\":{\"fillmode\":\"overlay\",\"size\":10,\"solidity\":0.2},\"type\":\"scatter\"}],\"parcoords\":[{\"type\":\"parcoords\",\"line\":{\"colorbar\":{\"outlinewidth\":0,\"ticks\":\"\"}}}],\"scatterpolargl\":[{\"type\":\"scatterpolargl\",\"marker\":{\"colorbar\":{\"outlinewidth\":0,\"ticks\":\"\"}}}],\"bar\":[{\"error_x\":{\"color\":\"#2a3f5f\"},\"error_y\":{\"color\":\"#2a3f5f\"},\"marker\":{\"line\":{\"color\":\"#E5ECF6\",\"width\":0.5},\"pattern\":{\"fillmode\":\"overlay\",\"size\":10,\"solidity\":0.2}},\"type\":\"bar\"}],\"scattergeo\":[{\"type\":\"scattergeo\",\"marker\":{\"colorbar\":{\"outlinewidth\":0,\"ticks\":\"\"}}}],\"scatterpolar\":[{\"type\":\"scatterpolar\",\"marker\":{\"colorbar\":{\"outlinewidth\":0,\"ticks\":\"\"}}}],\"histogram\":[{\"marker\":{\"pattern\":{\"fillmode\":\"overlay\",\"size\":10,\"solidity\":0.2}},\"type\":\"histogram\"}],\"scattergl\":[{\"type\":\"scattergl\",\"marker\":{\"colorbar\":{\"outlinewidth\":0,\"ticks\":\"\"}}}],\"scatter3d\":[{\"type\":\"scatter3d\",\"line\":{\"colorbar\":{\"outlinewidth\":0,\"ticks\":\"\"}},\"marker\":{\"colorbar\":{\"outlinewidth\":0,\"ticks\":\"\"}}}],\"scattermapbox\":[{\"type\":\"scattermapbox\",\"marker\":{\"colorbar\":{\"outlinewidth\":0,\"ticks\":\"\"}}}],\"scatterternary\":[{\"type\":\"scatterternary\",\"marker\":{\"colorbar\":{\"outlinewidth\":0,\"ticks\":\"\"}}}],\"scattercarpet\":[{\"type\":\"scattercarpet\",\"marker\":{\"colorbar\":{\"outlinewidth\":0,\"ticks\":\"\"}}}],\"carpet\":[{\"aaxis\":{\"endlinecolor\":\"#2a3f5f\",\"gridcolor\":\"white\",\"linecolor\":\"white\",\"minorgridcolor\":\"white\",\"startlinecolor\":\"#2a3f5f\"},\"baxis\":{\"endlinecolor\":\"#2a3f5f\",\"gridcolor\":\"white\",\"linecolor\":\"white\",\"minorgridcolor\":\"white\",\"startlinecolor\":\"#2a3f5f\"},\"type\":\"carpet\"}],\"table\":[{\"cells\":{\"fill\":{\"color\":\"#EBF0F8\"},\"line\":{\"color\":\"white\"}},\"header\":{\"fill\":{\"color\":\"#C8D4E3\"},\"line\":{\"color\":\"white\"}},\"type\":\"table\"}],\"barpolar\":[{\"marker\":{\"line\":{\"color\":\"#E5ECF6\",\"width\":0.5},\"pattern\":{\"fillmode\":\"overlay\",\"size\":10,\"solidity\":0.2}},\"type\":\"barpolar\"}],\"pie\":[{\"automargin\":true,\"type\":\"pie\"}]},\"layout\":{\"autotypenumbers\":\"strict\",\"colorway\":[\"#636efa\",\"#EF553B\",\"#00cc96\",\"#ab63fa\",\"#FFA15A\",\"#19d3f3\",\"#FF6692\",\"#B6E880\",\"#FF97FF\",\"#FECB52\"],\"font\":{\"color\":\"#2a3f5f\"},\"hovermode\":\"closest\",\"hoverlabel\":{\"align\":\"left\"},\"paper_bgcolor\":\"white\",\"plot_bgcolor\":\"#E5ECF6\",\"polar\":{\"bgcolor\":\"#E5ECF6\",\"angularaxis\":{\"gridcolor\":\"white\",\"linecolor\":\"white\",\"ticks\":\"\"},\"radialaxis\":{\"gridcolor\":\"white\",\"linecolor\":\"white\",\"ticks\":\"\"}},\"ternary\":{\"bgcolor\":\"#E5ECF6\",\"aaxis\":{\"gridcolor\":\"white\",\"linecolor\":\"white\",\"ticks\":\"\"},\"baxis\":{\"gridcolor\":\"white\",\"linecolor\":\"white\",\"ticks\":\"\"},\"caxis\":{\"gridcolor\":\"white\",\"linecolor\":\"white\",\"ticks\":\"\"}},\"coloraxis\":{\"colorbar\":{\"outlinewidth\":0,\"ticks\":\"\"}},\"colorscale\":{\"sequential\":[[0.0,\"#0d0887\"],[0.1111111111111111,\"#46039f\"],[0.2222222222222222,\"#7201a8\"],[0.3333333333333333,\"#9c179e\"],[0.4444444444444444,\"#bd3786\"],[0.5555555555555556,\"#d8576b\"],[0.6666666666666666,\"#ed7953\"],[0.7777777777777778,\"#fb9f3a\"],[0.8888888888888888,\"#fdca26\"],[1.0,\"#f0f921\"]],\"sequentialminus\":[[0.0,\"#0d0887\"],[0.1111111111111111,\"#46039f\"],[0.2222222222222222,\"#7201a8\"],[0.3333333333333333,\"#9c179e\"],[0.4444444444444444,\"#bd3786\"],[0.5555555555555556,\"#d8576b\"],[0.6666666666666666,\"#ed7953\"],[0.7777777777777778,\"#fb9f3a\"],[0.8888888888888888,\"#fdca26\"],[1.0,\"#f0f921\"]],\"diverging\":[[0,\"#8e0152\"],[0.1,\"#c51b7d\"],[0.2,\"#de77ae\"],[0.3,\"#f1b6da\"],[0.4,\"#fde0ef\"],[0.5,\"#f7f7f7\"],[0.6,\"#e6f5d0\"],[0.7,\"#b8e186\"],[0.8,\"#7fbc41\"],[0.9,\"#4d9221\"],[1,\"#276419\"]]},\"xaxis\":{\"gridcolor\":\"white\",\"linecolor\":\"white\",\"ticks\":\"\",\"title\":{\"standoff\":15},\"zerolinecolor\":\"white\",\"automargin\":true,\"zerolinewidth\":2},\"yaxis\":{\"gridcolor\":\"white\",\"linecolor\":\"white\",\"ticks\":\"\",\"title\":{\"standoff\":15},\"zerolinecolor\":\"white\",\"automargin\":true,\"zerolinewidth\":2},\"scene\":{\"xaxis\":{\"backgroundcolor\":\"#E5ECF6\",\"gridcolor\":\"white\",\"linecolor\":\"white\",\"showbackground\":true,\"ticks\":\"\",\"zerolinecolor\":\"white\",\"gridwidth\":2},\"yaxis\":{\"backgroundcolor\":\"#E5ECF6\",\"gridcolor\":\"white\",\"linecolor\":\"white\",\"showbackground\":true,\"ticks\":\"\",\"zerolinecolor\":\"white\",\"gridwidth\":2},\"zaxis\":{\"backgroundcolor\":\"#E5ECF6\",\"gridcolor\":\"white\",\"linecolor\":\"white\",\"showbackground\":true,\"ticks\":\"\",\"zerolinecolor\":\"white\",\"gridwidth\":2}},\"shapedefaults\":{\"line\":{\"color\":\"#2a3f5f\"}},\"annotationdefaults\":{\"arrowcolor\":\"#2a3f5f\",\"arrowhead\":0,\"arrowwidth\":1},\"geo\":{\"bgcolor\":\"white\",\"landcolor\":\"#E5ECF6\",\"subunitcolor\":\"white\",\"showland\":true,\"showlakes\":true,\"lakecolor\":\"white\"},\"title\":{\"x\":0.05},\"mapbox\":{\"style\":\"light\"}}},\"xaxis\":{\"anchor\":\"y\",\"domain\":[0.0,1.0],\"title\":{\"text\":\"trip\"}},\"yaxis\":{\"anchor\":\"x\",\"domain\":[0.0,1.0],\"title\":{\"text\":\"price\"}},\"legend\":{\"title\":{\"text\":\"arrival_time\"},\"tracegroupgap\":0},\"title\":{\"text\":\"Economy flight prices based on arrival time\"}},                        {\"responsive\": true}                    ).then(function(){\n",
       "                            \n",
       "var gd = document.getElementById('8fc682c5-cad2-4d1d-9b38-a35fb75d49d7');\n",
       "var x = new MutationObserver(function (mutations, observer) {{\n",
       "        var display = window.getComputedStyle(gd).display;\n",
       "        if (!display || display === 'none') {{\n",
       "            console.log([gd, 'removed!']);\n",
       "            Plotly.purge(gd);\n",
       "            observer.disconnect();\n",
       "        }}\n",
       "}});\n",
       "\n",
       "// Listen for the removal of the full notebook cells\n",
       "var notebookContainer = gd.closest('#notebook-container');\n",
       "if (notebookContainer) {{\n",
       "    x.observe(notebookContainer, {childList: true});\n",
       "}}\n",
       "\n",
       "// Listen for the clearing of the current output cell\n",
       "var outputEl = gd.closest('.output');\n",
       "if (outputEl) {{\n",
       "    x.observe(outputEl, {childList: true});\n",
       "}}\n",
       "\n",
       "                        })                };                });            </script>        </div>"
      ]
     },
     "metadata": {},
     "output_type": "display_data"
    }
   ],
   "source": [
    "eco= df[df['class']=='Economy']\n",
    "ww1=eco.groupby(['trip','arrival_time'],as_index=False).price.mean()\n",
    "df1=pd.DataFrame(ww1)\n",
    "df1. head(20)\n",
    "px.scatter(df1, \n",
    "           x= 'trip',\n",
    "           y= 'price',\n",
    "           color= 'arrival_time',\n",
    "           title= 'Economy flight prices based on arrival time'\n",
    "           )"
   ]
  },
  {
   "cell_type": "code",
   "execution_count": 21,
   "metadata": {},
   "outputs": [
    {
     "data": {
      "application/vnd.plotly.v1+json": {
       "config": {
        "plotlyServerURL": "https://plot.ly"
       },
       "data": [
        {
         "hovertemplate": "arrival_time=Afternoon<br>trip=%{x}<br>price=%{y}<extra></extra>",
         "legendgroup": "Afternoon",
         "marker": {
          "color": "#636efa",
          "symbol": "circle"
         },
         "mode": "markers",
         "name": "Afternoon",
         "orientation": "v",
         "showlegend": true,
         "type": "scatter",
         "x": [
          "Bangalore-Chennai",
          "Bangalore-Delhi",
          "Bangalore-Hyderabad",
          "Bangalore-Kolkata",
          "Bangalore-Mumbai",
          "Chennai-Bangalore",
          "Chennai-Delhi",
          "Chennai-Hyderabad",
          "Chennai-Kolkata",
          "Chennai-Mumbai",
          "Delhi-Bangalore",
          "Delhi-Chennai",
          "Delhi-Hyderabad",
          "Delhi-Kolkata",
          "Delhi-Mumbai",
          "Hyderabad-Bangalore",
          "Hyderabad-Chennai",
          "Hyderabad-Delhi",
          "Hyderabad-Kolkata",
          "Hyderabad-Mumbai",
          "Kolkata-Bangalore",
          "Kolkata-Chennai",
          "Kolkata-Delhi",
          "Kolkata-Hyderabad",
          "Kolkata-Mumbai",
          "Mumbai-Bangalore",
          "Mumbai-Chennai",
          "Mumbai-Delhi",
          "Mumbai-Hyderabad",
          "Mumbai-Kolkata"
         ],
         "xaxis": "x",
         "y": [
          60076.07526881721,
          45982.583668005354,
          47237.19020715631,
          55353.90128755365,
          59325.0177383592,
          60501.89937106918,
          50435.097378277154,
          46946.86928104575,
          53280.52032520325,
          53313.944315545246,
          40391.115942028984,
          31287.964912280702,
          48949.380281690144,
          43559.45333333333,
          41352.36181434599,
          46755.12048192771,
          51912.65413533834,
          41025.80459770115,
          50431.72093023256,
          51089.246411483255,
          54321.17647058824,
          56102.220472440946,
          51205.81759656652,
          51974.83870967742,
          56588.89528795811,
          47642.27131782946,
          50630.770833333336,
          44336.9868173258,
          50385.96382978724,
          47795.58163265306
         ],
         "yaxis": "y"
        },
        {
         "hovertemplate": "arrival_time=Early_Morning<br>trip=%{x}<br>price=%{y}<extra></extra>",
         "legendgroup": "Early_Morning",
         "marker": {
          "color": "#EF553B",
          "symbol": "circle"
         },
         "mode": "markers",
         "name": "Early_Morning",
         "orientation": "v",
         "showlegend": true,
         "type": "scatter",
         "x": [
          "Bangalore-Chennai",
          "Bangalore-Delhi",
          "Bangalore-Hyderabad",
          "Bangalore-Kolkata",
          "Bangalore-Mumbai",
          "Chennai-Bangalore",
          "Chennai-Hyderabad",
          "Chennai-Mumbai",
          "Delhi-Bangalore",
          "Delhi-Chennai",
          "Delhi-Hyderabad",
          "Delhi-Kolkata",
          "Delhi-Mumbai",
          "Hyderabad-Bangalore",
          "Hyderabad-Chennai",
          "Hyderabad-Kolkata",
          "Hyderabad-Mumbai",
          "Kolkata-Bangalore",
          "Kolkata-Chennai",
          "Kolkata-Hyderabad",
          "Kolkata-Mumbai",
          "Mumbai-Bangalore",
          "Mumbai-Chennai",
          "Mumbai-Delhi",
          "Mumbai-Hyderabad",
          "Mumbai-Kolkata"
         ],
         "xaxis": "x",
         "y": [
          44289.378787878784,
          36610,
          37052.82825484764,
          25000,
          71031.95705521472,
          44326.39855072464,
          41225.02955665025,
          68569.97619047618,
          54995.11155378486,
          46138.48231511254,
          48445.3499377335,
          57471.666666666664,
          38275.58490566038,
          38420.9173553719,
          41754.979166666664,
          36846.666666666664,
          62957.09523809524,
          52574.46666666667,
          59521,
          48887.54601226994,
          66368.71717171717,
          20684,
          23604.88888888889,
          35430.666666666664,
          22670.314606741573,
          45308.086956521736
         ],
         "yaxis": "y"
        },
        {
         "hovertemplate": "arrival_time=Evening<br>trip=%{x}<br>price=%{y}<extra></extra>",
         "legendgroup": "Evening",
         "marker": {
          "color": "#00cc96",
          "symbol": "circle"
         },
         "mode": "markers",
         "name": "Evening",
         "orientation": "v",
         "showlegend": true,
         "type": "scatter",
         "x": [
          "Bangalore-Chennai",
          "Bangalore-Delhi",
          "Bangalore-Hyderabad",
          "Bangalore-Kolkata",
          "Bangalore-Mumbai",
          "Chennai-Bangalore",
          "Chennai-Delhi",
          "Chennai-Hyderabad",
          "Chennai-Kolkata",
          "Chennai-Mumbai",
          "Delhi-Bangalore",
          "Delhi-Chennai",
          "Delhi-Hyderabad",
          "Delhi-Kolkata",
          "Delhi-Mumbai",
          "Hyderabad-Bangalore",
          "Hyderabad-Chennai",
          "Hyderabad-Delhi",
          "Hyderabad-Kolkata",
          "Hyderabad-Mumbai",
          "Kolkata-Bangalore",
          "Kolkata-Chennai",
          "Kolkata-Delhi",
          "Kolkata-Hyderabad",
          "Kolkata-Mumbai",
          "Mumbai-Bangalore",
          "Mumbai-Chennai",
          "Mumbai-Delhi",
          "Mumbai-Hyderabad",
          "Mumbai-Kolkata"
         ],
         "xaxis": "x",
         "y": [
          52888.166929133855,
          51200.234615384616,
          57652.69052863436,
          59103.06596794081,
          58608.71155778894,
          51364.00277777778,
          54137.06088082901,
          57710.03945111492,
          57961.416666666664,
          53801.67817509248,
          48121.06650641026,
          55717.43602484472,
          24361.929078014186,
          62460.50542437779,
          40845.575721153844,
          49530.95982783357,
          50457.9572815534,
          45792.21141975309,
          54488.52695269527,
          51732.58855585831,
          58887.888625592415,
          55483.63692946058,
          53522.53109243698,
          56860.75252525252,
          54867.2231292517,
          56765.03246167718,
          56484.78372811535,
          43432.62576687116,
          55655.74771341463,
          58059.59403530128
         ],
         "yaxis": "y"
        },
        {
         "hovertemplate": "arrival_time=Morning<br>trip=%{x}<br>price=%{y}<extra></extra>",
         "legendgroup": "Morning",
         "marker": {
          "color": "#ab63fa",
          "symbol": "circle"
         },
         "mode": "markers",
         "name": "Morning",
         "orientation": "v",
         "showlegend": true,
         "type": "scatter",
         "x": [
          "Bangalore-Chennai",
          "Bangalore-Delhi",
          "Bangalore-Hyderabad",
          "Bangalore-Kolkata",
          "Bangalore-Mumbai",
          "Chennai-Bangalore",
          "Chennai-Delhi",
          "Chennai-Hyderabad",
          "Chennai-Kolkata",
          "Chennai-Mumbai",
          "Delhi-Bangalore",
          "Delhi-Chennai",
          "Delhi-Hyderabad",
          "Delhi-Kolkata",
          "Delhi-Mumbai",
          "Hyderabad-Bangalore",
          "Hyderabad-Chennai",
          "Hyderabad-Delhi",
          "Hyderabad-Kolkata",
          "Hyderabad-Mumbai",
          "Kolkata-Bangalore",
          "Kolkata-Chennai",
          "Kolkata-Delhi",
          "Kolkata-Hyderabad",
          "Kolkata-Mumbai",
          "Mumbai-Bangalore",
          "Mumbai-Chennai",
          "Mumbai-Delhi",
          "Mumbai-Hyderabad",
          "Mumbai-Kolkata"
         ],
         "xaxis": "x",
         "y": [
          49348.33041301627,
          48425.29000969932,
          56525.76869158878,
          59192.47851335656,
          54008.92562929062,
          52522.1325695581,
          46370.53846153846,
          54972.208754208754,
          57462.38345864662,
          51544.63926174497,
          47786.462943071965,
          52060.932098765436,
          31297.940639269407,
          54306.00113895216,
          43675.33524590164,
          49428.4560117302,
          47834.07794117647,
          42060.94268774703,
          52310.13944223108,
          48474.99801192843,
          59348.3475,
          56811.70804911324,
          54448.961904761905,
          53388.458661417324,
          57416.72472783826,
          58728.00529100529,
          52851.2777053455,
          40533.583333333336,
          52042.422857142854,
          58867.7935483871
         ],
         "yaxis": "y"
        },
        {
         "hovertemplate": "arrival_time=Night<br>trip=%{x}<br>price=%{y}<extra></extra>",
         "legendgroup": "Night",
         "marker": {
          "color": "#FFA15A",
          "symbol": "circle"
         },
         "mode": "markers",
         "name": "Night",
         "orientation": "v",
         "showlegend": true,
         "type": "scatter",
         "x": [
          "Bangalore-Chennai",
          "Bangalore-Delhi",
          "Bangalore-Hyderabad",
          "Bangalore-Kolkata",
          "Bangalore-Mumbai",
          "Chennai-Bangalore",
          "Chennai-Delhi",
          "Chennai-Hyderabad",
          "Chennai-Kolkata",
          "Chennai-Mumbai",
          "Delhi-Bangalore",
          "Delhi-Chennai",
          "Delhi-Hyderabad",
          "Delhi-Kolkata",
          "Delhi-Mumbai",
          "Hyderabad-Bangalore",
          "Hyderabad-Chennai",
          "Hyderabad-Delhi",
          "Hyderabad-Kolkata",
          "Hyderabad-Mumbai",
          "Kolkata-Bangalore",
          "Kolkata-Chennai",
          "Kolkata-Delhi",
          "Kolkata-Hyderabad",
          "Kolkata-Mumbai",
          "Mumbai-Bangalore",
          "Mumbai-Chennai",
          "Mumbai-Delhi",
          "Mumbai-Hyderabad",
          "Mumbai-Kolkata"
         ],
         "xaxis": "x",
         "y": [
          55306.24428571429,
          47223.644355644356,
          46936.693384223916,
          60651.68304668304,
          58154.137186223,
          53952.776455026455,
          54130.721830985916,
          50010.1493598862,
          56765.69069069069,
          60626.196634189546,
          50181.80952380953,
          52050.60966542751,
          44715.43238270469,
          47202.1914893617,
          47437.17486583184,
          52642.85893416928,
          54526.609248554916,
          46303.20253164557,
          56615.23236514523,
          53496.54572713643,
          59523.382352941175,
          56580.7719054242,
          57784.105189340815,
          56514.50951086957,
          58296.10631229236,
          61476.648253968255,
          57997.24844290657,
          46870.57833655706,
          48841.344334433445,
          57755.2700729927
         ],
         "yaxis": "y"
        },
        {
         "hovertemplate": "arrival_time=Late_Night<br>trip=%{x}<br>price=%{y}<extra></extra>",
         "legendgroup": "Late_Night",
         "marker": {
          "color": "#19d3f3",
          "symbol": "circle"
         },
         "mode": "markers",
         "name": "Late_Night",
         "orientation": "v",
         "showlegend": true,
         "type": "scatter",
         "x": [
          "Bangalore-Delhi",
          "Chennai-Bangalore",
          "Chennai-Delhi",
          "Delhi-Bangalore",
          "Delhi-Mumbai",
          "Hyderabad-Bangalore",
          "Hyderabad-Delhi",
          "Kolkata-Bangalore",
          "Kolkata-Delhi",
          "Mumbai-Bangalore",
          "Mumbai-Delhi"
         ],
         "xaxis": "x",
         "y": [
          47852.900862068964,
          60073.30612244898,
          54116.82378854626,
          45175.42372881356,
          48583.444444444445,
          55477.96,
          46987.34254143646,
          56598.760273972606,
          61601.5635359116,
          55151.58565737052,
          35982.03296703297
         ],
         "yaxis": "y"
        }
       ],
       "layout": {
        "legend": {
         "title": {
          "text": "arrival_time"
         },
         "tracegroupgap": 0
        },
        "template": {
         "data": {
          "bar": [
           {
            "error_x": {
             "color": "#2a3f5f"
            },
            "error_y": {
             "color": "#2a3f5f"
            },
            "marker": {
             "line": {
              "color": "#E5ECF6",
              "width": 0.5
             },
             "pattern": {
              "fillmode": "overlay",
              "size": 10,
              "solidity": 0.2
             }
            },
            "type": "bar"
           }
          ],
          "barpolar": [
           {
            "marker": {
             "line": {
              "color": "#E5ECF6",
              "width": 0.5
             },
             "pattern": {
              "fillmode": "overlay",
              "size": 10,
              "solidity": 0.2
             }
            },
            "type": "barpolar"
           }
          ],
          "carpet": [
           {
            "aaxis": {
             "endlinecolor": "#2a3f5f",
             "gridcolor": "white",
             "linecolor": "white",
             "minorgridcolor": "white",
             "startlinecolor": "#2a3f5f"
            },
            "baxis": {
             "endlinecolor": "#2a3f5f",
             "gridcolor": "white",
             "linecolor": "white",
             "minorgridcolor": "white",
             "startlinecolor": "#2a3f5f"
            },
            "type": "carpet"
           }
          ],
          "choropleth": [
           {
            "colorbar": {
             "outlinewidth": 0,
             "ticks": ""
            },
            "type": "choropleth"
           }
          ],
          "contour": [
           {
            "colorbar": {
             "outlinewidth": 0,
             "ticks": ""
            },
            "colorscale": [
             [
              0,
              "#0d0887"
             ],
             [
              0.1111111111111111,
              "#46039f"
             ],
             [
              0.2222222222222222,
              "#7201a8"
             ],
             [
              0.3333333333333333,
              "#9c179e"
             ],
             [
              0.4444444444444444,
              "#bd3786"
             ],
             [
              0.5555555555555556,
              "#d8576b"
             ],
             [
              0.6666666666666666,
              "#ed7953"
             ],
             [
              0.7777777777777778,
              "#fb9f3a"
             ],
             [
              0.8888888888888888,
              "#fdca26"
             ],
             [
              1,
              "#f0f921"
             ]
            ],
            "type": "contour"
           }
          ],
          "contourcarpet": [
           {
            "colorbar": {
             "outlinewidth": 0,
             "ticks": ""
            },
            "type": "contourcarpet"
           }
          ],
          "heatmap": [
           {
            "colorbar": {
             "outlinewidth": 0,
             "ticks": ""
            },
            "colorscale": [
             [
              0,
              "#0d0887"
             ],
             [
              0.1111111111111111,
              "#46039f"
             ],
             [
              0.2222222222222222,
              "#7201a8"
             ],
             [
              0.3333333333333333,
              "#9c179e"
             ],
             [
              0.4444444444444444,
              "#bd3786"
             ],
             [
              0.5555555555555556,
              "#d8576b"
             ],
             [
              0.6666666666666666,
              "#ed7953"
             ],
             [
              0.7777777777777778,
              "#fb9f3a"
             ],
             [
              0.8888888888888888,
              "#fdca26"
             ],
             [
              1,
              "#f0f921"
             ]
            ],
            "type": "heatmap"
           }
          ],
          "heatmapgl": [
           {
            "colorbar": {
             "outlinewidth": 0,
             "ticks": ""
            },
            "colorscale": [
             [
              0,
              "#0d0887"
             ],
             [
              0.1111111111111111,
              "#46039f"
             ],
             [
              0.2222222222222222,
              "#7201a8"
             ],
             [
              0.3333333333333333,
              "#9c179e"
             ],
             [
              0.4444444444444444,
              "#bd3786"
             ],
             [
              0.5555555555555556,
              "#d8576b"
             ],
             [
              0.6666666666666666,
              "#ed7953"
             ],
             [
              0.7777777777777778,
              "#fb9f3a"
             ],
             [
              0.8888888888888888,
              "#fdca26"
             ],
             [
              1,
              "#f0f921"
             ]
            ],
            "type": "heatmapgl"
           }
          ],
          "histogram": [
           {
            "marker": {
             "pattern": {
              "fillmode": "overlay",
              "size": 10,
              "solidity": 0.2
             }
            },
            "type": "histogram"
           }
          ],
          "histogram2d": [
           {
            "colorbar": {
             "outlinewidth": 0,
             "ticks": ""
            },
            "colorscale": [
             [
              0,
              "#0d0887"
             ],
             [
              0.1111111111111111,
              "#46039f"
             ],
             [
              0.2222222222222222,
              "#7201a8"
             ],
             [
              0.3333333333333333,
              "#9c179e"
             ],
             [
              0.4444444444444444,
              "#bd3786"
             ],
             [
              0.5555555555555556,
              "#d8576b"
             ],
             [
              0.6666666666666666,
              "#ed7953"
             ],
             [
              0.7777777777777778,
              "#fb9f3a"
             ],
             [
              0.8888888888888888,
              "#fdca26"
             ],
             [
              1,
              "#f0f921"
             ]
            ],
            "type": "histogram2d"
           }
          ],
          "histogram2dcontour": [
           {
            "colorbar": {
             "outlinewidth": 0,
             "ticks": ""
            },
            "colorscale": [
             [
              0,
              "#0d0887"
             ],
             [
              0.1111111111111111,
              "#46039f"
             ],
             [
              0.2222222222222222,
              "#7201a8"
             ],
             [
              0.3333333333333333,
              "#9c179e"
             ],
             [
              0.4444444444444444,
              "#bd3786"
             ],
             [
              0.5555555555555556,
              "#d8576b"
             ],
             [
              0.6666666666666666,
              "#ed7953"
             ],
             [
              0.7777777777777778,
              "#fb9f3a"
             ],
             [
              0.8888888888888888,
              "#fdca26"
             ],
             [
              1,
              "#f0f921"
             ]
            ],
            "type": "histogram2dcontour"
           }
          ],
          "mesh3d": [
           {
            "colorbar": {
             "outlinewidth": 0,
             "ticks": ""
            },
            "type": "mesh3d"
           }
          ],
          "parcoords": [
           {
            "line": {
             "colorbar": {
              "outlinewidth": 0,
              "ticks": ""
             }
            },
            "type": "parcoords"
           }
          ],
          "pie": [
           {
            "automargin": true,
            "type": "pie"
           }
          ],
          "scatter": [
           {
            "fillpattern": {
             "fillmode": "overlay",
             "size": 10,
             "solidity": 0.2
            },
            "type": "scatter"
           }
          ],
          "scatter3d": [
           {
            "line": {
             "colorbar": {
              "outlinewidth": 0,
              "ticks": ""
             }
            },
            "marker": {
             "colorbar": {
              "outlinewidth": 0,
              "ticks": ""
             }
            },
            "type": "scatter3d"
           }
          ],
          "scattercarpet": [
           {
            "marker": {
             "colorbar": {
              "outlinewidth": 0,
              "ticks": ""
             }
            },
            "type": "scattercarpet"
           }
          ],
          "scattergeo": [
           {
            "marker": {
             "colorbar": {
              "outlinewidth": 0,
              "ticks": ""
             }
            },
            "type": "scattergeo"
           }
          ],
          "scattergl": [
           {
            "marker": {
             "colorbar": {
              "outlinewidth": 0,
              "ticks": ""
             }
            },
            "type": "scattergl"
           }
          ],
          "scattermapbox": [
           {
            "marker": {
             "colorbar": {
              "outlinewidth": 0,
              "ticks": ""
             }
            },
            "type": "scattermapbox"
           }
          ],
          "scatterpolar": [
           {
            "marker": {
             "colorbar": {
              "outlinewidth": 0,
              "ticks": ""
             }
            },
            "type": "scatterpolar"
           }
          ],
          "scatterpolargl": [
           {
            "marker": {
             "colorbar": {
              "outlinewidth": 0,
              "ticks": ""
             }
            },
            "type": "scatterpolargl"
           }
          ],
          "scatterternary": [
           {
            "marker": {
             "colorbar": {
              "outlinewidth": 0,
              "ticks": ""
             }
            },
            "type": "scatterternary"
           }
          ],
          "surface": [
           {
            "colorbar": {
             "outlinewidth": 0,
             "ticks": ""
            },
            "colorscale": [
             [
              0,
              "#0d0887"
             ],
             [
              0.1111111111111111,
              "#46039f"
             ],
             [
              0.2222222222222222,
              "#7201a8"
             ],
             [
              0.3333333333333333,
              "#9c179e"
             ],
             [
              0.4444444444444444,
              "#bd3786"
             ],
             [
              0.5555555555555556,
              "#d8576b"
             ],
             [
              0.6666666666666666,
              "#ed7953"
             ],
             [
              0.7777777777777778,
              "#fb9f3a"
             ],
             [
              0.8888888888888888,
              "#fdca26"
             ],
             [
              1,
              "#f0f921"
             ]
            ],
            "type": "surface"
           }
          ],
          "table": [
           {
            "cells": {
             "fill": {
              "color": "#EBF0F8"
             },
             "line": {
              "color": "white"
             }
            },
            "header": {
             "fill": {
              "color": "#C8D4E3"
             },
             "line": {
              "color": "white"
             }
            },
            "type": "table"
           }
          ]
         },
         "layout": {
          "annotationdefaults": {
           "arrowcolor": "#2a3f5f",
           "arrowhead": 0,
           "arrowwidth": 1
          },
          "autotypenumbers": "strict",
          "coloraxis": {
           "colorbar": {
            "outlinewidth": 0,
            "ticks": ""
           }
          },
          "colorscale": {
           "diverging": [
            [
             0,
             "#8e0152"
            ],
            [
             0.1,
             "#c51b7d"
            ],
            [
             0.2,
             "#de77ae"
            ],
            [
             0.3,
             "#f1b6da"
            ],
            [
             0.4,
             "#fde0ef"
            ],
            [
             0.5,
             "#f7f7f7"
            ],
            [
             0.6,
             "#e6f5d0"
            ],
            [
             0.7,
             "#b8e186"
            ],
            [
             0.8,
             "#7fbc41"
            ],
            [
             0.9,
             "#4d9221"
            ],
            [
             1,
             "#276419"
            ]
           ],
           "sequential": [
            [
             0,
             "#0d0887"
            ],
            [
             0.1111111111111111,
             "#46039f"
            ],
            [
             0.2222222222222222,
             "#7201a8"
            ],
            [
             0.3333333333333333,
             "#9c179e"
            ],
            [
             0.4444444444444444,
             "#bd3786"
            ],
            [
             0.5555555555555556,
             "#d8576b"
            ],
            [
             0.6666666666666666,
             "#ed7953"
            ],
            [
             0.7777777777777778,
             "#fb9f3a"
            ],
            [
             0.8888888888888888,
             "#fdca26"
            ],
            [
             1,
             "#f0f921"
            ]
           ],
           "sequentialminus": [
            [
             0,
             "#0d0887"
            ],
            [
             0.1111111111111111,
             "#46039f"
            ],
            [
             0.2222222222222222,
             "#7201a8"
            ],
            [
             0.3333333333333333,
             "#9c179e"
            ],
            [
             0.4444444444444444,
             "#bd3786"
            ],
            [
             0.5555555555555556,
             "#d8576b"
            ],
            [
             0.6666666666666666,
             "#ed7953"
            ],
            [
             0.7777777777777778,
             "#fb9f3a"
            ],
            [
             0.8888888888888888,
             "#fdca26"
            ],
            [
             1,
             "#f0f921"
            ]
           ]
          },
          "colorway": [
           "#636efa",
           "#EF553B",
           "#00cc96",
           "#ab63fa",
           "#FFA15A",
           "#19d3f3",
           "#FF6692",
           "#B6E880",
           "#FF97FF",
           "#FECB52"
          ],
          "font": {
           "color": "#2a3f5f"
          },
          "geo": {
           "bgcolor": "white",
           "lakecolor": "white",
           "landcolor": "#E5ECF6",
           "showlakes": true,
           "showland": true,
           "subunitcolor": "white"
          },
          "hoverlabel": {
           "align": "left"
          },
          "hovermode": "closest",
          "mapbox": {
           "style": "light"
          },
          "paper_bgcolor": "white",
          "plot_bgcolor": "#E5ECF6",
          "polar": {
           "angularaxis": {
            "gridcolor": "white",
            "linecolor": "white",
            "ticks": ""
           },
           "bgcolor": "#E5ECF6",
           "radialaxis": {
            "gridcolor": "white",
            "linecolor": "white",
            "ticks": ""
           }
          },
          "scene": {
           "xaxis": {
            "backgroundcolor": "#E5ECF6",
            "gridcolor": "white",
            "gridwidth": 2,
            "linecolor": "white",
            "showbackground": true,
            "ticks": "",
            "zerolinecolor": "white"
           },
           "yaxis": {
            "backgroundcolor": "#E5ECF6",
            "gridcolor": "white",
            "gridwidth": 2,
            "linecolor": "white",
            "showbackground": true,
            "ticks": "",
            "zerolinecolor": "white"
           },
           "zaxis": {
            "backgroundcolor": "#E5ECF6",
            "gridcolor": "white",
            "gridwidth": 2,
            "linecolor": "white",
            "showbackground": true,
            "ticks": "",
            "zerolinecolor": "white"
           }
          },
          "shapedefaults": {
           "line": {
            "color": "#2a3f5f"
           }
          },
          "ternary": {
           "aaxis": {
            "gridcolor": "white",
            "linecolor": "white",
            "ticks": ""
           },
           "baxis": {
            "gridcolor": "white",
            "linecolor": "white",
            "ticks": ""
           },
           "bgcolor": "#E5ECF6",
           "caxis": {
            "gridcolor": "white",
            "linecolor": "white",
            "ticks": ""
           }
          },
          "title": {
           "x": 0.05
          },
          "xaxis": {
           "automargin": true,
           "gridcolor": "white",
           "linecolor": "white",
           "ticks": "",
           "title": {
            "standoff": 15
           },
           "zerolinecolor": "white",
           "zerolinewidth": 2
          },
          "yaxis": {
           "automargin": true,
           "gridcolor": "white",
           "linecolor": "white",
           "ticks": "",
           "title": {
            "standoff": 15
           },
           "zerolinecolor": "white",
           "zerolinewidth": 2
          }
         }
        },
        "title": {
         "text": "Business flight prices based on arrival time"
        },
        "xaxis": {
         "anchor": "y",
         "domain": [
          0,
          1
         ],
         "title": {
          "text": "trip"
         }
        },
        "yaxis": {
         "anchor": "x",
         "domain": [
          0,
          1
         ],
         "title": {
          "text": "price"
         }
        }
       }
      },
      "text/html": [
       "<div>                            <div id=\"48f89a35-370b-4c32-a0ad-dbe888282722\" class=\"plotly-graph-div\" style=\"height:525px; width:100%;\"></div>            <script type=\"text/javascript\">                require([\"plotly\"], function(Plotly) {                    window.PLOTLYENV=window.PLOTLYENV || {};                                    if (document.getElementById(\"48f89a35-370b-4c32-a0ad-dbe888282722\")) {                    Plotly.newPlot(                        \"48f89a35-370b-4c32-a0ad-dbe888282722\",                        [{\"hovertemplate\":\"arrival_time=Afternoon<br>trip=%{x}<br>price=%{y}<extra></extra>\",\"legendgroup\":\"Afternoon\",\"marker\":{\"color\":\"#636efa\",\"symbol\":\"circle\"},\"mode\":\"markers\",\"name\":\"Afternoon\",\"orientation\":\"v\",\"showlegend\":true,\"x\":[\"Bangalore-Chennai\",\"Bangalore-Delhi\",\"Bangalore-Hyderabad\",\"Bangalore-Kolkata\",\"Bangalore-Mumbai\",\"Chennai-Bangalore\",\"Chennai-Delhi\",\"Chennai-Hyderabad\",\"Chennai-Kolkata\",\"Chennai-Mumbai\",\"Delhi-Bangalore\",\"Delhi-Chennai\",\"Delhi-Hyderabad\",\"Delhi-Kolkata\",\"Delhi-Mumbai\",\"Hyderabad-Bangalore\",\"Hyderabad-Chennai\",\"Hyderabad-Delhi\",\"Hyderabad-Kolkata\",\"Hyderabad-Mumbai\",\"Kolkata-Bangalore\",\"Kolkata-Chennai\",\"Kolkata-Delhi\",\"Kolkata-Hyderabad\",\"Kolkata-Mumbai\",\"Mumbai-Bangalore\",\"Mumbai-Chennai\",\"Mumbai-Delhi\",\"Mumbai-Hyderabad\",\"Mumbai-Kolkata\"],\"xaxis\":\"x\",\"y\":[60076.07526881721,45982.583668005354,47237.19020715631,55353.90128755365,59325.0177383592,60501.89937106918,50435.097378277154,46946.86928104575,53280.52032520325,53313.944315545246,40391.115942028984,31287.964912280702,48949.380281690144,43559.45333333333,41352.36181434599,46755.12048192771,51912.65413533834,41025.80459770115,50431.72093023256,51089.246411483255,54321.17647058824,56102.220472440946,51205.81759656652,51974.83870967742,56588.89528795811,47642.27131782946,50630.770833333336,44336.9868173258,50385.96382978724,47795.58163265306],\"yaxis\":\"y\",\"type\":\"scatter\"},{\"hovertemplate\":\"arrival_time=Early_Morning<br>trip=%{x}<br>price=%{y}<extra></extra>\",\"legendgroup\":\"Early_Morning\",\"marker\":{\"color\":\"#EF553B\",\"symbol\":\"circle\"},\"mode\":\"markers\",\"name\":\"Early_Morning\",\"orientation\":\"v\",\"showlegend\":true,\"x\":[\"Bangalore-Chennai\",\"Bangalore-Delhi\",\"Bangalore-Hyderabad\",\"Bangalore-Kolkata\",\"Bangalore-Mumbai\",\"Chennai-Bangalore\",\"Chennai-Hyderabad\",\"Chennai-Mumbai\",\"Delhi-Bangalore\",\"Delhi-Chennai\",\"Delhi-Hyderabad\",\"Delhi-Kolkata\",\"Delhi-Mumbai\",\"Hyderabad-Bangalore\",\"Hyderabad-Chennai\",\"Hyderabad-Kolkata\",\"Hyderabad-Mumbai\",\"Kolkata-Bangalore\",\"Kolkata-Chennai\",\"Kolkata-Hyderabad\",\"Kolkata-Mumbai\",\"Mumbai-Bangalore\",\"Mumbai-Chennai\",\"Mumbai-Delhi\",\"Mumbai-Hyderabad\",\"Mumbai-Kolkata\"],\"xaxis\":\"x\",\"y\":[44289.378787878784,36610.0,37052.82825484764,25000.0,71031.95705521472,44326.39855072464,41225.02955665025,68569.97619047618,54995.11155378486,46138.48231511254,48445.3499377335,57471.666666666664,38275.58490566038,38420.9173553719,41754.979166666664,36846.666666666664,62957.09523809524,52574.46666666667,59521.0,48887.54601226994,66368.71717171717,20684.0,23604.88888888889,35430.666666666664,22670.314606741573,45308.086956521736],\"yaxis\":\"y\",\"type\":\"scatter\"},{\"hovertemplate\":\"arrival_time=Evening<br>trip=%{x}<br>price=%{y}<extra></extra>\",\"legendgroup\":\"Evening\",\"marker\":{\"color\":\"#00cc96\",\"symbol\":\"circle\"},\"mode\":\"markers\",\"name\":\"Evening\",\"orientation\":\"v\",\"showlegend\":true,\"x\":[\"Bangalore-Chennai\",\"Bangalore-Delhi\",\"Bangalore-Hyderabad\",\"Bangalore-Kolkata\",\"Bangalore-Mumbai\",\"Chennai-Bangalore\",\"Chennai-Delhi\",\"Chennai-Hyderabad\",\"Chennai-Kolkata\",\"Chennai-Mumbai\",\"Delhi-Bangalore\",\"Delhi-Chennai\",\"Delhi-Hyderabad\",\"Delhi-Kolkata\",\"Delhi-Mumbai\",\"Hyderabad-Bangalore\",\"Hyderabad-Chennai\",\"Hyderabad-Delhi\",\"Hyderabad-Kolkata\",\"Hyderabad-Mumbai\",\"Kolkata-Bangalore\",\"Kolkata-Chennai\",\"Kolkata-Delhi\",\"Kolkata-Hyderabad\",\"Kolkata-Mumbai\",\"Mumbai-Bangalore\",\"Mumbai-Chennai\",\"Mumbai-Delhi\",\"Mumbai-Hyderabad\",\"Mumbai-Kolkata\"],\"xaxis\":\"x\",\"y\":[52888.166929133855,51200.234615384616,57652.69052863436,59103.06596794081,58608.71155778894,51364.00277777778,54137.06088082901,57710.03945111492,57961.416666666664,53801.67817509248,48121.06650641026,55717.43602484472,24361.929078014186,62460.50542437779,40845.575721153844,49530.95982783357,50457.9572815534,45792.21141975309,54488.52695269527,51732.58855585831,58887.888625592415,55483.63692946058,53522.53109243698,56860.75252525252,54867.2231292517,56765.03246167718,56484.78372811535,43432.62576687116,55655.74771341463,58059.59403530128],\"yaxis\":\"y\",\"type\":\"scatter\"},{\"hovertemplate\":\"arrival_time=Morning<br>trip=%{x}<br>price=%{y}<extra></extra>\",\"legendgroup\":\"Morning\",\"marker\":{\"color\":\"#ab63fa\",\"symbol\":\"circle\"},\"mode\":\"markers\",\"name\":\"Morning\",\"orientation\":\"v\",\"showlegend\":true,\"x\":[\"Bangalore-Chennai\",\"Bangalore-Delhi\",\"Bangalore-Hyderabad\",\"Bangalore-Kolkata\",\"Bangalore-Mumbai\",\"Chennai-Bangalore\",\"Chennai-Delhi\",\"Chennai-Hyderabad\",\"Chennai-Kolkata\",\"Chennai-Mumbai\",\"Delhi-Bangalore\",\"Delhi-Chennai\",\"Delhi-Hyderabad\",\"Delhi-Kolkata\",\"Delhi-Mumbai\",\"Hyderabad-Bangalore\",\"Hyderabad-Chennai\",\"Hyderabad-Delhi\",\"Hyderabad-Kolkata\",\"Hyderabad-Mumbai\",\"Kolkata-Bangalore\",\"Kolkata-Chennai\",\"Kolkata-Delhi\",\"Kolkata-Hyderabad\",\"Kolkata-Mumbai\",\"Mumbai-Bangalore\",\"Mumbai-Chennai\",\"Mumbai-Delhi\",\"Mumbai-Hyderabad\",\"Mumbai-Kolkata\"],\"xaxis\":\"x\",\"y\":[49348.33041301627,48425.29000969932,56525.76869158878,59192.47851335656,54008.92562929062,52522.1325695581,46370.53846153846,54972.208754208754,57462.38345864662,51544.63926174497,47786.462943071965,52060.932098765436,31297.940639269407,54306.00113895216,43675.33524590164,49428.4560117302,47834.07794117647,42060.94268774703,52310.13944223108,48474.99801192843,59348.3475,56811.70804911324,54448.961904761905,53388.458661417324,57416.72472783826,58728.00529100529,52851.2777053455,40533.583333333336,52042.422857142854,58867.7935483871],\"yaxis\":\"y\",\"type\":\"scatter\"},{\"hovertemplate\":\"arrival_time=Night<br>trip=%{x}<br>price=%{y}<extra></extra>\",\"legendgroup\":\"Night\",\"marker\":{\"color\":\"#FFA15A\",\"symbol\":\"circle\"},\"mode\":\"markers\",\"name\":\"Night\",\"orientation\":\"v\",\"showlegend\":true,\"x\":[\"Bangalore-Chennai\",\"Bangalore-Delhi\",\"Bangalore-Hyderabad\",\"Bangalore-Kolkata\",\"Bangalore-Mumbai\",\"Chennai-Bangalore\",\"Chennai-Delhi\",\"Chennai-Hyderabad\",\"Chennai-Kolkata\",\"Chennai-Mumbai\",\"Delhi-Bangalore\",\"Delhi-Chennai\",\"Delhi-Hyderabad\",\"Delhi-Kolkata\",\"Delhi-Mumbai\",\"Hyderabad-Bangalore\",\"Hyderabad-Chennai\",\"Hyderabad-Delhi\",\"Hyderabad-Kolkata\",\"Hyderabad-Mumbai\",\"Kolkata-Bangalore\",\"Kolkata-Chennai\",\"Kolkata-Delhi\",\"Kolkata-Hyderabad\",\"Kolkata-Mumbai\",\"Mumbai-Bangalore\",\"Mumbai-Chennai\",\"Mumbai-Delhi\",\"Mumbai-Hyderabad\",\"Mumbai-Kolkata\"],\"xaxis\":\"x\",\"y\":[55306.24428571429,47223.644355644356,46936.693384223916,60651.68304668304,58154.137186223,53952.776455026455,54130.721830985916,50010.1493598862,56765.69069069069,60626.196634189546,50181.80952380953,52050.60966542751,44715.43238270469,47202.1914893617,47437.17486583184,52642.85893416928,54526.609248554916,46303.20253164557,56615.23236514523,53496.54572713643,59523.382352941175,56580.7719054242,57784.105189340815,56514.50951086957,58296.10631229236,61476.648253968255,57997.24844290657,46870.57833655706,48841.344334433445,57755.2700729927],\"yaxis\":\"y\",\"type\":\"scatter\"},{\"hovertemplate\":\"arrival_time=Late_Night<br>trip=%{x}<br>price=%{y}<extra></extra>\",\"legendgroup\":\"Late_Night\",\"marker\":{\"color\":\"#19d3f3\",\"symbol\":\"circle\"},\"mode\":\"markers\",\"name\":\"Late_Night\",\"orientation\":\"v\",\"showlegend\":true,\"x\":[\"Bangalore-Delhi\",\"Chennai-Bangalore\",\"Chennai-Delhi\",\"Delhi-Bangalore\",\"Delhi-Mumbai\",\"Hyderabad-Bangalore\",\"Hyderabad-Delhi\",\"Kolkata-Bangalore\",\"Kolkata-Delhi\",\"Mumbai-Bangalore\",\"Mumbai-Delhi\"],\"xaxis\":\"x\",\"y\":[47852.900862068964,60073.30612244898,54116.82378854626,45175.42372881356,48583.444444444445,55477.96,46987.34254143646,56598.760273972606,61601.5635359116,55151.58565737052,35982.03296703297],\"yaxis\":\"y\",\"type\":\"scatter\"}],                        {\"template\":{\"data\":{\"histogram2dcontour\":[{\"type\":\"histogram2dcontour\",\"colorbar\":{\"outlinewidth\":0,\"ticks\":\"\"},\"colorscale\":[[0.0,\"#0d0887\"],[0.1111111111111111,\"#46039f\"],[0.2222222222222222,\"#7201a8\"],[0.3333333333333333,\"#9c179e\"],[0.4444444444444444,\"#bd3786\"],[0.5555555555555556,\"#d8576b\"],[0.6666666666666666,\"#ed7953\"],[0.7777777777777778,\"#fb9f3a\"],[0.8888888888888888,\"#fdca26\"],[1.0,\"#f0f921\"]]}],\"choropleth\":[{\"type\":\"choropleth\",\"colorbar\":{\"outlinewidth\":0,\"ticks\":\"\"}}],\"histogram2d\":[{\"type\":\"histogram2d\",\"colorbar\":{\"outlinewidth\":0,\"ticks\":\"\"},\"colorscale\":[[0.0,\"#0d0887\"],[0.1111111111111111,\"#46039f\"],[0.2222222222222222,\"#7201a8\"],[0.3333333333333333,\"#9c179e\"],[0.4444444444444444,\"#bd3786\"],[0.5555555555555556,\"#d8576b\"],[0.6666666666666666,\"#ed7953\"],[0.7777777777777778,\"#fb9f3a\"],[0.8888888888888888,\"#fdca26\"],[1.0,\"#f0f921\"]]}],\"heatmap\":[{\"type\":\"heatmap\",\"colorbar\":{\"outlinewidth\":0,\"ticks\":\"\"},\"colorscale\":[[0.0,\"#0d0887\"],[0.1111111111111111,\"#46039f\"],[0.2222222222222222,\"#7201a8\"],[0.3333333333333333,\"#9c179e\"],[0.4444444444444444,\"#bd3786\"],[0.5555555555555556,\"#d8576b\"],[0.6666666666666666,\"#ed7953\"],[0.7777777777777778,\"#fb9f3a\"],[0.8888888888888888,\"#fdca26\"],[1.0,\"#f0f921\"]]}],\"heatmapgl\":[{\"type\":\"heatmapgl\",\"colorbar\":{\"outlinewidth\":0,\"ticks\":\"\"},\"colorscale\":[[0.0,\"#0d0887\"],[0.1111111111111111,\"#46039f\"],[0.2222222222222222,\"#7201a8\"],[0.3333333333333333,\"#9c179e\"],[0.4444444444444444,\"#bd3786\"],[0.5555555555555556,\"#d8576b\"],[0.6666666666666666,\"#ed7953\"],[0.7777777777777778,\"#fb9f3a\"],[0.8888888888888888,\"#fdca26\"],[1.0,\"#f0f921\"]]}],\"contourcarpet\":[{\"type\":\"contourcarpet\",\"colorbar\":{\"outlinewidth\":0,\"ticks\":\"\"}}],\"contour\":[{\"type\":\"contour\",\"colorbar\":{\"outlinewidth\":0,\"ticks\":\"\"},\"colorscale\":[[0.0,\"#0d0887\"],[0.1111111111111111,\"#46039f\"],[0.2222222222222222,\"#7201a8\"],[0.3333333333333333,\"#9c179e\"],[0.4444444444444444,\"#bd3786\"],[0.5555555555555556,\"#d8576b\"],[0.6666666666666666,\"#ed7953\"],[0.7777777777777778,\"#fb9f3a\"],[0.8888888888888888,\"#fdca26\"],[1.0,\"#f0f921\"]]}],\"surface\":[{\"type\":\"surface\",\"colorbar\":{\"outlinewidth\":0,\"ticks\":\"\"},\"colorscale\":[[0.0,\"#0d0887\"],[0.1111111111111111,\"#46039f\"],[0.2222222222222222,\"#7201a8\"],[0.3333333333333333,\"#9c179e\"],[0.4444444444444444,\"#bd3786\"],[0.5555555555555556,\"#d8576b\"],[0.6666666666666666,\"#ed7953\"],[0.7777777777777778,\"#fb9f3a\"],[0.8888888888888888,\"#fdca26\"],[1.0,\"#f0f921\"]]}],\"mesh3d\":[{\"type\":\"mesh3d\",\"colorbar\":{\"outlinewidth\":0,\"ticks\":\"\"}}],\"scatter\":[{\"fillpattern\":{\"fillmode\":\"overlay\",\"size\":10,\"solidity\":0.2},\"type\":\"scatter\"}],\"parcoords\":[{\"type\":\"parcoords\",\"line\":{\"colorbar\":{\"outlinewidth\":0,\"ticks\":\"\"}}}],\"scatterpolargl\":[{\"type\":\"scatterpolargl\",\"marker\":{\"colorbar\":{\"outlinewidth\":0,\"ticks\":\"\"}}}],\"bar\":[{\"error_x\":{\"color\":\"#2a3f5f\"},\"error_y\":{\"color\":\"#2a3f5f\"},\"marker\":{\"line\":{\"color\":\"#E5ECF6\",\"width\":0.5},\"pattern\":{\"fillmode\":\"overlay\",\"size\":10,\"solidity\":0.2}},\"type\":\"bar\"}],\"scattergeo\":[{\"type\":\"scattergeo\",\"marker\":{\"colorbar\":{\"outlinewidth\":0,\"ticks\":\"\"}}}],\"scatterpolar\":[{\"type\":\"scatterpolar\",\"marker\":{\"colorbar\":{\"outlinewidth\":0,\"ticks\":\"\"}}}],\"histogram\":[{\"marker\":{\"pattern\":{\"fillmode\":\"overlay\",\"size\":10,\"solidity\":0.2}},\"type\":\"histogram\"}],\"scattergl\":[{\"type\":\"scattergl\",\"marker\":{\"colorbar\":{\"outlinewidth\":0,\"ticks\":\"\"}}}],\"scatter3d\":[{\"type\":\"scatter3d\",\"line\":{\"colorbar\":{\"outlinewidth\":0,\"ticks\":\"\"}},\"marker\":{\"colorbar\":{\"outlinewidth\":0,\"ticks\":\"\"}}}],\"scattermapbox\":[{\"type\":\"scattermapbox\",\"marker\":{\"colorbar\":{\"outlinewidth\":0,\"ticks\":\"\"}}}],\"scatterternary\":[{\"type\":\"scatterternary\",\"marker\":{\"colorbar\":{\"outlinewidth\":0,\"ticks\":\"\"}}}],\"scattercarpet\":[{\"type\":\"scattercarpet\",\"marker\":{\"colorbar\":{\"outlinewidth\":0,\"ticks\":\"\"}}}],\"carpet\":[{\"aaxis\":{\"endlinecolor\":\"#2a3f5f\",\"gridcolor\":\"white\",\"linecolor\":\"white\",\"minorgridcolor\":\"white\",\"startlinecolor\":\"#2a3f5f\"},\"baxis\":{\"endlinecolor\":\"#2a3f5f\",\"gridcolor\":\"white\",\"linecolor\":\"white\",\"minorgridcolor\":\"white\",\"startlinecolor\":\"#2a3f5f\"},\"type\":\"carpet\"}],\"table\":[{\"cells\":{\"fill\":{\"color\":\"#EBF0F8\"},\"line\":{\"color\":\"white\"}},\"header\":{\"fill\":{\"color\":\"#C8D4E3\"},\"line\":{\"color\":\"white\"}},\"type\":\"table\"}],\"barpolar\":[{\"marker\":{\"line\":{\"color\":\"#E5ECF6\",\"width\":0.5},\"pattern\":{\"fillmode\":\"overlay\",\"size\":10,\"solidity\":0.2}},\"type\":\"barpolar\"}],\"pie\":[{\"automargin\":true,\"type\":\"pie\"}]},\"layout\":{\"autotypenumbers\":\"strict\",\"colorway\":[\"#636efa\",\"#EF553B\",\"#00cc96\",\"#ab63fa\",\"#FFA15A\",\"#19d3f3\",\"#FF6692\",\"#B6E880\",\"#FF97FF\",\"#FECB52\"],\"font\":{\"color\":\"#2a3f5f\"},\"hovermode\":\"closest\",\"hoverlabel\":{\"align\":\"left\"},\"paper_bgcolor\":\"white\",\"plot_bgcolor\":\"#E5ECF6\",\"polar\":{\"bgcolor\":\"#E5ECF6\",\"angularaxis\":{\"gridcolor\":\"white\",\"linecolor\":\"white\",\"ticks\":\"\"},\"radialaxis\":{\"gridcolor\":\"white\",\"linecolor\":\"white\",\"ticks\":\"\"}},\"ternary\":{\"bgcolor\":\"#E5ECF6\",\"aaxis\":{\"gridcolor\":\"white\",\"linecolor\":\"white\",\"ticks\":\"\"},\"baxis\":{\"gridcolor\":\"white\",\"linecolor\":\"white\",\"ticks\":\"\"},\"caxis\":{\"gridcolor\":\"white\",\"linecolor\":\"white\",\"ticks\":\"\"}},\"coloraxis\":{\"colorbar\":{\"outlinewidth\":0,\"ticks\":\"\"}},\"colorscale\":{\"sequential\":[[0.0,\"#0d0887\"],[0.1111111111111111,\"#46039f\"],[0.2222222222222222,\"#7201a8\"],[0.3333333333333333,\"#9c179e\"],[0.4444444444444444,\"#bd3786\"],[0.5555555555555556,\"#d8576b\"],[0.6666666666666666,\"#ed7953\"],[0.7777777777777778,\"#fb9f3a\"],[0.8888888888888888,\"#fdca26\"],[1.0,\"#f0f921\"]],\"sequentialminus\":[[0.0,\"#0d0887\"],[0.1111111111111111,\"#46039f\"],[0.2222222222222222,\"#7201a8\"],[0.3333333333333333,\"#9c179e\"],[0.4444444444444444,\"#bd3786\"],[0.5555555555555556,\"#d8576b\"],[0.6666666666666666,\"#ed7953\"],[0.7777777777777778,\"#fb9f3a\"],[0.8888888888888888,\"#fdca26\"],[1.0,\"#f0f921\"]],\"diverging\":[[0,\"#8e0152\"],[0.1,\"#c51b7d\"],[0.2,\"#de77ae\"],[0.3,\"#f1b6da\"],[0.4,\"#fde0ef\"],[0.5,\"#f7f7f7\"],[0.6,\"#e6f5d0\"],[0.7,\"#b8e186\"],[0.8,\"#7fbc41\"],[0.9,\"#4d9221\"],[1,\"#276419\"]]},\"xaxis\":{\"gridcolor\":\"white\",\"linecolor\":\"white\",\"ticks\":\"\",\"title\":{\"standoff\":15},\"zerolinecolor\":\"white\",\"automargin\":true,\"zerolinewidth\":2},\"yaxis\":{\"gridcolor\":\"white\",\"linecolor\":\"white\",\"ticks\":\"\",\"title\":{\"standoff\":15},\"zerolinecolor\":\"white\",\"automargin\":true,\"zerolinewidth\":2},\"scene\":{\"xaxis\":{\"backgroundcolor\":\"#E5ECF6\",\"gridcolor\":\"white\",\"linecolor\":\"white\",\"showbackground\":true,\"ticks\":\"\",\"zerolinecolor\":\"white\",\"gridwidth\":2},\"yaxis\":{\"backgroundcolor\":\"#E5ECF6\",\"gridcolor\":\"white\",\"linecolor\":\"white\",\"showbackground\":true,\"ticks\":\"\",\"zerolinecolor\":\"white\",\"gridwidth\":2},\"zaxis\":{\"backgroundcolor\":\"#E5ECF6\",\"gridcolor\":\"white\",\"linecolor\":\"white\",\"showbackground\":true,\"ticks\":\"\",\"zerolinecolor\":\"white\",\"gridwidth\":2}},\"shapedefaults\":{\"line\":{\"color\":\"#2a3f5f\"}},\"annotationdefaults\":{\"arrowcolor\":\"#2a3f5f\",\"arrowhead\":0,\"arrowwidth\":1},\"geo\":{\"bgcolor\":\"white\",\"landcolor\":\"#E5ECF6\",\"subunitcolor\":\"white\",\"showland\":true,\"showlakes\":true,\"lakecolor\":\"white\"},\"title\":{\"x\":0.05},\"mapbox\":{\"style\":\"light\"}}},\"xaxis\":{\"anchor\":\"y\",\"domain\":[0.0,1.0],\"title\":{\"text\":\"trip\"}},\"yaxis\":{\"anchor\":\"x\",\"domain\":[0.0,1.0],\"title\":{\"text\":\"price\"}},\"legend\":{\"title\":{\"text\":\"arrival_time\"},\"tracegroupgap\":0},\"title\":{\"text\":\"Business flight prices based on arrival time\"}},                        {\"responsive\": true}                    ).then(function(){\n",
       "                            \n",
       "var gd = document.getElementById('48f89a35-370b-4c32-a0ad-dbe888282722');\n",
       "var x = new MutationObserver(function (mutations, observer) {{\n",
       "        var display = window.getComputedStyle(gd).display;\n",
       "        if (!display || display === 'none') {{\n",
       "            console.log([gd, 'removed!']);\n",
       "            Plotly.purge(gd);\n",
       "            observer.disconnect();\n",
       "        }}\n",
       "}});\n",
       "\n",
       "// Listen for the removal of the full notebook cells\n",
       "var notebookContainer = gd.closest('#notebook-container');\n",
       "if (notebookContainer) {{\n",
       "    x.observe(notebookContainer, {childList: true});\n",
       "}}\n",
       "\n",
       "// Listen for the clearing of the current output cell\n",
       "var outputEl = gd.closest('.output');\n",
       "if (outputEl) {{\n",
       "    x.observe(outputEl, {childList: true});\n",
       "}}\n",
       "\n",
       "                        })                };                });            </script>        </div>"
      ]
     },
     "metadata": {},
     "output_type": "display_data"
    }
   ],
   "source": [
    "busi= df[df['class']=='Business']\n",
    "bus=busi.groupby(['trip','arrival_time'],as_index=False).price.mean()\n",
    "df_bus=pd.DataFrame(bus)\n",
    "df_bus. head(20)\n",
    "px.scatter(df_bus, \n",
    "           x= 'trip',\n",
    "           y= 'price',\n",
    "           color= 'arrival_time',\n",
    "           title= 'Business flight prices based on arrival time'\n",
    "           )"
   ]
  },
  {
   "cell_type": "code",
   "execution_count": 22,
   "metadata": {},
   "outputs": [
    {
     "data": {
      "application/vnd.plotly.v1+json": {
       "config": {
        "plotlyServerURL": "https://plot.ly"
       },
       "data": [
        {
         "hovertemplate": "class=Business<br>trip=%{x}<br>price=%{y}<extra></extra>",
         "legendgroup": "Business",
         "marker": {
          "color": "#636efa",
          "symbol": "circle"
         },
         "mode": "markers",
         "name": "Business",
         "orientation": "v",
         "showlegend": true,
         "type": "scatter",
         "x": [
          "Bangalore-Chennai",
          "Bangalore-Delhi",
          "Bangalore-Hyderabad",
          "Bangalore-Kolkata",
          "Bangalore-Mumbai",
          "Chennai-Bangalore",
          "Chennai-Delhi",
          "Chennai-Hyderabad",
          "Chennai-Kolkata",
          "Chennai-Mumbai",
          "Delhi-Bangalore",
          "Delhi-Chennai",
          "Delhi-Hyderabad",
          "Delhi-Kolkata",
          "Delhi-Mumbai",
          "Hyderabad-Bangalore",
          "Hyderabad-Chennai",
          "Hyderabad-Delhi",
          "Hyderabad-Kolkata",
          "Hyderabad-Mumbai",
          "Kolkata-Bangalore",
          "Kolkata-Chennai",
          "Kolkata-Delhi",
          "Kolkata-Hyderabad",
          "Kolkata-Mumbai",
          "Mumbai-Bangalore",
          "Mumbai-Chennai",
          "Mumbai-Delhi",
          "Mumbai-Hyderabad",
          "Mumbai-Kolkata"
         ],
         "xaxis": "x",
         "y": [
          52436.91539467946,
          48144.33710824335,
          50395.79694757797,
          58854.69309137217,
          58024.618207816966,
          53113.008692216514,
          52443.367242012486,
          51559.87428298279,
          57078.89587242026,
          56223.83808587348,
          48576.027921406414,
          52031.77809890816,
          44457.376774663266,
          56239.85365853659,
          44364.442811381195,
          50358.290706319705,
          51132.155287817935,
          44250.70028123744,
          53729.15776188473,
          52184.424666449726,
          58681.10443686007,
          56502.77503493246,
          55047.49219330855,
          54732.44790777114,
          57422.55172413793,
          57970.54438860971,
          55703.32619684805,
          43846.32927316294,
          51593.64367816092,
          57106.526384535005
         ],
         "yaxis": "y"
        },
        {
         "hovertemplate": "class=Economy<br>trip=%{x}<br>price=%{y}<extra></extra>",
         "legendgroup": "Economy",
         "marker": {
          "color": "#EF553B",
          "symbol": "circle"
         },
         "mode": "markers",
         "name": "Economy",
         "orientation": "v",
         "showlegend": true,
         "type": "scatter",
         "x": [
          "Bangalore-Chennai",
          "Bangalore-Delhi",
          "Bangalore-Hyderabad",
          "Bangalore-Kolkata",
          "Bangalore-Mumbai",
          "Chennai-Bangalore",
          "Chennai-Delhi",
          "Chennai-Hyderabad",
          "Chennai-Kolkata",
          "Chennai-Mumbai",
          "Delhi-Bangalore",
          "Delhi-Chennai",
          "Delhi-Hyderabad",
          "Delhi-Kolkata",
          "Delhi-Mumbai",
          "Hyderabad-Bangalore",
          "Hyderabad-Chennai",
          "Hyderabad-Delhi",
          "Hyderabad-Kolkata",
          "Hyderabad-Mumbai",
          "Kolkata-Bangalore",
          "Kolkata-Chennai",
          "Kolkata-Delhi",
          "Kolkata-Hyderabad",
          "Kolkata-Mumbai",
          "Mumbai-Bangalore",
          "Mumbai-Chennai",
          "Mumbai-Delhi",
          "Mumbai-Hyderabad",
          "Mumbai-Kolkata"
         ],
         "xaxis": "x",
         "y": [
          7105.953849890697,
          6124.897981725073,
          6360.141697666554,
          7375.638594453318,
          6381.093331808303,
          7175.020191822312,
          6075.9611898017,
          5960.788830715533,
          7547.295815295815,
          6529.119452839192,
          6175.622535488959,
          6102.317244977824,
          6031.164260750646,
          7045.621677836839,
          6059.826086956522,
          6234.882649109218,
          6049.884930187771,
          6072.29665946485,
          6881.680392156863,
          5969.259905592905,
          7471.62199013635,
          8011.74522858411,
          7161.400076765609,
          7489.144374437444,
          7405.787239294089,
          6432.511945784517,
          6420.917984335747,
          5889.281399857157,
          5774.89113018598,
          7227.9717346706175
         ],
         "yaxis": "y"
        }
       ],
       "layout": {
        "legend": {
         "title": {
          "text": "class"
         },
         "tracegroupgap": 0
        },
        "margin": {
         "t": 60
        },
        "template": {
         "data": {
          "bar": [
           {
            "error_x": {
             "color": "#2a3f5f"
            },
            "error_y": {
             "color": "#2a3f5f"
            },
            "marker": {
             "line": {
              "color": "#E5ECF6",
              "width": 0.5
             },
             "pattern": {
              "fillmode": "overlay",
              "size": 10,
              "solidity": 0.2
             }
            },
            "type": "bar"
           }
          ],
          "barpolar": [
           {
            "marker": {
             "line": {
              "color": "#E5ECF6",
              "width": 0.5
             },
             "pattern": {
              "fillmode": "overlay",
              "size": 10,
              "solidity": 0.2
             }
            },
            "type": "barpolar"
           }
          ],
          "carpet": [
           {
            "aaxis": {
             "endlinecolor": "#2a3f5f",
             "gridcolor": "white",
             "linecolor": "white",
             "minorgridcolor": "white",
             "startlinecolor": "#2a3f5f"
            },
            "baxis": {
             "endlinecolor": "#2a3f5f",
             "gridcolor": "white",
             "linecolor": "white",
             "minorgridcolor": "white",
             "startlinecolor": "#2a3f5f"
            },
            "type": "carpet"
           }
          ],
          "choropleth": [
           {
            "colorbar": {
             "outlinewidth": 0,
             "ticks": ""
            },
            "type": "choropleth"
           }
          ],
          "contour": [
           {
            "colorbar": {
             "outlinewidth": 0,
             "ticks": ""
            },
            "colorscale": [
             [
              0,
              "#0d0887"
             ],
             [
              0.1111111111111111,
              "#46039f"
             ],
             [
              0.2222222222222222,
              "#7201a8"
             ],
             [
              0.3333333333333333,
              "#9c179e"
             ],
             [
              0.4444444444444444,
              "#bd3786"
             ],
             [
              0.5555555555555556,
              "#d8576b"
             ],
             [
              0.6666666666666666,
              "#ed7953"
             ],
             [
              0.7777777777777778,
              "#fb9f3a"
             ],
             [
              0.8888888888888888,
              "#fdca26"
             ],
             [
              1,
              "#f0f921"
             ]
            ],
            "type": "contour"
           }
          ],
          "contourcarpet": [
           {
            "colorbar": {
             "outlinewidth": 0,
             "ticks": ""
            },
            "type": "contourcarpet"
           }
          ],
          "heatmap": [
           {
            "colorbar": {
             "outlinewidth": 0,
             "ticks": ""
            },
            "colorscale": [
             [
              0,
              "#0d0887"
             ],
             [
              0.1111111111111111,
              "#46039f"
             ],
             [
              0.2222222222222222,
              "#7201a8"
             ],
             [
              0.3333333333333333,
              "#9c179e"
             ],
             [
              0.4444444444444444,
              "#bd3786"
             ],
             [
              0.5555555555555556,
              "#d8576b"
             ],
             [
              0.6666666666666666,
              "#ed7953"
             ],
             [
              0.7777777777777778,
              "#fb9f3a"
             ],
             [
              0.8888888888888888,
              "#fdca26"
             ],
             [
              1,
              "#f0f921"
             ]
            ],
            "type": "heatmap"
           }
          ],
          "heatmapgl": [
           {
            "colorbar": {
             "outlinewidth": 0,
             "ticks": ""
            },
            "colorscale": [
             [
              0,
              "#0d0887"
             ],
             [
              0.1111111111111111,
              "#46039f"
             ],
             [
              0.2222222222222222,
              "#7201a8"
             ],
             [
              0.3333333333333333,
              "#9c179e"
             ],
             [
              0.4444444444444444,
              "#bd3786"
             ],
             [
              0.5555555555555556,
              "#d8576b"
             ],
             [
              0.6666666666666666,
              "#ed7953"
             ],
             [
              0.7777777777777778,
              "#fb9f3a"
             ],
             [
              0.8888888888888888,
              "#fdca26"
             ],
             [
              1,
              "#f0f921"
             ]
            ],
            "type": "heatmapgl"
           }
          ],
          "histogram": [
           {
            "marker": {
             "pattern": {
              "fillmode": "overlay",
              "size": 10,
              "solidity": 0.2
             }
            },
            "type": "histogram"
           }
          ],
          "histogram2d": [
           {
            "colorbar": {
             "outlinewidth": 0,
             "ticks": ""
            },
            "colorscale": [
             [
              0,
              "#0d0887"
             ],
             [
              0.1111111111111111,
              "#46039f"
             ],
             [
              0.2222222222222222,
              "#7201a8"
             ],
             [
              0.3333333333333333,
              "#9c179e"
             ],
             [
              0.4444444444444444,
              "#bd3786"
             ],
             [
              0.5555555555555556,
              "#d8576b"
             ],
             [
              0.6666666666666666,
              "#ed7953"
             ],
             [
              0.7777777777777778,
              "#fb9f3a"
             ],
             [
              0.8888888888888888,
              "#fdca26"
             ],
             [
              1,
              "#f0f921"
             ]
            ],
            "type": "histogram2d"
           }
          ],
          "histogram2dcontour": [
           {
            "colorbar": {
             "outlinewidth": 0,
             "ticks": ""
            },
            "colorscale": [
             [
              0,
              "#0d0887"
             ],
             [
              0.1111111111111111,
              "#46039f"
             ],
             [
              0.2222222222222222,
              "#7201a8"
             ],
             [
              0.3333333333333333,
              "#9c179e"
             ],
             [
              0.4444444444444444,
              "#bd3786"
             ],
             [
              0.5555555555555556,
              "#d8576b"
             ],
             [
              0.6666666666666666,
              "#ed7953"
             ],
             [
              0.7777777777777778,
              "#fb9f3a"
             ],
             [
              0.8888888888888888,
              "#fdca26"
             ],
             [
              1,
              "#f0f921"
             ]
            ],
            "type": "histogram2dcontour"
           }
          ],
          "mesh3d": [
           {
            "colorbar": {
             "outlinewidth": 0,
             "ticks": ""
            },
            "type": "mesh3d"
           }
          ],
          "parcoords": [
           {
            "line": {
             "colorbar": {
              "outlinewidth": 0,
              "ticks": ""
             }
            },
            "type": "parcoords"
           }
          ],
          "pie": [
           {
            "automargin": true,
            "type": "pie"
           }
          ],
          "scatter": [
           {
            "fillpattern": {
             "fillmode": "overlay",
             "size": 10,
             "solidity": 0.2
            },
            "type": "scatter"
           }
          ],
          "scatter3d": [
           {
            "line": {
             "colorbar": {
              "outlinewidth": 0,
              "ticks": ""
             }
            },
            "marker": {
             "colorbar": {
              "outlinewidth": 0,
              "ticks": ""
             }
            },
            "type": "scatter3d"
           }
          ],
          "scattercarpet": [
           {
            "marker": {
             "colorbar": {
              "outlinewidth": 0,
              "ticks": ""
             }
            },
            "type": "scattercarpet"
           }
          ],
          "scattergeo": [
           {
            "marker": {
             "colorbar": {
              "outlinewidth": 0,
              "ticks": ""
             }
            },
            "type": "scattergeo"
           }
          ],
          "scattergl": [
           {
            "marker": {
             "colorbar": {
              "outlinewidth": 0,
              "ticks": ""
             }
            },
            "type": "scattergl"
           }
          ],
          "scattermapbox": [
           {
            "marker": {
             "colorbar": {
              "outlinewidth": 0,
              "ticks": ""
             }
            },
            "type": "scattermapbox"
           }
          ],
          "scatterpolar": [
           {
            "marker": {
             "colorbar": {
              "outlinewidth": 0,
              "ticks": ""
             }
            },
            "type": "scatterpolar"
           }
          ],
          "scatterpolargl": [
           {
            "marker": {
             "colorbar": {
              "outlinewidth": 0,
              "ticks": ""
             }
            },
            "type": "scatterpolargl"
           }
          ],
          "scatterternary": [
           {
            "marker": {
             "colorbar": {
              "outlinewidth": 0,
              "ticks": ""
             }
            },
            "type": "scatterternary"
           }
          ],
          "surface": [
           {
            "colorbar": {
             "outlinewidth": 0,
             "ticks": ""
            },
            "colorscale": [
             [
              0,
              "#0d0887"
             ],
             [
              0.1111111111111111,
              "#46039f"
             ],
             [
              0.2222222222222222,
              "#7201a8"
             ],
             [
              0.3333333333333333,
              "#9c179e"
             ],
             [
              0.4444444444444444,
              "#bd3786"
             ],
             [
              0.5555555555555556,
              "#d8576b"
             ],
             [
              0.6666666666666666,
              "#ed7953"
             ],
             [
              0.7777777777777778,
              "#fb9f3a"
             ],
             [
              0.8888888888888888,
              "#fdca26"
             ],
             [
              1,
              "#f0f921"
             ]
            ],
            "type": "surface"
           }
          ],
          "table": [
           {
            "cells": {
             "fill": {
              "color": "#EBF0F8"
             },
             "line": {
              "color": "white"
             }
            },
            "header": {
             "fill": {
              "color": "#C8D4E3"
             },
             "line": {
              "color": "white"
             }
            },
            "type": "table"
           }
          ]
         },
         "layout": {
          "annotationdefaults": {
           "arrowcolor": "#2a3f5f",
           "arrowhead": 0,
           "arrowwidth": 1
          },
          "autotypenumbers": "strict",
          "coloraxis": {
           "colorbar": {
            "outlinewidth": 0,
            "ticks": ""
           }
          },
          "colorscale": {
           "diverging": [
            [
             0,
             "#8e0152"
            ],
            [
             0.1,
             "#c51b7d"
            ],
            [
             0.2,
             "#de77ae"
            ],
            [
             0.3,
             "#f1b6da"
            ],
            [
             0.4,
             "#fde0ef"
            ],
            [
             0.5,
             "#f7f7f7"
            ],
            [
             0.6,
             "#e6f5d0"
            ],
            [
             0.7,
             "#b8e186"
            ],
            [
             0.8,
             "#7fbc41"
            ],
            [
             0.9,
             "#4d9221"
            ],
            [
             1,
             "#276419"
            ]
           ],
           "sequential": [
            [
             0,
             "#0d0887"
            ],
            [
             0.1111111111111111,
             "#46039f"
            ],
            [
             0.2222222222222222,
             "#7201a8"
            ],
            [
             0.3333333333333333,
             "#9c179e"
            ],
            [
             0.4444444444444444,
             "#bd3786"
            ],
            [
             0.5555555555555556,
             "#d8576b"
            ],
            [
             0.6666666666666666,
             "#ed7953"
            ],
            [
             0.7777777777777778,
             "#fb9f3a"
            ],
            [
             0.8888888888888888,
             "#fdca26"
            ],
            [
             1,
             "#f0f921"
            ]
           ],
           "sequentialminus": [
            [
             0,
             "#0d0887"
            ],
            [
             0.1111111111111111,
             "#46039f"
            ],
            [
             0.2222222222222222,
             "#7201a8"
            ],
            [
             0.3333333333333333,
             "#9c179e"
            ],
            [
             0.4444444444444444,
             "#bd3786"
            ],
            [
             0.5555555555555556,
             "#d8576b"
            ],
            [
             0.6666666666666666,
             "#ed7953"
            ],
            [
             0.7777777777777778,
             "#fb9f3a"
            ],
            [
             0.8888888888888888,
             "#fdca26"
            ],
            [
             1,
             "#f0f921"
            ]
           ]
          },
          "colorway": [
           "#636efa",
           "#EF553B",
           "#00cc96",
           "#ab63fa",
           "#FFA15A",
           "#19d3f3",
           "#FF6692",
           "#B6E880",
           "#FF97FF",
           "#FECB52"
          ],
          "font": {
           "color": "#2a3f5f"
          },
          "geo": {
           "bgcolor": "white",
           "lakecolor": "white",
           "landcolor": "#E5ECF6",
           "showlakes": true,
           "showland": true,
           "subunitcolor": "white"
          },
          "hoverlabel": {
           "align": "left"
          },
          "hovermode": "closest",
          "mapbox": {
           "style": "light"
          },
          "paper_bgcolor": "white",
          "plot_bgcolor": "#E5ECF6",
          "polar": {
           "angularaxis": {
            "gridcolor": "white",
            "linecolor": "white",
            "ticks": ""
           },
           "bgcolor": "#E5ECF6",
           "radialaxis": {
            "gridcolor": "white",
            "linecolor": "white",
            "ticks": ""
           }
          },
          "scene": {
           "xaxis": {
            "backgroundcolor": "#E5ECF6",
            "gridcolor": "white",
            "gridwidth": 2,
            "linecolor": "white",
            "showbackground": true,
            "ticks": "",
            "zerolinecolor": "white"
           },
           "yaxis": {
            "backgroundcolor": "#E5ECF6",
            "gridcolor": "white",
            "gridwidth": 2,
            "linecolor": "white",
            "showbackground": true,
            "ticks": "",
            "zerolinecolor": "white"
           },
           "zaxis": {
            "backgroundcolor": "#E5ECF6",
            "gridcolor": "white",
            "gridwidth": 2,
            "linecolor": "white",
            "showbackground": true,
            "ticks": "",
            "zerolinecolor": "white"
           }
          },
          "shapedefaults": {
           "line": {
            "color": "#2a3f5f"
           }
          },
          "ternary": {
           "aaxis": {
            "gridcolor": "white",
            "linecolor": "white",
            "ticks": ""
           },
           "baxis": {
            "gridcolor": "white",
            "linecolor": "white",
            "ticks": ""
           },
           "bgcolor": "#E5ECF6",
           "caxis": {
            "gridcolor": "white",
            "linecolor": "white",
            "ticks": ""
           }
          },
          "title": {
           "x": 0.05
          },
          "xaxis": {
           "automargin": true,
           "gridcolor": "white",
           "linecolor": "white",
           "ticks": "",
           "title": {
            "standoff": 15
           },
           "zerolinecolor": "white",
           "zerolinewidth": 2
          },
          "yaxis": {
           "automargin": true,
           "gridcolor": "white",
           "linecolor": "white",
           "ticks": "",
           "title": {
            "standoff": 15
           },
           "zerolinecolor": "white",
           "zerolinewidth": 2
          }
         }
        },
        "xaxis": {
         "anchor": "y",
         "domain": [
          0,
          1
         ],
         "title": {
          "text": "trip"
         }
        },
        "yaxis": {
         "anchor": "x",
         "domain": [
          0,
          1
         ],
         "title": {
          "text": "price"
         }
        }
       }
      },
      "text/html": [
       "<div>                            <div id=\"762041f5-2042-4d31-94de-039ecd707691\" class=\"plotly-graph-div\" style=\"height:525px; width:100%;\"></div>            <script type=\"text/javascript\">                require([\"plotly\"], function(Plotly) {                    window.PLOTLYENV=window.PLOTLYENV || {};                                    if (document.getElementById(\"762041f5-2042-4d31-94de-039ecd707691\")) {                    Plotly.newPlot(                        \"762041f5-2042-4d31-94de-039ecd707691\",                        [{\"hovertemplate\":\"class=Business<br>trip=%{x}<br>price=%{y}<extra></extra>\",\"legendgroup\":\"Business\",\"marker\":{\"color\":\"#636efa\",\"symbol\":\"circle\"},\"mode\":\"markers\",\"name\":\"Business\",\"orientation\":\"v\",\"showlegend\":true,\"x\":[\"Bangalore-Chennai\",\"Bangalore-Delhi\",\"Bangalore-Hyderabad\",\"Bangalore-Kolkata\",\"Bangalore-Mumbai\",\"Chennai-Bangalore\",\"Chennai-Delhi\",\"Chennai-Hyderabad\",\"Chennai-Kolkata\",\"Chennai-Mumbai\",\"Delhi-Bangalore\",\"Delhi-Chennai\",\"Delhi-Hyderabad\",\"Delhi-Kolkata\",\"Delhi-Mumbai\",\"Hyderabad-Bangalore\",\"Hyderabad-Chennai\",\"Hyderabad-Delhi\",\"Hyderabad-Kolkata\",\"Hyderabad-Mumbai\",\"Kolkata-Bangalore\",\"Kolkata-Chennai\",\"Kolkata-Delhi\",\"Kolkata-Hyderabad\",\"Kolkata-Mumbai\",\"Mumbai-Bangalore\",\"Mumbai-Chennai\",\"Mumbai-Delhi\",\"Mumbai-Hyderabad\",\"Mumbai-Kolkata\"],\"xaxis\":\"x\",\"y\":[52436.91539467946,48144.33710824335,50395.79694757797,58854.69309137217,58024.618207816966,53113.008692216514,52443.367242012486,51559.87428298279,57078.89587242026,56223.83808587348,48576.027921406414,52031.77809890816,44457.376774663266,56239.85365853659,44364.442811381195,50358.290706319705,51132.155287817935,44250.70028123744,53729.15776188473,52184.424666449726,58681.10443686007,56502.77503493246,55047.49219330855,54732.44790777114,57422.55172413793,57970.54438860971,55703.32619684805,43846.32927316294,51593.64367816092,57106.526384535005],\"yaxis\":\"y\",\"type\":\"scatter\"},{\"hovertemplate\":\"class=Economy<br>trip=%{x}<br>price=%{y}<extra></extra>\",\"legendgroup\":\"Economy\",\"marker\":{\"color\":\"#EF553B\",\"symbol\":\"circle\"},\"mode\":\"markers\",\"name\":\"Economy\",\"orientation\":\"v\",\"showlegend\":true,\"x\":[\"Bangalore-Chennai\",\"Bangalore-Delhi\",\"Bangalore-Hyderabad\",\"Bangalore-Kolkata\",\"Bangalore-Mumbai\",\"Chennai-Bangalore\",\"Chennai-Delhi\",\"Chennai-Hyderabad\",\"Chennai-Kolkata\",\"Chennai-Mumbai\",\"Delhi-Bangalore\",\"Delhi-Chennai\",\"Delhi-Hyderabad\",\"Delhi-Kolkata\",\"Delhi-Mumbai\",\"Hyderabad-Bangalore\",\"Hyderabad-Chennai\",\"Hyderabad-Delhi\",\"Hyderabad-Kolkata\",\"Hyderabad-Mumbai\",\"Kolkata-Bangalore\",\"Kolkata-Chennai\",\"Kolkata-Delhi\",\"Kolkata-Hyderabad\",\"Kolkata-Mumbai\",\"Mumbai-Bangalore\",\"Mumbai-Chennai\",\"Mumbai-Delhi\",\"Mumbai-Hyderabad\",\"Mumbai-Kolkata\"],\"xaxis\":\"x\",\"y\":[7105.953849890697,6124.897981725073,6360.141697666554,7375.638594453318,6381.093331808303,7175.020191822312,6075.9611898017,5960.788830715533,7547.295815295815,6529.119452839192,6175.622535488959,6102.317244977824,6031.164260750646,7045.621677836839,6059.826086956522,6234.882649109218,6049.884930187771,6072.29665946485,6881.680392156863,5969.259905592905,7471.62199013635,8011.74522858411,7161.400076765609,7489.144374437444,7405.787239294089,6432.511945784517,6420.917984335747,5889.281399857157,5774.89113018598,7227.9717346706175],\"yaxis\":\"y\",\"type\":\"scatter\"}],                        {\"template\":{\"data\":{\"histogram2dcontour\":[{\"type\":\"histogram2dcontour\",\"colorbar\":{\"outlinewidth\":0,\"ticks\":\"\"},\"colorscale\":[[0.0,\"#0d0887\"],[0.1111111111111111,\"#46039f\"],[0.2222222222222222,\"#7201a8\"],[0.3333333333333333,\"#9c179e\"],[0.4444444444444444,\"#bd3786\"],[0.5555555555555556,\"#d8576b\"],[0.6666666666666666,\"#ed7953\"],[0.7777777777777778,\"#fb9f3a\"],[0.8888888888888888,\"#fdca26\"],[1.0,\"#f0f921\"]]}],\"choropleth\":[{\"type\":\"choropleth\",\"colorbar\":{\"outlinewidth\":0,\"ticks\":\"\"}}],\"histogram2d\":[{\"type\":\"histogram2d\",\"colorbar\":{\"outlinewidth\":0,\"ticks\":\"\"},\"colorscale\":[[0.0,\"#0d0887\"],[0.1111111111111111,\"#46039f\"],[0.2222222222222222,\"#7201a8\"],[0.3333333333333333,\"#9c179e\"],[0.4444444444444444,\"#bd3786\"],[0.5555555555555556,\"#d8576b\"],[0.6666666666666666,\"#ed7953\"],[0.7777777777777778,\"#fb9f3a\"],[0.8888888888888888,\"#fdca26\"],[1.0,\"#f0f921\"]]}],\"heatmap\":[{\"type\":\"heatmap\",\"colorbar\":{\"outlinewidth\":0,\"ticks\":\"\"},\"colorscale\":[[0.0,\"#0d0887\"],[0.1111111111111111,\"#46039f\"],[0.2222222222222222,\"#7201a8\"],[0.3333333333333333,\"#9c179e\"],[0.4444444444444444,\"#bd3786\"],[0.5555555555555556,\"#d8576b\"],[0.6666666666666666,\"#ed7953\"],[0.7777777777777778,\"#fb9f3a\"],[0.8888888888888888,\"#fdca26\"],[1.0,\"#f0f921\"]]}],\"heatmapgl\":[{\"type\":\"heatmapgl\",\"colorbar\":{\"outlinewidth\":0,\"ticks\":\"\"},\"colorscale\":[[0.0,\"#0d0887\"],[0.1111111111111111,\"#46039f\"],[0.2222222222222222,\"#7201a8\"],[0.3333333333333333,\"#9c179e\"],[0.4444444444444444,\"#bd3786\"],[0.5555555555555556,\"#d8576b\"],[0.6666666666666666,\"#ed7953\"],[0.7777777777777778,\"#fb9f3a\"],[0.8888888888888888,\"#fdca26\"],[1.0,\"#f0f921\"]]}],\"contourcarpet\":[{\"type\":\"contourcarpet\",\"colorbar\":{\"outlinewidth\":0,\"ticks\":\"\"}}],\"contour\":[{\"type\":\"contour\",\"colorbar\":{\"outlinewidth\":0,\"ticks\":\"\"},\"colorscale\":[[0.0,\"#0d0887\"],[0.1111111111111111,\"#46039f\"],[0.2222222222222222,\"#7201a8\"],[0.3333333333333333,\"#9c179e\"],[0.4444444444444444,\"#bd3786\"],[0.5555555555555556,\"#d8576b\"],[0.6666666666666666,\"#ed7953\"],[0.7777777777777778,\"#fb9f3a\"],[0.8888888888888888,\"#fdca26\"],[1.0,\"#f0f921\"]]}],\"surface\":[{\"type\":\"surface\",\"colorbar\":{\"outlinewidth\":0,\"ticks\":\"\"},\"colorscale\":[[0.0,\"#0d0887\"],[0.1111111111111111,\"#46039f\"],[0.2222222222222222,\"#7201a8\"],[0.3333333333333333,\"#9c179e\"],[0.4444444444444444,\"#bd3786\"],[0.5555555555555556,\"#d8576b\"],[0.6666666666666666,\"#ed7953\"],[0.7777777777777778,\"#fb9f3a\"],[0.8888888888888888,\"#fdca26\"],[1.0,\"#f0f921\"]]}],\"mesh3d\":[{\"type\":\"mesh3d\",\"colorbar\":{\"outlinewidth\":0,\"ticks\":\"\"}}],\"scatter\":[{\"fillpattern\":{\"fillmode\":\"overlay\",\"size\":10,\"solidity\":0.2},\"type\":\"scatter\"}],\"parcoords\":[{\"type\":\"parcoords\",\"line\":{\"colorbar\":{\"outlinewidth\":0,\"ticks\":\"\"}}}],\"scatterpolargl\":[{\"type\":\"scatterpolargl\",\"marker\":{\"colorbar\":{\"outlinewidth\":0,\"ticks\":\"\"}}}],\"bar\":[{\"error_x\":{\"color\":\"#2a3f5f\"},\"error_y\":{\"color\":\"#2a3f5f\"},\"marker\":{\"line\":{\"color\":\"#E5ECF6\",\"width\":0.5},\"pattern\":{\"fillmode\":\"overlay\",\"size\":10,\"solidity\":0.2}},\"type\":\"bar\"}],\"scattergeo\":[{\"type\":\"scattergeo\",\"marker\":{\"colorbar\":{\"outlinewidth\":0,\"ticks\":\"\"}}}],\"scatterpolar\":[{\"type\":\"scatterpolar\",\"marker\":{\"colorbar\":{\"outlinewidth\":0,\"ticks\":\"\"}}}],\"histogram\":[{\"marker\":{\"pattern\":{\"fillmode\":\"overlay\",\"size\":10,\"solidity\":0.2}},\"type\":\"histogram\"}],\"scattergl\":[{\"type\":\"scattergl\",\"marker\":{\"colorbar\":{\"outlinewidth\":0,\"ticks\":\"\"}}}],\"scatter3d\":[{\"type\":\"scatter3d\",\"line\":{\"colorbar\":{\"outlinewidth\":0,\"ticks\":\"\"}},\"marker\":{\"colorbar\":{\"outlinewidth\":0,\"ticks\":\"\"}}}],\"scattermapbox\":[{\"type\":\"scattermapbox\",\"marker\":{\"colorbar\":{\"outlinewidth\":0,\"ticks\":\"\"}}}],\"scatterternary\":[{\"type\":\"scatterternary\",\"marker\":{\"colorbar\":{\"outlinewidth\":0,\"ticks\":\"\"}}}],\"scattercarpet\":[{\"type\":\"scattercarpet\",\"marker\":{\"colorbar\":{\"outlinewidth\":0,\"ticks\":\"\"}}}],\"carpet\":[{\"aaxis\":{\"endlinecolor\":\"#2a3f5f\",\"gridcolor\":\"white\",\"linecolor\":\"white\",\"minorgridcolor\":\"white\",\"startlinecolor\":\"#2a3f5f\"},\"baxis\":{\"endlinecolor\":\"#2a3f5f\",\"gridcolor\":\"white\",\"linecolor\":\"white\",\"minorgridcolor\":\"white\",\"startlinecolor\":\"#2a3f5f\"},\"type\":\"carpet\"}],\"table\":[{\"cells\":{\"fill\":{\"color\":\"#EBF0F8\"},\"line\":{\"color\":\"white\"}},\"header\":{\"fill\":{\"color\":\"#C8D4E3\"},\"line\":{\"color\":\"white\"}},\"type\":\"table\"}],\"barpolar\":[{\"marker\":{\"line\":{\"color\":\"#E5ECF6\",\"width\":0.5},\"pattern\":{\"fillmode\":\"overlay\",\"size\":10,\"solidity\":0.2}},\"type\":\"barpolar\"}],\"pie\":[{\"automargin\":true,\"type\":\"pie\"}]},\"layout\":{\"autotypenumbers\":\"strict\",\"colorway\":[\"#636efa\",\"#EF553B\",\"#00cc96\",\"#ab63fa\",\"#FFA15A\",\"#19d3f3\",\"#FF6692\",\"#B6E880\",\"#FF97FF\",\"#FECB52\"],\"font\":{\"color\":\"#2a3f5f\"},\"hovermode\":\"closest\",\"hoverlabel\":{\"align\":\"left\"},\"paper_bgcolor\":\"white\",\"plot_bgcolor\":\"#E5ECF6\",\"polar\":{\"bgcolor\":\"#E5ECF6\",\"angularaxis\":{\"gridcolor\":\"white\",\"linecolor\":\"white\",\"ticks\":\"\"},\"radialaxis\":{\"gridcolor\":\"white\",\"linecolor\":\"white\",\"ticks\":\"\"}},\"ternary\":{\"bgcolor\":\"#E5ECF6\",\"aaxis\":{\"gridcolor\":\"white\",\"linecolor\":\"white\",\"ticks\":\"\"},\"baxis\":{\"gridcolor\":\"white\",\"linecolor\":\"white\",\"ticks\":\"\"},\"caxis\":{\"gridcolor\":\"white\",\"linecolor\":\"white\",\"ticks\":\"\"}},\"coloraxis\":{\"colorbar\":{\"outlinewidth\":0,\"ticks\":\"\"}},\"colorscale\":{\"sequential\":[[0.0,\"#0d0887\"],[0.1111111111111111,\"#46039f\"],[0.2222222222222222,\"#7201a8\"],[0.3333333333333333,\"#9c179e\"],[0.4444444444444444,\"#bd3786\"],[0.5555555555555556,\"#d8576b\"],[0.6666666666666666,\"#ed7953\"],[0.7777777777777778,\"#fb9f3a\"],[0.8888888888888888,\"#fdca26\"],[1.0,\"#f0f921\"]],\"sequentialminus\":[[0.0,\"#0d0887\"],[0.1111111111111111,\"#46039f\"],[0.2222222222222222,\"#7201a8\"],[0.3333333333333333,\"#9c179e\"],[0.4444444444444444,\"#bd3786\"],[0.5555555555555556,\"#d8576b\"],[0.6666666666666666,\"#ed7953\"],[0.7777777777777778,\"#fb9f3a\"],[0.8888888888888888,\"#fdca26\"],[1.0,\"#f0f921\"]],\"diverging\":[[0,\"#8e0152\"],[0.1,\"#c51b7d\"],[0.2,\"#de77ae\"],[0.3,\"#f1b6da\"],[0.4,\"#fde0ef\"],[0.5,\"#f7f7f7\"],[0.6,\"#e6f5d0\"],[0.7,\"#b8e186\"],[0.8,\"#7fbc41\"],[0.9,\"#4d9221\"],[1,\"#276419\"]]},\"xaxis\":{\"gridcolor\":\"white\",\"linecolor\":\"white\",\"ticks\":\"\",\"title\":{\"standoff\":15},\"zerolinecolor\":\"white\",\"automargin\":true,\"zerolinewidth\":2},\"yaxis\":{\"gridcolor\":\"white\",\"linecolor\":\"white\",\"ticks\":\"\",\"title\":{\"standoff\":15},\"zerolinecolor\":\"white\",\"automargin\":true,\"zerolinewidth\":2},\"scene\":{\"xaxis\":{\"backgroundcolor\":\"#E5ECF6\",\"gridcolor\":\"white\",\"linecolor\":\"white\",\"showbackground\":true,\"ticks\":\"\",\"zerolinecolor\":\"white\",\"gridwidth\":2},\"yaxis\":{\"backgroundcolor\":\"#E5ECF6\",\"gridcolor\":\"white\",\"linecolor\":\"white\",\"showbackground\":true,\"ticks\":\"\",\"zerolinecolor\":\"white\",\"gridwidth\":2},\"zaxis\":{\"backgroundcolor\":\"#E5ECF6\",\"gridcolor\":\"white\",\"linecolor\":\"white\",\"showbackground\":true,\"ticks\":\"\",\"zerolinecolor\":\"white\",\"gridwidth\":2}},\"shapedefaults\":{\"line\":{\"color\":\"#2a3f5f\"}},\"annotationdefaults\":{\"arrowcolor\":\"#2a3f5f\",\"arrowhead\":0,\"arrowwidth\":1},\"geo\":{\"bgcolor\":\"white\",\"landcolor\":\"#E5ECF6\",\"subunitcolor\":\"white\",\"showland\":true,\"showlakes\":true,\"lakecolor\":\"white\"},\"title\":{\"x\":0.05},\"mapbox\":{\"style\":\"light\"}}},\"xaxis\":{\"anchor\":\"y\",\"domain\":[0.0,1.0],\"title\":{\"text\":\"trip\"}},\"yaxis\":{\"anchor\":\"x\",\"domain\":[0.0,1.0],\"title\":{\"text\":\"price\"}},\"legend\":{\"title\":{\"text\":\"class\"},\"tracegroupgap\":0},\"margin\":{\"t\":60}},                        {\"responsive\": true}                    ).then(function(){\n",
       "                            \n",
       "var gd = document.getElementById('762041f5-2042-4d31-94de-039ecd707691');\n",
       "var x = new MutationObserver(function (mutations, observer) {{\n",
       "        var display = window.getComputedStyle(gd).display;\n",
       "        if (!display || display === 'none') {{\n",
       "            console.log([gd, 'removed!']);\n",
       "            Plotly.purge(gd);\n",
       "            observer.disconnect();\n",
       "        }}\n",
       "}});\n",
       "\n",
       "// Listen for the removal of the full notebook cells\n",
       "var notebookContainer = gd.closest('#notebook-container');\n",
       "if (notebookContainer) {{\n",
       "    x.observe(notebookContainer, {childList: true});\n",
       "}}\n",
       "\n",
       "// Listen for the clearing of the current output cell\n",
       "var outputEl = gd.closest('.output');\n",
       "if (outputEl) {{\n",
       "    x.observe(outputEl, {childList: true});\n",
       "}}\n",
       "\n",
       "                        })                };                });            </script>        </div>"
      ]
     },
     "metadata": {},
     "output_type": "display_data"
    }
   ],
   "source": [
    "ww1=df.groupby(['trip','class'],as_index=False).price.mean()\n",
    "df1=pd.DataFrame(ww1)\n",
    "df1. head(20)\n",
    "px.scatter(df1, \n",
    "           x= 'trip',\n",
    "           y= 'price',\n",
    "           color= 'class',\n",
    "           #title= 'Economy flight prices based on arrival time'\n",
    "           )"
   ]
  },
  {
   "cell_type": "code",
   "execution_count": 16,
   "metadata": {},
   "outputs": [
    {
     "data": {
      "text/plain": [
       "class\n",
       "Business    52806.876470\n",
       "Economy      6618.124679\n",
       "Name: price, dtype: float64"
      ]
     },
     "execution_count": 16,
     "metadata": {},
     "output_type": "execute_result"
    }
   ],
   "source": [
    "df1.groupby(['class']).price.mean()"
   ]
  },
  {
   "cell_type": "code",
   "execution_count": null,
   "metadata": {},
   "outputs": [],
   "source": []
  }
 ],
 "metadata": {
  "kernelspec": {
   "display_name": "Python 3",
   "language": "python",
   "name": "python3"
  },
  "language_info": {
   "codemirror_mode": {
    "name": "ipython",
    "version": 3
   },
   "file_extension": ".py",
   "mimetype": "text/x-python",
   "name": "python",
   "nbconvert_exporter": "python",
   "pygments_lexer": "ipython3",
   "version": "3.10.6"
  },
  "orig_nbformat": 4,
  "vscode": {
   "interpreter": {
    "hash": "4f58e81c2e092e1deee7556cb116668ef0b81c0e3f6aa3662faaf88ffce4bde0"
   }
  }
 },
 "nbformat": 4,
 "nbformat_minor": 2
}
